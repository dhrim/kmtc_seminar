{
  "nbformat": 4,
  "nbformat_minor": 0,
  "metadata": {
    "colab": {
      "name": "보강_실습.ipynb",
      "provenance": []
    },
    "kernelspec": {
      "name": "python3",
      "display_name": "Python 3"
    }
  },
  "cells": [
    {
      "cell_type": "code",
      "metadata": {
        "id": "mmNx49z6gTDA",
        "colab_type": "code",
        "colab": {
          "base_uri": "https://localhost:8080/",
          "height": 52
        },
        "outputId": "310b6d9f-e6c5-45ec-b255-2c6ed4f14734"
      },
      "source": [
        "name = input()\n",
        "\n",
        "print(name)"
      ],
      "execution_count": 1,
      "outputs": [
        {
          "output_type": "stream",
          "text": [
            "tom\n",
            "tom\n"
          ],
          "name": "stdout"
        }
      ]
    },
    {
      "cell_type": "code",
      "metadata": {
        "id": "ddn-13PZgVo6",
        "colab_type": "code",
        "colab": {
          "base_uri": "https://localhost:8080/",
          "height": 203
        },
        "outputId": "6ee57501-669e-4e3f-e5da-d3fd2ce1a9b5"
      },
      "source": [
        "first = \"tom\"\n",
        "name = first()\n",
        "print(name)"
      ],
      "execution_count": 3,
      "outputs": [
        {
          "output_type": "error",
          "ename": "TypeError",
          "evalue": "ignored",
          "traceback": [
            "\u001b[0;31m---------------------------------------------------------------------------\u001b[0m",
            "\u001b[0;31mTypeError\u001b[0m                                 Traceback (most recent call last)",
            "\u001b[0;32m<ipython-input-3-17cdc5345fa4>\u001b[0m in \u001b[0;36m<module>\u001b[0;34m()\u001b[0m\n\u001b[1;32m      1\u001b[0m \u001b[0mfirst\u001b[0m \u001b[0;34m=\u001b[0m \u001b[0;34m\"tom\"\u001b[0m\u001b[0;34m\u001b[0m\u001b[0;34m\u001b[0m\u001b[0m\n\u001b[0;32m----> 2\u001b[0;31m \u001b[0mname\u001b[0m \u001b[0;34m=\u001b[0m \u001b[0mfirst\u001b[0m\u001b[0;34m(\u001b[0m\u001b[0;34m)\u001b[0m\u001b[0;34m\u001b[0m\u001b[0;34m\u001b[0m\u001b[0m\n\u001b[0m\u001b[1;32m      3\u001b[0m \u001b[0mprint\u001b[0m\u001b[0;34m(\u001b[0m\u001b[0mname\u001b[0m\u001b[0;34m)\u001b[0m\u001b[0;34m\u001b[0m\u001b[0;34m\u001b[0m\u001b[0m\n",
            "\u001b[0;31mTypeError\u001b[0m: 'str' object is not callable"
          ]
        }
      ]
    },
    {
      "cell_type": "code",
      "metadata": {
        "id": "JoVDpO9wgdLi",
        "colab_type": "code",
        "colab": {
          "base_uri": "https://localhost:8080/",
          "height": 52
        },
        "outputId": "a2925963-138f-43a5-9446-1c5e9b330b2e"
      },
      "source": [
        "print(\"hello\")\n",
        "print()\n",
        "print(\"hi\")"
      ],
      "execution_count": 7,
      "outputs": [
        {
          "output_type": "stream",
          "text": [
            "hello\n",
            "hi\n"
          ],
          "name": "stdout"
        }
      ]
    },
    {
      "cell_type": "code",
      "metadata": {
        "id": "8VsbyYnvg4AO",
        "colab_type": "code",
        "colab": {
          "base_uri": "https://localhost:8080/",
          "height": 34
        },
        "outputId": "5b6ab001-5002-4e8b-a0bf-19ee35562308"
      },
      "source": [
        "l = [ 1, 2, 3, 4, 5 ]\n",
        "print(l[3])"
      ],
      "execution_count": 8,
      "outputs": [
        {
          "output_type": "stream",
          "text": [
            "4\n"
          ],
          "name": "stdout"
        }
      ]
    },
    {
      "cell_type": "code",
      "metadata": {
        "id": "RIRCIrXhiNJp",
        "colab_type": "code",
        "colab": {
          "base_uri": "https://localhost:8080/",
          "height": 186
        },
        "outputId": "5951c5f1-18f0-4cdd-c9c8-adf5885bee1b"
      },
      "source": [
        "l = { 1, 2, 3, 4, 5 }\n",
        "print(l[3])"
      ],
      "execution_count": 9,
      "outputs": [
        {
          "output_type": "error",
          "ename": "TypeError",
          "evalue": "ignored",
          "traceback": [
            "\u001b[0;31m---------------------------------------------------------------------------\u001b[0m",
            "\u001b[0;31mTypeError\u001b[0m                                 Traceback (most recent call last)",
            "\u001b[0;32m<ipython-input-9-7b447df0a4f6>\u001b[0m in \u001b[0;36m<module>\u001b[0;34m()\u001b[0m\n\u001b[1;32m      1\u001b[0m \u001b[0ml\u001b[0m \u001b[0;34m=\u001b[0m \u001b[0;34m{\u001b[0m \u001b[0;36m1\u001b[0m\u001b[0;34m,\u001b[0m \u001b[0;36m2\u001b[0m\u001b[0;34m,\u001b[0m \u001b[0;36m3\u001b[0m\u001b[0;34m,\u001b[0m \u001b[0;36m4\u001b[0m\u001b[0;34m,\u001b[0m \u001b[0;36m5\u001b[0m \u001b[0;34m}\u001b[0m\u001b[0;34m\u001b[0m\u001b[0;34m\u001b[0m\u001b[0m\n\u001b[0;32m----> 2\u001b[0;31m \u001b[0mprint\u001b[0m\u001b[0;34m(\u001b[0m\u001b[0ml\u001b[0m\u001b[0;34m[\u001b[0m\u001b[0;36m3\u001b[0m\u001b[0;34m]\u001b[0m\u001b[0;34m)\u001b[0m\u001b[0;34m\u001b[0m\u001b[0;34m\u001b[0m\u001b[0m\n\u001b[0m",
            "\u001b[0;31mTypeError\u001b[0m: 'set' object does not support indexing"
          ]
        }
      ]
    },
    {
      "cell_type": "code",
      "metadata": {
        "id": "9c_KERoaiPc1",
        "colab_type": "code",
        "colab": {
          "base_uri": "https://localhost:8080/",
          "height": 34
        },
        "outputId": "c11a882e-e751-48e6-bc08-13312fac63cb"
      },
      "source": [
        "d = { \"cat\":\"고양이\", \"dog\":\"강아지\" }\n",
        "print(d[\"cat\"])"
      ],
      "execution_count": 10,
      "outputs": [
        {
          "output_type": "stream",
          "text": [
            "고양이\n"
          ],
          "name": "stdout"
        }
      ]
    },
    {
      "cell_type": "code",
      "metadata": {
        "id": "RnRghLy2idy3",
        "colab_type": "code",
        "colab": {
          "base_uri": "https://localhost:8080/",
          "height": 34
        },
        "outputId": "a67d9f88-4eed-433f-83c5-fdec13b0b5c2"
      },
      "source": [
        "d = { 1:100, 2:150, 3:160 }\n",
        "print(d[2])"
      ],
      "execution_count": 13,
      "outputs": [
        {
          "output_type": "stream",
          "text": [
            "150\n"
          ],
          "name": "stdout"
        }
      ]
    },
    {
      "cell_type": "code",
      "metadata": {
        "id": "iH-zyGLEiZZy",
        "colab_type": "code",
        "colab": {
          "base_uri": "https://localhost:8080/",
          "height": 133
        },
        "outputId": "6681eda4-51be-409f-9bb2-599dbf5159bd"
      },
      "source": [
        "d = [ \"cat\":\"고양이\", \"dog\":\"강아지\" ]\n",
        "print(d[\"cat\"])"
      ],
      "execution_count": 11,
      "outputs": [
        {
          "output_type": "error",
          "ename": "SyntaxError",
          "evalue": "ignored",
          "traceback": [
            "\u001b[0;36m  File \u001b[0;32m\"<ipython-input-11-74521934532e>\"\u001b[0;36m, line \u001b[0;32m1\u001b[0m\n\u001b[0;31m    d = [ \"cat\":\"고양이\", \"dog\":\"강아지\" ]\u001b[0m\n\u001b[0m               ^\u001b[0m\n\u001b[0;31mSyntaxError\u001b[0m\u001b[0;31m:\u001b[0m invalid syntax\n"
          ]
        }
      ]
    },
    {
      "cell_type": "code",
      "metadata": {
        "id": "iota4kRci5FJ",
        "colab_type": "code",
        "colab": {
          "base_uri": "https://localhost:8080/",
          "height": 34
        },
        "outputId": "55e8ad65-66a7-4dca-c3fb-43435bb60d56"
      },
      "source": [
        "d = { 3:160, 2:150, 1:100 }\n",
        "print(d[3])"
      ],
      "execution_count": 14,
      "outputs": [
        {
          "output_type": "stream",
          "text": [
            "160\n"
          ],
          "name": "stdout"
        }
      ]
    },
    {
      "cell_type": "code",
      "metadata": {
        "id": "mjGImvdFjZcE",
        "colab_type": "code",
        "colab": {
          "base_uri": "https://localhost:8080/",
          "height": 186
        },
        "outputId": "84bbbc13-5c73-477b-896a-b1e7d2083e88"
      },
      "source": [
        "l = [1,2,3]\n",
        "print(l[3])"
      ],
      "execution_count": 15,
      "outputs": [
        {
          "output_type": "error",
          "ename": "IndexError",
          "evalue": "ignored",
          "traceback": [
            "\u001b[0;31m---------------------------------------------------------------------------\u001b[0m",
            "\u001b[0;31mIndexError\u001b[0m                                Traceback (most recent call last)",
            "\u001b[0;32m<ipython-input-15-76a3a79e6b74>\u001b[0m in \u001b[0;36m<module>\u001b[0;34m()\u001b[0m\n\u001b[1;32m      1\u001b[0m \u001b[0ml\u001b[0m \u001b[0;34m=\u001b[0m \u001b[0;34m[\u001b[0m\u001b[0;36m1\u001b[0m\u001b[0;34m,\u001b[0m\u001b[0;36m2\u001b[0m\u001b[0;34m,\u001b[0m\u001b[0;36m3\u001b[0m\u001b[0;34m]\u001b[0m\u001b[0;34m\u001b[0m\u001b[0;34m\u001b[0m\u001b[0m\n\u001b[0;32m----> 2\u001b[0;31m \u001b[0mprint\u001b[0m\u001b[0;34m(\u001b[0m\u001b[0ml\u001b[0m\u001b[0;34m[\u001b[0m\u001b[0;36m3\u001b[0m\u001b[0;34m]\u001b[0m\u001b[0;34m)\u001b[0m\u001b[0;34m\u001b[0m\u001b[0;34m\u001b[0m\u001b[0m\n\u001b[0m",
            "\u001b[0;31mIndexError\u001b[0m: list index out of range"
          ]
        }
      ]
    },
    {
      "cell_type": "code",
      "metadata": {
        "id": "HFU8MTGTjqjj",
        "colab_type": "code",
        "colab": {
          "base_uri": "https://localhost:8080/",
          "height": 34
        },
        "outputId": "b887fb53-4575-4cae-eb82-35d807e0c77c"
      },
      "source": [
        "print(1+2)"
      ],
      "execution_count": 16,
      "outputs": [
        {
          "output_type": "stream",
          "text": [
            "3\n"
          ],
          "name": "stdout"
        }
      ]
    },
    {
      "cell_type": "code",
      "metadata": {
        "id": "z9XsWZxhku5e",
        "colab_type": "code",
        "colab": {
          "base_uri": "https://localhost:8080/",
          "height": 34
        },
        "outputId": "4e9330b7-c3d7-4181-8b71-bd3d4938ba95"
      },
      "source": [
        "print(\"hello\"+\" tom\")"
      ],
      "execution_count": 17,
      "outputs": [
        {
          "output_type": "stream",
          "text": [
            "hello tom\n"
          ],
          "name": "stdout"
        }
      ]
    },
    {
      "cell_type": "code",
      "metadata": {
        "id": "hwN0PI1ckwqy",
        "colab_type": "code",
        "colab": {
          "base_uri": "https://localhost:8080/",
          "height": 168
        },
        "outputId": "cea4bab8-0478-4e08-c1a0-0db2ba1ffb94"
      },
      "source": [
        "print(\"hello\"+3)"
      ],
      "execution_count": 18,
      "outputs": [
        {
          "output_type": "error",
          "ename": "TypeError",
          "evalue": "ignored",
          "traceback": [
            "\u001b[0;31m---------------------------------------------------------------------------\u001b[0m",
            "\u001b[0;31mTypeError\u001b[0m                                 Traceback (most recent call last)",
            "\u001b[0;32m<ipython-input-18-d90888cd3965>\u001b[0m in \u001b[0;36m<module>\u001b[0;34m()\u001b[0m\n\u001b[0;32m----> 1\u001b[0;31m \u001b[0mprint\u001b[0m\u001b[0;34m(\u001b[0m\u001b[0;34m\"hello\"\u001b[0m\u001b[0;34m+\u001b[0m\u001b[0;36m3\u001b[0m\u001b[0;34m)\u001b[0m\u001b[0;34m\u001b[0m\u001b[0;34m\u001b[0m\u001b[0m\n\u001b[0m",
            "\u001b[0;31mTypeError\u001b[0m: must be str, not int"
          ]
        }
      ]
    },
    {
      "cell_type": "code",
      "metadata": {
        "id": "dNDVb4sdk_ig",
        "colab_type": "code",
        "colab": {
          "base_uri": "https://localhost:8080/",
          "height": 34
        },
        "outputId": "eeb818f1-79ff-4836-80df-ce8a18655d62"
      },
      "source": [
        "print(\"hello\"+\"3\")"
      ],
      "execution_count": 19,
      "outputs": [
        {
          "output_type": "stream",
          "text": [
            "hello3\n"
          ],
          "name": "stdout"
        }
      ]
    },
    {
      "cell_type": "code",
      "metadata": {
        "id": "0QU_cvlllFoo",
        "colab_type": "code",
        "colab": {
          "base_uri": "https://localhost:8080/",
          "height": 34
        },
        "outputId": "ae0f1dbc-f990-4aa5-8ecb-a1842ea50a2f"
      },
      "source": [
        "print(\"hello\"+str(3))"
      ],
      "execution_count": 20,
      "outputs": [
        {
          "output_type": "stream",
          "text": [
            "hello3\n"
          ],
          "name": "stdout"
        }
      ]
    },
    {
      "cell_type": "code",
      "metadata": {
        "id": "lmhvL8TalJ7b",
        "colab_type": "code",
        "colab": {
          "base_uri": "https://localhost:8080/",
          "height": 34
        },
        "outputId": "ae5e7345-4f28-46cb-89d3-7497d25d0f44"
      },
      "source": [
        "age = 3\n",
        "print(\"age:\"+str(age))"
      ],
      "execution_count": 22,
      "outputs": [
        {
          "output_type": "stream",
          "text": [
            "age:3\n"
          ],
          "name": "stdout"
        }
      ]
    },
    {
      "cell_type": "code",
      "metadata": {
        "id": "u8uoMgUflRNh",
        "colab_type": "code",
        "colab": {
          "base_uri": "https://localhost:8080/",
          "height": 168
        },
        "outputId": "feb72629-3390-4d90-ecfa-a5b5bd20cd2d"
      },
      "source": [
        "print(\"age:\"+age)"
      ],
      "execution_count": 23,
      "outputs": [
        {
          "output_type": "error",
          "ename": "TypeError",
          "evalue": "ignored",
          "traceback": [
            "\u001b[0;31m---------------------------------------------------------------------------\u001b[0m",
            "\u001b[0;31mTypeError\u001b[0m                                 Traceback (most recent call last)",
            "\u001b[0;32m<ipython-input-23-4035b184e92c>\u001b[0m in \u001b[0;36m<module>\u001b[0;34m()\u001b[0m\n\u001b[0;32m----> 1\u001b[0;31m \u001b[0mprint\u001b[0m\u001b[0;34m(\u001b[0m\u001b[0;34m\"age:\"\u001b[0m\u001b[0;34m+\u001b[0m\u001b[0mage\u001b[0m\u001b[0;34m)\u001b[0m\u001b[0;34m\u001b[0m\u001b[0;34m\u001b[0m\u001b[0m\n\u001b[0m",
            "\u001b[0;31mTypeError\u001b[0m: must be str, not int"
          ]
        }
      ]
    },
    {
      "cell_type": "code",
      "metadata": {
        "id": "OWJ5CP1AlWaK",
        "colab_type": "code",
        "colab": {
          "base_uri": "https://localhost:8080/",
          "height": 52
        },
        "outputId": "70047027-99c5-43a0-c149-cc4c20279d8a"
      },
      "source": [
        "print(\"    \\ta\\tb\"+\"age:\"+\"\\n\"+str(age))"
      ],
      "execution_count": 27,
      "outputs": [
        {
          "output_type": "stream",
          "text": [
            "    \ta\tbage:\n",
            "3\n"
          ],
          "name": "stdout"
        }
      ]
    },
    {
      "cell_type": "code",
      "metadata": {
        "id": "nRPg4OJ1ltpX",
        "colab_type": "code",
        "colab": {
          "base_uri": "https://localhost:8080/",
          "height": 34
        },
        "outputId": "410bef6a-a0be-49d4-fef5-d1a589ee834f"
      },
      "source": [
        "l = [\"tom\", \"jerry\", \"철수\", \"영희\"]\n",
        "\n",
        "s = \",\".join(l)\n",
        "\n",
        "l2 = s.split(\",\")\n",
        "\n",
        "print(l2)"
      ],
      "execution_count": 39,
      "outputs": [
        {
          "output_type": "stream",
          "text": [
            "['tom', 'jerry', '철수', '영희']\n"
          ],
          "name": "stdout"
        }
      ]
    },
    {
      "cell_type": "markdown",
      "metadata": {
        "id": "HXBuNPHwqq1Y",
        "colab_type": "text"
      },
      "source": [
        "### Quiz. \n",
        "\n",
        "```\n",
        "'tom,jerry,철수,영희' -> 'TOM:JERRY:철수:영희\"'\n",
        "```"
      ]
    },
    {
      "cell_type": "code",
      "metadata": {
        "id": "ApT-AzBEoz4p",
        "colab_type": "code",
        "colab": {
          "base_uri": "https://localhost:8080/",
          "height": 69
        },
        "outputId": "3901740f-876d-48e1-f037-61a6c4b5a3de"
      },
      "source": [
        "s = 'tom,jerry,철수,영희'\n",
        "print(s)\n",
        "s = s.upper()\n",
        "print(s)\n",
        "print(s.replace(\",\",\":\"))"
      ],
      "execution_count": 50,
      "outputs": [
        {
          "output_type": "stream",
          "text": [
            "tom,jerry,철수,영희\n",
            "TOM,JERRY,철수,영희\n",
            "TOM:JERRY:철수:영희\n"
          ],
          "name": "stdout"
        }
      ]
    },
    {
      "cell_type": "code",
      "metadata": {
        "id": "MsyypQJnqccA",
        "colab_type": "code",
        "colab": {
          "base_uri": "https://localhost:8080/",
          "height": 52
        },
        "outputId": "8729f132-a577-4547-c213-44be2029f8ba"
      },
      "source": [
        "print(\"tom,jerry\".upper())\n",
        "print(\"tom,jerry\".replace(\",\",\":\"))"
      ],
      "execution_count": 41,
      "outputs": [
        {
          "output_type": "stream",
          "text": [
            "TOM,JERRY\n",
            "tom:jerry\n"
          ],
          "name": "stdout"
        }
      ]
    },
    {
      "cell_type": "code",
      "metadata": {
        "id": "o7qfZfXqs8tH",
        "colab_type": "code",
        "colab": {}
      },
      "source": [
        ""
      ],
      "execution_count": 0,
      "outputs": []
    },
    {
      "cell_type": "markdown",
      "metadata": {
        "id": "RoTSi7pItR3I",
        "colab_type": "text"
      },
      "source": [
        "### Test.\n",
        "\n",
        "다음은 구구단중 3단을 출력하는 코드이다.\n",
        "\n",
        "```\n",
        "for i in range(1,10):\n",
        "  print(\"{} x {} = {}\".format(3, i, 3*i))\n",
        "  \n",
        "3 x 1 = 3\n",
        "3 x 2 = 6\n",
        "...\n",
        "3 x 8 = 24\n",
        "3 x 9 = 27  \n",
        "```\n",
        "\n",
        "이를 참고하여 다음을 출력하는 코드를 작성.\n",
        "```\n",
        "3 곱하기 5는 15\n",
        "4 곱하기 5는 20\n",
        "5 곱하기 5는 25\n",
        "6 곱하기 5는 30\n",
        "7 곱하기 5는 35\n",
        "```"
      ]
    },
    {
      "cell_type": "code",
      "metadata": {
        "id": "EDgQODc6thCl",
        "colab_type": "code",
        "colab": {
          "base_uri": "https://localhost:8080/",
          "height": 174
        },
        "outputId": "424dd386-57b5-4f71-df1a-6117fd1838c7"
      },
      "source": [
        "for i in range(1,10):\n",
        "  print(\"{} x {} = {}\".format(3, i, 3*i))"
      ],
      "execution_count": 46,
      "outputs": [
        {
          "output_type": "stream",
          "text": [
            "3 x 1 = 3\n",
            "3 x 2 = 6\n",
            "3 x 3 = 9\n",
            "3 x 4 = 12\n",
            "3 x 5 = 15\n",
            "3 x 6 = 18\n",
            "3 x 7 = 21\n",
            "3 x 8 = 24\n",
            "3 x 9 = 27\n"
          ],
          "name": "stdout"
        }
      ]
    },
    {
      "cell_type": "code",
      "metadata": {
        "id": "M72CCA2XyypX",
        "colab_type": "code",
        "colab": {
          "base_uri": "https://localhost:8080/",
          "height": 104
        },
        "outputId": "2fe1ce2b-bcba-4d6d-a18f-a5e458e76744"
      },
      "source": [
        "for i in range(3,8):\n",
        "  print(\"{} 곱하기 {}는 {}\".format(i, 5, 5*i))"
      ],
      "execution_count": 57,
      "outputs": [
        {
          "output_type": "stream",
          "text": [
            "3 곱하기 5는 15\n",
            "4 곱하기 5는 20\n",
            "5 곱하기 5는 25\n",
            "6 곱하기 5는 30\n",
            "7 곱하기 5는 35\n"
          ],
          "name": "stdout"
        }
      ]
    },
    {
      "cell_type": "code",
      "metadata": {
        "id": "xqKMEerhyAlJ",
        "colab_type": "code",
        "colab": {}
      },
      "source": [
        ""
      ],
      "execution_count": 0,
      "outputs": []
    },
    {
      "cell_type": "markdown",
      "metadata": {
        "id": "CsZOuBoAyBmR",
        "colab_type": "text"
      },
      "source": [
        "### Test\n",
        "다음은 자연수인 사용자 입력을 받아 그 총 합을 구하는 코드이다.\n",
        "하지만 오류가 있어 실행이 되지 않는다.\n",
        "\n",
        "```\n",
        "l = []\n",
        "\n",
        "while True\n",
        "  i = input()\n",
        "  if i==\"\":\n",
        "    break\n",
        "  l.append(i)\n",
        "  \n",
        "sum = 0\n",
        "for i in l:\n",
        "  sum = sum + 1\n",
        "  \n",
        "print(sum)\n",
        "```\n",
        "  \n",
        "\n",
        "다음과 같은 입력을 하였을 때 다음의 출력이 되도록 수정.\n",
        "```\n",
        "입력\n",
        "1\n",
        "2\n",
        "3\n",
        "4\n",
        "출력\n",
        "10\n",
        "```"
      ]
    },
    {
      "cell_type": "code",
      "metadata": {
        "id": "GRvYsY--tmbM",
        "colab_type": "code",
        "colab": {
          "base_uri": "https://localhost:8080/",
          "height": 122
        },
        "outputId": "4d0dba6b-8fd5-4798-b7a8-4340f7df3b33"
      },
      "source": [
        "l = []\n",
        "\n",
        "while True\n",
        "  i = input()\n",
        "  if i==\"\":\n",
        "    break\n",
        "  l.append(i)\n",
        "  \n",
        "  \n",
        "sum = 0\n",
        "for i in l:\n",
        "  sum = sum + 1\n",
        "  \n",
        "print(sum)\n",
        "  "
      ],
      "execution_count": 53,
      "outputs": [
        {
          "output_type": "stream",
          "text": [
            "1\n",
            "2\n",
            "3\n",
            "4\n",
            "\n",
            "10\n"
          ],
          "name": "stdout"
        }
      ]
    },
    {
      "cell_type": "code",
      "metadata": {
        "id": "su4AuqK92xwx",
        "colab_type": "code",
        "colab": {
          "base_uri": "https://localhost:8080/",
          "height": 139
        },
        "outputId": "9720e111-b59e-4f7c-a441-616fa7f3e6d2"
      },
      "source": [
        "l = []\n",
        "\n",
        "while True:\n",
        "  i = input()\n",
        "  if i==\"\":\n",
        "    break\n",
        "  l.append(i)\n",
        "\n",
        "print(l)\n",
        "\n",
        "sum = 0\n",
        "for i in l:\n",
        "  sum = sum + int(i)\n",
        "\n",
        "print(sum)"
      ],
      "execution_count": 62,
      "outputs": [
        {
          "output_type": "stream",
          "text": [
            "1\n",
            "2\n",
            "3\n",
            "4\n",
            "\n",
            "['1', '2', '3', '4']\n",
            "10\n"
          ],
          "name": "stdout"
        }
      ]
    },
    {
      "cell_type": "code",
      "metadata": {
        "id": "XyMT1viSxs7N",
        "colab_type": "code",
        "colab": {
          "base_uri": "https://localhost:8080/",
          "height": 168
        },
        "outputId": "06d90ee4-06db-4e01-e417-879b8980f21e"
      },
      "source": [
        "print(\"hello\"+3)"
      ],
      "execution_count": 63,
      "outputs": [
        {
          "output_type": "error",
          "ename": "TypeError",
          "evalue": "ignored",
          "traceback": [
            "\u001b[0;31m---------------------------------------------------------------------------\u001b[0m",
            "\u001b[0;31mTypeError\u001b[0m                                 Traceback (most recent call last)",
            "\u001b[0;32m<ipython-input-63-d90888cd3965>\u001b[0m in \u001b[0;36m<module>\u001b[0;34m()\u001b[0m\n\u001b[0;32m----> 1\u001b[0;31m \u001b[0mprint\u001b[0m\u001b[0;34m(\u001b[0m\u001b[0;34m\"hello\"\u001b[0m\u001b[0;34m+\u001b[0m\u001b[0;36m3\u001b[0m\u001b[0;34m)\u001b[0m\u001b[0;34m\u001b[0m\u001b[0;34m\u001b[0m\u001b[0m\n\u001b[0m",
            "\u001b[0;31mTypeError\u001b[0m: must be str, not int"
          ]
        }
      ]
    },
    {
      "cell_type": "code",
      "metadata": {
        "id": "gcf9CgYj3vYw",
        "colab_type": "code",
        "colab": {
          "base_uri": "https://localhost:8080/",
          "height": 34
        },
        "outputId": "5262aeb3-0c76-424d-ee8c-a797bb15ba38"
      },
      "source": [
        "print(\"hello\"+\"tom\")"
      ],
      "execution_count": 64,
      "outputs": [
        {
          "output_type": "stream",
          "text": [
            "hellotom\n"
          ],
          "name": "stdout"
        }
      ]
    },
    {
      "cell_type": "markdown",
      "metadata": {
        "id": "FGVf5yZv6TKp",
        "colab_type": "text"
      },
      "source": [
        "### Test\n",
        "\n",
        "다음 리스트 중에서 3의 배수의 합과 5의 배수의 합을 출력하라.\n",
        "\n",
        "```\n",
        "l = [2,3,5,7,8,9,11,12,13,15,16,17]\n",
        "출력\n",
        "3의 배수 총합 : 39\n",
        "5의 배수 총합 : 20\n",
        "\n",
        "```\n",
        "\n",
        "참조 코드\n",
        "```\n",
        "# 4의 배수만 출력하기\n",
        "for i in l:\n",
        "  if i%4==0:\n",
        "    print(i)\n",
        "```\n",
        "\n",
        "```\n",
        "# 전체 합 구하기\n",
        "sum = 0\n",
        "for i in l:\n",
        "  sum = sum + i\n",
        "```\n",
        "\n"
      ]
    },
    {
      "cell_type": "code",
      "metadata": {
        "id": "W94ox0n06Sr1",
        "colab_type": "code",
        "colab": {
          "base_uri": "https://localhost:8080/",
          "height": 52
        },
        "outputId": "ae80fbd6-e970-4f26-a7dd-810aa7f9db8b"
      },
      "source": [
        "l = [2,3,5,7,8,9,11,12,13,15,16,17]\n",
        "\n",
        "sum3 = 0\n",
        "for i in l:\n",
        "  if i%3==0:\n",
        "    sum3 = sum3 + i\n",
        "   \n",
        "print(\"3의 배수 총합 : \"+str(sum3))\n",
        "\n",
        "sum5 = 0\n",
        "for i in l:\n",
        "  if i%5==0:\n",
        "    sum5 = sum5 + i\n",
        "   \n",
        "print(\"5의 배수 총합 : \"+str(sum5))"
      ],
      "execution_count": 70,
      "outputs": [
        {
          "output_type": "stream",
          "text": [
            "3의 배수 총합 : 39\n",
            "5의 배수 총합 : 20\n"
          ],
          "name": "stdout"
        }
      ]
    },
    {
      "cell_type": "code",
      "metadata": {
        "id": "RVac8Kro31P2",
        "colab_type": "code",
        "colab": {
          "base_uri": "https://localhost:8080/",
          "height": 52
        },
        "outputId": "dbfa5ef3-7f03-4ae9-cf24-c1c33db4a8e1"
      },
      "source": [
        "l = [2,3,5,7,8,9,11,12,13,15,16,17]\n",
        "\n",
        "sum3 = 0\n",
        "sum5 = 0\n",
        "for i in l:\n",
        "  if i%3==0:\n",
        "    sum3 = sum3 + i\n",
        "  if i%5==0:\n",
        "    sum5 = sum5 + i\n",
        "   \n",
        "print(\"3의 배수 총합 : \"+str(sum3))   \n",
        "print(\"5의 배수 총합 : \"+str(sum5))"
      ],
      "execution_count": 72,
      "outputs": [
        {
          "output_type": "stream",
          "text": [
            "3의 배수 총합 : 39\n",
            "5의 배수 총합 : 20\n"
          ],
          "name": "stdout"
        }
      ]
    },
    {
      "cell_type": "code",
      "metadata": {
        "id": "0UbPILAs-wSq",
        "colab_type": "code",
        "colab": {}
      },
      "source": [
        ""
      ],
      "execution_count": 0,
      "outputs": []
    }
  ]
}