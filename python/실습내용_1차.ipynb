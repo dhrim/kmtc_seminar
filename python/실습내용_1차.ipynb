{
  "nbformat": 4,
  "nbformat_minor": 0,
  "metadata": {
    "colab": {
      "name": "Untitled20.ipynb",
      "version": "0.3.2",
      "provenance": []
    },
    "kernelspec": {
      "name": "python3",
      "display_name": "Python 3"
    }
  },
  "cells": [
    {
      "cell_type": "markdown",
      "metadata": {
        "id": "QcHTOaJrL_jx",
        "colab_type": "text"
      },
      "source": [
        "- int : int()\n",
        "- float : float()\n",
        "- string : str()\n",
        "- bool : bool()\n",
        "\n",
        "\n",
        "bool() : None, \"\", 0 인 경우에만 False, 이외는 True"
      ]
    },
    {
      "cell_type": "code",
      "metadata": {
        "id": "EX9xlFMUL45q",
        "colab_type": "code",
        "colab": {
          "base_uri": "https://localhost:8080/",
          "height": 35
        },
        "outputId": "46064b18-4e43-45ea-ec66-d20b536da7e0"
      },
      "source": [
        "print(bool(1))"
      ],
      "execution_count": 1,
      "outputs": [
        {
          "output_type": "stream",
          "text": [
            "True\n"
          ],
          "name": "stdout"
        }
      ]
    },
    {
      "cell_type": "code",
      "metadata": {
        "id": "z8oenk8UMk2C",
        "colab_type": "code",
        "colab": {
          "base_uri": "https://localhost:8080/",
          "height": 35
        },
        "outputId": "2c3598f3-ad3b-49e8-c6ba-b96a908b4b7b"
      },
      "source": [
        "print(bool(0))"
      ],
      "execution_count": 2,
      "outputs": [
        {
          "output_type": "stream",
          "text": [
            "False\n"
          ],
          "name": "stdout"
        }
      ]
    },
    {
      "cell_type": "code",
      "metadata": {
        "id": "-cYJUE5FMu19",
        "colab_type": "code",
        "colab": {
          "base_uri": "https://localhost:8080/",
          "height": 35
        },
        "outputId": "d4523d3c-d7ac-4fb3-da0d-84dee353f4d9"
      },
      "source": [
        "print(bool(2))"
      ],
      "execution_count": 3,
      "outputs": [
        {
          "output_type": "stream",
          "text": [
            "True\n"
          ],
          "name": "stdout"
        }
      ]
    },
    {
      "cell_type": "code",
      "metadata": {
        "id": "vFFLKnNKNLSc",
        "colab_type": "code",
        "colab": {
          "base_uri": "https://localhost:8080/",
          "height": 35
        },
        "outputId": "b3377b78-9553-4f55-cc4c-c34a8b47cfcd"
      },
      "source": [
        "print(bool(2.1))"
      ],
      "execution_count": 4,
      "outputs": [
        {
          "output_type": "stream",
          "text": [
            "True\n"
          ],
          "name": "stdout"
        }
      ]
    },
    {
      "cell_type": "code",
      "metadata": {
        "id": "V_qDLH-NNQoS",
        "colab_type": "code",
        "colab": {
          "base_uri": "https://localhost:8080/",
          "height": 35
        },
        "outputId": "b0ad07de-3882-438a-b8dc-bfe7131c6e45"
      },
      "source": [
        "print(bool(\"\"))"
      ],
      "execution_count": 5,
      "outputs": [
        {
          "output_type": "stream",
          "text": [
            "False\n"
          ],
          "name": "stdout"
        }
      ]
    },
    {
      "cell_type": "code",
      "metadata": {
        "id": "PvCWEkMhNYMJ",
        "colab_type": "code",
        "colab": {
          "base_uri": "https://localhost:8080/",
          "height": 35
        },
        "outputId": "863fe46f-c839-4aed-fe1d-c03220434d7a"
      },
      "source": [
        "print(bool(\"tom\"))"
      ],
      "execution_count": 6,
      "outputs": [
        {
          "output_type": "stream",
          "text": [
            "True\n"
          ],
          "name": "stdout"
        }
      ]
    },
    {
      "cell_type": "code",
      "metadata": {
        "id": "6f9cTMcuNcch",
        "colab_type": "code",
        "colab": {
          "base_uri": "https://localhost:8080/",
          "height": 35
        },
        "outputId": "e143dfd7-d93f-4a59-9222-4216afe28d68"
      },
      "source": [
        "print(int(\"3\")+1)\n",
        "print(3+1)"
      ],
      "execution_count": 8,
      "outputs": [
        {
          "output_type": "stream",
          "text": [
            "4\n"
          ],
          "name": "stdout"
        }
      ]
    },
    {
      "cell_type": "code",
      "metadata": {
        "id": "_JelWdwzNqPS",
        "colab_type": "code",
        "colab": {
          "base_uri": "https://localhost:8080/",
          "height": 35
        },
        "outputId": "2b0082fc-f641-4cdb-9a12-ac511af78976"
      },
      "source": [
        "print(\"3\"+str(1))\n",
        "print(\"3\"+\"1\")\n",
        "\n",
        "# \"31\""
      ],
      "execution_count": 9,
      "outputs": [
        {
          "output_type": "stream",
          "text": [
            "31\n"
          ],
          "name": "stdout"
        }
      ]
    },
    {
      "cell_type": "markdown",
      "metadata": {
        "id": "oy3TN3EcOvks",
        "colab_type": "text"
      },
      "source": [
        "# 사용자 입력 input()"
      ]
    },
    {
      "cell_type": "code",
      "metadata": {
        "id": "Ss_6hmF_Obc-",
        "colab_type": "code",
        "colab": {
          "base_uri": "https://localhost:8080/",
          "height": 52
        },
        "outputId": "65f532a7-7a2e-4b78-994f-69129be10afa"
      },
      "source": [
        "name = input()\n",
        "print(name)"
      ],
      "execution_count": 10,
      "outputs": [
        {
          "output_type": "stream",
          "text": [
            "tom\n",
            "tom\n"
          ],
          "name": "stdout"
        }
      ]
    },
    {
      "cell_type": "code",
      "metadata": {
        "id": "Z_-b3qbeO1bg",
        "colab_type": "code",
        "colab": {
          "base_uri": "https://localhost:8080/",
          "height": 52
        },
        "outputId": "1be900ce-70ad-4370-9126-06ab20f01640"
      },
      "source": [
        "name = input(\"이름 : \")\n",
        "print(name)"
      ],
      "execution_count": 11,
      "outputs": [
        {
          "output_type": "stream",
          "text": [
            "이름 : tom\n",
            "tom\n"
          ],
          "name": "stdout"
        }
      ]
    },
    {
      "cell_type": "code",
      "metadata": {
        "id": "9pfRMj7GPLL2",
        "colab_type": "code",
        "colab": {
          "base_uri": "https://localhost:8080/",
          "height": 35
        },
        "outputId": "77b760e6-9afe-4b8f-bd14-e502aab480ed"
      },
      "source": [
        "print(\"hello\", \"world\")"
      ],
      "execution_count": 12,
      "outputs": [
        {
          "output_type": "stream",
          "text": [
            "hello world\n"
          ],
          "name": "stdout"
        }
      ]
    },
    {
      "cell_type": "code",
      "metadata": {
        "id": "YGsz2oQkPX39",
        "colab_type": "code",
        "colab": {
          "base_uri": "https://localhost:8080/",
          "height": 52
        },
        "outputId": "a9475675-3539-41cd-abf5-9a48e5bd81b3"
      },
      "source": [
        "# \"이름은 tom 입니다.\"\n",
        "\n",
        "name = input(\"이름 : \")\n",
        "print(\"이름은\", name, \"입니다.\")"
      ],
      "execution_count": 13,
      "outputs": [
        {
          "output_type": "stream",
          "text": [
            "이름 : tom\n",
            "이름은 tom 입니다.\n"
          ],
          "name": "stdout"
        }
      ]
    },
    {
      "cell_type": "code",
      "metadata": {
        "id": "z0X6FfYRPtt5",
        "colab_type": "code",
        "colab": {
          "base_uri": "https://localhost:8080/",
          "height": 70
        },
        "outputId": "30cd09a0-4a55-4ce7-9abe-529114f21d2d"
      },
      "source": [
        "# \"나이는 30 입니다.\"\n",
        "age = input(\"나이 : \")\n",
        "print(type(age))\n",
        "print(\"나이는\", age, \"입니다.\")"
      ],
      "execution_count": 15,
      "outputs": [
        {
          "output_type": "stream",
          "text": [
            "나이 : 30\n",
            "<class 'str'>\n",
            "나이는 30 입니다.\n"
          ],
          "name": "stdout"
        }
      ]
    },
    {
      "cell_type": "markdown",
      "metadata": {
        "id": "DR_jyNwJSY5Q",
        "colab_type": "text"
      },
      "source": [
        "## 입력 받은 값에 2를 더해서 출력"
      ]
    },
    {
      "cell_type": "code",
      "metadata": {
        "id": "3eis2w0oQsAZ",
        "colab_type": "code",
        "colab": {
          "base_uri": "https://localhost:8080/",
          "height": 52
        },
        "outputId": "1d979be1-8670-42d1-82a5-2ee0d7ae4674"
      },
      "source": [
        "n = input()\n",
        "n = int(n)\n",
        "print(n+2)"
      ],
      "execution_count": 18,
      "outputs": [
        {
          "output_type": "stream",
          "text": [
            "3\n",
            "5\n"
          ],
          "name": "stdout"
        }
      ]
    },
    {
      "cell_type": "markdown",
      "metadata": {
        "id": "z1uDDaD6Sd-L",
        "colab_type": "text"
      },
      "source": [
        "## 입력 받은 값에 2를 곱해서 출력\n"
      ]
    },
    {
      "cell_type": "code",
      "metadata": {
        "id": "zmWvfZZtRprp",
        "colab_type": "code",
        "colab": {
          "base_uri": "https://localhost:8080/",
          "height": 52
        },
        "outputId": "4a0f714d-c574-40f8-cc40-adf2afec8317"
      },
      "source": [
        "n = input()\n",
        "n = int(n)\n",
        "print(n*2)"
      ],
      "execution_count": 19,
      "outputs": [
        {
          "output_type": "stream",
          "text": [
            "3\n",
            "6\n"
          ],
          "name": "stdout"
        }
      ]
    },
    {
      "cell_type": "markdown",
      "metadata": {
        "id": "zc73XF7DShDk",
        "colab_type": "text"
      },
      "source": [
        "## 입력 받은 값을 2로 나누어서 출력\n"
      ]
    },
    {
      "cell_type": "code",
      "metadata": {
        "id": "QxAcT0YkSjFx",
        "colab_type": "code",
        "colab": {
          "base_uri": "https://localhost:8080/",
          "height": 52
        },
        "outputId": "15322029-ef25-4831-ef76-36434e93f9bf"
      },
      "source": [
        "n = input()\n",
        "n = int(n)\n",
        "print(n/2)"
      ],
      "execution_count": 20,
      "outputs": [
        {
          "output_type": "stream",
          "text": [
            "3\n",
            "1.5\n"
          ],
          "name": "stdout"
        }
      ]
    },
    {
      "cell_type": "code",
      "metadata": {
        "id": "53co7hINSqcM",
        "colab_type": "code",
        "colab": {}
      },
      "source": [
        "n = int(input())\n",
        "print(n/2)"
      ],
      "execution_count": 0,
      "outputs": []
    },
    {
      "cell_type": "code",
      "metadata": {
        "id": "p5h47SRaS6od",
        "colab_type": "code",
        "colab": {}
      },
      "source": [
        "n = input()\n",
        "print(int(n)/2)"
      ],
      "execution_count": 0,
      "outputs": []
    },
    {
      "cell_type": "markdown",
      "metadata": {
        "id": "o9lp-6nIUfMz",
        "colab_type": "text"
      },
      "source": [
        "## 2개의 값을 입력받아 서로 곱한 값"
      ]
    },
    {
      "cell_type": "code",
      "metadata": {
        "id": "_24KBGo2TPoy",
        "colab_type": "code",
        "colab": {
          "base_uri": "https://localhost:8080/",
          "height": 70
        },
        "outputId": "186f588f-36d7-4b63-9f4a-173b30b20e7a"
      },
      "source": [
        "a = int(input())\n",
        "b = int(input())\n",
        "print(a*b)"
      ],
      "execution_count": 21,
      "outputs": [
        {
          "output_type": "stream",
          "text": [
            "3\n",
            "2\n",
            "6\n"
          ],
          "name": "stdout"
        }
      ]
    },
    {
      "cell_type": "markdown",
      "metadata": {
        "id": "vGcF1OU3Ub6f",
        "colab_type": "text"
      },
      "source": [
        "## 입력을 받아 2로 나눈 몫"
      ]
    },
    {
      "cell_type": "code",
      "metadata": {
        "id": "EV910ErjTSnN",
        "colab_type": "code",
        "colab": {
          "base_uri": "https://localhost:8080/",
          "height": 52
        },
        "outputId": "b44c6ac5-19a9-44e5-a993-9f154e21febc"
      },
      "source": [
        "n = int(input())\n",
        "div = int(n/2)\n",
        "print(div)"
      ],
      "execution_count": 23,
      "outputs": [
        {
          "output_type": "stream",
          "text": [
            "5\n",
            "2\n"
          ],
          "name": "stdout"
        }
      ]
    },
    {
      "cell_type": "markdown",
      "metadata": {
        "id": "268TZ1xIUmF-",
        "colab_type": "text"
      },
      "source": [
        "## 입력을 받아 2로 나눈 나머지"
      ]
    },
    {
      "cell_type": "code",
      "metadata": {
        "id": "znFPErPyUA_P",
        "colab_type": "code",
        "colab": {
          "base_uri": "https://localhost:8080/",
          "height": 52
        },
        "outputId": "773e30c3-38cc-49bc-e8ac-a5ab2fa03f3d"
      },
      "source": [
        "n = int(input())\n",
        "div = int(n/2)\n",
        "mod = n - div*2\n",
        "print(mod)"
      ],
      "execution_count": 24,
      "outputs": [
        {
          "output_type": "stream",
          "text": [
            "7\n",
            "1\n"
          ],
          "name": "stdout"
        }
      ]
    },
    {
      "cell_type": "markdown",
      "metadata": {
        "id": "vfCvT7dtVaFf",
        "colab_type": "text"
      },
      "source": [
        "## 2개의 값 a, b를 입력받아 a를 b로 나눈 몫과 나머지"
      ]
    },
    {
      "cell_type": "code",
      "metadata": {
        "id": "QYPJJkb7VPx0",
        "colab_type": "code",
        "colab": {
          "base_uri": "https://localhost:8080/",
          "height": 70
        },
        "outputId": "16cdd79c-548b-4695-e063-ed64a3dcdfb1"
      },
      "source": [
        "# 7, 2\n",
        "# 몫 : 3, 나머지 : 1\n",
        "a = int(input())\n",
        "b = int(input())\n",
        "div = int(a/b)\n",
        "mod = a - div*b\n",
        "print(\"몫 : \", div, \", 나머지 : \", mod)"
      ],
      "execution_count": 26,
      "outputs": [
        {
          "output_type": "stream",
          "text": [
            "7\n",
            "2\n",
            "몫 :  3 , 나머지 :  1\n"
          ],
          "name": "stdout"
        }
      ]
    },
    {
      "cell_type": "code",
      "metadata": {
        "id": "QRDTsXXaV1RK",
        "colab_type": "code",
        "colab": {
          "base_uri": "https://localhost:8080/",
          "height": 88
        },
        "outputId": "d254fb22-28aa-47d6-9bdb-ce422ea0a431"
      },
      "source": [
        "name = \"tom\"\n",
        "age = 30\n",
        "print(\"name : {}, age : {}\".format(name, age))\n",
        "print(\"name : {}, age : {}\")\n",
        "print(name)\n",
        "print(\"print(name)\")\n",
        "\n"
      ],
      "execution_count": 33,
      "outputs": [
        {
          "output_type": "stream",
          "text": [
            "name : tom, age : 30\n",
            "name : {}, age : {}\n",
            "tom\n",
            "print(name)\n"
          ],
          "name": "stdout"
        }
      ]
    },
    {
      "cell_type": "markdown",
      "metadata": {
        "id": "bRGMu6vCcFsk",
        "colab_type": "text"
      },
      "source": [
        ""
      ]
    },
    {
      "cell_type": "code",
      "metadata": {
        "id": "dh2rdn8GWqs8",
        "colab_type": "code",
        "colab": {
          "base_uri": "https://localhost:8080/",
          "height": 70
        },
        "outputId": "160b79b6-35f7-4e76-9b0b-1325b3a1994e"
      },
      "source": [
        "# 7, 2\n",
        "# 몫 : 3, 나머지 : 1\n",
        "a = int(input())\n",
        "b = int(input())\n",
        "div = int(a/b)\n",
        "mod = a - div*b\n",
        "# print(\"몫 : \", div, \", 나머지 : \", mod)\n",
        "print(\"몫 {}, 나머지 {}\".format(div, mod))"
      ],
      "execution_count": 29,
      "outputs": [
        {
          "output_type": "stream",
          "text": [
            "7\n",
            "2\n",
            "몫 3, 나머지 1\n"
          ],
          "name": "stdout"
        }
      ]
    },
    {
      "cell_type": "code",
      "metadata": {
        "id": "3G67kY6eXySj",
        "colab_type": "code",
        "colab": {}
      },
      "source": [
        "몫 :  3 , 나머지 :  1\n",
        "몫 : 3, 나머지 : 1    "
      ],
      "execution_count": 0,
      "outputs": []
    },
    {
      "cell_type": "markdown",
      "metadata": {
        "id": "1DIhLdClcGmI",
        "colab_type": "text"
      },
      "source": [
        "```\n",
        "- \"\" : python이 아닌 사용자가 입력하는 내용.\n",
        "- , : 여러개를 열거할 때\n",
        "- # : 실행시키지 않아야 할 주석 라인\n",
        "- . : 값에 함수가 따라다니는 경우\n",
        "- : : X\n",
        "```"
      ]
    },
    {
      "cell_type": "markdown",
      "metadata": {
        "id": "Gcw5e2KxdgGr",
        "colab_type": "text"
      },
      "source": [
        "# if 제어문"
      ]
    },
    {
      "cell_type": "code",
      "metadata": {
        "id": "i6iqH353cT56",
        "colab_type": "code",
        "colab": {
          "base_uri": "https://localhost:8080/",
          "height": 35
        },
        "outputId": "3006df4a-f675-4a5a-9510-20d6898aa3c6"
      },
      "source": [
        " temp = 30\n",
        " print(\"더워요. 온도는\", temp, \"입니다.\")"
      ],
      "execution_count": 34,
      "outputs": [
        {
          "output_type": "stream",
          "text": [
            "더워요. 온도는 30 입니다.\n"
          ],
          "name": "stdout"
        }
      ]
    },
    {
      "cell_type": "code",
      "metadata": {
        "id": "MvpSZNNOdmpI",
        "colab_type": "code",
        "colab": {
          "base_uri": "https://localhost:8080/",
          "height": 35
        },
        "outputId": "17725f0d-3218-4275-815c-5342fa8826d9"
      },
      "source": [
        "temp = 20\n",
        "print(\"시원해요. 온도는\", temp, \"입니다.\")"
      ],
      "execution_count": 35,
      "outputs": [
        {
          "output_type": "stream",
          "text": [
            "시원해요. 온도는 20 입니다.\n"
          ],
          "name": "stdout"
        }
      ]
    },
    {
      "cell_type": "code",
      "metadata": {
        "id": "_aHb2Hyfd1cU",
        "colab_type": "code",
        "colab": {
          "base_uri": "https://localhost:8080/",
          "height": 35
        },
        "outputId": "d01b9806-1153-4a41-94ce-ba4967386661"
      },
      "source": [
        "temp = 20\n",
        "\n",
        "if temp>25:\n",
        "   print(\"더워요. 온도는\", temp, \"입니다.\")\n",
        "   print(\"hi\")\n",
        "print(\"hello\")"
      ],
      "execution_count": 39,
      "outputs": [
        {
          "output_type": "stream",
          "text": [
            "hello\n"
          ],
          "name": "stdout"
        }
      ]
    },
    {
      "cell_type": "code",
      "metadata": {
        "id": "8ENOxibqeQ6_",
        "colab_type": "code",
        "colab": {
          "base_uri": "https://localhost:8080/",
          "height": 52
        },
        "outputId": "88d7861a-fa2f-4052-ee4f-3689bc485c2d"
      },
      "source": [
        "temp = 20\n",
        "\n",
        "if temp>25:\n",
        "  print(\"더워요. 온도는\", temp, \"입니다.\")\n",
        "else:\n",
        "  print(\"시원해요. 온도는\", temp, \"입니다.\")\n",
        "print(\"hello\")"
      ],
      "execution_count": 41,
      "outputs": [
        {
          "output_type": "stream",
          "text": [
            "시원해요. 온도는 20 입니다.\n",
            "hello\n"
          ],
          "name": "stdout"
        }
      ]
    },
    {
      "cell_type": "code",
      "metadata": {
        "id": "CDoRQTjQf5kM",
        "colab_type": "code",
        "colab": {
          "base_uri": "https://localhost:8080/",
          "height": 52
        },
        "outputId": "2466a08b-beb5-492e-dbc1-88d5c974ea32"
      },
      "source": [
        "n = int(input())\n",
        "\n",
        "div = int(n/2)\n",
        "mod = n - div*2\n",
        "if mod==0:\n",
        "  print(\"짝수\")\n",
        "else:\n",
        "  print(\"홀수\")"
      ],
      "execution_count": 43,
      "outputs": [
        {
          "output_type": "stream",
          "text": [
            "4\n",
            "짝수\n"
          ],
          "name": "stdout"
        }
      ]
    },
    {
      "cell_type": "code",
      "metadata": {
        "id": "4EvYbhWOg3j8",
        "colab_type": "code",
        "colab": {
          "base_uri": "https://localhost:8080/",
          "height": 52
        },
        "outputId": "3f9c1b61-a9fb-4b61-e717-714daeeb5dd8"
      },
      "source": [
        "temp = 20\n",
        "\n",
        "if temp>25:\n",
        "  print(\"더워요. 온도는\", temp, \"입니다.\")\n",
        "elif temp>15:\n",
        "  print(\"시원해요. 온도는\", temp, \"입니다.\")\n",
        "else:\n",
        "  print(\"추워요. 온도는\", temp, \"입니다\")\n",
        "print(\"hello\")"
      ],
      "execution_count": 44,
      "outputs": [
        {
          "output_type": "stream",
          "text": [
            "시원해요. 온도는 20 입니다.\n",
            "hello\n"
          ],
          "name": "stdout"
        }
      ]
    },
    {
      "cell_type": "markdown",
      "metadata": {
        "id": "7iHVZvmkiRTp",
        "colab_type": "text"
      },
      "source": [
        "## 함수"
      ]
    },
    {
      "cell_type": "code",
      "metadata": {
        "id": "NWPms-tghvKK",
        "colab_type": "code",
        "colab": {
          "base_uri": "https://localhost:8080/",
          "height": 88
        },
        "outputId": "755c667b-fb49-4af0-b445-dae6b58e74ea"
      },
      "source": [
        "print(\"name {}, age {}\".format(\"tom\", 30))\n",
        "print(\"name {}, age {}\".format(\"jerry\", 32))\n",
        "print(\"name {}, age {}\".format(\"철수\", 20))\n",
        "print(\"name {}, age {}\".format(\"영희\", 22))"
      ],
      "execution_count": 46,
      "outputs": [
        {
          "output_type": "stream",
          "text": [
            "name tom, age 30\n",
            "name jerry, age 32\n",
            "name 철수, age 20\n",
            "name 영희, age 22\n"
          ],
          "name": "stdout"
        }
      ]
    },
    {
      "cell_type": "code",
      "metadata": {
        "id": "2WBwH_KMiY65",
        "colab_type": "code",
        "colab": {
          "base_uri": "https://localhost:8080/",
          "height": 88
        },
        "outputId": "6c9749ee-15c3-4ab6-a738-7eb4c7cc226e"
      },
      "source": [
        "print(\"이름 {}, 나이 {}\".format(\"tom\", 30))\n",
        "print(\"이름 {}, 나이 {}\".format(\"jerry\", 32))\n",
        "print(\"이름 {}, 나이 {}\".format(\"철수\", 20))\n",
        "print(\"이름 {}, 나이 {}\".format(\"영희\", 22))"
      ],
      "execution_count": 47,
      "outputs": [
        {
          "output_type": "stream",
          "text": [
            "이름 tom, 나이 30\n",
            "이름 jerry, 나이 32\n",
            "이름 철수, 나이 20\n",
            "이름 영희, 나이 22\n"
          ],
          "name": "stdout"
        }
      ]
    },
    {
      "cell_type": "code",
      "metadata": {
        "id": "1SEA6o8hjINT",
        "colab_type": "code",
        "colab": {
          "base_uri": "https://localhost:8080/",
          "height": 88
        },
        "outputId": "1a4ccb5e-d609-4b75-bd33-366a38864020"
      },
      "source": [
        "def print_name_and_age(name, age):\n",
        "  print(\"name {}, age {}\".format(name, age))\n",
        "  \n",
        "print_name_and_age(\"tom\", 30)\n",
        "print_name_and_age(\"jerry\", 33)\n",
        "print_name_and_age(\"철수\", 20)\n",
        "print_name_and_age(\"영희\", 22)"
      ],
      "execution_count": 49,
      "outputs": [
        {
          "output_type": "stream",
          "text": [
            "name tom, age 30\n",
            "name jerry, age 33\n",
            "name 철수, age 20\n",
            "name 영희, age 22\n"
          ],
          "name": "stdout"
        }
      ]
    },
    {
      "cell_type": "markdown",
      "metadata": {
        "id": "Zqg_AhSGt1xF",
        "colab_type": "text"
      },
      "source": [
        "## 짝수 여부 구분 함수"
      ]
    },
    {
      "cell_type": "code",
      "metadata": {
        "id": "sNM9QnZsjfXb",
        "colab_type": "code",
        "colab": {}
      },
      "source": [
        "def is_even(n):\n",
        "  div = int(n/2)\n",
        "  mod = n - div*2\n",
        "  if mod==0:\n",
        "    return True\n",
        "  else:\n",
        "    return False\n",
        "  print(\"hi\")  \n",
        "  \n",
        "print(is_even(3))\n",
        "print(is_even(4))\n",
        "print(is_even(5))"
      ],
      "execution_count": 0,
      "outputs": []
    },
    {
      "cell_type": "code",
      "metadata": {
        "id": "1P4BnMhNsiKh",
        "colab_type": "code",
        "colab": {
          "base_uri": "https://localhost:8080/",
          "height": 75
        },
        "outputId": "4a1fd86e-bf33-46d1-c687-5c1633bfab6f"
      },
      "source": [
        "def is_even(n):\n",
        "  div = int(n/2)\n",
        "  mod = n - div*2\n",
        "  return (mod==0)\n",
        "  \n",
        "print(is_even(3))\n",
        "print(is_even(4))\n",
        "print(is_even(5))"
      ],
      "execution_count": 4,
      "outputs": [
        {
          "output_type": "stream",
          "text": [
            "False\n",
            "True\n",
            "False\n"
          ],
          "name": "stdout"
        }
      ]
    },
    {
      "cell_type": "code",
      "metadata": {
        "id": "IGAtOs6RlQ-O",
        "colab_type": "code",
        "colab": {
          "base_uri": "https://localhost:8080/",
          "height": 35
        },
        "outputId": "96535f2c-44a8-4ae3-cbea-e17eab7e10bb"
      },
      "source": [
        "print(is_even(10))"
      ],
      "execution_count": 3,
      "outputs": [
        {
          "output_type": "stream",
          "text": [
            "True\n"
          ],
          "name": "stdout"
        }
      ]
    },
    {
      "cell_type": "markdown",
      "metadata": {
        "id": "oIUV3ke8t5MG",
        "colab_type": "text"
      },
      "source": [
        "## 나누기 몫 반환 함수"
      ]
    },
    {
      "cell_type": "code",
      "metadata": {
        "id": "uPDpbDr9t7C4",
        "colab_type": "code",
        "colab": {
          "base_uri": "https://localhost:8080/",
          "height": 70
        },
        "outputId": "2c88125e-02af-4d30-b84a-0d59a5ba069e"
      },
      "source": [
        "def div(a,b): # a를 b로 나누어서 몫을 반환\n",
        "  return int(a/b)\n",
        "\n",
        "print(div(3,2))\n",
        "print(div(4,2))\n",
        "print(div(5,2))"
      ],
      "execution_count": 7,
      "outputs": [
        {
          "output_type": "stream",
          "text": [
            "1\n",
            "2\n",
            "2\n"
          ],
          "name": "stdout"
        }
      ]
    },
    {
      "cell_type": "markdown",
      "metadata": {
        "id": "8q09vBczuzdx",
        "colab_type": "text"
      },
      "source": [
        "## 나누기 나머지 반환 함수"
      ]
    },
    {
      "cell_type": "code",
      "metadata": {
        "id": "JLX7rhbGuG6L",
        "colab_type": "code",
        "colab": {
          "base_uri": "https://localhost:8080/",
          "height": 88
        },
        "outputId": "aa0f116e-b4b4-421a-cc99-25f4b5aeea22"
      },
      "source": [
        "def mod(a,b):\n",
        "  d = int(a/b)\n",
        "  m = a - d*b\n",
        "  return m\n",
        "\n",
        "m = mod(3,2)\n",
        "print(m)\n",
        "print(mod(3,2))\n",
        "print(mod(4,2))\n",
        "print(mod(5,2))"
      ],
      "execution_count": 9,
      "outputs": [
        {
          "output_type": "stream",
          "text": [
            "1\n",
            "1\n",
            "0\n",
            "1\n"
          ],
          "name": "stdout"
        }
      ]
    },
    {
      "cell_type": "code",
      "metadata": {
        "id": "vu1yq_tLvCF9",
        "colab_type": "code",
        "colab": {
          "base_uri": "https://localhost:8080/",
          "height": 70
        },
        "outputId": "f278fb56-f8ad-406d-fc2b-157fe2bd8b37"
      },
      "source": [
        "def mod(a,b):\n",
        "  d = div(a,b)\n",
        "  m = a - d*b\n",
        "  return m\n",
        "\n",
        "print(mod(3,2))\n",
        "print(mod(4,2))\n",
        "print(mod(5,2))"
      ],
      "execution_count": 10,
      "outputs": [
        {
          "output_type": "stream",
          "text": [
            "1\n",
            "0\n",
            "1\n"
          ],
          "name": "stdout"
        }
      ]
    },
    {
      "cell_type": "code",
      "metadata": {
        "id": "5LduKh-bwaf0",
        "colab_type": "code",
        "colab": {
          "base_uri": "https://localhost:8080/",
          "height": 70
        },
        "outputId": "2b068dfc-146d-4a9f-973a-5de3e8e1cf87"
      },
      "source": [
        "def is_even(a):\n",
        "  m = mod(a,2)\n",
        "  return (m==0)\n",
        "\n",
        "print(is_even(3))\n",
        "print(is_even(4))\n",
        "print(is_even(5))\n"
      ],
      "execution_count": 11,
      "outputs": [
        {
          "output_type": "stream",
          "text": [
            "False\n",
            "True\n",
            "False\n"
          ],
          "name": "stdout"
        }
      ]
    },
    {
      "cell_type": "code",
      "metadata": {
        "id": "Tmi4iHdUwnYB",
        "colab_type": "code",
        "colab": {
          "base_uri": "https://localhost:8080/",
          "height": 70
        },
        "outputId": "f3eda2df-b036-4ee6-ba3d-027a8e646e74"
      },
      "source": [
        "def is_even(a):\n",
        "  return mod(a,2)==0\n",
        "\n",
        "print(is_even(3))\n",
        "print(is_even(4))\n",
        "print(is_even(5))\n"
      ],
      "execution_count": 12,
      "outputs": [
        {
          "output_type": "stream",
          "text": [
            "False\n",
            "True\n",
            "False\n"
          ],
          "name": "stdout"
        }
      ]
    },
    {
      "cell_type": "code",
      "metadata": {
        "id": "taqczWCMxDqK",
        "colab_type": "code",
        "colab": {
          "base_uri": "https://localhost:8080/",
          "height": 52
        },
        "outputId": "8e1f37ad-4679-40ba-b732-e5a52ae394c7"
      },
      "source": [
        "n = int(input())\n",
        "if is_even(n):\n",
        "  print(\"짝수\")\n",
        "else:\n",
        "  print(\"홀수\")"
      ],
      "execution_count": 13,
      "outputs": [
        {
          "output_type": "stream",
          "text": [
            "3\n",
            "홀수\n"
          ],
          "name": "stdout"
        }
      ]
    },
    {
      "cell_type": "code",
      "metadata": {
        "id": "c_kHKB0RyFRb",
        "colab_type": "code",
        "colab": {}
      },
      "source": [
        ""
      ],
      "execution_count": 0,
      "outputs": []
    }
  ]
}