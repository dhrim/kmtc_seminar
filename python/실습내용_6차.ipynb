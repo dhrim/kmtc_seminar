{
  "nbformat": 4,
  "nbformat_minor": 0,
  "metadata": {
    "colab": {
      "name": "6차.ipynb",
      "version": "0.3.2",
      "provenance": []
    },
    "kernelspec": {
      "name": "python3",
      "display_name": "Python 3"
    }
  },
  "cells": [
    {
      "cell_type": "markdown",
      "metadata": {
        "id": "NN-KxtNTAuvz",
        "colab_type": "text"
      },
      "source": [
        "### Quiz. 사용자가 입력한 숫자 중, 3의 배수의 총합과 평균\n",
        "\n",
        "\n",
        "- 빈값을 입력하면 입력 종료\n",
        "\n",
        "```\n",
        "while loop\n",
        "  입력 받기\n",
        "  빈문자열이면 break\n",
        "  리스트에 담기\n",
        "\n",
        "리스트 loop\n",
        "  int 변환\n",
        "  3의 배수 체크\n",
        "    리스트에 담기\n",
        "\n",
        "리스트 loop\n",
        "  총합에 담기\n",
        "평균 구하기\n",
        "```"
      ]
    },
    {
      "cell_type": "code",
      "metadata": {
        "id": "Ihcaju0N__eN",
        "colab_type": "code",
        "colab": {}
      },
      "source": [
        "n0 = []\n",
        "while True:\n",
        "  i = input()\n",
        "  if i==\"\":\n",
        "    break\n",
        "  n0.append(int(i))\n",
        "print(n0)\n",
        "\n",
        "n = []\n",
        "for i in n0:\n",
        "  if i%3 == 0:\n",
        "    n.append(i)\n",
        "print(n)\n",
        "\n",
        "sum = 0\n",
        "for i in n:\n",
        "  sum = sum + i\n",
        "mean = sum/len(n)\n",
        "print(sum, mean)"
      ],
      "execution_count": 0,
      "outputs": []
    },
    {
      "cell_type": "markdown",
      "metadata": {
        "id": "PLVl9z8FA54l",
        "colab_type": "text"
      },
      "source": [
        "### Quiz. 위 퀴즈에서 입력 개수를 최대 10개로\n",
        "\n",
        "받을 수 있는 갯수의 총 개수는 10개가 최대"
      ]
    },
    {
      "cell_type": "code",
      "metadata": {
        "id": "qdx_7C9lA7sy",
        "colab_type": "code",
        "colab": {}
      },
      "source": [
        "n0 = []\n",
        "while True:\n",
        "  # 1  \n",
        "  i = input()\n",
        "  # 2\n",
        "  if i==\"\":\n",
        "    break\n",
        "  # 3\n",
        "  n0.append(int(i))\n",
        "  # 4\n",
        "  if len(n0)>=10:\n",
        "    break    \n",
        "print(n0)\n",
        "\n",
        "n = []\n",
        "for i in n0:\n",
        "  if i%3 == 0:\n",
        "    n.append(i)\n",
        "print(n)\n",
        "\n",
        "sum = 0\n",
        "for i in n:\n",
        "  sum = sum + i\n",
        "mean = sum/len(n)\n",
        "print(sum, mean)"
      ],
      "execution_count": 0,
      "outputs": []
    },
    {
      "cell_type": "code",
      "metadata": {
        "id": "4eZPglUXCOSG",
        "colab_type": "code",
        "colab": {}
      },
      "source": [
        "if len(n0)>=10:\n",
        "  break"
      ],
      "execution_count": 0,
      "outputs": []
    },
    {
      "cell_type": "code",
      "metadata": {
        "id": "Fi06mc37EI0n",
        "colab_type": "code",
        "colab": {
          "base_uri": "https://localhost:8080/",
          "height": 251
        },
        "outputId": "f1a0a86f-060a-43c6-dc7c-40e4aac1f923"
      },
      "source": [
        "n0 = []\n",
        "while len(n0)<10:\n",
        "  i = input()\n",
        "  if i==\"\":\n",
        "    break\n",
        "  n0.append(int(i))\n",
        "print(n0)\n",
        "\n",
        "n = []\n",
        "for i in n0:\n",
        "  if i%3 == 0:\n",
        "    n.append(i)\n",
        "print(n)\n",
        "\n",
        "sum = 0\n",
        "for i in n:\n",
        "  sum = sum + i\n",
        "mean = sum/len(n)\n",
        "print(sum, mean)"
      ],
      "execution_count": 6,
      "outputs": [
        {
          "output_type": "stream",
          "text": [
            "1\n",
            "2\n",
            "3\n",
            "4\n",
            "5\n",
            "6\n",
            "7\n",
            "8\n",
            "9\n",
            "10\n",
            "[1, 2, 3, 4, 5, 6, 7, 8, 9, 10]\n",
            "[3, 6, 9]\n",
            "18 6.0\n"
          ],
          "name": "stdout"
        }
      ]
    },
    {
      "cell_type": "markdown",
      "metadata": {
        "id": "_wLQDC6GFELf",
        "colab_type": "text"
      },
      "source": [
        "# String"
      ]
    },
    {
      "cell_type": "code",
      "metadata": {
        "id": "dfFcziGHE4HW",
        "colab_type": "code",
        "colab": {
          "base_uri": "https://localhost:8080/",
          "height": 53
        },
        "outputId": "d7571865-97fe-4bc7-912e-4a3add1ca30b"
      },
      "source": [
        "s = \"abcdefghij\"\n",
        "\n",
        "print(len(s))\n",
        "print(s[1])\n"
      ],
      "execution_count": 10,
      "outputs": [
        {
          "output_type": "stream",
          "text": [
            "10\n",
            "b\n"
          ],
          "name": "stdout"
        }
      ]
    },
    {
      "cell_type": "code",
      "metadata": {
        "id": "MJPRH2_4FKBK",
        "colab_type": "code",
        "colab": {
          "base_uri": "https://localhost:8080/",
          "height": 53
        },
        "outputId": "cc53e5a2-d7a3-4353-fd05-d716e5dfec9c"
      },
      "source": [
        "l = [0,1,2,3,4,5,6,7,8,9]\n",
        "print(len(l))\n",
        "print(l[1])"
      ],
      "execution_count": 9,
      "outputs": [
        {
          "output_type": "stream",
          "text": [
            "10\n",
            "1\n"
          ],
          "name": "stdout"
        }
      ]
    },
    {
      "cell_type": "code",
      "metadata": {
        "id": "0zQMyppPGA0n",
        "colab_type": "code",
        "colab": {}
      },
      "source": [
        "s = \"hello Tom, hi Jerry\""
      ],
      "execution_count": 0,
      "outputs": []
    },
    {
      "cell_type": "code",
      "metadata": {
        "id": "q1_JFuLmFVG0",
        "colab_type": "code",
        "colab": {
          "base_uri": "https://localhost:8080/",
          "height": 35
        },
        "outputId": "17d08f6d-c9b5-4a93-fd33-8e5eb35f9e87"
      },
      "source": [
        "print(s.upper())"
      ],
      "execution_count": 12,
      "outputs": [
        {
          "output_type": "stream",
          "text": [
            "HELLO TOM, HI JERRY\n"
          ],
          "name": "stdout"
        }
      ]
    },
    {
      "cell_type": "markdown",
      "metadata": {
        "id": "Qq7NvNyfGha3",
        "colab_type": "text"
      },
      "source": [
        "- upper() : 전부 대문자로\n",
        "- lower() : 전부 소문자로\n",
        "- swapcase() : 소대문자 서로 바구기\n",
        "- capitalize() : 첫자만 대문자로\n",
        "- title() : 각 단의의 첫 자만 대문자로\n",
        "- strip() : 시작과 끝의 스페이스 제거\n",
        "- replace()) : 문자열 치환 \n",
        "- format() : 포멧에 맞게 변화\n",
        "- join() : 리스트이 문자열을 합치기\n",
        "- split() : 스페이스로 문자열을 쪼개기"
      ]
    },
    {
      "cell_type": "code",
      "metadata": {
        "id": "5kY5gSxwGLub",
        "colab_type": "code",
        "colab": {
          "base_uri": "https://localhost:8080/",
          "height": 35
        },
        "outputId": "b7804488-c678-4863-da55-b64e463f59f5"
      },
      "source": [
        "s = \"hello Tom, hi Jerry\"\n",
        "print(s.lower())"
      ],
      "execution_count": 13,
      "outputs": [
        {
          "output_type": "stream",
          "text": [
            "hello tom, hi jerry\n"
          ],
          "name": "stdout"
        }
      ]
    },
    {
      "cell_type": "code",
      "metadata": {
        "id": "5VWp7ierHhgv",
        "colab_type": "code",
        "colab": {
          "base_uri": "https://localhost:8080/",
          "height": 35
        },
        "outputId": "5228c9ef-1156-450c-aec4-cb252d396c3c"
      },
      "source": [
        "s = \"hello Tom, hi Jerry\"\n",
        "print(s.swapcase())"
      ],
      "execution_count": 14,
      "outputs": [
        {
          "output_type": "stream",
          "text": [
            "HELLO tOM, HI jERRY\n"
          ],
          "name": "stdout"
        }
      ]
    },
    {
      "cell_type": "code",
      "metadata": {
        "id": "r8WGOuZZHt4R",
        "colab_type": "code",
        "colab": {
          "base_uri": "https://localhost:8080/",
          "height": 35
        },
        "outputId": "b004c375-101c-4bd8-f01d-388ae2be0b0f"
      },
      "source": [
        "s = \"hello Tom, hi Jerry\"\n",
        "print(s.capitalize())"
      ],
      "execution_count": 15,
      "outputs": [
        {
          "output_type": "stream",
          "text": [
            "Hello tom, hi jerry\n"
          ],
          "name": "stdout"
        }
      ]
    },
    {
      "cell_type": "code",
      "metadata": {
        "id": "3mbpOvZYH45l",
        "colab_type": "code",
        "colab": {
          "base_uri": "https://localhost:8080/",
          "height": 35
        },
        "outputId": "934c64df-9ebb-43ce-ddb2-2aa152d012e8"
      },
      "source": [
        "s = \"hello Tom, hi Jerry\"\n",
        "print(s.title())"
      ],
      "execution_count": 16,
      "outputs": [
        {
          "output_type": "stream",
          "text": [
            "Hello Tom, Hi Jerry\n"
          ],
          "name": "stdout"
        }
      ]
    },
    {
      "cell_type": "code",
      "metadata": {
        "id": "dihZakbSIAf-",
        "colab_type": "code",
        "colab": {
          "base_uri": "https://localhost:8080/",
          "height": 35
        },
        "outputId": "e7d8390a-4eda-492c-c832-448386043e77"
      },
      "source": [
        "s = \"    hello Tom, hi Jerry   \"\n",
        "print(s.strip())"
      ],
      "execution_count": 17,
      "outputs": [
        {
          "output_type": "stream",
          "text": [
            "hello Tom, hi Jerry\n"
          ],
          "name": "stdout"
        }
      ]
    },
    {
      "cell_type": "code",
      "metadata": {
        "id": "8bneNQHyILlY",
        "colab_type": "code",
        "colab": {
          "base_uri": "https://localhost:8080/",
          "height": 53
        },
        "outputId": "565b0027-5fda-42fd-cd81-204c79c87243"
      },
      "source": [
        "s = \"hello Tom, hi Jerry\"\n",
        "print(s.replace(\"hello\", \"hi\"))\n",
        "print(s.replace(\" \", \"_\"))"
      ],
      "execution_count": 19,
      "outputs": [
        {
          "output_type": "stream",
          "text": [
            "hi Tom, hi Jerry\n",
            "hello_Tom,_hi_Jerry\n"
          ],
          "name": "stdout"
        }
      ]
    },
    {
      "cell_type": "code",
      "metadata": {
        "id": "5_ru07M9IikA",
        "colab_type": "code",
        "colab": {
          "base_uri": "https://localhost:8080/",
          "height": 35
        },
        "outputId": "477b906f-8675-4278-b815-ed959e942da0"
      },
      "source": [
        "name = \"tom\"\n",
        "age = 30\n",
        "print(\"이름 {}, 나이 {}\".format(name, age))"
      ],
      "execution_count": 20,
      "outputs": [
        {
          "output_type": "stream",
          "text": [
            "이름 tom, 나이 30\n"
          ],
          "name": "stdout"
        }
      ]
    },
    {
      "cell_type": "code",
      "metadata": {
        "id": "zZIje21jJbu7",
        "colab_type": "code",
        "colab": {
          "base_uri": "https://localhost:8080/",
          "height": 35
        },
        "outputId": "614c8166-6317-400c-bb18-675e1a03f7e9"
      },
      "source": [
        "d = \"tom,jerry,철수,영희\"\n",
        "l = d.split(\",\")\n",
        "print(l)"
      ],
      "execution_count": 21,
      "outputs": [
        {
          "output_type": "stream",
          "text": [
            "['tom', 'jerry', '철수', '영희']\n"
          ],
          "name": "stdout"
        }
      ]
    },
    {
      "cell_type": "code",
      "metadata": {
        "id": "u-2M27iUJ325",
        "colab_type": "code",
        "colab": {
          "base_uri": "https://localhost:8080/",
          "height": 89
        },
        "outputId": "1073af32-c157-43df-a2a7-d3d4f5eda608"
      },
      "source": [
        "l = ['tom', 'jerry', '철수', '영희']\n",
        "for i in l:\n",
        "  print(i)"
      ],
      "execution_count": 22,
      "outputs": [
        {
          "output_type": "stream",
          "text": [
            "tom\n",
            "jerry\n",
            "철수\n",
            "영희\n"
          ],
          "name": "stdout"
        }
      ]
    },
    {
      "cell_type": "markdown",
      "metadata": {
        "id": "7fF6tUTZLow3",
        "colab_type": "text"
      },
      "source": [
        "### Quiz. 문자열 a에 담긴 숫자들의 총합\n",
        "\n",
        "```\n",
        "a = \"10,20,30,40\"\n",
        "```"
      ]
    },
    {
      "cell_type": "code",
      "metadata": {
        "id": "7Yr3ZAdUKJ4h",
        "colab_type": "code",
        "colab": {}
      },
      "source": [
        "a = \"10,20,30,40\"\n",
        "l = [10,20,30,40]\n",
        "\n",
        "sum = 0\n",
        "for i in l:\n",
        "  sum = sum + i"
      ],
      "execution_count": 0,
      "outputs": []
    },
    {
      "cell_type": "code",
      "metadata": {
        "id": "lCNxj3fdLaXQ",
        "colab_type": "code",
        "colab": {
          "base_uri": "https://localhost:8080/",
          "height": 71
        },
        "outputId": "4e1ac281-b60a-4c2c-804f-2c32b5147de4"
      },
      "source": [
        "# split(\",\") : 문자열을 ','를 기준으로 쪼개서 리스트로 만든다\n",
        "# int() : 문자열을 정수로 변환\n",
        "\n",
        "a = \"10,20,30,40\"\n",
        "l = a.split(\",\")\n",
        "print(l)\n",
        "\n",
        "l2 = []\n",
        "for i in l:\n",
        "  l2.append(int(i))\n",
        "print(l2)\n",
        "\n",
        "sum = 0\n",
        "for i in l2:\n",
        "  sum = sum + i\n",
        "print(sum)"
      ],
      "execution_count": 27,
      "outputs": [
        {
          "output_type": "stream",
          "text": [
            "['10', '20', '30', '40']\n",
            "[10, 20, 30, 40]\n",
            "100\n"
          ],
          "name": "stdout"
        }
      ]
    },
    {
      "cell_type": "code",
      "metadata": {
        "id": "dmTVNWtROZPo",
        "colab_type": "code",
        "colab": {
          "base_uri": "https://localhost:8080/",
          "height": 35
        },
        "outputId": "92d6c96a-994c-4e28-b158-cda01fa115a4"
      },
      "source": [
        "d = \"tom,jerry,철수,영희\"\n",
        "l = d.split(\",\")\n",
        "print(l)"
      ],
      "execution_count": 28,
      "outputs": [
        {
          "output_type": "stream",
          "text": [
            "['tom', 'jerry', '철수', '영희']\n"
          ],
          "name": "stdout"
        }
      ]
    },
    {
      "cell_type": "code",
      "metadata": {
        "id": "h2vyMk_3Lz31",
        "colab_type": "code",
        "colab": {
          "base_uri": "https://localhost:8080/",
          "height": 35
        },
        "outputId": "c5da7daf-16f7-4507-f84e-c20bc1e4d26a"
      },
      "source": [
        "d = \"tom jerry 철수 영희\"\n",
        "l = d.split(\" \")\n",
        "print(l)"
      ],
      "execution_count": 38,
      "outputs": [
        {
          "output_type": "stream",
          "text": [
            "['tom', 'jerry', '철수', '영희']\n"
          ],
          "name": "stdout"
        }
      ]
    },
    {
      "cell_type": "code",
      "metadata": {
        "id": "0W6_WrqRP6Rf",
        "colab_type": "code",
        "colab": {}
      },
      "source": [
        "d = \"a,b:c,:de\""
      ],
      "execution_count": 0,
      "outputs": []
    },
    {
      "cell_type": "code",
      "metadata": {
        "id": "7bn6P-LtRs2o",
        "colab_type": "code",
        "colab": {
          "base_uri": "https://localhost:8080/",
          "height": 35
        },
        "outputId": "e125f41b-64a3-4b9c-9d6f-ebe54c2fdcee"
      },
      "source": [
        "l = ['tom', 'jerry', '철수', '영희']\n",
        "print(\",\".join(l))"
      ],
      "execution_count": 39,
      "outputs": [
        {
          "output_type": "stream",
          "text": [
            "tom,jerry,철수,영희\n"
          ],
          "name": "stdout"
        }
      ]
    },
    {
      "cell_type": "markdown",
      "metadata": {
        "id": "cZ3HvlHzSgcv",
        "colab_type": "text"
      },
      "source": [
        "- list : 리스트\n",
        "- dict : 키와 값\n",
        "- set : 집합\n",
        "- tuple : 여러개의 값들"
      ]
    },
    {
      "cell_type": "markdown",
      "metadata": {
        "id": "9Uap2ljCSteR",
        "colab_type": "text"
      },
      "source": [
        "# dictionary"
      ]
    },
    {
      "cell_type": "code",
      "metadata": {
        "id": "B2iOhp9rRw41",
        "colab_type": "code",
        "colab": {
          "base_uri": "https://localhost:8080/",
          "height": 53
        },
        "outputId": "527b1979-6c0b-4441-b7d4-4a5e7ff03458"
      },
      "source": [
        "d = { \n",
        "      \"a\":10, \n",
        "      \"b\":20, \n",
        "      \"c\":30 \n",
        "}\n",
        "print(d)\n",
        "print(d['b'])"
      ],
      "execution_count": 41,
      "outputs": [
        {
          "output_type": "stream",
          "text": [
            "{'a': 10, 'b': 20, 'c': 30}\n",
            "20\n"
          ],
          "name": "stdout"
        }
      ]
    },
    {
      "cell_type": "code",
      "metadata": {
        "id": "6ASekw3gS4Oo",
        "colab_type": "code",
        "colab": {
          "base_uri": "https://localhost:8080/",
          "height": 71
        },
        "outputId": "0d791930-ba24-49ed-e129-042f7942e4ad"
      },
      "source": [
        "d = { \"Tom\":30, \"Jerry\":32, \"철수\":20, \"영희\":22 }\n",
        "print(d)\n",
        "print(len(d))\n",
        "print(d[\"Tom\"])"
      ],
      "execution_count": 42,
      "outputs": [
        {
          "output_type": "stream",
          "text": [
            "{'Tom': 30, 'Jerry': 32, '철수': 20, '영희': 22}\n",
            "4\n",
            "30\n"
          ],
          "name": "stdout"
        }
      ]
    },
    {
      "cell_type": "markdown",
      "metadata": {
        "id": "jcagA4zjVg1D",
        "colab_type": "text"
      },
      "source": [
        "### 큰 따옴표, 작은 다옴표"
      ]
    },
    {
      "cell_type": "code",
      "metadata": {
        "id": "F8l3UWfST5VY",
        "colab_type": "code",
        "colab": {
          "base_uri": "https://localhost:8080/",
          "height": 53
        },
        "outputId": "63eef623-68c1-48d8-c33c-aa444db3a7c2"
      },
      "source": [
        "print(\"hello Tom\")\n",
        "print('hello tom')"
      ],
      "execution_count": 43,
      "outputs": [
        {
          "output_type": "stream",
          "text": [
            "hello Tom\n",
            "hello tom\n"
          ],
          "name": "stdout"
        }
      ]
    },
    {
      "cell_type": "markdown",
      "metadata": {
        "id": "ODtZ-KwfV2Yx",
        "colab_type": "text"
      },
      "source": [
        "it's me"
      ]
    },
    {
      "cell_type": "code",
      "metadata": {
        "id": "bMA4U-oOVpTo",
        "colab_type": "code",
        "colab": {
          "base_uri": "https://localhost:8080/",
          "height": 35
        },
        "outputId": "c2bad0ea-30cf-4173-edf4-cb5126690a44"
      },
      "source": [
        "print(\"it's me\")"
      ],
      "execution_count": 44,
      "outputs": [
        {
          "output_type": "stream",
          "text": [
            "it's me\n"
          ],
          "name": "stdout"
        }
      ]
    },
    {
      "cell_type": "code",
      "metadata": {
        "id": "h6z5P-4QV6p9",
        "colab_type": "code",
        "colab": {
          "base_uri": "https://localhost:8080/",
          "height": 136
        },
        "outputId": "604bf1c8-53e3-4a86-ed37-8c919488f335"
      },
      "source": [
        "print('it's me')"
      ],
      "execution_count": 45,
      "outputs": [
        {
          "output_type": "error",
          "ename": "SyntaxError",
          "evalue": "ignored",
          "traceback": [
            "\u001b[0;36m  File \u001b[0;32m\"<ipython-input-45-41d96471c2b1>\"\u001b[0;36m, line \u001b[0;32m1\u001b[0m\n\u001b[0;31m    print('it's me')\u001b[0m\n\u001b[0m              ^\u001b[0m\n\u001b[0;31mSyntaxError\u001b[0m\u001b[0;31m:\u001b[0m invalid syntax\n"
          ]
        }
      ]
    },
    {
      "cell_type": "markdown",
      "metadata": {
        "id": "QPl2BiR-WU-I",
        "colab_type": "text"
      },
      "source": [
        "it\"s me"
      ]
    },
    {
      "cell_type": "code",
      "metadata": {
        "id": "1WJhfe15WaBh",
        "colab_type": "code",
        "colab": {
          "base_uri": "https://localhost:8080/",
          "height": 136
        },
        "outputId": "e68f2965-0674-4302-966d-3dad17b90cb6"
      },
      "source": [
        "print(\"it\"s me\")"
      ],
      "execution_count": 46,
      "outputs": [
        {
          "output_type": "error",
          "ename": "SyntaxError",
          "evalue": "ignored",
          "traceback": [
            "\u001b[0;36m  File \u001b[0;32m\"<ipython-input-46-4031d14a315d>\"\u001b[0;36m, line \u001b[0;32m1\u001b[0m\n\u001b[0;31m    print(\"it\"s me\")\u001b[0m\n\u001b[0m              ^\u001b[0m\n\u001b[0;31mSyntaxError\u001b[0m\u001b[0;31m:\u001b[0m invalid syntax\n"
          ]
        }
      ]
    },
    {
      "cell_type": "code",
      "metadata": {
        "id": "HlirsBCMWcsQ",
        "colab_type": "code",
        "colab": {
          "base_uri": "https://localhost:8080/",
          "height": 35
        },
        "outputId": "30008660-7f89-445c-c6ea-a56391baa67b"
      },
      "source": [
        "print('it\"s me')"
      ],
      "execution_count": 47,
      "outputs": [
        {
          "output_type": "stream",
          "text": [
            "it\"s me\n"
          ],
          "name": "stdout"
        }
      ]
    },
    {
      "cell_type": "code",
      "metadata": {
        "id": "hrDjyyFUXJzT",
        "colab_type": "code",
        "colab": {
          "base_uri": "https://localhost:8080/",
          "height": 89
        },
        "outputId": "590493da-34ff-444c-ee4f-83013362a6a5"
      },
      "source": [
        "print(\"it's me\")\n",
        "print('it\"s me')\n",
        "print(\"it\\\"s me\")\n",
        "print('it\\'s me')"
      ],
      "execution_count": 48,
      "outputs": [
        {
          "output_type": "stream",
          "text": [
            "it's me\n",
            "it\"s me\n",
            "it\"s me\n",
            "it's me\n"
          ],
          "name": "stdout"
        }
      ]
    },
    {
      "cell_type": "markdown",
      "metadata": {
        "id": "uhMZKvTiYcJQ",
        "colab_type": "text"
      },
      "source": [
        "### dictionary 계속"
      ]
    },
    {
      "cell_type": "markdown",
      "metadata": {
        "id": "vEGI4OoqZEzo",
        "colab_type": "text"
      },
      "source": [
        "```\n",
        "Tom 30\n",
        "Jerry 32\n",
        "철수 20\n",
        "영희 22\n",
        "```\n",
        "print(d[\"Tom\"])"
      ]
    },
    {
      "cell_type": "code",
      "metadata": {
        "id": "UDUElFngXcfA",
        "colab_type": "code",
        "colab": {
          "base_uri": "https://localhost:8080/",
          "height": 161
        },
        "outputId": "21ee3908-012b-4353-eef5-50d31670de82"
      },
      "source": [
        "d = { \"Tom\":30, \"Jerry\":32, \"철수\":20, \"영희\":22 }\n",
        "for key in d.keys():\n",
        "  print(key)\n",
        "  \n",
        "for value in d.values():\n",
        "  print(value)\n"
      ],
      "execution_count": 52,
      "outputs": [
        {
          "output_type": "stream",
          "text": [
            "Tom\n",
            "Jerry\n",
            "철수\n",
            "영희\n",
            "30\n",
            "32\n",
            "20\n",
            "22\n"
          ],
          "name": "stdout"
        }
      ]
    },
    {
      "cell_type": "code",
      "metadata": {
        "id": "j7zmegilYhlV",
        "colab_type": "code",
        "colab": {
          "base_uri": "https://localhost:8080/",
          "height": 89
        },
        "outputId": "12501dcf-6d97-4cf7-ff16-874a99b8f365"
      },
      "source": [
        "d = { \"Tom\":30, \"Jerry\":32, \"철수\":20, \"영희\":22 }\n",
        "for key in d.keys():\n",
        "  print(key, d[key])"
      ],
      "execution_count": 53,
      "outputs": [
        {
          "output_type": "stream",
          "text": [
            "Tom 30\n",
            "Jerry 32\n",
            "철수 20\n",
            "영희 22\n"
          ],
          "name": "stdout"
        }
      ]
    },
    {
      "cell_type": "code",
      "metadata": {
        "id": "L7v2IRyeafiX",
        "colab_type": "code",
        "colab": {
          "base_uri": "https://localhost:8080/",
          "height": 53
        },
        "outputId": "71faa022-6d19-4774-d1f1-3bbffa0ea5b5"
      },
      "source": [
        "d = { \"Tom\":30, \"Jerry\":32, \"철수\":20, \"영희\":22 }\n",
        "print(d['Tom'])\n",
        "name = 'Tom'\n",
        "print(d[name])"
      ],
      "execution_count": 55,
      "outputs": [
        {
          "output_type": "stream",
          "text": [
            "30\n",
            "30\n"
          ],
          "name": "stdout"
        }
      ]
    },
    {
      "cell_type": "code",
      "metadata": {
        "id": "G8OSfRQKa3VL",
        "colab_type": "code",
        "colab": {
          "base_uri": "https://localhost:8080/",
          "height": 35
        },
        "outputId": "9640a82b-0d6b-4184-8cc1-68ea9b97c59b"
      },
      "source": [
        "print(d.keys())"
      ],
      "execution_count": 56,
      "outputs": [
        {
          "output_type": "stream",
          "text": [
            "dict_keys(['Tom', 'Jerry', '철수', '영희'])\n"
          ],
          "name": "stdout"
        }
      ]
    },
    {
      "cell_type": "markdown",
      "metadata": {
        "id": "dMS-aJqhgWBZ",
        "colab_type": "text"
      },
      "source": [
        "### Quiz. 나이가 30 이상인 이름과 나이를 출력"
      ]
    },
    {
      "cell_type": "code",
      "metadata": {
        "id": "xT7BRsAicYt_",
        "colab_type": "code",
        "colab": {
          "base_uri": "https://localhost:8080/",
          "height": 53
        },
        "outputId": "cb440693-c94f-48e5-9a50-e1bce57ed608"
      },
      "source": [
        "d = { \"Tom\":30, \"Jerry\":32, \"철수\":20, \"영희\":22 }\n",
        "for key in d.keys():\n",
        "  if d[key]>=30:\n",
        "    print(key, d[key])"
      ],
      "execution_count": 59,
      "outputs": [
        {
          "output_type": "stream",
          "text": [
            "Tom 30\n",
            "Jerry 32\n"
          ],
          "name": "stdout"
        }
      ]
    },
    {
      "cell_type": "markdown",
      "metadata": {
        "id": "45MSiHZ7iDA5",
        "colab_type": "text"
      },
      "source": [
        "### Quiz. 이름을 입력받아 이름과 나이를 출력\n"
      ]
    },
    {
      "cell_type": "code",
      "metadata": {
        "id": "DUFYg7EkgcyH",
        "colab_type": "code",
        "colab": {
          "base_uri": "https://localhost:8080/",
          "height": 53
        },
        "outputId": "e1476968-b909-4559-aca7-3a7211de2531"
      },
      "source": [
        "d = { \"Tom\":30, \"Jerry\":32, \"철수\":20, \"영희\":22 }\n",
        "\n",
        "# 사용자 입력 : name = input()\n",
        "name = input()\n",
        "print(name, d[name])"
      ],
      "execution_count": 63,
      "outputs": [
        {
          "output_type": "stream",
          "text": [
            "Tom\n",
            "Tom 30\n"
          ],
          "name": "stdout"
        }
      ]
    },
    {
      "cell_type": "code",
      "metadata": {
        "id": "tt7PSwuIiPKq",
        "colab_type": "code",
        "colab": {
          "base_uri": "https://localhost:8080/",
          "height": 53
        },
        "outputId": "f2a03e29-b3c0-421d-af6f-2c08af8f7c19"
      },
      "source": [
        "d = {}\n",
        "d[\"Tom\"] = 30\n",
        "d['Jerry'] = 32\n",
        "\n",
        "print(d)\n",
        "\n",
        "d['Tom'] = 99\n",
        "print(d)"
      ],
      "execution_count": 67,
      "outputs": [
        {
          "output_type": "stream",
          "text": [
            "{'Tom': 30, 'Jerry': 32}\n",
            "{'Tom': 99, 'Jerry': 32}\n"
          ],
          "name": "stdout"
        }
      ]
    },
    {
      "cell_type": "code",
      "metadata": {
        "id": "vjZUAzH-jZIo",
        "colab_type": "code",
        "colab": {
          "base_uri": "https://localhost:8080/",
          "height": 53
        },
        "outputId": "b31b0e3c-66fe-474d-ae31-c263b0a28d86"
      },
      "source": [
        "l = []\n",
        "l.append(10)\n",
        "l.append(20)\n",
        "print(l)\n",
        "\n",
        "l[0] = 99\n",
        "print(l)\n",
        "\n"
      ],
      "execution_count": 68,
      "outputs": [
        {
          "output_type": "stream",
          "text": [
            "[10, 20]\n",
            "[99, 20]\n"
          ],
          "name": "stdout"
        }
      ]
    },
    {
      "cell_type": "markdown",
      "metadata": {
        "id": "bOkOtWFiki2M",
        "colab_type": "text"
      },
      "source": [
        "### Quiz. 이름과 나이를 입력받아 딕션너리에 추가 하고 출력. 계속 반복. 빈칸이면 중지\n",
        "\n",
        "```\n",
        "dictionanry d 생성\n",
        "\n",
        "while 무한루프\n",
        "  name 입력 받기\n",
        "  if name이 빈칸이면 break\n",
        "  age 입력 받기\n",
        "  d에 name과 age 추가\n",
        "  d 전체 출력\n",
        "\n",
        "```"
      ]
    },
    {
      "cell_type": "code",
      "metadata": {
        "id": "d98-pCSMjsIZ",
        "colab_type": "code",
        "colab": {
          "base_uri": "https://localhost:8080/",
          "height": 140
        },
        "outputId": "8123431e-1c75-434b-d208-a12b58d0de30"
      },
      "source": [
        "d = {}\n",
        "\n",
        "while True:\n",
        "  name = input(\"name : \")\n",
        "  if name==\"\":\n",
        "    break\n",
        "  age = input(\"age : \")\n",
        "  d[name] = int(age)\n",
        "  print(d)\n",
        "\n"
      ],
      "execution_count": 71,
      "outputs": [
        {
          "output_type": "stream",
          "text": [
            "name : Tom\n",
            "age : 30\n",
            "{'Tom': 30}\n",
            "name : Jerry\n",
            "age : 32\n",
            "{'Tom': 30, 'Jerry': 32}\n",
            "name : \n"
          ],
          "name": "stdout"
        }
      ]
    },
    {
      "cell_type": "markdown",
      "metadata": {
        "id": "KaenzBJ_oNE_",
        "colab_type": "text"
      },
      "source": [
        "### Quiz. 소대문자 관계없이 이름 입력 받아 나이 출력.\n",
        "```\n",
        "d = { \"Tom\":30, \"Jerry\":32, \"철수\":20, \"영희\":22 }\n",
        "```\n",
        "\n",
        "```\n",
        "d가 정의되어 있고\n",
        "\n",
        "key값을 소문자로 하는 새로운 딕션너리 d1을 생성\n",
        "d1 = { \"tom\":30, \"jerry\":32, \"철수\":20, \"영희\":22 }\n",
        "for 루프. d의 키 name에 대하여\n",
        "  name에 대한 age 값을 구함\n",
        "  name를 소문자로 치환한 lower_name 구하기\n",
        "  d1에 lower_name와 age를 추가\n",
        "\n",
        "입력을 받고. 이를 소문자로 변환\n",
        "소문자로 변환된 이름으로 d1에서 조회\n",
        "```\n",
        "\n",
        "```\n",
        "\"Tom\".lower() : 소문자로 변환\n",
        "```"
      ]
    },
    {
      "cell_type": "code",
      "metadata": {
        "id": "atIybeJ3maBT",
        "colab_type": "code",
        "colab": {
          "base_uri": "https://localhost:8080/",
          "height": 125
        },
        "outputId": "39f9ce08-453c-4285-d40c-bc64fc9848dd"
      },
      "source": [
        "d = { \"Tom\":30, \"Jerry\":32, \"철수\":20, \"영희\":22 }\n",
        "\n",
        "d1 = {}\n",
        "for name in d.keys():\n",
        "  lower_name = name.lower()\n",
        "  age = d[name]\n",
        "  d1[lower_name] = age\n",
        "\n",
        "name = input()\n",
        "name = name.lower()\n",
        "print(name, d1[name])"
      ],
      "execution_count": 82,
      "outputs": [
        {
          "output_type": "stream",
          "text": [
            "tom 30\n",
            "jerry 32\n",
            "철수 20\n",
            "영희 22\n",
            "tom\n",
            "tom 30\n"
          ],
          "name": "stdout"
        }
      ]
    },
    {
      "cell_type": "code",
      "metadata": {
        "id": "ilNnhVUgob9n",
        "colab_type": "code",
        "colab": {}
      },
      "source": [
        ""
      ],
      "execution_count": 0,
      "outputs": []
    }
  ]
}