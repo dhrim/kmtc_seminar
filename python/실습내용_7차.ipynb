{
  "nbformat": 4,
  "nbformat_minor": 0,
  "metadata": {
    "colab": {
      "name": "7회차.ipynb",
      "provenance": [],
      "collapsed_sections": []
    },
    "kernelspec": {
      "name": "python3",
      "display_name": "Python 3"
    }
  },
  "cells": [
    {
      "cell_type": "markdown",
      "metadata": {
        "id": "w5Ju5z9VUrt6",
        "colab_type": "text"
      },
      "source": [
        "## Dictionary"
      ]
    },
    {
      "cell_type": "code",
      "metadata": {
        "id": "nuY_q9jmWusQ",
        "colab_type": "code",
        "colab": {}
      },
      "source": [
        "l = [ \"cat\", \"dog\", \"apple\"]\n",
        "print(l)\n",
        "print(l[0])"
      ],
      "execution_count": 0,
      "outputs": []
    },
    {
      "cell_type": "code",
      "metadata": {
        "id": "7qIcxWlXUnTh",
        "colab_type": "code",
        "colab": {}
      },
      "source": [
        "d = {\n",
        "    \"cat\" : \"고양이. 사람을 집사로 하는 신적 동물\",\n",
        "    \"dog\" : \"강아지. 사람을 신으로 아는 귀여운 동물\",\n",
        "    \"apple\" : \"사과. 깨물면 맛있는 과일. 백설공주 암살에 사용됨\"\n",
        "}\n",
        "print(d)\n",
        "print(d[\"cat\"])"
      ],
      "execution_count": 0,
      "outputs": []
    },
    {
      "cell_type": "code",
      "metadata": {
        "id": "jGVkSMoNVD95",
        "colab_type": "code",
        "colab": {}
      },
      "source": [
        "d = {\n",
        "    \"cat\" : \"고양이. 사람을 집사로 하는 신적 동물\",\n",
        "    \"dog\" : \"강아지. 사람을 신으로 아는 귀여운 동물\",\n",
        "    \"apple\" : \"사과. 깨물면 맛있는 과일. 백설공주 암살에 사용됨\"\n",
        "}\n",
        "\n",
        "while True:\n",
        "  word = input()\n",
        "  print(d[word])"
      ],
      "execution_count": 0,
      "outputs": []
    },
    {
      "cell_type": "markdown",
      "metadata": {
        "id": "tsXYUfH4YTnZ",
        "colab_type": "text"
      },
      "source": [
        "## Quiz. 위 코드에서 빈칸을 입력하면 종료. 소대문자 관계없이 찾을 수 있도록\n"
      ]
    },
    {
      "cell_type": "code",
      "metadata": {
        "id": "8YqJ6YnsV229",
        "colab_type": "code",
        "colab": {
          "base_uri": "https://localhost:8080/",
          "height": 35
        },
        "outputId": "e77d031a-3254-4962-b306-cf84aee499fc"
      },
      "source": [
        "word = \"TOM\"\n",
        "print(word.lower())"
      ],
      "execution_count": 9,
      "outputs": [
        {
          "output_type": "stream",
          "text": [
            "tom\n"
          ],
          "name": "stdout"
        }
      ]
    },
    {
      "cell_type": "code",
      "metadata": {
        "id": "NkUbgKanaq0p",
        "colab_type": "code",
        "colab": {}
      },
      "source": [
        "a = 1\n",
        "a = a  + 1"
      ],
      "execution_count": 0,
      "outputs": []
    },
    {
      "cell_type": "code",
      "metadata": {
        "id": "8glIGLIsYnbW",
        "colab_type": "code",
        "colab": {
          "base_uri": "https://localhost:8080/",
          "height": 107
        },
        "outputId": "6a5b370f-2c63-4357-ee22-b6ec3f71ddca"
      },
      "source": [
        "d = {\n",
        "    \"cat\" : \"고양이. 사람을 집사로 하는 신적 동물\",\n",
        "    \"dog\" : \"강아지. 사람을 신으로 아는 귀여운 동물\",\n",
        "    \"apple\" : \"사과. 깨물면 맛있는 과일. 백설공주 암살에 사용됨\"\n",
        "}\n",
        "\n",
        "while True:\n",
        "  word = input()\n",
        "  if word == \"\":\n",
        "    break\n",
        "  word = word.lower()\n",
        "  print(d[word])"
      ],
      "execution_count": 10,
      "outputs": [
        {
          "output_type": "stream",
          "text": [
            "cat\n",
            "고양이. 사람을 집사로 하는 신적 동물\n",
            "CAT\n",
            "고양이. 사람을 집사로 하는 신적 동물\n",
            "\n"
          ],
          "name": "stdout"
        }
      ]
    },
    {
      "cell_type": "code",
      "metadata": {
        "id": "hDBvje__bPTk",
        "colab_type": "code",
        "colab": {
          "base_uri": "https://localhost:8080/",
          "height": 71
        },
        "outputId": "d9574d7d-7f54-48e7-8dc5-1ea66b864623"
      },
      "source": [
        "print(d[\"cat\"])\n",
        "print(d[\"CAT\".lower()])\n",
        "word = \"cat\"\n",
        "print(d[word])"
      ],
      "execution_count": 14,
      "outputs": [
        {
          "output_type": "stream",
          "text": [
            "고양이. 사람을 집사로 하는 신적 동물\n",
            "고양이. 사람을 집사로 하는 신적 동물\n",
            "고양이. 사람을 집사로 하는 신적 동물\n"
          ],
          "name": "stdout"
        }
      ]
    },
    {
      "cell_type": "code",
      "metadata": {
        "id": "cFhpx_7AcQr5",
        "colab_type": "code",
        "colab": {
          "base_uri": "https://localhost:8080/",
          "height": 55
        },
        "outputId": "48920f68-7898-417f-d9b9-1d76183ae40b"
      },
      "source": [
        "d = {\n",
        "    \"cat\" : \"고양이. 사람을 집사로 하는 신적 동물\",\n",
        "    \"dog\" : \"강아지. 사람을 신으로 아는 귀여운 동물\",\n",
        "    \"apple\" : \"사과. 깨물면 맛있는 과일. 백설공주 암살에 사용됨\"\n",
        "}\n",
        "\n",
        "d[\"horse\"] = \"말\"\n",
        "print(d)"
      ],
      "execution_count": 15,
      "outputs": [
        {
          "output_type": "stream",
          "text": [
            "{'cat': '고양이. 사람을 집사로 하는 신적 동물', 'dog': '강아지. 사람을 신으로 아는 귀여운 동물', 'apple': '사과. 깨물면 맛있는 과일. 백설공주 암살에 사용됨', 'horse': '말'}\n"
          ],
          "name": "stdout"
        }
      ]
    },
    {
      "cell_type": "markdown",
      "metadata": {
        "id": "SHr4Ls4hddUB",
        "colab_type": "text"
      },
      "source": [
        "### Quiz. 이미 선언된 d에 단어를 입력받고, 설명을 입력 받고, 이를 d에 추가하고 d전체 출력. 빈칸들어오면 중지"
      ]
    },
    {
      "cell_type": "code",
      "metadata": {
        "id": "eFHpeiYCdDUV",
        "colab_type": "code",
        "colab": {}
      },
      "source": [
        "d = {\n",
        "    \"cat\" : \"고양이. 사람을 집사로 하는 신적 동물\",\n",
        "    \"dog\" : \"강아지. 사람을 신으로 아는 귀여운 동물\",\n",
        "    \"apple\" : \"사과. 깨물면 맛있는 과일. 백설공주 암살에 사용됨\"\n",
        "}\n",
        "\n",
        "while True:\n",
        "  word를 입력 받음\n",
        "  word가 빈칸이면\n",
        "   break\n",
        "  value를 입력 받음\n",
        "  word와 value를 출력\n",
        "  d에 word를 키로, value를 값으로 추가\n",
        "  d를 출력"
      ],
      "execution_count": 0,
      "outputs": []
    },
    {
      "cell_type": "code",
      "metadata": {
        "id": "0jW_yRM-eCby",
        "colab_type": "code",
        "colab": {
          "base_uri": "https://localhost:8080/",
          "height": 202
        },
        "outputId": "912ba62e-0cd3-44f3-8664-1c59e90004d6"
      },
      "source": [
        "d = {\n",
        "    \"cat\" : \"고양이. 사람을 집사로 하는 신적 동물\",\n",
        "    \"dog\" : \"강아지. 사람을 신으로 아는 귀여운 동물\",\n",
        "    \"apple\" : \"사과. 깨물면 맛있는 과일. 백설공주 암살에 사용됨\"\n",
        "}\n",
        "\n",
        "while True:\n",
        "  word = input(\"word : \")\n",
        "  if word == \"\":\n",
        "    break\n",
        "  value = input(\"value : \")\n",
        "  print(word, value)\n",
        "  d[word] = value\n",
        "  print(d)"
      ],
      "execution_count": 19,
      "outputs": [
        {
          "output_type": "stream",
          "text": [
            "word : table\n",
            "value : 책상\n",
            "table 책상\n",
            "{'cat': '고양이. 사람을 집사로 하는 신적 동물', 'dog': '강아지. 사람을 신으로 아는 귀여운 동물', 'apple': '사과. 깨물면 맛있는 과일. 백설공주 암살에 사용됨', 'table': '책상'}\n",
            "word : chair\n",
            "value : 의자\n",
            "chair 의자\n",
            "{'cat': '고양이. 사람을 집사로 하는 신적 동물', 'dog': '강아지. 사람을 신으로 아는 귀여운 동물', 'apple': '사과. 깨물면 맛있는 과일. 백설공주 암살에 사용됨', 'table': '책상', 'chair': '의자'}\n",
            "word : \n"
          ],
          "name": "stdout"
        }
      ]
    },
    {
      "cell_type": "markdown",
      "metadata": {
        "id": "twzeyrVEjo0S",
        "colab_type": "text"
      },
      "source": [
        "### File IO"
      ]
    },
    {
      "cell_type": "code",
      "metadata": {
        "id": "o-yDfKgbfNba",
        "colab_type": "code",
        "colab": {}
      },
      "source": [
        "f = open(\"my_text.txt\", \"w\")\n",
        "f.write(\"hello\")\n",
        "f.close()"
      ],
      "execution_count": 0,
      "outputs": []
    },
    {
      "cell_type": "code",
      "metadata": {
        "id": "7dCS-V1fj92V",
        "colab_type": "code",
        "colab": {
          "base_uri": "https://localhost:8080/",
          "height": 35
        },
        "outputId": "55df8ff4-995d-4cca-ad02-08147ca2b5ec"
      },
      "source": [
        "f = open(\"my_text.txt\", \"r\")\n",
        "line = f.readline()\n",
        "print(line)\n",
        "f.close()"
      ],
      "execution_count": 24,
      "outputs": [
        {
          "output_type": "stream",
          "text": [
            "hello\n"
          ],
          "name": "stdout"
        }
      ]
    },
    {
      "cell_type": "code",
      "metadata": {
        "id": "d43Rf9VdlQA_",
        "colab_type": "code",
        "colab": {
          "base_uri": "https://localhost:8080/",
          "height": 53
        },
        "outputId": "891eedca-c3cb-49f4-a062-ed7372a9bbf5"
      },
      "source": [
        "f = open(\"my_text.txt\", \"w\")\n",
        "f.write(\"hello\\n\")\n",
        "f.write(\"hi\\n\")\n",
        "f.close()\n",
        "\n",
        "f = open(\"my_text.txt\", \"r\")\n",
        "line = f.readline()\n",
        "line = line.strip()\n",
        "print(line)\n",
        "line = f.readline()\n",
        "line = line.strip()\n",
        "print(line)\n",
        "f.close()"
      ],
      "execution_count": 29,
      "outputs": [
        {
          "output_type": "stream",
          "text": [
            "hello\n",
            "hi\n"
          ],
          "name": "stdout"
        }
      ]
    },
    {
      "cell_type": "code",
      "metadata": {
        "id": "wi7GdyE5nveF",
        "colab_type": "code",
        "colab": {
          "base_uri": "https://localhost:8080/",
          "height": 35
        },
        "outputId": "40a85672-a9bc-47fb-af7e-d5aa5a52c187"
      },
      "source": [
        "f = open(\"my_text.txt\", \"r\")\n",
        "lines = f.readlines()\n",
        "f.close()\n",
        "\n",
        "print(lines)"
      ],
      "execution_count": 30,
      "outputs": [
        {
          "output_type": "stream",
          "text": [
            "['hello\\n', 'hi\\n']\n"
          ],
          "name": "stdout"
        }
      ]
    },
    {
      "cell_type": "markdown",
      "metadata": {
        "id": "4Z09Zpueo_ES",
        "colab_type": "text"
      },
      "source": [
        "### Quiz. 위의 코드에서 출력을 아래와 같이.\n",
        "```\n",
        "hello\n",
        "hi\n",
        "```"
      ]
    },
    {
      "cell_type": "code",
      "metadata": {
        "id": "WT9zFX_qtFYq",
        "colab_type": "code",
        "colab": {
          "base_uri": "https://localhost:8080/",
          "height": 53
        },
        "outputId": "1026cf50-6407-4063-b343-82f412a58acd"
      },
      "source": [
        "f = open(\"my_text.txt\", \"r\")\n",
        "lines = f.readlines()\n",
        "f.close()\n",
        "\n",
        "for line in lines:\n",
        "  line = line.strip()\n",
        "  print(line)"
      ],
      "execution_count": 40,
      "outputs": [
        {
          "output_type": "stream",
          "text": [
            "hello\n",
            "hi\n"
          ],
          "name": "stdout"
        }
      ]
    },
    {
      "cell_type": "code",
      "metadata": {
        "id": "cGku02K9mhrr",
        "colab_type": "code",
        "colab": {
          "base_uri": "https://localhost:8080/",
          "height": 90
        },
        "outputId": "bc0eea5a-2c32-47ce-c6f6-3196526c6953"
      },
      "source": [
        "\n",
        "l = [ \"Tom\\n\", \"Jerry\\n\", \"철수\\n\", \"영희\\n\"]\n",
        "for i in l:\n",
        "  i = i.strip()\n",
        "  print(i)"
      ],
      "execution_count": 34,
      "outputs": [
        {
          "output_type": "stream",
          "text": [
            "Tom\n",
            "Jerry\n",
            "철수\n",
            "영희\n"
          ],
          "name": "stdout"
        }
      ]
    },
    {
      "cell_type": "code",
      "metadata": {
        "id": "yVHw1FiCuay8",
        "colab_type": "code",
        "colab": {
          "base_uri": "https://localhost:8080/",
          "height": 87
        },
        "outputId": "bc262ca5-1a8f-4592-919a-c24a4b9a8728"
      },
      "source": [
        "l = [\"Tom\", \"Jerry\", \"철수\", \"영희\"]\n",
        "for i in l:\n",
        "  print(i)"
      ],
      "execution_count": 42,
      "outputs": [
        {
          "output_type": "stream",
          "text": [
            "Tom\n",
            "Jerry\n",
            "철수\n",
            "영희\n"
          ],
          "name": "stdout"
        }
      ]
    },
    {
      "cell_type": "markdown",
      "metadata": {
        "id": "zCGZmskxuoGy",
        "colab_type": "text"
      },
      "source": [
        "### Quiz. l에 담긴 이름을 \"names.txt\"파일로 저장"
      ]
    },
    {
      "cell_type": "code",
      "metadata": {
        "id": "OeplnfgHvI2a",
        "colab_type": "code",
        "colab": {}
      },
      "source": [
        "l = [\"Tom\", \"Jerry\", \"철수\", \"영희\"]\n",
        "\n",
        "f = open(\"names.txt\", \"w\")\n",
        "\n",
        "for name in l:\n",
        "  f.write(name+\"\\n\")\n",
        "  \n",
        "f.close()\n",
        "\n",
        "# 파일이름 names.txt를 쓰기전용으로 f로 열고\n",
        "# for 루프. l에 대한\n",
        "#   f에 이름 한개 쓰기\n",
        "# f를 닫기"
      ],
      "execution_count": 0,
      "outputs": []
    },
    {
      "cell_type": "markdown",
      "metadata": {
        "id": "ohs8iAxk7Mtb",
        "colab_type": "text"
      },
      "source": [
        "### Quiz. 이름을 입력 받아 names.txt에 저장. 빈칸이 오면 종료\n",
        "\n",
        "```\n",
        "파일을 names.txt 이름으로 쓰기 전용으로 오픈\n",
        "\n",
        "while 루프\n",
        "  name을 입력 받기\n",
        "  if name이 빈칸\n",
        "    break\n",
        "  f에 name을 쓰기\n",
        "  \n",
        "f 닫기\n",
        "\n",
        "```\n"
      ]
    },
    {
      "cell_type": "code",
      "metadata": {
        "id": "TY-0a6z67m5k",
        "colab_type": "code",
        "colab": {}
      },
      "source": [
        ""
      ],
      "execution_count": 0,
      "outputs": []
    }
  ]
}