{
  "nbformat": 4,
  "nbformat_minor": 0,
  "metadata": {
    "colab": {
      "name": "Untitled22.ipynb",
      "version": "0.3.2",
      "provenance": []
    },
    "kernelspec": {
      "name": "python3",
      "display_name": "Python 3"
    }
  },
  "cells": [
    {
      "cell_type": "code",
      "metadata": {
        "id": "WF0H7VLcPDk1",
        "colab_type": "code",
        "colab": {
          "base_uri": "https://localhost:8080/",
          "height": 89
        },
        "outputId": "0c8d3a67-c3be-48f8-8e68-467c36efe2df"
      },
      "source": [
        "print(\"이름 {}, 나이 {}\".format(\"Tom\", 30))\n",
        "print(\"이름 {}, 나이 {}\".format(\"Jerry\", 32))\n",
        "print(\"이름 {}, 나이 {}\".format(\"철수\", 20))\n",
        "print(\"이름 {}, 나이 {}\".format(\"영희\", 22))"
      ],
      "execution_count": 3,
      "outputs": [
        {
          "output_type": "stream",
          "text": [
            "이름 Tom, 나이 30\n",
            "이름 Jerry, 나이 32\n",
            "이름 철수, 나이 20\n",
            "이름 영희, 나이 22\n"
          ],
          "name": "stdout"
        }
      ]
    },
    {
      "cell_type": "code",
      "metadata": {
        "id": "-Tc9gmiWPL1V",
        "colab_type": "code",
        "colab": {
          "base_uri": "https://localhost:8080/",
          "height": 125
        },
        "outputId": "c70d78e4-773a-433e-b7c5-b5fb97a73a9c"
      },
      "source": [
        "def print_name_and_age(name, age):\n",
        "  print(\"name {}  age {}\".format(name, age))\n",
        "  \n",
        "print_name_and_age(\"Tom\", 30)\n",
        "print_name_and_age(\"Jerry\", 32)\n",
        "print_name_and_age(\"철수\", 20)\n",
        "print_name_and_age(\"영희\", 22)\n",
        "return_value = print_name_and_age(\"tom\", 33)\n",
        "print(return_value)"
      ],
      "execution_count": 18,
      "outputs": [
        {
          "output_type": "stream",
          "text": [
            "name Tom  age 30\n",
            "name Jerry  age 32\n",
            "name 철수  age 20\n",
            "name 영희  age 22\n",
            "name tom  age 33\n",
            "None\n"
          ],
          "name": "stdout"
        }
      ]
    },
    {
      "cell_type": "code",
      "metadata": {
        "id": "Thmci4coQ95E",
        "colab_type": "code",
        "colab": {
          "base_uri": "https://localhost:8080/",
          "height": 71
        },
        "outputId": "1f70fd49-280a-4309-f57d-7be020c4b897"
      },
      "source": [
        "print(int(5/3))\n",
        "print(int(6/3))\n",
        "print(int(7/3))"
      ],
      "execution_count": 8,
      "outputs": [
        {
          "output_type": "stream",
          "text": [
            "1\n",
            "2\n",
            "2\n"
          ],
          "name": "stdout"
        }
      ]
    },
    {
      "cell_type": "code",
      "metadata": {
        "id": "YDGrzlfIStgo",
        "colab_type": "code",
        "colab": {
          "base_uri": "https://localhost:8080/",
          "height": 71
        },
        "outputId": "27df9c97-c67a-448a-b2a9-557d3d420fce"
      },
      "source": [
        "def div(v):\n",
        "  return int(v/3)\n",
        "\n",
        "print(div(5))\n",
        "print(div(6))\n",
        "print(div(7))"
      ],
      "execution_count": 15,
      "outputs": [
        {
          "output_type": "stream",
          "text": [
            "1\n",
            "2\n",
            "2\n"
          ],
          "name": "stdout"
        }
      ]
    },
    {
      "cell_type": "code",
      "metadata": {
        "id": "Me_YyJ-fS_u8",
        "colab_type": "code",
        "colab": {
          "base_uri": "https://localhost:8080/",
          "height": 71
        },
        "outputId": "193319ef-5e7d-48dd-e015-4d02a7b56bae"
      },
      "source": [
        "div = int(5/3)\n",
        "mod = 5 - div*3\n",
        "print(mod)\n",
        "\n",
        "div = int(6/3)\n",
        "mod = 6 - div*3\n",
        "print(mod)\n",
        "\n",
        "div = int(7/3)\n",
        "mod = 7 - div*3\n",
        "print(mod)"
      ],
      "execution_count": 11,
      "outputs": [
        {
          "output_type": "stream",
          "text": [
            "2\n",
            "0\n",
            "1\n"
          ],
          "name": "stdout"
        }
      ]
    },
    {
      "cell_type": "code",
      "metadata": {
        "id": "joI2cxTqTlpX",
        "colab_type": "code",
        "colab": {
          "base_uri": "https://localhost:8080/",
          "height": 71
        },
        "outputId": "3a4e9c71-c7fa-4616-bab9-436230761bea"
      },
      "source": [
        "def mod(v):\n",
        "  div = int(v/3)\n",
        "  mod = v - div*3\n",
        "  return mod\n",
        "\n",
        "print(mod(5))\n",
        "print(mod(6))\n",
        "print(mod(7))"
      ],
      "execution_count": 13,
      "outputs": [
        {
          "output_type": "stream",
          "text": [
            "2\n",
            "0\n",
            "1\n"
          ],
          "name": "stdout"
        }
      ]
    },
    {
      "cell_type": "code",
      "metadata": {
        "id": "bNCg-qoMUCXV",
        "colab_type": "code",
        "colab": {
          "base_uri": "https://localhost:8080/",
          "height": 71
        },
        "outputId": "00657442-a9b7-4d3e-c985-6db4511b3e4a"
      },
      "source": [
        "def div(v):\n",
        "  return int(v/3)\n",
        "\n",
        "def mod(v):\n",
        "  return v - div(v)*3\n",
        "\n",
        "print(mod(5))\n",
        "print(mod(6))\n",
        "print(mod(7))"
      ],
      "execution_count": 16,
      "outputs": [
        {
          "output_type": "stream",
          "text": [
            "2\n",
            "0\n",
            "1\n"
          ],
          "name": "stdout"
        }
      ]
    },
    {
      "cell_type": "code",
      "metadata": {
        "id": "pE5fUDBPUwUX",
        "colab_type": "code",
        "colab": {
          "base_uri": "https://localhost:8080/",
          "height": 71
        },
        "outputId": "0d4515f7-7f44-4948-9abf-7c4ed8092987"
      },
      "source": [
        "def div2(v,d):\n",
        "  return int(v/d)\n",
        "  \n",
        "print(div2(5,3))\n",
        "print(div2(6,3))\n",
        "print(div2(7,3))"
      ],
      "execution_count": 22,
      "outputs": [
        {
          "output_type": "stream",
          "text": [
            "1\n",
            "2\n",
            "2\n"
          ],
          "name": "stdout"
        }
      ]
    },
    {
      "cell_type": "code",
      "metadata": {
        "id": "rqVMMaG4cTyF",
        "colab_type": "code",
        "colab": {
          "base_uri": "https://localhost:8080/",
          "height": 71
        },
        "outputId": "b8854714-1d04-40f1-a3f2-92292b24512c"
      },
      "source": [
        "def mod2(v,d):\n",
        "  return v - div2(v,d)*d\n",
        "\n",
        "print(mod2(5,3))\n",
        "print(mod2(6,3))\n",
        "print(mod2(7,3))"
      ],
      "execution_count": 24,
      "outputs": [
        {
          "output_type": "stream",
          "text": [
            "2\n",
            "0\n",
            "1\n"
          ],
          "name": "stdout"
        }
      ]
    },
    {
      "cell_type": "code",
      "metadata": {
        "id": "52-VHRCudJSQ",
        "colab_type": "code",
        "colab": {
          "base_uri": "https://localhost:8080/",
          "height": 71
        },
        "outputId": "cb7b7d86-6383-4f6c-8f91-a5dd50c6374b"
      },
      "source": [
        "print(div2(5,3), mod2(5,3))\n",
        "print(div2(6,3), mod2(6,3))\n",
        "print(div2(7,3), mod2(7,3))\n",
        "\n"
      ],
      "execution_count": 25,
      "outputs": [
        {
          "output_type": "stream",
          "text": [
            "1 2\n",
            "2 0\n",
            "2 1\n"
          ],
          "name": "stdout"
        }
      ]
    },
    {
      "cell_type": "code",
      "metadata": {
        "id": "GQXkPcwldnLd",
        "colab_type": "code",
        "colab": {
          "base_uri": "https://localhost:8080/",
          "height": 71
        },
        "outputId": "ca371978-8645-4a1c-a489-d081c27e0af9"
      },
      "source": [
        "def div_and_mod(v,d):\n",
        "  div = int(v/d)\n",
        "  mod = v - div*d\n",
        "  return div, mod\n",
        "\n",
        "print(div_and_mod(5,3))\n",
        "print(div_and_mod(6,3))\n",
        "print(div_and_mod(7,3))"
      ],
      "execution_count": 27,
      "outputs": [
        {
          "output_type": "stream",
          "text": [
            "(1, 2)\n",
            "(2, 0)\n",
            "(2, 1)\n"
          ],
          "name": "stdout"
        }
      ]
    },
    {
      "cell_type": "markdown",
      "metadata": {
        "id": "uhIA-lRue95e",
        "colab_type": "text"
      },
      "source": [
        "# 반복문"
      ]
    },
    {
      "cell_type": "code",
      "metadata": {
        "id": "NciRalpieGIy",
        "colab_type": "code",
        "colab": {
          "base_uri": "https://localhost:8080/",
          "height": 197
        },
        "outputId": "d53dd1b7-382d-4a1c-97e3-0a3d9ec64f93"
      },
      "source": [
        "print(0)\n",
        "print(1)\n",
        "print(2)\n",
        "print(3)\n",
        "print(4)\n",
        "print(5)\n",
        "print(6)\n",
        "print(7)\n",
        "print(8)\n",
        "print(9)\n"
      ],
      "execution_count": 28,
      "outputs": [
        {
          "output_type": "stream",
          "text": [
            "0\n",
            "1\n",
            "2\n",
            "3\n",
            "4\n",
            "5\n",
            "6\n",
            "7\n",
            "8\n",
            "9\n"
          ],
          "name": "stdout"
        }
      ]
    },
    {
      "cell_type": "code",
      "metadata": {
        "id": "XoZ9NqK8fKCE",
        "colab_type": "code",
        "colab": {
          "base_uri": "https://localhost:8080/",
          "height": 197
        },
        "outputId": "f034e9be-47d9-4078-b3ab-17f1969521e9"
      },
      "source": [
        "for i in [0,1,2,3,4,5,6,7,8,9]:\n",
        "  print(i)"
      ],
      "execution_count": 29,
      "outputs": [
        {
          "output_type": "stream",
          "text": [
            "0\n",
            "1\n",
            "2\n",
            "3\n",
            "4\n",
            "5\n",
            "6\n",
            "7\n",
            "8\n",
            "9\n"
          ],
          "name": "stdout"
        }
      ]
    },
    {
      "cell_type": "code",
      "metadata": {
        "id": "SIYWIw1GfbnU",
        "colab_type": "code",
        "colab": {
          "base_uri": "https://localhost:8080/",
          "height": 107
        },
        "outputId": "6996fa1e-4784-4718-cce0-5952a81711dd"
      },
      "source": [
        "for i in [1,3,5,7,9]:\n",
        "  print(i)"
      ],
      "execution_count": 30,
      "outputs": [
        {
          "output_type": "stream",
          "text": [
            "1\n",
            "3\n",
            "5\n",
            "7\n",
            "9\n"
          ],
          "name": "stdout"
        }
      ]
    },
    {
      "cell_type": "code",
      "metadata": {
        "id": "qlATHq4egGGy",
        "colab_type": "code",
        "colab": {
          "base_uri": "https://localhost:8080/",
          "height": 287
        },
        "outputId": "ec0dee78-3e64-4bd9-b783-732206e1652f"
      },
      "source": [
        "for i in [1,3,5,7,9]:\n",
        "  print(i)\n",
        "  print(i*2)\n",
        "  print(i+2)"
      ],
      "execution_count": 31,
      "outputs": [
        {
          "output_type": "stream",
          "text": [
            "1\n",
            "2\n",
            "3\n",
            "3\n",
            "6\n",
            "5\n",
            "5\n",
            "10\n",
            "7\n",
            "7\n",
            "14\n",
            "9\n",
            "9\n",
            "18\n",
            "11\n"
          ],
          "name": "stdout"
        }
      ]
    },
    {
      "cell_type": "code",
      "metadata": {
        "id": "p0KfiP2XgS9w",
        "colab_type": "code",
        "colab": {
          "base_uri": "https://localhost:8080/",
          "height": 197
        },
        "outputId": "ca31f73f-1ca9-42a3-d992-a54fa192e98e"
      },
      "source": [
        "for i in range(0,10):\n",
        "  print(i)"
      ],
      "execution_count": 33,
      "outputs": [
        {
          "output_type": "stream",
          "text": [
            "0\n",
            "1\n",
            "2\n",
            "3\n",
            "4\n",
            "5\n",
            "6\n",
            "7\n",
            "8\n",
            "9\n"
          ],
          "name": "stdout"
        }
      ]
    },
    {
      "cell_type": "code",
      "metadata": {
        "id": "koUQvj7Igu-q",
        "colab_type": "code",
        "colab": {
          "base_uri": "https://localhost:8080/",
          "height": 107
        },
        "outputId": "766f0f1e-18e9-4300-9b20-4facc40f18bf"
      },
      "source": [
        "for i in range(0,10,2):\n",
        "  print(i)"
      ],
      "execution_count": 36,
      "outputs": [
        {
          "output_type": "stream",
          "text": [
            "0\n",
            "2\n",
            "4\n",
            "6\n",
            "8\n"
          ],
          "name": "stdout"
        }
      ]
    },
    {
      "cell_type": "markdown",
      "metadata": {
        "id": "pFwGPkJ1h5mZ",
        "colab_type": "text"
      },
      "source": [
        "1+2+3+....+9+10"
      ]
    },
    {
      "cell_type": "code",
      "metadata": {
        "id": "cRfvMTe6h9Qe",
        "colab_type": "code",
        "colab": {
          "base_uri": "https://localhost:8080/",
          "height": 35
        },
        "outputId": "8e260985-f93b-4b3c-b3e7-92c0756456a3"
      },
      "source": [
        "sum = 1+2+3+4+5+6+7+8+9+10\n",
        "print(sum)"
      ],
      "execution_count": 37,
      "outputs": [
        {
          "output_type": "stream",
          "text": [
            "55\n"
          ],
          "name": "stdout"
        }
      ]
    },
    {
      "cell_type": "code",
      "metadata": {
        "id": "wF2ZE8XzhTHc",
        "colab_type": "code",
        "colab": {
          "base_uri": "https://localhost:8080/",
          "height": 35
        },
        "outputId": "0c1b1bc0-3f88-4a8b-ad37-97f357af4efe"
      },
      "source": [
        "sum = 0\n",
        "sum = sum + 1\n",
        "sum = sum + 2\n",
        "sum = sum + 3\n",
        "sum = sum + 4\n",
        "sum = sum + 5\n",
        "sum = sum + 6\n",
        "sum = sum + 7\n",
        "sum = sum + 8\n",
        "sum = sum + 9\n",
        "sum = sum + 10\n",
        "\n",
        "print(sum)"
      ],
      "execution_count": 38,
      "outputs": [
        {
          "output_type": "stream",
          "text": [
            "55\n"
          ],
          "name": "stdout"
        }
      ]
    },
    {
      "cell_type": "code",
      "metadata": {
        "id": "NbdqT8nmiXzy",
        "colab_type": "code",
        "colab": {
          "base_uri": "https://localhost:8080/",
          "height": 35
        },
        "outputId": "63c265cb-5a83-45e4-ea6a-caaa05a9be09"
      },
      "source": [
        "sum = 0\n",
        "for i in range(1,11):\n",
        "  sum = sum + i\n",
        "\n",
        "print(sum)"
      ],
      "execution_count": 40,
      "outputs": [
        {
          "output_type": "stream",
          "text": [
            "55\n"
          ],
          "name": "stdout"
        }
      ]
    },
    {
      "cell_type": "code",
      "metadata": {
        "id": "6PF8k8gzi0_0",
        "colab_type": "code",
        "colab": {
          "base_uri": "https://localhost:8080/",
          "height": 35
        },
        "outputId": "64fc48a7-c01f-4bd3-83cc-6b43d398e966"
      },
      "source": [
        "sum = 0\n",
        "for i in range(1,101, 2):\n",
        "  sum = sum + i\n",
        "  \n",
        "print(sum)"
      ],
      "execution_count": 45,
      "outputs": [
        {
          "output_type": "stream",
          "text": [
            "2500\n"
          ],
          "name": "stdout"
        }
      ]
    },
    {
      "cell_type": "code",
      "metadata": {
        "id": "ebnSZtECkw4N",
        "colab_type": "code",
        "colab": {
          "base_uri": "https://localhost:8080/",
          "height": 35
        },
        "outputId": "450a8d6b-7bc5-4458-c5e7-eaaa4a989ee9"
      },
      "source": [
        "n = 1+3\n",
        "print(n)"
      ],
      "execution_count": 47,
      "outputs": [
        {
          "output_type": "stream",
          "text": [
            "4\n"
          ],
          "name": "stdout"
        }
      ]
    },
    {
      "cell_type": "code",
      "metadata": {
        "id": "9IpETyMwkwiy",
        "colab_type": "code",
        "colab": {}
      },
      "source": [
        "ㅔ"
      ],
      "execution_count": 0,
      "outputs": []
    },
    {
      "cell_type": "markdown",
      "metadata": {
        "id": "Lr3V7pvIkUzX",
        "colab_type": "text"
      },
      "source": [
        "# QUiz. 1~100 중에 3의 배수만 더하기"
      ]
    },
    {
      "cell_type": "code",
      "metadata": {
        "id": "ZdaoJg9qjr2v",
        "colab_type": "code",
        "colab": {
          "base_uri": "https://localhost:8080/",
          "height": 35
        },
        "outputId": "17c38a85-dbb2-41bb-af82-5f10fa1db97b"
      },
      "source": [
        "def is_multiple(v,d):\n",
        "  div = int(v/d)\n",
        "  mod = v - div*d\n",
        "  return mod==0\n",
        "\n",
        "sum = 0\n",
        "for i in range(1,101):\n",
        "  if is_multiple(i,3):\n",
        "    sum = sum + i\n",
        "print(sum)"
      ],
      "execution_count": 49,
      "outputs": [
        {
          "output_type": "stream",
          "text": [
            "1683\n"
          ],
          "name": "stdout"
        }
      ]
    },
    {
      "cell_type": "markdown",
      "metadata": {
        "id": "yiWwSUx9mUUf",
        "colab_type": "text"
      },
      "source": [
        "# Quiz. 1~100 중에 5의 배수만 더하기"
      ]
    },
    {
      "cell_type": "code",
      "metadata": {
        "id": "Q3z4EqS0lTqH",
        "colab_type": "code",
        "colab": {
          "base_uri": "https://localhost:8080/",
          "height": 35
        },
        "outputId": "fe6e1835-3df4-4bbd-dfab-e7dadc616487"
      },
      "source": [
        "def is_multiple(v,d):\n",
        "  div = int(v/d)\n",
        "  mod = v - div*d\n",
        "  return mod==0\n",
        "\n",
        "sum = 0\n",
        "for i in range(1,101):\n",
        "  if is_multiple(i,5):\n",
        "    sum = sum + i\n",
        "print(sum)"
      ],
      "execution_count": 50,
      "outputs": [
        {
          "output_type": "stream",
          "text": [
            "1050\n"
          ],
          "name": "stdout"
        }
      ]
    },
    {
      "cell_type": "markdown",
      "metadata": {
        "id": "_PgWmcaVmrRg",
        "colab_type": "text"
      },
      "source": [
        "# Quiz. 1~100 중에 5 또는 5의 배수만 더하기"
      ]
    },
    {
      "cell_type": "code",
      "metadata": {
        "id": "tFSFOr67mZbX",
        "colab_type": "code",
        "colab": {
          "base_uri": "https://localhost:8080/",
          "height": 35
        },
        "outputId": "71327f0e-fe64-47e1-e989-2ba645478bfe"
      },
      "source": [
        "def is_multiple(v,d):\n",
        "  div = int(v/d)\n",
        "  mod = v - div*d\n",
        "  return mod==0\n",
        "\n",
        "sum = 0\n",
        "for i in range(1,101):\n",
        "#   if is_multiple(i,5):\n",
        "  if is_multiple(i,3) or is_multiple(i,5):\n",
        "    sum = sum + i\n",
        "print(sum)"
      ],
      "execution_count": 53,
      "outputs": [
        {
          "output_type": "stream",
          "text": [
            "2418\n"
          ],
          "name": "stdout"
        }
      ]
    },
    {
      "cell_type": "markdown",
      "metadata": {
        "id": "DZ08BCDCnwFH",
        "colab_type": "text"
      },
      "source": [
        "# n개 \"*\"을 반환하는 함수"
      ]
    },
    {
      "cell_type": "code",
      "metadata": {
        "id": "xU-OzqDbusRm",
        "colab_type": "code",
        "colab": {
          "base_uri": "https://localhost:8080/",
          "height": 35
        },
        "outputId": "00c0c49c-426c-4346-82df-fbd0625a408c"
      },
      "source": [
        "def get_n_star(n):\n",
        "  stars = \"\"\n",
        "  for i in range(n):\n",
        "    stars = stars + \"*\"\n",
        "\n",
        "  return stars\n",
        "\n",
        "print(get_n_star(10))"
      ],
      "execution_count": 60,
      "outputs": [
        {
          "output_type": "stream",
          "text": [
            "**********\n"
          ],
          "name": "stdout"
        }
      ]
    },
    {
      "cell_type": "code",
      "metadata": {
        "id": "jotcn5mUvuiD",
        "colab_type": "code",
        "colab": {
          "base_uri": "https://localhost:8080/",
          "height": 107
        },
        "outputId": "b4e9c00c-6125-460b-a0e3-7772c292dd96"
      },
      "source": [
        "for i in range(1,6):\n",
        "  print(get_n_star(i))"
      ],
      "execution_count": 61,
      "outputs": [
        {
          "output_type": "stream",
          "text": [
            "*\n",
            "**\n",
            "***\n",
            "****\n",
            "*****\n"
          ],
          "name": "stdout"
        }
      ]
    },
    {
      "cell_type": "code",
      "metadata": {
        "id": "hjmTfLaHwl5U",
        "colab_type": "code",
        "colab": {
          "base_uri": "https://localhost:8080/",
          "height": 53
        },
        "outputId": "a197e9da-5e25-40c4-f854-522c7a739885"
      },
      "source": [
        "print(\"hi\", end=\"!!!!!!!!!!!!!!\")\n",
        "print()\n",
        "print(\"hello\")"
      ],
      "execution_count": 64,
      "outputs": [
        {
          "output_type": "stream",
          "text": [
            "hi!!!!!!!!!!!!!!\n",
            "hello\n"
          ],
          "name": "stdout"
        }
      ]
    },
    {
      "cell_type": "code",
      "metadata": {
        "id": "NWsPvnLfmyYR",
        "colab_type": "code",
        "colab": {
          "base_uri": "https://localhost:8080/",
          "height": 35
        },
        "outputId": "bf2d4081-7865-48da-bef9-ddb72cf24253"
      },
      "source": [
        "def print_star_n_times(n):\n",
        "  for i in range(n):\n",
        "    print(\"*\", end=\"\")\n",
        "\n",
        "print_star_n_times(10)"
      ],
      "execution_count": 57,
      "outputs": [
        {
          "output_type": "stream",
          "text": [
            "**********"
          ],
          "name": "stdout"
        }
      ]
    },
    {
      "cell_type": "markdown",
      "metadata": {
        "id": "nIqWhX5aoUI7",
        "colab_type": "text"
      },
      "source": [
        "```\n",
        "*\n",
        "**\n",
        "***\n",
        "****\n",
        "*****\n",
        "```"
      ]
    },
    {
      "cell_type": "code",
      "metadata": {
        "id": "U4gNK2mHoCh8",
        "colab_type": "code",
        "colab": {
          "base_uri": "https://localhost:8080/",
          "height": 107
        },
        "outputId": "1d4dfabc-ffca-4843-e794-3cb79126e3f6"
      },
      "source": [
        "for i in range(1,6):\n",
        "  print_star_n_times(i)\n",
        "  print()"
      ],
      "execution_count": 59,
      "outputs": [
        {
          "output_type": "stream",
          "text": [
            "*\n",
            "**\n",
            "***\n",
            "****\n",
            "*****\n"
          ],
          "name": "stdout"
        }
      ]
    },
    {
      "cell_type": "markdown",
      "metadata": {
        "id": "s52P-H6Bxbxg",
        "colab_type": "text"
      },
      "source": [
        "```\n",
        "3 x 1 = 3\n",
        "3 x 2 = 6\n",
        "3 x 3 = 9\n",
        "\n",
        "\n",
        "3 x 9 = 27\n",
        "```"
      ]
    },
    {
      "cell_type": "code",
      "metadata": {
        "id": "lOk2_kzgo5Ej",
        "colab_type": "code",
        "colab": {}
      },
      "source": [
        "print(\"{} x {} = {}\".format(3, 1, 3*1))\n",
        "print(\"{} x {} = {}\".format(3, 2, 3*2))\n",
        "print(\"{} x {} = {}\".format(3, 3, 3*3))\n",
        "print(\"{} x {} = {}\".format(3, 4, 3*4))\n",
        "print(\"{} x {} = {}\".format(3, 5, 3*5))\n",
        "print(\"{} x {} = {}\".format(3, 6, 3*6))\n",
        "print(\"{} x {} = {}\".format(3, 7, 3*7))\n",
        "print(\"{} x {} = {}\".format(3, 8, 3*8))\n",
        "print(\"{} x {} = {}\".format(3, 9, 3*9))"
      ],
      "execution_count": 0,
      "outputs": []
    },
    {
      "cell_type": "code",
      "metadata": {
        "id": "bHM50NBwxuOd",
        "colab_type": "code",
        "colab": {
          "base_uri": "https://localhost:8080/",
          "height": 179
        },
        "outputId": "c8744ca4-38d9-45cf-bb22-06df7faec7bf"
      },
      "source": [
        "for i in range(1,10):  \n",
        "  print(\"{} x {} = {}\".format(3, i, 3*i))"
      ],
      "execution_count": 66,
      "outputs": [
        {
          "output_type": "stream",
          "text": [
            "3 x 1 = 3\n",
            "3 x 2 = 6\n",
            "3 x 3 = 9\n",
            "3 x 4 = 12\n",
            "3 x 5 = 15\n",
            "3 x 6 = 18\n",
            "3 x 7 = 21\n",
            "3 x 8 = 24\n",
            "3 x 9 = 27\n"
          ],
          "name": "stdout"
        }
      ]
    },
    {
      "cell_type": "code",
      "metadata": {
        "id": "N_-n9RW3y3QM",
        "colab_type": "code",
        "colab": {
          "base_uri": "https://localhost:8080/",
          "height": 1000
        },
        "outputId": "7996abeb-59e3-4f93-f08c-8b35b6d5dddd"
      },
      "source": [
        "for i in range(1,10):  \n",
        "  print(\"{} x {} = {}\".format(2, i, 2*i))\n",
        "for i in range(1,10):  \n",
        "  print(\"{} x {} = {}\".format(3, i, 3*i))\n",
        "for i in range(1,10):  \n",
        "  print(\"{} x {} = {}\".format(4, i, 4*i))\n",
        "for i in range(1,10):  \n",
        "  print(\"{} x {} = {}\".format(5, i, 5*i))\n",
        "\n"
      ],
      "execution_count": 68,
      "outputs": [
        {
          "output_type": "stream",
          "text": [
            "2 x 1 = 2\n",
            "2 x 2 = 4\n",
            "2 x 3 = 6\n",
            "2 x 4 = 8\n",
            "2 x 5 = 10\n",
            "2 x 6 = 12\n",
            "2 x 7 = 14\n",
            "2 x 8 = 16\n",
            "2 x 9 = 18\n",
            "3 x 1 = 3\n",
            "3 x 2 = 6\n",
            "3 x 3 = 9\n",
            "3 x 4 = 12\n",
            "3 x 5 = 15\n",
            "3 x 6 = 18\n",
            "3 x 7 = 21\n",
            "3 x 8 = 24\n",
            "3 x 9 = 27\n",
            "4 x 1 = 4\n",
            "4 x 2 = 8\n",
            "4 x 3 = 12\n",
            "4 x 4 = 16\n",
            "4 x 5 = 20\n",
            "4 x 6 = 24\n",
            "4 x 7 = 28\n",
            "4 x 8 = 32\n",
            "4 x 9 = 36\n",
            "5 x 1 = 5\n",
            "5 x 2 = 10\n",
            "5 x 3 = 15\n",
            "5 x 4 = 20\n",
            "5 x 5 = 25\n",
            "5 x 6 = 30\n",
            "5 x 7 = 35\n",
            "5 x 8 = 40\n",
            "5 x 9 = 45\n",
            "2 x 1 = 2\n",
            "2 x 2 = 4\n",
            "2 x 3 = 6\n",
            "2 x 4 = 8\n",
            "2 x 5 = 10\n",
            "2 x 6 = 12\n",
            "2 x 7 = 14\n",
            "2 x 8 = 16\n",
            "2 x 9 = 18\n",
            "3 x 1 = 3\n",
            "3 x 2 = 6\n",
            "3 x 3 = 9\n",
            "3 x 4 = 12\n",
            "3 x 5 = 15\n",
            "3 x 6 = 18\n",
            "3 x 7 = 21\n",
            "3 x 8 = 24\n",
            "3 x 9 = 27\n",
            "4 x 1 = 4\n",
            "4 x 2 = 8\n",
            "4 x 3 = 12\n",
            "4 x 4 = 16\n",
            "4 x 5 = 20\n",
            "4 x 6 = 24\n",
            "4 x 7 = 28\n",
            "4 x 8 = 32\n",
            "4 x 9 = 36\n",
            "5 x 1 = 5\n",
            "5 x 2 = 10\n",
            "5 x 3 = 15\n",
            "5 x 4 = 20\n",
            "5 x 5 = 25\n",
            "5 x 6 = 30\n",
            "5 x 7 = 35\n",
            "5 x 8 = 40\n",
            "5 x 9 = 45\n",
            "6 x 1 = 6\n",
            "6 x 2 = 12\n",
            "6 x 3 = 18\n",
            "6 x 4 = 24\n",
            "6 x 5 = 30\n",
            "6 x 6 = 36\n",
            "6 x 7 = 42\n",
            "6 x 8 = 48\n",
            "6 x 9 = 54\n",
            "7 x 1 = 7\n",
            "7 x 2 = 14\n",
            "7 x 3 = 21\n",
            "7 x 4 = 28\n",
            "7 x 5 = 35\n",
            "7 x 6 = 42\n",
            "7 x 7 = 49\n",
            "7 x 8 = 56\n",
            "7 x 9 = 63\n",
            "8 x 1 = 8\n",
            "8 x 2 = 16\n",
            "8 x 3 = 24\n",
            "8 x 4 = 32\n",
            "8 x 5 = 40\n",
            "8 x 6 = 48\n",
            "8 x 7 = 56\n",
            "8 x 8 = 64\n",
            "8 x 9 = 72\n",
            "9 x 1 = 9\n",
            "9 x 2 = 18\n",
            "9 x 3 = 27\n",
            "9 x 4 = 36\n",
            "9 x 5 = 45\n",
            "9 x 6 = 54\n",
            "9 x 7 = 63\n",
            "9 x 8 = 72\n",
            "9 x 9 = 81\n"
          ],
          "name": "stdout"
        }
      ]
    },
    {
      "cell_type": "code",
      "metadata": {
        "id": "sZsGVU70ziL7",
        "colab_type": "code",
        "colab": {
          "base_uri": "https://localhost:8080/",
          "height": 1000
        },
        "outputId": "4198ccf4-1982-46d6-a38d-b57b9236b8e1"
      },
      "source": [
        "for j in range(2,10):  \n",
        "  for i in range(1,10):  \n",
        "    print(\"{} x {} = {}\".format(j, i, j*i))\n",
        "  print()\n"
      ],
      "execution_count": 72,
      "outputs": [
        {
          "output_type": "stream",
          "text": [
            "2 x 1 = 2\n",
            "2 x 2 = 4\n",
            "2 x 3 = 6\n",
            "2 x 4 = 8\n",
            "2 x 5 = 10\n",
            "2 x 6 = 12\n",
            "2 x 7 = 14\n",
            "2 x 8 = 16\n",
            "2 x 9 = 18\n",
            "\n",
            "3 x 1 = 3\n",
            "3 x 2 = 6\n",
            "3 x 3 = 9\n",
            "3 x 4 = 12\n",
            "3 x 5 = 15\n",
            "3 x 6 = 18\n",
            "3 x 7 = 21\n",
            "3 x 8 = 24\n",
            "3 x 9 = 27\n",
            "\n",
            "4 x 1 = 4\n",
            "4 x 2 = 8\n",
            "4 x 3 = 12\n",
            "4 x 4 = 16\n",
            "4 x 5 = 20\n",
            "4 x 6 = 24\n",
            "4 x 7 = 28\n",
            "4 x 8 = 32\n",
            "4 x 9 = 36\n",
            "\n",
            "5 x 1 = 5\n",
            "5 x 2 = 10\n",
            "5 x 3 = 15\n",
            "5 x 4 = 20\n",
            "5 x 5 = 25\n",
            "5 x 6 = 30\n",
            "5 x 7 = 35\n",
            "5 x 8 = 40\n",
            "5 x 9 = 45\n",
            "\n",
            "6 x 1 = 6\n",
            "6 x 2 = 12\n",
            "6 x 3 = 18\n",
            "6 x 4 = 24\n",
            "6 x 5 = 30\n",
            "6 x 6 = 36\n",
            "6 x 7 = 42\n",
            "6 x 8 = 48\n",
            "6 x 9 = 54\n",
            "\n",
            "7 x 1 = 7\n",
            "7 x 2 = 14\n",
            "7 x 3 = 21\n",
            "7 x 4 = 28\n",
            "7 x 5 = 35\n",
            "7 x 6 = 42\n",
            "7 x 7 = 49\n",
            "7 x 8 = 56\n",
            "7 x 9 = 63\n",
            "\n",
            "8 x 1 = 8\n",
            "8 x 2 = 16\n",
            "8 x 3 = 24\n",
            "8 x 4 = 32\n",
            "8 x 5 = 40\n",
            "8 x 6 = 48\n",
            "8 x 7 = 56\n",
            "8 x 8 = 64\n",
            "8 x 9 = 72\n",
            "\n",
            "9 x 1 = 9\n",
            "9 x 2 = 18\n",
            "9 x 3 = 27\n",
            "9 x 4 = 36\n",
            "9 x 5 = 45\n",
            "9 x 6 = 54\n",
            "9 x 7 = 63\n",
            "9 x 8 = 72\n",
            "9 x 9 = 81\n",
            "\n"
          ],
          "name": "stdout"
        }
      ]
    },
    {
      "cell_type": "code",
      "metadata": {
        "id": "j56YJ4uL0U8M",
        "colab_type": "code",
        "colab": {}
      },
      "source": [
        ""
      ],
      "execution_count": 0,
      "outputs": []
    }
  ]
}