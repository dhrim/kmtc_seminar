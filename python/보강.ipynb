{
  "nbformat": 4,
  "nbformat_minor": 0,
  "metadata": {
    "colab": {
      "name": "보강.ipynb",
      "provenance": []
    },
    "kernelspec": {
      "name": "python3",
      "display_name": "Python 3"
    }
  },
  "cells": [
    {
      "cell_type": "markdown",
      "metadata": {
        "id": "5GWS6BgxE5R0",
        "colab_type": "text"
      },
      "source": [
        "# 특수 기호 사용 례\n",
        "\n",
        "## 기호 \"(큰따옴표) '(작은 따옴표)\n",
        "문자열을 정의할 때 사용\n",
        "\n",
        "```\n",
        "name = \"Tom\"\n",
        "name = 'Tom'\n",
        "```\n",
        "\n",
        "문자열 안에 \"나 '가 포함될 경우 문자열 시작과 처음을 다른 것으로 한다.\n",
        "\n",
        "```\n",
        "\"It's me\"\n",
        "'He said \"Hi\"'\n",
        "```\n",
        "\n",
        "<br>\n",
        "\n",
        "\n",
        "## 기호 =\n",
        "좌측의 변수에 우측의 값 혹은 우측의 연산 결과를 담는다\n",
        "```\n",
        "name = \"Tom\"\n",
        "```\n",
        "\n",
        "<br>\n",
        "\n",
        "## 기호 ==, !=\n",
        "좌우의 값이 같음 혹은 다름을 판단\n",
        "```\n",
        "if name ==\"\": # name에 담긴 값이 \"\"과 같다면\n",
        "```\n",
        "\n",
        "```\n",
        "if value != None: # value에 담긴 값이 None이 아니라면\n",
        "```\n",
        "\n",
        "<br>\n",
        "\n",
        "## 기호 ( )\n",
        "- 함수 정의나 함수 호출\n",
        "- 연산 우선 순위\n",
        "\n",
        "함수\n",
        "```\n",
        "print(30)\n",
        "\n",
        "def sum(a,b):\n",
        "  return a+b\n",
        "\n",
        "print(sum(1,2))\n",
        "```\n",
        "\n",
        "연산 우선순위\n",
        "```\n",
        "(1+2)*3\n",
        "1+(2*3)\n",
        "```\n",
        "\n",
        "\n",
        "<br>\n",
        "\n",
        "## 기호 ,\n",
        "여러개를 열거 할 때\n",
        "\n",
        "```\n",
        "print(1,2,3)\n",
        "\n",
        "def sum(a,b):\n",
        "  return a+b\n",
        "```\n",
        "\n",
        "<br>\n",
        "\n",
        "## 기호 [ ], { }\n",
        "\n",
        "- \\[ ] : 리스트를 정의할 때. 리스트나 딕션너리 값을 참조할 때\n",
        "- { } : 딕션너리를 정의할 때\n",
        "\n",
        "```\n",
        "l = [ 1, 2, 3, 4, 5 ]\n",
        "l = [ \"Tom\", \"Jerry\", \"철수\", \"영희\" ]\n",
        "print(l[0])\n",
        "```\n",
        "\n",
        "```\n",
        "d = {\n",
        "  \"dog\" : \"강아지\",\n",
        "  \"cat\" : \"고양이\"\n",
        "}\n",
        "print(d[\"dog\"])\n",
        "```\n",
        "\n",
        "<br>\n",
        "\n",
        "\n",
        "## 기호 :(콜론)\n",
        "\n",
        "보드 블럭이 시작됨을 명시.\n",
        "```\n",
        "while True:\n",
        "  name = input()\n",
        "\n",
        "if name==\"\":\n",
        "  break\n",
        "\n",
        "for i in l:\n",
        "  print(i)\n",
        "```\n",
        "\n",
        "딕션너리 정의할 때 카와 값을 구분\n",
        "```\n",
        "d = { \"dog\":\"강아지\" }\n",
        "```\n",
        "\n",
        "\n",
        "<br>\n",
        "\n",
        "\n",
        "## 기호 +, -, *, /, %\n",
        "- + : 더하기\n",
        "- - : 빼기\n",
        "- * : 곱하기\n",
        "- / : 나누기\n",
        "- % : 나머지\n",
        "\n",
        "\n",
        "<br>\n",
        "\n",
        "## 기호 \\(역슬래쉬)\n",
        "\n",
        "문자열 내에서 다른 의미를 표현할 때\n",
        "```\n",
        "print(\"says \\\"HI\\\"\") # 문자열을 감싸는 큰따옴표가 아니라 문자열에 포함되는 문자임을 표시\n",
        "print(\"HI\\n\")) # 줄바꿈 문자를 표시\n",
        "\n",
        "```\n",
        "\n",
        "<br>\n",
        "\n",
        "\n",
        "## 예약어\n",
        "\n",
        "### True, False\n",
        "참 혹은 거짓을 의미하는 boolean 타입의 값\n",
        "\n",
        "### None\n",
        "아무것도 없을을 의미하는 값\n",
        "\n",
        "\n",
        "<br>\n",
        "\n",
        "\n",
        "\n",
        "\n",
        "\n",
        "\n"
      ]
    },
    {
      "cell_type": "markdown",
      "metadata": {
        "id": "L-RyM4m5J0oo",
        "colab_type": "text"
      },
      "source": [
        "# 함수 bool()\n",
        "\n",
        "bool() : None, \"\", 0 인 경우에만 False, 이외는 True"
      ]
    },
    {
      "cell_type": "code",
      "metadata": {
        "id": "tUHX7l5wJ1Vd",
        "colab_type": "code",
        "colab": {
          "base_uri": "https://localhost:8080/",
          "height": 118
        },
        "outputId": "fd6fa8a5-dd3a-43ff-cf6b-a60632eb663f"
      },
      "source": [
        "print(bool(1))\n",
        "print(bool(0))\n",
        "print(bool(2))\n",
        "print(bool(2.1))\n",
        "print(bool(\"\"))\n",
        "print(bool(\"tom\"))"
      ],
      "execution_count": 1,
      "outputs": [
        {
          "output_type": "stream",
          "text": [
            "True\n",
            "False\n",
            "True\n",
            "True\n",
            "False\n",
            "True\n"
          ],
          "name": "stdout"
        }
      ]
    },
    {
      "cell_type": "markdown",
      "metadata": {
        "id": "voF2N4dBKKCX",
        "colab_type": "text"
      },
      "source": [
        "## 짝수 여부 구분 함수"
      ]
    },
    {
      "cell_type": "code",
      "metadata": {
        "id": "H8Jz3iLXJ1Yo",
        "colab_type": "code",
        "colab": {}
      },
      "source": [
        "def is_even(n):\n",
        "  div = int(n/2)\n",
        "  mod = n - div*2\n",
        "  if mod==0:\n",
        "    return True\n",
        "  else:\n",
        "    return False\n",
        "  print(\"hi\")  \n",
        "  \n",
        "print(is_even(3))\n",
        "print(is_even(4))\n",
        "print(is_even(5))"
      ],
      "execution_count": 0,
      "outputs": []
    },
    {
      "cell_type": "code",
      "metadata": {
        "id": "9EptwwyCJ1bt",
        "colab_type": "code",
        "colab": {}
      },
      "source": [
        ""
      ],
      "execution_count": 0,
      "outputs": []
    },
    {
      "cell_type": "code",
      "metadata": {
        "id": "eJ59546-J1S8",
        "colab_type": "code",
        "colab": {}
      },
      "source": [
        ""
      ],
      "execution_count": 0,
      "outputs": []
    },
    {
      "cell_type": "code",
      "metadata": {
        "id": "raRawWPuJ1QM",
        "colab_type": "code",
        "colab": {}
      },
      "source": [
        ""
      ],
      "execution_count": 0,
      "outputs": []
    },
    {
      "cell_type": "code",
      "metadata": {
        "id": "LNHWYxXnJ1Ne",
        "colab_type": "code",
        "colab": {}
      },
      "source": [
        ""
      ],
      "execution_count": 0,
      "outputs": []
    },
    {
      "cell_type": "markdown",
      "metadata": {
        "id": "Snt26EWSKb9c",
        "colab_type": "text"
      },
      "source": [
        "# Quiz. 1~100 중에 5 또는 5의 배수만 더하기"
      ]
    },
    {
      "cell_type": "code",
      "metadata": {
        "id": "wYwwj9bVKaVS",
        "colab_type": "code",
        "colab": {}
      },
      "source": [
        "def is_multiple(v,d):\n",
        "  div = int(v/d)\n",
        "  mod = v - div*d\n",
        "  return mod==0\n",
        "\n",
        "sum = 0\n",
        "for i in range(1,101):\n",
        "#   if is_multiple(i,5):\n",
        "  if is_multiple(i,3) or is_multiple(i,5):\n",
        "    sum = sum + i\n",
        "print(sum)"
      ],
      "execution_count": 0,
      "outputs": []
    },
    {
      "cell_type": "markdown",
      "metadata": {
        "id": "cayWvisKKe84",
        "colab_type": "text"
      },
      "source": [
        "# n개 \"*\"을 반환하는 함수"
      ]
    },
    {
      "cell_type": "code",
      "metadata": {
        "id": "_jJIoaKyKgjk",
        "colab_type": "code",
        "colab": {
          "base_uri": "https://localhost:8080/",
          "height": 34
        },
        "outputId": "3b8b35ef-9842-4484-b2f1-a49d571ef18d"
      },
      "source": [
        "def get_n_star(n):\n",
        "  stars = \"\"\n",
        "  for i in range(n):\n",
        "    stars = stars + \"*\"\n",
        "\n",
        "  return stars\n",
        "\n",
        "print(get_n_star(10))"
      ],
      "execution_count": 2,
      "outputs": [
        {
          "output_type": "stream",
          "text": [
            "**********\n"
          ],
          "name": "stdout"
        }
      ]
    },
    {
      "cell_type": "markdown",
      "metadata": {
        "id": "ChSV-E-3KlYn",
        "colab_type": "text"
      },
      "source": [
        "# 구구단중 3단 출력"
      ]
    },
    {
      "cell_type": "code",
      "metadata": {
        "id": "usSRGcEQKoPg",
        "colab_type": "code",
        "colab": {
          "base_uri": "https://localhost:8080/",
          "height": 168
        },
        "outputId": "e5f1e331-dbcc-4b88-b9b6-50f4e18f9eaf"
      },
      "source": [
        "for i in range(1,10):\n",
        "  print(\"{} x {} = {}\".format(3, i, 3*i))\n"
      ],
      "execution_count": 6,
      "outputs": [
        {
          "output_type": "stream",
          "text": [
            "3 x 1 = 3\n",
            "3 x 2 = 6\n",
            "3 x 3 = 9\n",
            "3 x 4 = 12\n",
            "3 x 5 = 15\n",
            "3 x 6 = 18\n",
            "3 x 7 = 21\n",
            "3 x 8 = 24\n",
            "3 x 9 = 27\n"
          ],
          "name": "stdout"
        }
      ]
    },
    {
      "cell_type": "markdown",
      "metadata": {
        "id": "SxqcWLVUKugT",
        "colab_type": "text"
      },
      "source": [
        "# 구구단 전체 출력"
      ]
    },
    {
      "cell_type": "code",
      "metadata": {
        "id": "uUaUgG-dKsbB",
        "colab_type": "code",
        "colab": {
          "base_uri": "https://localhost:8080/",
          "height": 1000
        },
        "outputId": "47093572-8a1f-44eb-cc28-47219eec98da"
      },
      "source": [
        "for j in range(2,10):  \n",
        "  for i in range(1,10):  \n",
        "    print(\"{} x {} = {}\".format(j, i, j*i))\n",
        "  print()\n"
      ],
      "execution_count": 4,
      "outputs": [
        {
          "output_type": "stream",
          "text": [
            "2 x 1 = 2\n",
            "2 x 2 = 4\n",
            "2 x 3 = 6\n",
            "2 x 4 = 8\n",
            "2 x 5 = 10\n",
            "2 x 6 = 12\n",
            "2 x 7 = 14\n",
            "2 x 8 = 16\n",
            "2 x 9 = 18\n",
            "\n",
            "3 x 1 = 3\n",
            "3 x 2 = 6\n",
            "3 x 3 = 9\n",
            "3 x 4 = 12\n",
            "3 x 5 = 15\n",
            "3 x 6 = 18\n",
            "3 x 7 = 21\n",
            "3 x 8 = 24\n",
            "3 x 9 = 27\n",
            "\n",
            "4 x 1 = 4\n",
            "4 x 2 = 8\n",
            "4 x 3 = 12\n",
            "4 x 4 = 16\n",
            "4 x 5 = 20\n",
            "4 x 6 = 24\n",
            "4 x 7 = 28\n",
            "4 x 8 = 32\n",
            "4 x 9 = 36\n",
            "\n",
            "5 x 1 = 5\n",
            "5 x 2 = 10\n",
            "5 x 3 = 15\n",
            "5 x 4 = 20\n",
            "5 x 5 = 25\n",
            "5 x 6 = 30\n",
            "5 x 7 = 35\n",
            "5 x 8 = 40\n",
            "5 x 9 = 45\n",
            "\n",
            "6 x 1 = 6\n",
            "6 x 2 = 12\n",
            "6 x 3 = 18\n",
            "6 x 4 = 24\n",
            "6 x 5 = 30\n",
            "6 x 6 = 36\n",
            "6 x 7 = 42\n",
            "6 x 8 = 48\n",
            "6 x 9 = 54\n",
            "\n",
            "7 x 1 = 7\n",
            "7 x 2 = 14\n",
            "7 x 3 = 21\n",
            "7 x 4 = 28\n",
            "7 x 5 = 35\n",
            "7 x 6 = 42\n",
            "7 x 7 = 49\n",
            "7 x 8 = 56\n",
            "7 x 9 = 63\n",
            "\n",
            "8 x 1 = 8\n",
            "8 x 2 = 16\n",
            "8 x 3 = 24\n",
            "8 x 4 = 32\n",
            "8 x 5 = 40\n",
            "8 x 6 = 48\n",
            "8 x 7 = 56\n",
            "8 x 8 = 64\n",
            "8 x 9 = 72\n",
            "\n",
            "9 x 1 = 9\n",
            "9 x 2 = 18\n",
            "9 x 3 = 27\n",
            "9 x 4 = 36\n",
            "9 x 5 = 45\n",
            "9 x 6 = 54\n",
            "9 x 7 = 63\n",
            "9 x 8 = 72\n",
            "9 x 9 = 81\n",
            "\n"
          ],
          "name": "stdout"
        }
      ]
    },
    {
      "cell_type": "markdown",
      "metadata": {
        "id": "xieHaFLrEtQP",
        "colab_type": "text"
      },
      "source": [
        "## Quiz. 딕션너리로 정의된 데이터. 빈칸을 입력하면 종료. 소대문자 관계없이 찾을 수 있도록\n"
      ]
    },
    {
      "cell_type": "code",
      "metadata": {
        "id": "7lq7ayftESUf",
        "colab_type": "code",
        "colab": {}
      },
      "source": [
        "d = {\n",
        "    \"cat\" : \"고양이. 사람을 집사로 하는 신적 동물\",\n",
        "    \"dog\" : \"강아지. 사람을 신으로 아는 귀여운 동물\",\n",
        "    \"apple\" : \"사과. 깨물면 맛있는 과일. 백설공주 암살에 사용됨\"\n",
        "}\n",
        "\n",
        "while True:\n",
        "  word = input()\n",
        "  if word == \"\":\n",
        "    break\n",
        "  word = word.lower()\n",
        "  print(d[word])"
      ],
      "execution_count": 0,
      "outputs": []
    },
    {
      "cell_type": "markdown",
      "metadata": {
        "id": "_OeYsTtXEZZg",
        "colab_type": "text"
      },
      "source": [
        "### Quiz. 이미 선언된 d에 단어를 입력받고, 설명을 입력 받고, 이를 d에 추가하고 d전체 출력. 빈칸들어오면 중지"
      ]
    },
    {
      "cell_type": "code",
      "metadata": {
        "id": "fVLUCJRJEZ5S",
        "colab_type": "code",
        "colab": {}
      },
      "source": [
        "d = {\n",
        "    \"cat\" : \"고양이. 사람을 집사로 하는 신적 동물\",\n",
        "    \"dog\" : \"강아지. 사람을 신으로 아는 귀여운 동물\",\n",
        "    \"apple\" : \"사과. 깨물면 맛있는 과일. 백설공주 암살에 사용됨\"\n",
        "}\n",
        "\n",
        "while True:\n",
        "  word = input(\"word : \")\n",
        "  if word == \"\":\n",
        "    break\n",
        "  value = input(\"value : \")\n",
        "  print(word, value)\n",
        "  d[word] = value\n",
        "  print(d)"
      ],
      "execution_count": 0,
      "outputs": []
    },
    {
      "cell_type": "markdown",
      "metadata": {
        "id": "PDdBdGQDElip",
        "colab_type": "text"
      },
      "source": [
        "### CSV 파일 읽고 쓰기"
      ]
    },
    {
      "cell_type": "code",
      "metadata": {
        "id": "27dMMCB6EoR_",
        "colab_type": "code",
        "colab": {}
      },
      "source": [
        ""
      ],
      "execution_count": 0,
      "outputs": []
    }
  ]
}