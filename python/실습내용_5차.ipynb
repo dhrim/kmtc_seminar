{
  "nbformat": 4,
  "nbformat_minor": 0,
  "metadata": {
    "colab": {
      "name": "5차.ipynb",
      "version": "0.3.2",
      "provenance": []
    },
    "kernelspec": {
      "name": "python3",
      "display_name": "Python 3"
    }
  },
  "cells": [
    {
      "cell_type": "code",
      "metadata": {
        "id": "FHEwV-nY-IK5",
        "colab_type": "code",
        "outputId": "a8d0f01f-20fb-4cd8-e6ac-4ba2fc5060f2",
        "colab": {
          "base_uri": "https://localhost:8080/",
          "height": 182
        }
      },
      "source": [
        "for i in range(1,10):\n",
        "  print(\" {} x {} = {}\".format(3, i, 3*i))"
      ],
      "execution_count": 0,
      "outputs": [
        {
          "output_type": "stream",
          "text": [
            " 3 x 1 = 3\n",
            " 3 x 2 = 6\n",
            " 3 x 3 = 9\n",
            " 3 x 4 = 12\n",
            " 3 x 5 = 15\n",
            " 3 x 6 = 18\n",
            " 3 x 7 = 21\n",
            " 3 x 8 = 24\n",
            " 3 x 9 = 27\n"
          ],
          "name": "stdout"
        }
      ]
    },
    {
      "cell_type": "code",
      "metadata": {
        "id": "jFw2nol7-rHB",
        "colab_type": "code",
        "outputId": "25ae8353-18d6-43f8-ab11-00267880dfd8",
        "colab": {
          "base_uri": "https://localhost:8080/",
          "height": 182
        }
      },
      "source": [
        "def print_n_dan(n):\n",
        "  for i in range(1,10):\n",
        "    print(\" {} x {} = {}\".format(n, i, n*i))\n",
        "    \n",
        "print_n_dan(3)"
      ],
      "execution_count": 0,
      "outputs": [
        {
          "output_type": "stream",
          "text": [
            " 3 x 1 = 3\n",
            " 3 x 2 = 6\n",
            " 3 x 3 = 9\n",
            " 3 x 4 = 12\n",
            " 3 x 5 = 15\n",
            " 3 x 6 = 18\n",
            " 3 x 7 = 21\n",
            " 3 x 8 = 24\n",
            " 3 x 9 = 27\n"
          ],
          "name": "stdout"
        }
      ]
    },
    {
      "cell_type": "code",
      "metadata": {
        "id": "Sh0aYNlV_PUZ",
        "colab_type": "code",
        "colab": {}
      },
      "source": [
        "print_n_dan(2)\n",
        "print_n_dan(3)\n",
        "print_n_dan(4)\n",
        "print_n_dan(5)\n",
        "print_n_dan(6)\n",
        "print_n_dan(7)\n",
        "print_n_dan(8)\n",
        "print_n_dan(9)"
      ],
      "execution_count": 0,
      "outputs": []
    },
    {
      "cell_type": "code",
      "metadata": {
        "id": "1BCW_eHqAoxC",
        "colab_type": "code",
        "colab": {}
      },
      "source": [
        "for j in range(2,10):\n",
        "  print_n_dan(j)\n",
        "  print()"
      ],
      "execution_count": 0,
      "outputs": []
    },
    {
      "cell_type": "code",
      "metadata": {
        "id": "7CCOzwk-CZeB",
        "colab_type": "code",
        "colab": {}
      },
      "source": [
        "for j in range(2, 10):\n",
        "  for i in range(1, 10):\n",
        "    print(\"{} x {} = {}\".format(j, i, j*i))\n",
        "  print()"
      ],
      "execution_count": 0,
      "outputs": []
    },
    {
      "cell_type": "markdown",
      "metadata": {
        "id": "SWbFdyipDnoK",
        "colab_type": "text"
      },
      "source": [
        "## while 루프"
      ]
    },
    {
      "cell_type": "code",
      "metadata": {
        "id": "H0GZqnOZEpWT",
        "colab_type": "code",
        "colab": {}
      },
      "source": [
        "print_n_dan(2)\n",
        "print_n_dan(3)\n",
        "print_n_dan(4)\n",
        "print_n_dan(5)\n",
        "print_n_dan(6)\n",
        "print_n_dan(7)\n",
        "print_n_dan(8)\n",
        "print_n_dan(9)"
      ],
      "execution_count": 0,
      "outputs": []
    },
    {
      "cell_type": "code",
      "metadata": {
        "id": "xFC_BUEMCvX5",
        "colab_type": "code",
        "colab": {}
      },
      "source": [
        "i = 1\n",
        "while i<10:\n",
        "  print(i)\n",
        "  i = i + 1"
      ],
      "execution_count": 0,
      "outputs": []
    },
    {
      "cell_type": "code",
      "metadata": {
        "id": "8JUW8pRGErLi",
        "colab_type": "code",
        "colab": {}
      },
      "source": [
        "n = 2\n",
        "while n<10:\n",
        "  print_n_dan(n)\n",
        "  n = n + 1"
      ],
      "execution_count": 0,
      "outputs": []
    },
    {
      "cell_type": "code",
      "metadata": {
        "id": "S0uW1OOzDtsI",
        "colab_type": "code",
        "colab": {}
      },
      "source": [
        "n = 2\n",
        "while True:\n",
        "  print_n_dan(n)\n",
        "  n = n + 1\n",
        "  if n>9:\n",
        "    break"
      ],
      "execution_count": 0,
      "outputs": []
    },
    {
      "cell_type": "code",
      "metadata": {
        "id": "VYr1GuSQFv45",
        "colab_type": "code",
        "outputId": "4e38f13a-6853-4526-c988-b0e9460997d8",
        "colab": {
          "base_uri": "https://localhost:8080/",
          "height": 53
        }
      },
      "source": [
        "name = input()\n",
        "print(name)"
      ],
      "execution_count": 0,
      "outputs": [
        {
          "output_type": "stream",
          "text": [
            "Tom\n",
            "Tom\n"
          ],
          "name": "stdout"
        }
      ]
    },
    {
      "cell_type": "code",
      "metadata": {
        "id": "AGp874tjHWaJ",
        "colab_type": "code",
        "outputId": "6da22f70-106b-4146-e982-fe6822861e07",
        "colab": {
          "base_uri": "https://localhost:8080/",
          "height": 108
        }
      },
      "source": [
        "while True:\n",
        "  name = input()\n",
        "  if name == \"\":\n",
        "    break\n",
        "  print(name)"
      ],
      "execution_count": 0,
      "outputs": [
        {
          "output_type": "stream",
          "text": [
            "Tom\n",
            "Tom\n",
            "Jerry\n",
            "Jerry\n",
            "\n"
          ],
          "name": "stdout"
        }
      ]
    },
    {
      "cell_type": "markdown",
      "metadata": {
        "id": "YFRAMR73JG_a",
        "colab_type": "text"
      },
      "source": [
        "# 리스트"
      ]
    },
    {
      "cell_type": "code",
      "metadata": {
        "id": "RXFa9LAHJIMU",
        "colab_type": "code",
        "outputId": "db150479-e22e-49ab-edce-a2c524e266e9",
        "colab": {
          "base_uri": "https://localhost:8080/",
          "height": 35
        }
      },
      "source": [
        "numbers = [1,2,3,4,5]\n",
        "print(numbers)"
      ],
      "execution_count": 0,
      "outputs": [
        {
          "output_type": "stream",
          "text": [
            "[1, 2, 3, 4, 5]\n"
          ],
          "name": "stdout"
        }
      ]
    },
    {
      "cell_type": "code",
      "metadata": {
        "id": "s7tM760ZJLsq",
        "colab_type": "code",
        "outputId": "6ec612b0-ca6a-45ac-b043-831626d2eb74",
        "colab": {
          "base_uri": "https://localhost:8080/",
          "height": 72
        }
      },
      "source": [
        "print(type(numbers))\n",
        "print(type(3))\n",
        "print(type(\"tom\"))"
      ],
      "execution_count": 0,
      "outputs": [
        {
          "output_type": "stream",
          "text": [
            "<class 'list'>\n",
            "<class 'int'>\n",
            "<class 'str'>\n"
          ],
          "name": "stdout"
        }
      ]
    },
    {
      "cell_type": "code",
      "metadata": {
        "id": "IVqq1kuwJqCm",
        "colab_type": "code",
        "outputId": "51ee0768-3e14-40da-8f08-8840c50fa2fd",
        "colab": {
          "base_uri": "https://localhost:8080/",
          "height": 35
        }
      },
      "source": [
        "print(len(numbers))"
      ],
      "execution_count": 0,
      "outputs": [
        {
          "output_type": "stream",
          "text": [
            "5\n"
          ],
          "name": "stdout"
        }
      ]
    },
    {
      "cell_type": "code",
      "metadata": {
        "id": "7GDpjj-gKDwN",
        "colab_type": "code",
        "outputId": "db86f65a-b4d9-44ee-edd5-aa588b9e8530",
        "colab": {
          "base_uri": "https://localhost:8080/",
          "height": 320
        }
      },
      "source": [
        "print(numbers)\n",
        "print(numbers[0])\n",
        "print(numbers[1])\n",
        "print(numbers[2])\n",
        "print(numbers[3])\n",
        "print(numbers[4])\n",
        "print(numbers[5])"
      ],
      "execution_count": 0,
      "outputs": [
        {
          "output_type": "stream",
          "text": [
            "[1, 2, 3, 4, 5]\n",
            "1\n",
            "2\n",
            "3\n",
            "4\n",
            "5\n"
          ],
          "name": "stdout"
        },
        {
          "output_type": "error",
          "ename": "IndexError",
          "evalue": "ignored",
          "traceback": [
            "\u001b[0;31m---------------------------------------------------------------------------\u001b[0m",
            "\u001b[0;31mIndexError\u001b[0m                                Traceback (most recent call last)",
            "\u001b[0;32m<ipython-input-22-81be19debe83>\u001b[0m in \u001b[0;36m<module>\u001b[0;34m()\u001b[0m\n\u001b[1;32m      5\u001b[0m \u001b[0mprint\u001b[0m\u001b[0;34m(\u001b[0m\u001b[0mnumbers\u001b[0m\u001b[0;34m[\u001b[0m\u001b[0;36m3\u001b[0m\u001b[0;34m]\u001b[0m\u001b[0;34m)\u001b[0m\u001b[0;34m\u001b[0m\u001b[0;34m\u001b[0m\u001b[0m\n\u001b[1;32m      6\u001b[0m \u001b[0mprint\u001b[0m\u001b[0;34m(\u001b[0m\u001b[0mnumbers\u001b[0m\u001b[0;34m[\u001b[0m\u001b[0;36m4\u001b[0m\u001b[0;34m]\u001b[0m\u001b[0;34m)\u001b[0m\u001b[0;34m\u001b[0m\u001b[0;34m\u001b[0m\u001b[0m\n\u001b[0;32m----> 7\u001b[0;31m \u001b[0mprint\u001b[0m\u001b[0;34m(\u001b[0m\u001b[0mnumbers\u001b[0m\u001b[0;34m[\u001b[0m\u001b[0;36m5\u001b[0m\u001b[0;34m]\u001b[0m\u001b[0;34m)\u001b[0m\u001b[0;34m\u001b[0m\u001b[0;34m\u001b[0m\u001b[0m\n\u001b[0m",
            "\u001b[0;31mIndexError\u001b[0m: list index out of range"
          ]
        }
      ]
    },
    {
      "cell_type": "code",
      "metadata": {
        "id": "eNgcPqYUKNcx",
        "colab_type": "code",
        "outputId": "644d1ff4-a6b6-46b4-c30f-087300c8716a",
        "colab": {
          "base_uri": "https://localhost:8080/",
          "height": 72
        }
      },
      "source": [
        "print(numbers)\n",
        "print(numbers[-1])\n",
        "print(numbers[-2])"
      ],
      "execution_count": 0,
      "outputs": [
        {
          "output_type": "stream",
          "text": [
            "[1, 2, 3, 4, 5]\n",
            "5\n",
            "4\n"
          ],
          "name": "stdout"
        }
      ]
    },
    {
      "cell_type": "code",
      "metadata": {
        "id": "yBoS32L4NaTW",
        "colab_type": "code",
        "colab": {}
      },
      "source": [
        "for i in [1,2,3,4,5]:\n",
        "  print(i)"
      ],
      "execution_count": 0,
      "outputs": []
    },
    {
      "cell_type": "code",
      "metadata": {
        "id": "iRCuxcB0NwbQ",
        "colab_type": "code",
        "colab": {}
      },
      "source": [
        "for i in numbers:\n",
        "  print(i)"
      ],
      "execution_count": 0,
      "outputs": []
    },
    {
      "cell_type": "code",
      "metadata": {
        "id": "mqMWnFoyN8Od",
        "colab_type": "code",
        "colab": {}
      },
      "source": [
        "for i in [3, 6, 9]:\n",
        "  print_n_dan(i)"
      ],
      "execution_count": 0,
      "outputs": []
    },
    {
      "cell_type": "markdown",
      "metadata": {
        "id": "Qy3tLFqdO0fE",
        "colab_type": "text"
      },
      "source": [
        "\n",
        "```\n",
        "( ) : 함수의 정의, 함수 호출\n",
        "      연산의 우선순위\n",
        "[ ] : list\n",
        "{ } : 스트링 포멧\n",
        "      dictionary\n",
        "\n",
        "```"
      ]
    },
    {
      "cell_type": "markdown",
      "metadata": {
        "id": "ar_-mskAPbUL",
        "colab_type": "text"
      },
      "source": [
        "## list에 추가"
      ]
    },
    {
      "cell_type": "code",
      "metadata": {
        "id": "yaExopJ3OK9m",
        "colab_type": "code",
        "outputId": "8877091b-27b9-4dd8-9746-7c57ed3e6029",
        "colab": {
          "base_uri": "https://localhost:8080/",
          "height": 35
        }
      },
      "source": [
        "n = [0,1,2,3,4,5]\n",
        "n.append(9)\n",
        "n.append(9)\n",
        "n.append(99)\n",
        "print(n)"
      ],
      "execution_count": 0,
      "outputs": [
        {
          "output_type": "stream",
          "text": [
            "[0, 1, 2, 3, 4, 5, 9, 9, 99]\n"
          ],
          "name": "stdout"
        }
      ]
    },
    {
      "cell_type": "code",
      "metadata": {
        "id": "ZwqA_hKXPWDe",
        "colab_type": "code",
        "outputId": "a892da3e-2eef-4e0c-c487-ec089c033060",
        "colab": {
          "base_uri": "https://localhost:8080/",
          "height": 35
        }
      },
      "source": [
        "n = [0,1,2,3,4,5]\n",
        "n.insert(2, 9)\n",
        "print(n)"
      ],
      "execution_count": 0,
      "outputs": [
        {
          "output_type": "stream",
          "text": [
            "[0, 1, 9, 2, 3, 4, 5]\n"
          ],
          "name": "stdout"
        }
      ]
    },
    {
      "cell_type": "markdown",
      "metadata": {
        "id": "5i0k0xwMQDVi",
        "colab_type": "text"
      },
      "source": [
        "```\n",
        ". : 대상 값에 달려 있는 함수를 호출\n",
        "```"
      ]
    },
    {
      "cell_type": "code",
      "metadata": {
        "id": "hY847ag8P8bT",
        "colab_type": "code",
        "outputId": "e59525bf-5c7e-4bb4-f25a-ef6020188f8d",
        "colab": {
          "base_uri": "https://localhost:8080/",
          "height": 53
        }
      },
      "source": [
        "n = [1,2,3,4,5]\n",
        "\n",
        "sum = 0\n",
        "for i in n:\n",
        "  sum = sum + i\n",
        "mean = sum / len(n)\n",
        "print(sum)\n",
        "print(mean)"
      ],
      "execution_count": 0,
      "outputs": [
        {
          "output_type": "stream",
          "text": [
            "15\n",
            "3.0\n"
          ],
          "name": "stdout"
        }
      ]
    },
    {
      "cell_type": "markdown",
      "metadata": {
        "id": "fGqCDWiESYw7",
        "colab_type": "text"
      },
      "source": [
        "```\n",
        "tom 30\n",
        "jerry 32\n",
        "철수 20\n",
        "영희 22\n",
        "```"
      ]
    },
    {
      "cell_type": "code",
      "metadata": {
        "id": "rI7sxO5DRq2o",
        "colab_type": "code",
        "outputId": "b921c680-642e-4146-8e44-1d6bb2e35f53",
        "colab": {
          "base_uri": "https://localhost:8080/",
          "height": 310
        }
      },
      "source": [
        "names = [ \"tom\", \"jerry\", \"철수\", \"영희\"]\n",
        "ages = [ 30, 32, 20, 22 ]\n",
        "\n",
        "for i in range(len(names)):\n",
        "# for i in range(4):\n",
        "# for i in [0,1,2,3]:\n",
        "  print(names[i], ages[i])\n",
        "  \n",
        "print(names[0], ages[0])\n",
        "print(names[1], ages[1])\n",
        "print(names[2], ages[2])\n",
        "print(names[3], ages[3])\n",
        "\n",
        "for name in names:\n",
        "  print(name)\n",
        "  \n",
        "for age in ages:\n",
        "  print(age)"
      ],
      "execution_count": 0,
      "outputs": [
        {
          "output_type": "stream",
          "text": [
            "tom 30\n",
            "jerry 32\n",
            "철수 20\n",
            "영희 22\n",
            "tom 30\n",
            "jerry 32\n",
            "철수 20\n",
            "영희 22\n",
            "tom\n",
            "jerry\n",
            "철수\n",
            "영희\n",
            "30\n",
            "32\n",
            "20\n",
            "22\n"
          ],
          "name": "stdout"
        }
      ]
    },
    {
      "cell_type": "markdown",
      "metadata": {
        "id": "8BObINCMUy-1",
        "colab_type": "text"
      },
      "source": [
        "## Quiz. 1 ~ 100 사이의 홀수만 리스트 n에 담기\n",
        "\n",
        "```\n",
        "+\n",
        "-\n",
        "* : 곱하기\n",
        "/ : 나누기\n",
        "% : 나머지\n",
        "```"
      ]
    },
    {
      "cell_type": "code",
      "metadata": {
        "id": "uOtOZnlVSeDZ",
        "colab_type": "code",
        "outputId": "9b96d975-96da-49c5-ba85-a638717a129f",
        "colab": {
          "base_uri": "https://localhost:8080/",
          "height": 55
        }
      },
      "source": [
        "n = []\n",
        "\n",
        "for i in range(1, 101):\n",
        "  if i%2 != 0:\n",
        "    n.append(i)\n",
        "    \n",
        "print(n)"
      ],
      "execution_count": 0,
      "outputs": [
        {
          "output_type": "stream",
          "text": [
            "[1, 3, 5, 7, 9, 11, 13, 15, 17, 19, 21, 23, 25, 27, 29, 31, 33, 35, 37, 39, 41, 43, 45, 47, 49, 51, 53, 55, 57, 59, 61, 63, 65, 67, 69, 71, 73, 75, 77, 79, 81, 83, 85, 87, 89, 91, 93, 95, 97, 99]\n"
          ],
          "name": "stdout"
        }
      ]
    },
    {
      "cell_type": "code",
      "metadata": {
        "id": "ucXsNoM6VUJL",
        "colab_type": "code",
        "outputId": "09ff931e-d723-4f89-8d98-dca5de906e7d",
        "colab": {
          "base_uri": "https://localhost:8080/",
          "height": 127
        }
      },
      "source": [
        "print(1%2 != 0)\n",
        "print(2%2 != 0)\n",
        "print(3%2 != 0)\n",
        "print(4%2 != 0)\n",
        "print(5%2 != 0)\n",
        "print(6%2 != 0)"
      ],
      "execution_count": 0,
      "outputs": [
        {
          "output_type": "stream",
          "text": [
            "True\n",
            "False\n",
            "True\n",
            "False\n",
            "True\n",
            "False\n"
          ],
          "name": "stdout"
        }
      ]
    },
    {
      "cell_type": "markdown",
      "metadata": {
        "id": "WakX9PGZWzYM",
        "colab_type": "text"
      },
      "source": [
        "## 1 ~ 100 까지 홀수의 전체 합은? 그리고 평균은?"
      ]
    },
    {
      "cell_type": "code",
      "metadata": {
        "id": "JxMckmraWXvc",
        "colab_type": "code",
        "outputId": "42d08c96-dd08-4cef-e522-7b98f3b279f8",
        "colab": {
          "base_uri": "https://localhost:8080/",
          "height": 92
        }
      },
      "source": [
        "n = []\n",
        "for i in range(1, 101):\n",
        "  if i%2 != 0:\n",
        "    n.append(i)\n",
        "    \n",
        "print(n)\n",
        "sum = 0\n",
        "for i in n:\n",
        "  sum = sum + i\n",
        "mean = sum / len(n)  \n",
        "print(sum)\n",
        "print(mean)"
      ],
      "execution_count": 0,
      "outputs": [
        {
          "output_type": "stream",
          "text": [
            "[1, 3, 5, 7, 9, 11, 13, 15, 17, 19, 21, 23, 25, 27, 29, 31, 33, 35, 37, 39, 41, 43, 45, 47, 49, 51, 53, 55, 57, 59, 61, 63, 65, 67, 69, 71, 73, 75, 77, 79, 81, 83, 85, 87, 89, 91, 93, 95, 97, 99]\n",
            "2500\n",
            "50.0\n"
          ],
          "name": "stdout"
        }
      ]
    },
    {
      "cell_type": "markdown",
      "metadata": {
        "id": "-EDkamg9YrCe",
        "colab_type": "text"
      },
      "source": [
        "## 삭제"
      ]
    },
    {
      "cell_type": "code",
      "metadata": {
        "id": "LrAw7t9kXMNn",
        "colab_type": "code",
        "outputId": "649ee565-9914-4a1e-93bb-0ec709f4cef7",
        "colab": {
          "base_uri": "https://localhost:8080/",
          "height": 35
        }
      },
      "source": [
        "n = [0,1,2,3,4,5]\n",
        "n.remove(2)\n",
        "print(n)"
      ],
      "execution_count": 0,
      "outputs": [
        {
          "output_type": "stream",
          "text": [
            "[0, 1, 3, 4, 5]\n"
          ],
          "name": "stdout"
        }
      ]
    },
    {
      "cell_type": "code",
      "metadata": {
        "id": "y4JDTFdoYwvP",
        "colab_type": "code",
        "outputId": "ef4446c8-c679-4228-a102-29f7d91ebcb6",
        "colab": {
          "base_uri": "https://localhost:8080/",
          "height": 35
        }
      },
      "source": [
        "n = [0,1,2,3,4,5]\n",
        "n.reverse()\n",
        "print(n)"
      ],
      "execution_count": 0,
      "outputs": [
        {
          "output_type": "stream",
          "text": [
            "[5, 4, 3, 2, 1, 0]\n"
          ],
          "name": "stdout"
        }
      ]
    },
    {
      "cell_type": "code",
      "metadata": {
        "id": "b_oSYOgpZNsK",
        "colab_type": "code",
        "outputId": "b524dd5c-e4da-4a41-874e-6729b096356a",
        "colab": {
          "base_uri": "https://localhost:8080/",
          "height": 35
        }
      },
      "source": [
        "n = [5,1,3,2,4,0]\n",
        "n.sort()\n",
        "n.reverse()\n",
        "print(n)"
      ],
      "execution_count": 0,
      "outputs": [
        {
          "output_type": "stream",
          "text": [
            "[5, 4, 3, 2, 1, 0]\n"
          ],
          "name": "stdout"
        }
      ]
    },
    {
      "cell_type": "code",
      "metadata": {
        "id": "fAmSxoYhZek_",
        "colab_type": "code",
        "colab": {}
      },
      "source": [
        "dir(type(n))"
      ],
      "execution_count": 0,
      "outputs": []
    },
    {
      "cell_type": "markdown",
      "metadata": {
        "id": "vy4NK44mday7",
        "colab_type": "text"
      },
      "source": [
        "## 사용자가 입력한 숫자 중, 3의 배수의 총합과 평균\n",
        "\n",
        "- 받을 수 있는 갯수의 총 개수는 10개가 최대\n",
        "\n",
        "- 빈값을 입력하면 입력 종료\n",
        "\n",
        "```\n",
        "while loop\n",
        "  입력 받기\n",
        "  빈문자열이면 break\n",
        "  리스트에 담기\n",
        "  \n",
        "리스트 loop\n",
        "  int 변환\n",
        "  3의 배수 체크\n",
        "    리스트에 담기\n",
        "\n",
        "리스트 loop\n",
        "  총합에 담기\n",
        "평균 구하기\n",
        "```"
      ]
    },
    {
      "cell_type": "code",
      "metadata": {
        "id": "moLP2M4zZuIP",
        "colab_type": "code",
        "outputId": "6e9e79f5-70c4-4757-b2ef-609975d3e8a6",
        "colab": {
          "base_uri": "https://localhost:8080/",
          "height": 273
        }
      },
      "source": [
        "# n0 = [1,2,3,4,5,6,7,8,9,10]\n",
        "n0 = []\n",
        "while True:\n",
        "  i = input()\n",
        "  if i==\"\":\n",
        "    break\n",
        "  n0.append(int(i))\n",
        "print(n0)\n",
        "\n",
        "n = []\n",
        "for i in n0:\n",
        "  if i%3 == 0:\n",
        "    n.append(i)\n",
        "print(n)\n",
        "\n",
        "sum = 0\n",
        "for i in n:\n",
        "  sum = sum + i\n",
        "mean = sum/len(n)\n",
        "print(sum, mean)"
      ],
      "execution_count": 0,
      "outputs": [
        {
          "output_type": "stream",
          "text": [
            "1\n",
            "2\n",
            "3\n",
            "4\n",
            "5\n",
            "6\n",
            "7\n",
            "8\n",
            "9\n",
            "10\n",
            "\n",
            "[1, 2, 3, 4, 5, 6, 7, 8, 9, 10]\n",
            "[3, 6, 9]\n",
            "18 6.0\n"
          ],
          "name": "stdout"
        }
      ]
    },
    {
      "cell_type": "markdown",
      "metadata": {
        "id": "C1LqyT7fj6jL",
        "colab_type": "text"
      },
      "source": [
        "## Quiz. 위의 코드 보완\n",
        "위 코드는 입력 최대 갯수 10개의 조건을 만족하지 못한다. 이를 만족하도록 보완."
      ]
    },
    {
      "cell_type": "code",
      "metadata": {
        "id": "scHbX78ehPoV",
        "colab_type": "code",
        "colab": {}
      },
      "source": [
        ""
      ],
      "execution_count": 0,
      "outputs": []
    }
  ]
}