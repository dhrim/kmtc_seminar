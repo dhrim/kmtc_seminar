{
 "cells": [
  {
   "cell_type": "markdown",
   "metadata": {},
   "source": [
    "#  파이썬을 활용한 딥러닝\n",
    "# 4강. 파이썬 언어#3\n",
    "## 1. 함수\n",
    "### 함수의 구조\n",
    "- 함수는 입력값에 특정 연산을 수행해서 결과값을 내놓는 알고리즘을 추상화, 일반화시킨 것이다.\n",
    "- 반복되는 작업 중 가치 있는 부분을 일반화 및 추상화시킨 것이며 어떤 값을 주면 결과값을 돌려받는 작업을 자동화\n",
    "- 입력값은 인수(argument)를 통해 함수에 전달되며, 출력값은 return 문을 통해 반환된다.\n",
    "\n",
    "\n",
    "- 파이썬에서 함수는 def라는 예약어를 이용해서 정의하고, 사용할 때는 함수이름을 써서 호출한다.\n",
    "- 항상 마지막에 콜론(:)을 붙여줘야 하며, 함수 내의 모든 명령어들은 최소 4칸 들여쓰기를 해야 한다.\n",
    "- 입력값, 출력값이 반드시 있어야 하는 것은 아니다."
   ]
  },
  {
   "cell_type": "code",
   "execution_count": 1,
   "metadata": {},
   "outputs": [
    {
     "name": "stdout",
     "output_type": "stream",
     "text": [
      "Hello World!\n"
     ]
    },
    {
     "data": {
      "text/plain": [
       "'Hello World!'"
      ]
     },
     "execution_count": 1,
     "metadata": {},
     "output_type": "execute_result"
    }
   ],
   "source": [
    "def firstfunction(argument): #def는 지금부터 함수를 정의한다는 것을 파이썬에게 알려주며, 이름은 firstfunction\n",
    "    print(argument)          #firstfunction은 argument로 들어오는 값을 화면에 표시하는 연산 수행\n",
    "    return argument          #그리고 입력된 argument를 그대로 반환한다.\n",
    "    \n",
    "firstfunction(\"Hello World!\")#문자열 Hello World!가 화면에 출력됐고, out으로 'Hello World!'가 반환됐다."
   ]
  },
  {
   "cell_type": "markdown",
   "metadata": {},
   "source": [
    "### 함수의 입력값 및 결과값\n",
    "- 함수의 입력값 및 결과값은 반드시 있어야 하는 것은 아니다.\n",
    "- 필요한 경우에 입력값과 출력값은 각각 입력 인수를 통해 함수에 전달되며, return 문을 통해 반환된다.\n",
    "\n",
    "\n",
    "- return문을 만나면 호출부를 함수의 결과값으로 대체한다.\n",
    "- 그리고 return문 이후의 명령은 실행되지 않고, 함수는 종료된다.\n"
   ]
  },
  {
   "cell_type": "code",
   "execution_count": 2,
   "metadata": {
    "scrolled": true
   },
   "outputs": [
    {
     "name": "stdout",
     "output_type": "stream",
     "text": [
      "Hello World\n"
     ]
    }
   ],
   "source": [
    "def passthrough(a):\n",
    "    return a #입력된 인수 a를 그대로 결과값으로 반환한다.\n",
    "    print(a) #return 문 이후 명령어는 수행되지 않는다.\n",
    "\n",
    "#return문의 성질에 의해 함수호출부가 결과값으로 바뀐다. \n",
    "passthrough(\"Hello World\") # passthrough(\"Hello World\") = \"Hello World\")                                  \n",
    "print(passthrough(\"Hello World\")) #print(\"Hello World\")와 같아진다."
   ]
  },
  {
   "cell_type": "markdown",
   "metadata": {},
   "source": [
    "### print와 return의 차이\n",
    "- print는 화면에 결과를 보여주는 역할을 한다. print만으로는 함수의 결과를 프로그램의 다른 부분에서 사용 불가능\n",
    "- 반면, return문으로 반환된 결과는 프로그램의 다른 부분에서 사용할 수 있다."
   ]
  },
  {
   "cell_type": "code",
   "execution_count": 3,
   "metadata": {},
   "outputs": [
    {
     "name": "stdout",
     "output_type": "stream",
     "text": [
      "7\n"
     ]
    },
    {
     "ename": "TypeError",
     "evalue": "unsupported operand type(s) for *: 'NoneType' and 'int'",
     "output_type": "error",
     "traceback": [
      "\u001b[1;31m---------------------------------------------------------------------------\u001b[0m",
      "\u001b[1;31mTypeError\u001b[0m                                 Traceback (most recent call last)",
      "\u001b[1;32m<ipython-input-3-ca4151659204>\u001b[0m in \u001b[0;36m<module>\u001b[1;34m()\u001b[0m\n\u001b[0;32m      3\u001b[0m \u001b[1;32mdef\u001b[0m \u001b[0mmultiple\u001b[0m\u001b[1;33m(\u001b[0m\u001b[0mc\u001b[0m\u001b[1;33m,\u001b[0m \u001b[0md\u001b[0m\u001b[1;33m)\u001b[0m\u001b[1;33m:\u001b[0m \u001b[1;31m#두 값의 곱을 화면에 출력\u001b[0m\u001b[1;33m\u001b[0m\u001b[0m\n\u001b[0;32m      4\u001b[0m     \u001b[0mprint\u001b[0m\u001b[1;33m(\u001b[0m\u001b[0mc\u001b[0m \u001b[1;33m*\u001b[0m \u001b[0md\u001b[0m\u001b[1;33m)\u001b[0m\u001b[1;33m\u001b[0m\u001b[0m\n\u001b[1;32m----> 5\u001b[1;33m \u001b[0mmultiple\u001b[0m\u001b[1;33m(\u001b[0m\u001b[0msum\u001b[0m\u001b[1;33m(\u001b[0m\u001b[1;36m3\u001b[0m \u001b[1;33m,\u001b[0m \u001b[1;36m4\u001b[0m\u001b[1;33m)\u001b[0m \u001b[1;33m,\u001b[0m \u001b[1;36m5\u001b[0m\u001b[1;33m)\u001b[0m \u001b[1;31m#에러 발생!\u001b[0m\u001b[1;33m\u001b[0m\u001b[0m\n\u001b[0m",
      "\u001b[1;32m<ipython-input-3-ca4151659204>\u001b[0m in \u001b[0;36mmultiple\u001b[1;34m(c, d)\u001b[0m\n\u001b[0;32m      2\u001b[0m     \u001b[0mprint\u001b[0m\u001b[1;33m(\u001b[0m\u001b[0ma\u001b[0m \u001b[1;33m+\u001b[0m \u001b[0mb\u001b[0m\u001b[1;33m)\u001b[0m\u001b[1;33m\u001b[0m\u001b[0m\n\u001b[0;32m      3\u001b[0m \u001b[1;32mdef\u001b[0m \u001b[0mmultiple\u001b[0m\u001b[1;33m(\u001b[0m\u001b[0mc\u001b[0m\u001b[1;33m,\u001b[0m \u001b[0md\u001b[0m\u001b[1;33m)\u001b[0m\u001b[1;33m:\u001b[0m \u001b[1;31m#두 값의 곱을 화면에 출력\u001b[0m\u001b[1;33m\u001b[0m\u001b[0m\n\u001b[1;32m----> 4\u001b[1;33m     \u001b[0mprint\u001b[0m\u001b[1;33m(\u001b[0m\u001b[0mc\u001b[0m \u001b[1;33m*\u001b[0m \u001b[0md\u001b[0m\u001b[1;33m)\u001b[0m\u001b[1;33m\u001b[0m\u001b[0m\n\u001b[0m\u001b[0;32m      5\u001b[0m \u001b[0mmultiple\u001b[0m\u001b[1;33m(\u001b[0m\u001b[0msum\u001b[0m\u001b[1;33m(\u001b[0m\u001b[1;36m3\u001b[0m \u001b[1;33m,\u001b[0m \u001b[1;36m4\u001b[0m\u001b[1;33m)\u001b[0m \u001b[1;33m,\u001b[0m \u001b[1;36m5\u001b[0m\u001b[1;33m)\u001b[0m \u001b[1;31m#에러 발생!\u001b[0m\u001b[1;33m\u001b[0m\u001b[0m\n",
      "\u001b[1;31mTypeError\u001b[0m: unsupported operand type(s) for *: 'NoneType' and 'int'"
     ]
    }
   ],
   "source": [
    "def sum(a, b): #반환값이 없음, print(a + b) 의 return None이 생략\n",
    "    print(a + b)\n",
    "def multiple(c, d): #두 값의 곱을 화면에 출력\n",
    "    print(c * d)\n",
    "multiple(sum(3 , 4) , 5) #에러 발생!"
   ]
  },
  {
   "cell_type": "code",
   "execution_count": 4,
   "metadata": {},
   "outputs": [
    {
     "name": "stdout",
     "output_type": "stream",
     "text": [
      "35\n"
     ]
    }
   ],
   "source": [
    "def sum(a, b): #두 수의 합을 반환하는 함수!\n",
    "    return a + b \n",
    "    #함수를 호출하면,함수호출부 sum(a, b)가 두 수의 합 a + b로 바뀐다.\n",
    "def multiple(c, d): #두 값의 곱을 화면에 출력하는 함수!\n",
    "    print(c * d)\n",
    "multiple(sum(3 , 4) , 5) #multiple(sum(3, 4), 5) = multiple(7, 5)\n"
   ]
  },
  {
   "cell_type": "markdown",
   "metadata": {},
   "source": [
    "### 함수의 입력값 활용 : 몇 개를 입력받는지 모르는 경우\n",
    "- 함수에 몇 개를 입력받는지 모르는 경우에는 입력인수 앞에 *를 써 준다\n",
    "- *은 입력받은 인수들을 튜플로 모아준다"
   ]
  },
  {
   "cell_type": "code",
   "execution_count": 5,
   "metadata": {},
   "outputs": [
    {
     "name": "stdout",
     "output_type": "stream",
     "text": [
      "120\n",
      "720\n"
     ]
    }
   ],
   "source": [
    "def factorial(*args):\n",
    "    result = 1\n",
    "    for element in args:\n",
    "        result = result * element\n",
    "    return result\n",
    "\n",
    "print(factorial(1, 2, 3, 4, 5))   #1*2*3*4*5 = 120\n",
    "print(factorial(1, 2, 3, 4, 5, 6))#1*2*3*4*5*6 = 720"
   ]
  },
  {
   "cell_type": "markdown",
   "metadata": {},
   "source": [
    "### 함수의 입력값 활용 : 입력 인수에 초기값 설정하기\n",
    "- 입력 인수 값을 따로 정의해주지 않으면, 자동으로 특정 값이 설정된다.\n",
    "- '입력 인수 = 초기값' 형태로 사용되며, 대표적인 사례가 바로 range(start = 0, end, step = 1)이다."
   ]
  },
  {
   "cell_type": "code",
   "execution_count": 6,
   "metadata": {},
   "outputs": [
    {
     "name": "stdout",
     "output_type": "stream",
     "text": [
      "[0, 1, 2, 3, 4, 5]\n",
      "[1, 2, 3, 4, 5]\n",
      "[1, 3, 5]\n"
     ]
    }
   ],
   "source": [
    "print(list(range(6)))\n",
    "#list(range(6)) = list(range(0, 6, 1)) = [0, 1, 2, 3, 4, 5] \n",
    "print(list(range(1, 6)))    \n",
    "#list(range(1, 6) ) = list(range(1, 6, 1)) = [1, 2, 3, 4, 5]\n",
    "print(list(range(1, 6, 2)))\n",
    "#list(range(1, 6, 2)) = [1, 3, 5]"
   ]
  },
  {
   "cell_type": "markdown",
   "metadata": {},
   "source": [
    "### 함수의 입력값 활용 : 초기값 설정 시 주의할 점\n",
    "- 초기값을 설정할 입력 인수는 항상 뒤쪽에 위치시켜야 한다"
   ]
  },
  {
   "cell_type": "code",
   "execution_count": 7,
   "metadata": {},
   "outputs": [
    {
     "ename": "SyntaxError",
     "evalue": "non-default argument follows default argument (<ipython-input-7-69f1ac1e6e56>, line 1)",
     "output_type": "error",
     "traceback": [
      "\u001b[1;36m  File \u001b[1;32m\"<ipython-input-7-69f1ac1e6e56>\"\u001b[1;36m, line \u001b[1;32m1\u001b[0m\n\u001b[1;33m    def sum(a, b = 0, c):\u001b[0m\n\u001b[1;37m           ^\u001b[0m\n\u001b[1;31mSyntaxError\u001b[0m\u001b[1;31m:\u001b[0m non-default argument follows default argument\n"
     ]
    }
   ],
   "source": [
    "def sum(a, b = 0, c):\n",
    "    print(a + b + c)\n",
    "\n",
    "sum(1, 2) \n",
    "#이 경우 숫자 2가 b에 입력되는지 c에 입력되는지 알 수 없어서 에러 발생!\n",
    "\n",
    "#'초기값이 설정되지 않은 인수(Non-default argument ; 인수 c)가 \n",
    "#초기값을 설정한 인수(default argument ; 인수 b)보다 뒤에 위치해 있다(follows)'라는 의미이다."
   ]
  },
  {
   "cell_type": "markdown",
   "metadata": {},
   "source": [
    "### 함수의 입력값 활용 : 초기값 설정 오류 해결법\n",
    "- 앞의 예제는 다음처럼 default-argument인 c를 가장 뒤에 위치시키면 된다"
   ]
  },
  {
   "cell_type": "code",
   "execution_count": 8,
   "metadata": {},
   "outputs": [
    {
     "name": "stdout",
     "output_type": "stream",
     "text": [
      "3\n"
     ]
    }
   ],
   "source": [
    "def sum(a, b, c = 0):\n",
    "    print(a + b + c)\n",
    "\n",
    "sum(1, 2) \n",
    "#이 경우 인수 c는 초기값 0으로 생각하고, 2는 인수 b에 들어가게 된다.\n"
   ]
  },
  {
   "cell_type": "markdown",
   "metadata": {},
   "source": [
    "### 지역 변수\n",
    "- 함수 안에서 선언된 변수는 함수 내에서만 사용 가능하다\n",
    "- 특정 함수 범위 안에서만 사용 가능하기 때문에 ‘지역 변수’라고 부른다 \n",
    "- 파이썬은 함수 안의 d와 print 안의 d를 다르게 인식한다."
   ]
  },
  {
   "cell_type": "code",
   "execution_count": 9,
   "metadata": {},
   "outputs": [
    {
     "ename": "NameError",
     "evalue": "name 'd' is not defined",
     "output_type": "error",
     "traceback": [
      "\u001b[1;31m---------------------------------------------------------------------------\u001b[0m",
      "\u001b[1;31mNameError\u001b[0m                                 Traceback (most recent call last)",
      "\u001b[1;32m<ipython-input-9-54b842d4cb19>\u001b[0m in \u001b[0;36m<module>\u001b[1;34m()\u001b[0m\n\u001b[0;32m      3\u001b[0m \u001b[1;33m\u001b[0m\u001b[0m\n\u001b[0;32m      4\u001b[0m \u001b[0maugment\u001b[0m\u001b[1;33m(\u001b[0m\u001b[1;36m10\u001b[0m\u001b[1;33m)\u001b[0m\u001b[1;33m\u001b[0m\u001b[0m\n\u001b[1;32m----> 5\u001b[1;33m \u001b[0mprint\u001b[0m\u001b[1;33m(\u001b[0m\u001b[0md\u001b[0m\u001b[1;33m)\u001b[0m\u001b[1;33m\u001b[0m\u001b[0m\n\u001b[0m\u001b[0;32m      6\u001b[0m \u001b[1;31m#augment 안의 d는 지역 변수. 따라서 변수 정의가 되지 않았다는 에러 발생!\u001b[0m\u001b[1;33m\u001b[0m\u001b[1;33m\u001b[0m\u001b[0m\n",
      "\u001b[1;31mNameError\u001b[0m: name 'd' is not defined"
     ]
    }
   ],
   "source": [
    "def augment(d):\n",
    "    d = d * 100\n",
    "\n",
    "augment(10)\n",
    "print(d) \n",
    "#augment 안의 d는 지역 변수. 따라서 변수 정의가 되지 않았다는 에러 발생!"
   ]
  },
  {
   "cell_type": "markdown",
   "metadata": {},
   "source": [
    "### 함수의 결과값 활용 : return 문으로 함수 내부와 외부 연동하기\n",
    "- return문으로 반환된 결과는 프로그램의 다른 부분에서 사용할 수 있다.\n",
    "- 따라서 함수의 결과를 함수 바깥과 연동하려면 return을 사용하면 된다."
   ]
  },
  {
   "cell_type": "code",
   "execution_count": 10,
   "metadata": {},
   "outputs": [
    {
     "name": "stdout",
     "output_type": "stream",
     "text": [
      "1000\n"
     ]
    }
   ],
   "source": [
    "def augment(d):\n",
    "    d = d * 100\n",
    "    return d\n",
    "    \n",
    "d = augment(10)\n",
    "print(d) #augment 안의 d와 바깥의 d는 다르지만, 원하는 대로 d를 1000으로 바꿀 수는 있다."
   ]
  },
  {
   "cell_type": "markdown",
   "metadata": {},
   "source": [
    "### 함수의 결과값 활용 : return 문으로 여러 개의 값을 한 번에 받기\n",
    "- 함수를 작성하다보면 여러 개의 값을 한 번에 반환하고 싶을 때가 있다\n",
    "- 그럴 경우에는 반환할 값들을 return문 다음에 튜플 형식으로 적어주면 된다\n",
    "- and를 사용하게 되면, 예상과 다른 결과를 얻게 된다."
   ]
  },
  {
   "cell_type": "code",
   "execution_count": 11,
   "metadata": {},
   "outputs": [
    {
     "name": "stdout",
     "output_type": "stream",
     "text": [
      "(10, 0, 25, 1.0)\n",
      "10\n",
      "0\n",
      "25\n",
      "1.0\n"
     ]
    }
   ],
   "source": [
    "def calculator(a, b):\n",
    "    return a + b, a - b, a * b, a / b #튜플로 반환!\n",
    "a = calculator(5, 5)                  #변수 a도 튜플!\n",
    "sum, subtract, multiple, division = a # 순서대로 각각 튜플 a의 원소가 된다!\n",
    "print(a)\n",
    "print(sum)\n",
    "print(subtract)\n",
    "print(multiple)\n",
    "print(division)"
   ]
  },
  {
   "cell_type": "markdown",
   "metadata": {},
   "source": [
    "### 람다 함수(Lambda expression)\n",
    "- 일반적인 사용자 정의 함수와 다르게 이름을 붙일 필요가 없으며, 정의할 때도 def가 아닌 lambda라는 명령어를 사용"
   ]
  },
  {
   "attachments": {
    "image.png": {
     "image/png": "[encoded data removed]"
    }
   },
   "cell_type": "markdown",
   "metadata": {},
   "source": [
    "![image.png](attachment:image.png)"
   ]
  },
  {
   "cell_type": "code",
   "execution_count": 12,
   "metadata": {},
   "outputs": [
    {
     "name": "stdout",
     "output_type": "stream",
     "text": [
      "sum result is 5\n",
      "lambda result is 5\n"
     ]
    }
   ],
   "source": [
    "def sum(a, b): #사용자 정의 함수\n",
    "    result_s = a + b\n",
    "    return result_s\n",
    "\n",
    "lam = lambda x, y : x + y #람다함수\n",
    "\n",
    "print(\"sum result is \" + str(sum(2, 3)))\n",
    "print(\"lambda result is \" + str(lam(2, 3)))"
   ]
  },
  {
   "cell_type": "markdown",
   "metadata": {},
   "source": [
    "## 2. 종합 예제"
   ]
  },
  {
   "cell_type": "markdown",
   "metadata": {},
   "source": [
    "### 이 문제는 프로그래밍 수련 커뮤니티인 코딩도장에서 아이디어를 변형했습니다.\n",
    "#### 초기 투자액과 투자 기간, 그리고 투자 기간 중 날짜별 가치 변동율이 주어졌을 때, 순이익 및 이익 여부 출력\n",
    "- 투자액은 1000 이상 10000 이하의 정수\n",
    "- 투자 기간은 1 이상 10 이하의 정수"
   ]
  },
  {
   "cell_type": "code",
   "execution_count": 21,
   "metadata": {},
   "outputs": [
    {
     "name": "stdout",
     "output_type": "stream",
     "text": [
      "투자 금액을 입력하세요. 1000원 이상 10000원 이하여야 합니다 : 10000\n",
      "투자 기간은 얼마입니까? 1달 이상 10달 이하여야 합니다 : 3\n",
      "최종 금액은 9467원\n",
      "순수익금은 -533원\n",
      "bad!\n"
     ]
    }
   ],
   "source": [
    "import random\n",
    "\n",
    "def get_investment(): #초기 투자금액을 입력받는 함수\n",
    "    while True:\n",
    "       #1000원 이상 10000원 이하의 금액을 입력할 때까지 투자금액을 입력하게 합니다. \n",
    "        investment = int(input(\"투자 금액을 입력하세요. 1000원 이상 10000원 이하여야 합니다 : \"))\n",
    "        if 1000 <= investment <= 10000:\n",
    "            break\n",
    "        else:\n",
    "            continue\n",
    "    return investment\n",
    "\n",
    "def get_period(): ##투자기간을 입력받는 함수 \n",
    "    while True:\n",
    "        #1달 이상 10달 이하의 기간을 입력할 때까지 입력하게 합니다.\n",
    "        period = int(input(\"투자 기간은 얼마입니까? 1달 이상 10달 이하여야 합니다 : \"))\n",
    "        if 1 <= period <= 10:\n",
    "            break\n",
    "        else:\n",
    "            continue\n",
    "    return period\n",
    "\n",
    "seed_money = get_investment()  #초기 투자금액을 결정합니다.\n",
    "i_period = get_period()        #투자기간을 결정합니다.\n",
    "\n",
    "def get_daily_fluctuation(): #일별 변동폭을 결정하는 함수   \n",
    "    fluctuation = [random.randint(-100, 100)/1000 for day in range(0, 30 * i_period)] # 한 달은 30일로 가정합니다.\n",
    "    return fluctuation\n",
    "\n",
    "fluctuation_list = get_daily_fluctuation() #일별 변동폭을 얻어갑니다.\n",
    "\n",
    "# 마지막 날 최종금액을 계산하는 함수입니다. 이자 계산법을 매일마다 적용합니다.\n",
    "def get_gain(initial_value, variation):\n",
    "    for rate in variation: \n",
    "        initial_value = initial_value*(1 + rate) \n",
    "        # 다음날 투자금액 = 오늘 투자금액 * (1 + 오늘 변동폭)\n",
    "    return int(initial_value) #마지막날의 최종금액\n",
    "\n",
    "# 최종수익금과 순수익금을 계산합니다.\n",
    "final_value = get_gain(seed_money, fluctuation_list)\n",
    "print(\"최종 금액은 \" + str(final_value) + \"원\")\n",
    "\n",
    "net_gain = int(final_value - seed_money)\n",
    "print(\"순수익금은 \" + str(net_gain) + \"원\")\n",
    "\n",
    "# 초기 투자금액과 순수익금을 비교해서 최종결과를 출력합니다.\n",
    "if net_gain < 0:\n",
    "    print(\"bad!\")\n",
    "elif net_gain == 0:\n",
    "    print(\"so-so!\")\n",
    "else:\n",
    "    print(\"Nice!\")\n",
    "\n"
   ]
  },
  {
   "cell_type": "code",
   "execution_count": null,
   "metadata": {},
   "outputs": [],
   "source": []
  },
  {
   "cell_type": "code",
   "execution_count": null,
   "metadata": {},
   "outputs": [],
   "source": []
  }
 ],
 "metadata": {
  "kernelspec": {
   "display_name": "Python 3",
   "language": "python",
   "name": "python3"
  },
  "language_info": {
   "codemirror_mode": {
    "name": "ipython",
    "version": 3
   },
   "file_extension": ".py",
   "mimetype": "text/x-python",
   "name": "python",
   "nbconvert_exporter": "python",
   "pygments_lexer": "ipython3",
   "version": "3.6.5"
  }
 },
 "nbformat": 4,
 "nbformat_minor": 2
}
