{
 "cells": [
  {
   "cell_type": "markdown",
   "metadata": {},
   "source": [
    "#  파이썬을 활용한 딥러닝\n",
    "# 2강. 파이썬 언어 #1\n",
    "## 1. 자료형과 연산자\n",
    "### (1) 산술연산자\n",
    "- 일반적으로 사칙연산을 수행할 때 사용된다\n",
    "- '+', '-', '*', '/', '//', '**', '%' 등 다양한 산술연산자가 존재"
   ]
  },
  {
   "cell_type": "code",
   "execution_count": null,
   "metadata": {},
   "outputs": [],
   "source": [
    "print(6 + 2) # print(6 + 2) = print(8)\n",
    "print(6 * 2) # print(6 * 2) = print(12)\n",
    "print(6 / 2) # print(6 / 2) = print(3.0) : 정수를 나누면 실수\n",
    "print(6 // 2)# print(6 //2) = print(3)   : 나누고 소수를 버림\n",
    "print(6 ** 2)# print(6 **2) = print(6^2) = print(36)\n",
    "print(6 % 2) # print(6 % 2) = print(6을 2로 나눈 나머지) = print(0)"
   ]
  },
  {
   "cell_type": "markdown",
   "metadata": {},
   "source": [
    "### (2) 변수(Variable)와 할당연산자(Assignment Operator)\n",
    "\n",
    "- 변수 : 값을 담는 그릇\n",
    "- 할당연산자 : 변수에 값을 할당하는 연산을 의미하는 기호\n",
    "- 대표적인 할당연산자는 바로 '='이고, 그 외에 다양한 할당연산자 존재"
   ]
  },
  {
   "cell_type": "code",
   "execution_count": null,
   "metadata": {},
   "outputs": [],
   "source": [
    "a = 6        # = 오른쪽에 있는 정수 6을 = 왼쪽의 변수 a에 할당\n",
    "b = 2        # = 오른쪽에 있는 정수 2를 = 왼쪽의 변수 b에 할당\n",
    "print(a + b) # print(6 + 2)= print(8)\n",
    "print(a * b) # print(6 * 2)= print(12)\n",
    "print(a / b) # print(6 / 2)= print(3.0) : 정수를 나누면 실수\n",
    "print(a // b)# print(6 //2)= print(3)   : 나누고 소수를 버림\n",
    "print(a ** b)# print(6 **2)= print(6^2) = print(36)\n",
    "print(a % b) # print(6 % 2)= print(6을 2로 나눈 나머지) = print(0)"
   ]
  },
  {
   "cell_type": "markdown",
   "metadata": {},
   "source": [
    "### (3) 불리언 자료형과 비교연산자(Comparison Operator)\n",
    "- 불리언 자료형 : 참과 거짓을 담는 자료형\n",
    "- 다른 분야에서는 진리값, 논리값이라 부르기도 한다.\n",
    "- 조지 불(George Bool)이라는 사람이 창시한 개념\n",
    "\n",
    "- 비교연산자는 연산자 앞뒤의 값을 비교해서 참과 거짓을 반환한다.\n",
    "- 다음 식들은 비교연산자들에 의해서 참, 거짓을 알려준다."
   ]
  },
  {
   "cell_type": "code",
   "execution_count": null,
   "metadata": {},
   "outputs": [],
   "source": [
    "print(6 < 2)  #print(6 < 2) = print(False)\n",
    "print(6 > 2)  #print(6 > 2) = print(True)\n",
    "print(6 <= 2) #print(6 <=2) = print(False)\n",
    "print(6 >= 6) #print(6 >=6) = print(True)\n",
    "print(6 == 2) #print(6 ==2) = print(False)\n",
    "print(6 != 2) #print(6 !=2) = print(True)"
   ]
  },
  {
   "cell_type": "markdown",
   "metadata": {},
   "source": [
    "### (4) 논리연산자(Logical Operator) \n",
    "\n",
    "- 연산자 앞뒤의 값을 비교해서 참과 거짓을 반환한다.\n",
    "- 논리연산자 앞뒤의 값은 논리값인 불리언 자료형이 와야한다.\n",
    "\n",
    "- and : 앞뒤의 값이 모두 참일 때만 참을 반환. 하나라도 거짓이면 거짓\n",
    "- or : 앞뒤의 값이 모두 거짓일 때만 거짓을 반환. 하나라도 참이면 참\n",
    "- not : 논리연산값을 뒤집는다. "
   ]
  },
  {
   "cell_type": "code",
   "execution_count": null,
   "metadata": {},
   "outputs": [],
   "source": [
    "print(6 > 2 and 6 == 6)#print(True and True )= print(True) \n",
    "print(6 < 2 and 6 == 6)#print(False and True)= print(False) \n",
    "print(6 < 2 or 6 == 6) #print(False or True )= print(True) \n",
    "print(6 < 2 or 6 != 6) #print(False or False)= print(False) \n",
    "print(6 > 2)           #print(True)\n",
    "print(not 6 > 2)       #print(False)"
   ]
  },
  {
   "cell_type": "markdown",
   "metadata": {},
   "source": [
    "### (5) 문자열\n",
    "\n",
    "- 단일 문자들로 구성된 순서 있는 배열. 따라서 각 배열마다 단일 문자들의 위치가 번호로 지정되는데, 이 번호가 바로 인덱스(index)이다.\n",
    "\n",
    "- 문자열을 만드는 데는 크게 4가지의 방법이 있다.\n",
    "\n",
    "- 큰따옴표나 작은따옴표 세 개를 쓰면, 문자열을 여러 줄에 쓸 수 있다.\n",
    "\n",
    "- 하나만 쓰면, 모두 한 줄에 쓰거나 이스케이프코드(\\n)로 줄을 바꾼다!"
   ]
  },
  {
   "cell_type": "code",
   "execution_count": null,
   "metadata": {},
   "outputs": [],
   "source": [
    "print(\"I love ice cream\")\n",
    "print('I love ice cream') \n",
    "print(\"\"\"time is gold\n",
    "gold is mine\"\"\")#print(\"time is gold\\ngold is mine\")과 동일\n",
    "print('''time is gold\n",
    "gold is mine''')#print('time is gold\\ngold is mine')과 동일"
   ]
  },
  {
   "cell_type": "markdown",
   "metadata": {},
   "source": [
    "### (6) 문자열 안에 문자열 쓰기\n",
    "\n",
    "큰 따옴표와 작은 따옴표를 번갈아가며 사용하거나, 하나만 사용한다면 백슬래시(\\) 혹은 대한민국 원(Won)화 기호를 사용해야 한다"
   ]
  },
  {
   "cell_type": "code",
   "execution_count": null,
   "metadata": {},
   "outputs": [],
   "source": [
    "a = \"'아이폰' vs '갤럭시'\"\n",
    "print(a) \n",
    "a = '\"파이썬은 매우 쉬운 언어입니다\" 라고 강사님이 말했다'\n",
    "print(a)"
   ]
  },
  {
   "cell_type": "code",
   "execution_count": null,
   "metadata": {},
   "outputs": [],
   "source": [
    "a = '\\'아이폰\\' vs \\'갤럭시\\''\n",
    "print(a) \n",
    "a = \"\\\"파이썬은 매우 쉬운 언어입니다\\\" 라고 강사님이 말했다\"\n",
    "print(a)"
   ]
  },
  {
   "attachments": {},
   "cell_type": "markdown",
   "metadata": {},
   "source": [
    "### (7) 문자열 : 인덱싱과 슬라이싱\n",
    "\n",
    "인덱스는 문자열을 구성하는 각 문자의 위치 번호\n",
    "\n",
    "인덱스는 가장 첫 번째 문자에서 각각 왼쪽 혹은 오른쪽으로 얼마나 떨어져 있는지를 나타낸다\n",
    "\n",
    "인덱스를 사용해서 문자에 접근하는 방법을 인덱싱이라고 하며, 인덱스를 사용해서 문자열을 잘라내는 것을 슬라이싱 이라고 한다"
   ]
  },
  {
   "cell_type": "code",
   "execution_count": null,
   "metadata": {},
   "outputs": [],
   "source": [
    "a = \"I like Python!\"\n",
    "print(a[7]) #시작점 I에서 오른쪽으로 7칸 떨어진 문자는 대문자 P\n",
    "print(a[-7])#시작점 I에서 왼쪽으로 7칸 떨어진 문자는 대문자 P"
   ]
  },
  {
   "attachments": {
    "image.png": {
     "image/png": "[encoded data removed]"
    }
   },
   "cell_type": "markdown",
   "metadata": {},
   "source": [
    "![image.png](attachment:image.png)"
   ]
  },
  {
   "cell_type": "code",
   "execution_count": null,
   "metadata": {},
   "outputs": [],
   "source": [
    "a = \"I like Python!\"#문자열 슬라이싱 시 마지막은 포함되지 않는다.\n",
    "print(a[0:6])       #[시작:끝]을 지정하면 0번부터 5번까지만 추출! \n",
    "print(a[:6])        #시작번호를 생략하면 a[0:6]과 같아진다.\n",
    "print(a[7:14])\n",
    "print(a[7:])        #끝번호를 생략하면 a[7:14]와 같아진다.\n",
    "print(a[:])         #아무것도 지정하지 않으면 문자열 전체가 추출된다."
   ]
  },
  {
   "cell_type": "markdown",
   "metadata": {},
   "source": [
    "### (8) 문자열 바꾸기\n",
    "\n",
    "문자열은 한 번 생성하면, 요소값을 바꿀 수 없다(immutable object) #설명 수정 필요!\n",
    "\n",
    "첫 번째 방법은 인덱싱과 슬라이싱을 이용해서 새로운 문자열을 만드는 것이다"
   ]
  },
  {
   "cell_type": "code",
   "execution_count": null,
   "metadata": {},
   "outputs": [],
   "source": [
    "a = \"I like Python!\"\n",
    "a[2:7] = \"love!\" #문자열 a를 선언한 이후에는 요소 수정 불가능!\n",
    "a                #문자열은 할당을 지원하지 않는다"
   ]
  },
  {
   "cell_type": "code",
   "execution_count": null,
   "metadata": {},
   "outputs": [],
   "source": [
    "a = \"I like Python!\"\n",
    "b = a[0:2] + \"love \" + a[7:]\n",
    "print(b)"
   ]
  },
  {
   "cell_type": "markdown",
   "metadata": {},
   "source": [
    "### (9) 문자열 포맷팅\n",
    "\n",
    "문자열 포맷팅 코드를 이용해서 문자열의 특정 값을 바꾸는 작업"
   ]
  },
  {
   "cell_type": "code",
   "execution_count": null,
   "metadata": {},
   "outputs": [],
   "source": [
    "print(\"I have %d candies\" % 5)\n",
    "print(\"I have %s candies\" % 5)       # %s는 정수 5를 문자 '5'로 변환\n",
    "print(\"I have %s candies\" % \"five\")  # 정수는 %d, 문자는 %s를 사용\n",
    "a = 2.5\n",
    "print(\"I have %f cups of milk\" % a)  # 소수는 %f를 사용\n",
    "print(\"I have %.1f cups of milk\" % a)#%.1f는 소수 첫번째 까지만 표현\n",
    "a = 3\n",
    "b = \"two\"\n",
    "print(\"I had %d candies. But now I have %s candies\" % (a , b))\n",
    "#마지막 % 다음 괄호 안에 콤마(,)로 구분하면 2개 이상의 값을 넣을 수 있다  "
   ]
  },
  {
   "cell_type": "markdown",
   "metadata": {},
   "source": [
    "### (10) 자료형 변환(Type Conversion)\n",
    "특정 값의 자료형을 직접 바꿔주는 작업"
   ]
  },
  {
   "cell_type": "code",
   "execution_count": null,
   "metadata": {},
   "outputs": [],
   "source": [
    "a = 3\n",
    "b = \"2\"\n",
    "(a + b)\n",
    "# +는 숫자끼리 합하거나, 문자끼리 결합하는 기능만 지원한다.\n",
    "# +는 숫자와 문자를 합하는 기능은 지원하지 않으므로, 둘 중 하나를 형변환!"
   ]
  },
  {
   "cell_type": "code",
   "execution_count": null,
   "metadata": {},
   "outputs": [],
   "source": [
    "print(a + int(b))      # 문자 2를 정수 2로 형 변환. 5를 출력한다.\n",
    "print(str(a) + b)      # 정수 3을 문자 '3'으로 형 변환. '32'를 출력!\n",
    "print(type(str(a) + b))# 문자 '3'과 문자 '2'가 합쳐진 문자 '32'이다!\n",
    "int(str(a) + b)        # 문자 '32'를 정수 32로 다시 형 변환!"
   ]
  },
  {
   "cell_type": "markdown",
   "metadata": {},
   "source": [
    "## 2. 컨테이너 자료형\n",
    "\n",
    "- 기본자료형을 이용해서 만들어지는 새로운 자료형\n",
    "\n",
    "- 기본자료형과 달리 컨테이너 자료형에는 다양한 종류의 자료형을 담을 수 있다."
   ]
  },
  {
   "cell_type": "markdown",
   "metadata": {},
   "source": [
    "### (1) 리스트(List)\n",
    "- 여러 종류의 자료형을 혼합할 수 있는 자료구조\n",
    " \n",
    "- 문자열처럼 순서가 있어서 인덱스가 존재하며, 인덱싱과 슬라이싱 가능\n",
    " \n",
    "- 문자열과 달리 인덱싱으로 요소값을 직접 수정할 수 있다.\n",
    " \n",
    "- [원소, 원소, 원소, … …, 원소] 형태로 만든다."
   ]
  },
  {
   "cell_type": "code",
   "execution_count": null,
   "metadata": {},
   "outputs": [],
   "source": [
    "a = []                         # 비어있는 리스트\n",
    "b = [1,2,3] \n",
    "c = ['python', 'is', 'simple'] \n",
    "d = [1, 3, 'banana', 'melon']  # 원소가 숫자와 문자열인 리스트\n",
    "e = [['banana', 'melon'], 2, 4]# 원소가 리스트인 리스트 \n",
    "len(b)                         # 리스트의 길이를 반환하는 함수\n",
    "print(a)\n",
    "print(b)\n",
    "print(c)\n",
    "print(d)\n",
    "print(e)\n",
    "print(len(b))"
   ]
  },
  {
   "cell_type": "markdown",
   "metadata": {},
   "source": [
    "### 리스트 인덱싱과 슬라이싱\n",
    "- 문자열처럼 리스트에도 각 원소마다 고유한 번호가 부여되어 있다.\n",
    "- 이 번호를 이용해서 특정 값을 추출하거나, 부분을 잘라낼 수 있다."
   ]
  },
  {
   "cell_type": "code",
   "execution_count": null,
   "metadata": {},
   "outputs": [],
   "source": [
    "a = [2, 5, 3, ['a', 'b', 'c']] \n",
    "print(a[0]) \n",
    "print(a[-1][0])  # 마지막 요소인 리스트 ['a', 'b', 'c']의 첫번째 요소\n",
    "print(a[3][1])   # 마지막 요소인 리스트 ['a', 'b', 'c']의 두번째 요소 \n",
    "print(a[-1][2])  # 마지막 요소인 리스트 ['a', 'b', 'c']의 세번째 요소 \n",
    "b = [1, 2, ['a', 'b', ['python', 'is']]]\n",
    "print(b[2][2][1])# 삼중 리스트에서 인덱싱 하기\n",
    "c = [1, 2, 3, ['a', 'b', 'c'], 4, 5]\n",
    "print(c[3][:2])"
   ]
  },
  {
   "cell_type": "markdown",
   "metadata": {},
   "source": [
    "### 리스트 메서드\n",
    "- 메서드는 특정 자료형과 같이 사용 가능한 함수 "
   ]
  },
  {
   "cell_type": "code",
   "execution_count": null,
   "metadata": {},
   "outputs": [],
   "source": [
    "a = [1, 4, 2]                 \n",
    "a.append(3)      # 리스트 a의 오른쪽 끝에 값 3을 추가\n",
    "print(a)\n",
    "a.sort()         # 오름차순 정렬\n",
    "print(a)\n",
    "a.reverse()      # 뒤집기 \n",
    "print(a)\n",
    "print(a.index(2))# 왼쪽에서부터 탐색해서 나온 첫 번째 2의 인덱스\n",
    "a.insert(2, 3)   # 2번 인덱스에 3을 삽입\n",
    "print(a)\n",
    "a.remove(2)      # 2를 리스트에서 제거\n",
    "print(a)"
   ]
  },
  {
   "cell_type": "markdown",
   "metadata": {},
   "source": [
    "### 멤버연산자와 항등연산자\n",
    "\n",
    "- 어떤 값이 리스트 같은 컨테이너 자료형 혹은 문자열에 포함되는지 확인 \n",
    "- 대표적으로 in, not in 두 가지가 있다.\n",
    "- 반면 항등연산자는 두 변수가 서로 같은 객체를 지칭하는지 확인한다.\n",
    "- 대표적으로 is, is not 두 가지가 있다."
   ]
  },
  {
   "cell_type": "code",
   "execution_count": null,
   "metadata": {},
   "outputs": [],
   "source": [
    "a = [1, 2, 3]\n",
    "b = [1, 2, 3]\n",
    "print(2 in a)\n",
    "print(3 in a)\n",
    "print(3 not in a)\n",
    "print(a is b)\n",
    "print(a is not b)"
   ]
  },
  {
   "cell_type": "markdown",
   "metadata": {},
   "source": [
    "### (2) 튜플(Tuple)\n",
    " \n",
    "- 리스트와 비슷한 점이 많으나, 문자열처럼 immutable object이다.\n",
    "- 순서가 있기 때문에, 인덱스도 존재하며 인덱싱과 슬라이싱도 가능하다."
   ]
  },
  {
   "cell_type": "code",
   "execution_count": null,
   "metadata": {},
   "outputs": [],
   "source": [
    "t1 = ()         # 비어 있는 튜플\n",
    "t2 = (5,)       # 길이가 1인 튜플은 괄호와 콤마를 꼭 써야 한다.\n",
    "t3 = 10, 15, 20 # 길이가 2 이상인 튜플은 괄호를 생랼할 수 있다.\n",
    "t4 = ('a', 'b', ('c', 'd')) # 튜플도 중첩할 수 있다.\n",
    "print(t1)\n",
    "print(t2)\n",
    "print(t3)\n",
    "print(t4)\n",
    "del t4[0]      # 튜플도 문자열처럼 생성 후 요소값 수정 불가능"
   ]
  },
  {
   "cell_type": "markdown",
   "metadata": {},
   "source": [
    "### (3) 딕셔너리(Dictionary)\n",
    "\n",
    "- Key와 Value 쌍으로 이루어진 자료형\n",
    "- Key를 통해 Value를 찾는 방식으로 동작한다.\n",
    "- 리스트나 튜플과 다른 점은 순서를 따지지 않는다는 것이다!"
   ]
  },
  {
   "cell_type": "code",
   "execution_count": null,
   "metadata": {},
   "outputs": [],
   "source": [
    "d = {'name' : 'jenny', 'phone' : '01012345678', 'city' : 'Seoul'}\n",
    "print(d)        #{key1 : value1, key2 : value2, …}꼴로 생성\n",
    "d['age'] = 14   #age라는 key와 14라는 value를 추가\n",
    "print(d)\n",
    "del d['city']   #city라는 key와  key에 연관된 value를 삭제\n",
    "print(d)\n",
    "print(d['phone'])#phone이라는 key와 key에 연관된 value에 접근"
   ]
  },
  {
   "cell_type": "markdown",
   "metadata": {},
   "source": [
    "### 딕셔너리 메서드\n",
    "- 딕셔너리에도 리스트처럼 고유의 메서드가 존재한다."
   ]
  },
  {
   "cell_type": "code",
   "execution_count": null,
   "metadata": {},
   "outputs": [],
   "source": [
    "d = {'name' : 'jenny', 'phone' : '01012345678', 'city' : 'Seoul'}\n",
    "d['age'] = 14\n",
    "del d['city']\n",
    "print(d.keys())        # 딕셔너리 d의 key를 반환\n",
    "print(d.values())      # 딕셔너리 d의 value를 반환\n",
    "print(d.items())       # 딕셔너리 d의 key, value 튜플을 반환\n",
    "print(d.get('phone',0))# phone이라는 key가 있으면 value 반환,없으면 0을 반환\n",
    "print('name' in d)     # name이라는 문자열이 d의 Key인지 확인"
   ]
  },
  {
   "cell_type": "markdown",
   "metadata": {},
   "source": [
    "### (4) 집합(Set)\n",
    "- 원소들의 중복을 허용하지 않고, 원소 간 순서가 없는 자료형이다.\n",
    "- 따라서 딕셔너리처럼 인덱싱 및 슬라이싱을 할 수 없다.\n",
    "- set 이라는 키워드를 사용해서 만든다."
   ]
  },
  {
   "cell_type": "code",
   "execution_count": null,
   "metadata": {},
   "outputs": [],
   "source": [
    "S = set('oasis') \n",
    "R = set('rockband')\n",
    "print(S)                        # 중복을 허용하지 않아서, s가 하나 삭제됐다.\n",
    "print(R)                        # 중복된 게 없으므로 전부 집합 R의 원소가 됐다.\n",
    "print(\"교집합 : \" + str(S & R)) # & 기호로 교집합을 구한다.\n",
    "print(\"합집합 : \" + str(S | R)) # | 기호로 합집합을 구한다.\n",
    "print(\"차집합 : \" + str(S.difference(R))) # 차집합 S – R"
   ]
  },
  {
   "cell_type": "markdown",
   "metadata": {},
   "source": [
    "## 3. 종합 예제\n",
    "\n",
    "### 코드"
   ]
  },
  {
   "cell_type": "code",
   "execution_count": null,
   "metadata": {},
   "outputs": [],
   "source": [
    "### 프로젝트1 :계산 문제를 맞추는 게임\n",
    "\n",
    "## 두 개의 숫자를 계산하는 문제입니다. 두 숫자는 각각 1 ~ 40, 1 ~ 20사이 임의의 숫자입니다.\n",
    "## 문제의 유형은 편의상 덧셈, 뺄셈, 곱셈으로 제한합니다.\n",
    "## 문제를 출제하고, 사용자로부터 정답을 입력받습니다.\n",
    "## 입력받은 정답과 문제의 정답을 비교해서 결과를 출력합니다.\n",
    "\n",
    "### 문제 출제\n",
    "import random\n",
    "firstnumber = random.randint(1, 40)\n",
    "secondnumber = random.randint(1, 20)\n",
    "question = str(firstnumber) \n",
    "    \n",
    "operator = random.randint(1, 3)\n",
    "\n",
    "if operator == 1:\n",
    "    question = question + \" + \"\n",
    "if operator == 2:\n",
    "    question = question + \" - \"\n",
    "if operator == 3:\n",
    "    question = question + \" * \"\n",
    "question = question + str(secondnumber)\n",
    "\n",
    "### 사용자가 정답 맞추기\n",
    "useranswer = input(question + \" = \")\n",
    "useranswer = int(useranswer)\n",
    "\n",
    "if eval(question) == useranswer:\n",
    "    print(\"정답! 당신은 천재군요!\")\n",
    "else:\n",
    "    print(\"오답! 노력해야겠어요~\")"
   ]
  },
  {
   "cell_type": "markdown",
   "metadata": {},
   "source": [
    "### 과정 각 부분을 확인하기 위한 코드\n",
    "- random 모듈과 randint 함수"
   ]
  },
  {
   "cell_type": "code",
   "execution_count": null,
   "metadata": {
    "scrolled": true
   },
   "outputs": [],
   "source": [
    "import random                       #random모듈 호출\n",
    "firstnumber = random.randint(1, 40) #randint 함수 호출\n",
    "secondnumber = random.randint(1, 20)\n",
    "\n",
    "#중간 과정을 확인하기 위해 변형 및 추가해서 원본에 없는 코드\n",
    "print(\"firstnumber는 \" + str(firstnumber))\n",
    "print(\"secondnumber는 \" + str(secondnumber))"
   ]
  },
  {
   "cell_type": "markdown",
   "metadata": {},
   "source": [
    "- 조건문 if"
   ]
  },
  {
   "cell_type": "code",
   "execution_count": null,
   "metadata": {},
   "outputs": [],
   "source": [
    "import random\n",
    "question = str(firstnumber) #숫자 firstnumber를 문자열로 변환\n",
    "operator = random.randint(1, 3)\n",
    "print(\"operator는 \" + str(operator) + \"이고 question은 \" + str(question))\n",
    "if operator == 1:           #operator가 1이면 덧셈 question을 출제\n",
    "    question = question + \" + \"\n",
    "if operator == 2:           #operator가 2이면 뺄셈 question을 출제\n",
    "    question = question + \" - \"\n",
    "if operator == 3:           #operator가 3이면 곱셈 question을 출제\n",
    "    question = question + \" * \"\n",
    "print(\"question은 \" + str(question))\n",
    "question = question + str(secondnumber)\n",
    "print(\"question은 \" + str(question))"
   ]
  },
  {
   "cell_type": "markdown",
   "metadata": {},
   "source": [
    "- 사용자로부터 입력 받기"
   ]
  },
  {
   "cell_type": "code",
   "execution_count": null,
   "metadata": {},
   "outputs": [],
   "source": [
    "import random\n",
    "useranswer = input(\"question은 \" + question + \" = \")\n",
    "print(\"사용자가 입력한 값은 \" + useranswer)\n",
    "print(\"사용자가 입력한 값의 자료형은 \" + str(type(useranswer)))\n",
    "useranswer = int(useranswer)\n",
    "print(\"변형된 자료형은 \" + str(type(useranswer)))"
   ]
  },
  {
   "cell_type": "markdown",
   "metadata": {},
   "source": [
    "- 정답 확인하기"
   ]
  },
  {
   "cell_type": "code",
   "execution_count": null,
   "metadata": {},
   "outputs": [],
   "source": [
    "import random\n",
    "useranswer = input(\"question은 \" + question + \" = \")\n",
    "useranswer = int(useranswer)\n",
    "if eval(question) == useranswer:\n",
    "    print(\"정답! 당신은 천재군요!\")\n",
    "else:\n",
    "    print(\"오답! 노력해야겠어요~\")"
   ]
  },
  {
   "cell_type": "code",
   "execution_count": null,
   "metadata": {},
   "outputs": [],
   "source": []
  }
 ],
 "metadata": {
  "kernelspec": {
   "display_name": "Python 3",
   "language": "python",
   "name": "python3"
  },
  "language_info": {
   "codemirror_mode": {
    "name": "ipython",
    "version": 3
   },
   "file_extension": ".py",
   "mimetype": "text/x-python",
   "name": "python",
   "nbconvert_exporter": "python",
   "pygments_lexer": "ipython3",
   "version": "3.6.5"
  }
 },
 "nbformat": 4,
 "nbformat_minor": 2
}
