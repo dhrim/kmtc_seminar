{
 "cells": [
  {
   "cell_type": "markdown",
   "metadata": {},
   "source": [
    "#  파이썬을 활용한 딥러닝\n",
    "# 3강. 파이썬 언어 #2\n",
    "## 1. 조건문\n",
    "- 일상생활에서도 특정한 경우에 일정한 행동을 하는 경우가 있다\n",
    "- 이처럼 프로그래밍의 흐름을 제어하는 방법이 바로 조건문이다"
   ]
  },
  {
   "cell_type": "markdown",
   "metadata": {},
   "source": [
    "## 조건문의 흐름\n",
    "- 조건이 참이면 해당 명령을 수행하고, 거짓이면 해당 명령을 수행하지 않고 다음 조건을 확인하러 내려간다\n",
    "- 조건 1부터 순서대로 확인하다가, 특정 조건에 해당하는 명령을 수행하면 조건문 전체를 탈출한다"
   ]
  },
  {
   "cell_type": "markdown",
   "metadata": {},
   "source": [
    "## 조건문 예제\n",
    "- 온도에 따라 계절을 반환하는 프로그램을 보자\n",
    "- 비교.논리.멤버연산자 등을 사용해서 조건문의 참,거짓을 판단한다 "
   ]
  },
  {
   "cell_type": "code",
   "execution_count": null,
   "metadata": {},
   "outputs": [],
   "source": [
    "temperature = 2\n",
    "season = None          # 어떤 값인지 모르기 때문에 None으로 초기화!\n",
    "if temperature > 25:   # 온도가 25도보다 크면\n",
    "    season = \"여름\"    # 계절은 여름\n",
    "elif temperature > 15: # 온도가 25도 이하이면서 15도보다 크면\n",
    "    season = \"봄\"      # 계절은 봄\n",
    "elif temperature > 5:\n",
    "    season = \"가을\"\n",
    "else:                  # 위 경우에 모두 해당하지 않으면\n",
    "    season = \"겨울\"    # 계절은 겨울\n",
    "print(\"오늘은 %s입니다.\" % season)"
   ]
  },
  {
   "cell_type": "markdown",
   "metadata": {},
   "source": [
    "## input을 이용한 사용자 입력\n",
    "- 2강 예제에서도 input을 이용해서 사용자로부터 직접 입력받는 경우가 있었다\n",
    "- 온도를 사용자로부터 직접 입력받는 경우를 생각해보자.\n",
    "- input(\"질문 내용\")이라는 문법을 사용한다.\n",
    "- 입력값은 문자열 String으로 변수에 저장되므로, 필요시 형 변환 해준다."
   ]
  },
  {
   "cell_type": "code",
   "execution_count": null,
   "metadata": {},
   "outputs": [],
   "source": [
    "temperature = int(input(\"오늘 온도는? \"))\n",
    "season = None\n",
    "if temperature > 25:\n",
    "    season = \"여름\"\n",
    "elif temperature > 15:\n",
    "    season = \"봄\"\n",
    "elif temperature > 5:\n",
    "    season = \"가을\"\n",
    "else:\n",
    "    season = \"겨울\"\n",
    "print(\"오늘은 %s입니다.\" % season)"
   ]
  },
  {
   "cell_type": "markdown",
   "metadata": {},
   "source": [
    "## 2. 반복문\n",
    "- 반복문을 사용해서 반복 계산을 컴퓨터가 처리하게 만들 수 있다.\n",
    "- while 반복문과 for 반복문이 있다."
   ]
  },
  {
   "cell_type": "markdown",
   "metadata": {},
   "source": [
    "### (1) While 반복문\n",
    "- 조건문이 참인 동안(while) 명령을 계속 반복한다.\n",
    "- 조건문이 참이면 명령을 계속 수행하므로, for 반복문과 달리 반복 횟수가 정해져 있지 않다.\n",
    "- 즉, 무한 반복도 가능하다"
   ]
  },
  {
   "cell_type": "markdown",
   "metadata": {},
   "source": [
    "### while 반복문으로 구구단 출력하기"
   ]
  },
  {
   "cell_type": "code",
   "execution_count": null,
   "metadata": {},
   "outputs": [],
   "source": [
    "outside = 1\n",
    "while outside < 10: #outside가 10보다 작을 때까지 수행되는 동안\n",
    "    inside = 1\n",
    "    while inside < 10: #inside가 10보다 작을 때까지 수행된다.\n",
    "        print(\"%d * %d = %d\" % (outside, inside, outside * inside))\n",
    "        inside = inside + 1\n",
    "    outside = outside + 1"
   ]
  },
  {
   "cell_type": "markdown",
   "metadata": {},
   "source": [
    "### continue를 사용해서 원하는 경우에만 반복하기\n",
    "- 반복문을 빠져나가지 않고, 반복문의 처음으로 돌아가고 싶은 경우에는 continue 라는 예약어를 사용한다"
   ]
  },
  {
   "cell_type": "code",
   "execution_count": null,
   "metadata": {},
   "outputs": [],
   "source": [
    "outside = 1        # 홀수인 1단,3단,5단,7단,9단만 출력하는 코드이다.\n",
    "while outside < 10:# 홀수인 1단,3단,5단,7단,9단만 출력하기 위해\n",
    "    if outside % 2 == 0:\n",
    "        outside = outside + 1\n",
    "        continue   # outside를 하나 증가시키고 반복문의 처음으로 간다!\n",
    "    inside = 1\n",
    "    while inside < 10:\t\n",
    "        print(\"%d * %d = %d\" % (outside, inside, outside * inside))\n",
    "        inside = inside + 1\n",
    "    outside = outside + 1"
   ]
  },
  {
   "cell_type": "markdown",
   "metadata": {},
   "source": [
    "### 무한 루프\n",
    "- 반복문이 정지되지 않고 계속 수행되는 경우이다\n",
    "- 이 경우 반복문을 멈추기 위해서 코드가 아닌 Ctrl + C로 강제종료한다."
   ]
  },
  {
   "cell_type": "code",
   "execution_count": null,
   "metadata": {},
   "outputs": [],
   "source": [
    "result = 0\n",
    "number = 0\n",
    "while True :                  #무한 루프 시작\n",
    "    result = result + number  #두 수의 합을 계산한다.\n",
    "    print(result)\n",
    "    number = number + 1"
   ]
  },
  {
   "cell_type": "markdown",
   "metadata": {},
   "source": [
    "### break로 원하는 경우에 반복문 탈출하기\n",
    "- 반복문을 수행하는 도중에 반복문을 탈출하고 싶으면 break라는 예약어를 사용한다"
   ]
  },
  {
   "cell_type": "code",
   "execution_count": null,
   "metadata": {},
   "outputs": [],
   "source": [
    "outside = 1\t\n",
    "while outside < 99:  #break를 사용하지 않으면 이 경우에는 99단까지 출력\n",
    "    if outside == 10:#따라서 outside가 10이 되면\t\n",
    "        break        #break를 사용해서 반복문을 탈출!\n",
    "    inside = 1\n",
    "    while inside < 10:\n",
    "        print(\"%d * %d = %d\" % (outside, inside, outside * inside))\n",
    "        inside = inside + 1\n",
    "    outside = outside + 1"
   ]
  },
  {
   "cell_type": "markdown",
   "metadata": {},
   "source": [
    "### For 반복문\n",
    "- for 반복문은 while 반복문과 달리 반복횟수가 정해져 있다\n",
    "- 구구단을 for문을 사용해서 출력하면 다음과 같다.\n",
    "- oustside, inside는 반복할 때마다 1, 2, 3, ... , 9까지 증가하게 된다"
   ]
  },
  {
   "cell_type": "code",
   "execution_count": null,
   "metadata": {},
   "outputs": [],
   "source": [
    "for outside in [1, 2, 3, 4, 5, 6, 7, 8, 9]:\n",
    "    for inside in [1, 2, 3, 4, 5, 6, 7, 8, 9]:\n",
    "        print(\"%d * %d = %d\" % (outside, inside, outside * inside))"
   ]
  },
  {
   "cell_type": "markdown",
   "metadata": {},
   "source": [
    "### range(start = 0, end, step = 1) 함수\n",
    "- start부터 시작해서 (end - 1)까지 step 만큼 증가시키며 숫자들을 생성하고, 이들을 모은 리스트를 반환한다\n",
    "- 앞의 코드보다 더 간결하게 반복문을 쓸 수 있다"
   ]
  },
  {
   "cell_type": "code",
   "execution_count": null,
   "metadata": {},
   "outputs": [],
   "source": [
    "for outside in range(1, 10):#for outside in [1,2,3,4,5,6,7,8,9]\n",
    "    for inside in range(1, 10):#for inside in [1,2,3,4,5,6,7,8,9]\n",
    "        print(\"%d * %d = %d\" % (outside, inside, outside * inside))"
   ]
  },
  {
   "cell_type": "markdown",
   "metadata": {},
   "source": [
    "### 리스트 내포\n",
    "- 리스트 내포를 이용하면 더 빠르게 반복문을 계산할 수 있다."
   ]
  },
  {
   "cell_type": "code",
   "execution_count": null,
   "metadata": {},
   "outputs": [],
   "source": [
    "# [표현식 for 변수 in 반복가능객체]\n",
    "# 결과를 담은 리스트를 만들기 때문에, 반드시 대괄호 안에 식을 써야 한다\n",
    "for outside in range(1, 10):\n",
    "    [print(\"%d * %d = %d \" % (outside, inside, outside * inside)) \n",
    "        for inside in range(1, 10)]"
   ]
  },
  {
   "cell_type": "markdown",
   "metadata": {},
   "source": [
    "### 다중 리스트 내포\n",
    "- 중첩 리스트 내포를 이용해서 중첩 반복문을 표현할 수 있다."
   ]
  },
  {
   "cell_type": "code",
   "execution_count": null,
   "metadata": {},
   "outputs": [],
   "source": [
    "# [표현식 for 변수1 in 반복가능객체1 for 변수2 in 반복가능객체 2]\n",
    "# 결과를 담은 리스트를 만들기 때문에, 반드시 대괄호 안에 식을 써야 한다\n",
    "[print(\"%d * %d = %d \" % (outside, inside, outside * inside)) \n",
    "    for outside in range(1, 10) for inside in range(1, 10)]\n",
    "\n",
    "None"
   ]
  },
  {
   "cell_type": "markdown",
   "metadata": {},
   "source": [
    "## 3. 종합 예제\n",
    "- 사용자로부터 원하는 횟수만큼 계산 문제를 출제하고, 최종 정답률을 출력해주는 프로그램"
   ]
  },
  {
   "cell_type": "code",
   "execution_count": null,
   "metadata": {},
   "outputs": [],
   "source": [
    "import random\n",
    "#input으로 입력받은 값은 문자열이므로 필요시 형 변환합니다.\n",
    "#이 경우 trials가 range 함수의 인수로 들어가므로, 정수형으로 형 변환해야 합니다.\n",
    "trials = int(input(\"퀴즈를 몇 번 푸시겠습니까? \"))\n",
    "correct = 0\n",
    "wrong = 0\n",
    "\n",
    "for index in range(trials): #반복문만 제외하고 2강과 거의 동일합니다.\n",
    "    firstnumber = random.randint(1, 40) \n",
    "    secondnumber = random.randint(1, 20)\n",
    "    operator = random.randint(1, 3)\n",
    "    question = str(firstnumber)\n",
    "    if operator == 1:\n",
    "        question = question + \" + \"\n",
    "    elif operator == 2:\n",
    "        question = question + \" - \" \n",
    "    elif operator == 3:\n",
    "        question = question + \" * \"\n",
    "    question = question + str(secondnumber)\n",
    "    useranswer = int(input((\"%d번 문제는 \" % index)+question+\" = \"))\n",
    "    if eval(question) == useranswer:\n",
    "        correct = correct + 1\n",
    "    else:\n",
    "        wrong = wrong + 1\n",
    "\n",
    "print(\"맞춘 문제의 개수는 %s개입니다.\" % str(correct))\n",
    "print(\"틀린 문제의 개수는 %s개입니다.\" % str(wrong))\n",
    "print(\"따라서 정답률은 %s%% 입니다.\" % str(int(100 * (correct / (correct + wrong)))))\n",
    "if(wrong == 0):\n",
    "    print(\"당신은 천재입니다!\")\n",
    "\n"
   ]
  },
  {
   "cell_type": "code",
   "execution_count": null,
   "metadata": {},
   "outputs": [],
   "source": []
  }
 ],
 "metadata": {
  "kernelspec": {
   "display_name": "Python 3",
   "language": "python",
   "name": "python3"
  },
  "language_info": {
   "codemirror_mode": {
    "name": "ipython",
    "version": 3
   },
   "file_extension": ".py",
   "mimetype": "text/x-python",
   "name": "python",
   "nbconvert_exporter": "python",
   "pygments_lexer": "ipython3",
   "version": "3.6.5"
  }
 },
 "nbformat": 4,
 "nbformat_minor": 2
}
