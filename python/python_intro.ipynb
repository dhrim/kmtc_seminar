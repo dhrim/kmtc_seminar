{
  "nbformat": 4,
  "nbformat_minor": 0,
  "metadata": {
    "colab": {
      "name": "python_intro.ipynb",
      "version": "0.3.2",
      "provenance": []
    },
    "kernelspec": {
      "name": "python3",
      "display_name": "Python 3"
    }
  },
  "cells": [
    {
      "cell_type": "markdown",
      "metadata": {
        "id": "Ci7Sp3BUkGH7",
        "colab_type": "text"
      },
      "source": [
        "# 첫 파이썬 코드 - hello"
      ]
    },
    {
      "cell_type": "code",
      "metadata": {
        "id": "-Il3jz7qj_QD",
        "colab_type": "code",
        "colab": {
          "base_uri": "https://localhost:8080/",
          "height": 35
        },
        "outputId": "213c59b7-33d3-4f50-c8f0-b0d5d2ebaf0b"
      },
      "source": [
        "print(\"hello\")"
      ],
      "execution_count": 1,
      "outputs": [
        {
          "output_type": "stream",
          "text": [
            "hello\n"
          ],
          "name": "stdout"
        }
      ]
    },
    {
      "cell_type": "code",
      "metadata": {
        "id": "8u7c8aHzkErf",
        "colab_type": "code",
        "colab": {
          "base_uri": "https://localhost:8080/",
          "height": 35
        },
        "outputId": "5c9a1ff3-e3bd-4a6e-8c1f-93c35011c9f6"
      },
      "source": [
        "print(1)"
      ],
      "execution_count": 2,
      "outputs": [
        {
          "output_type": "stream",
          "text": [
            "1\n"
          ],
          "name": "stdout"
        }
      ]
    },
    {
      "cell_type": "markdown",
      "metadata": {
        "id": "RwCU2piKkhQn",
        "colab_type": "text"
      },
      "source": [
        "print()는 대상을 출력하라는 python 명령어"
      ]
    },
    {
      "cell_type": "code",
      "metadata": {
        "id": "FDiCFcR9kN2R",
        "colab_type": "code",
        "colab": {
          "base_uri": "https://localhost:8080/",
          "height": 35
        },
        "outputId": "d22ec76c-67e5-46d2-9cd9-0a000c10b6c8"
      },
      "source": [
        "print(\"1\")"
      ],
      "execution_count": 3,
      "outputs": [
        {
          "output_type": "stream",
          "text": [
            "1\n"
          ],
          "name": "stdout"
        }
      ]
    },
    {
      "cell_type": "code",
      "metadata": {
        "id": "Wme-S2YqkPxE",
        "colab_type": "code",
        "colab": {
          "base_uri": "https://localhost:8080/",
          "height": 165
        },
        "outputId": "da7b3ca2-2c77-48ec-80c5-2cf4eea9650c"
      },
      "source": [
        "print(hello)"
      ],
      "execution_count": 4,
      "outputs": [
        {
          "output_type": "error",
          "ename": "NameError",
          "evalue": "ignored",
          "traceback": [
            "\u001b[0;31m---------------------------------------------------------------------------\u001b[0m",
            "\u001b[0;31mNameError\u001b[0m                                 Traceback (most recent call last)",
            "\u001b[0;32m<ipython-input-4-1cd80308eb4c>\u001b[0m in \u001b[0;36m<module>\u001b[0;34m()\u001b[0m\n\u001b[0;32m----> 1\u001b[0;31m \u001b[0mprint\u001b[0m\u001b[0;34m(\u001b[0m\u001b[0mhello\u001b[0m\u001b[0;34m)\u001b[0m\u001b[0;34m\u001b[0m\u001b[0;34m\u001b[0m\u001b[0m\n\u001b[0m",
            "\u001b[0;31mNameError\u001b[0m: name 'hello' is not defined"
          ]
        }
      ]
    },
    {
      "cell_type": "markdown",
      "metadata": {
        "id": "we_h-M3kvc5u",
        "colab_type": "text"
      },
      "source": [
        "# 연산"
      ]
    },
    {
      "cell_type": "code",
      "metadata": {
        "id": "IKLvzOA6visR",
        "colab_type": "code",
        "colab": {
          "base_uri": "https://localhost:8080/",
          "height": 35
        },
        "outputId": "5cd70568-f7b9-4c1b-d5f1-11d9b33d14ff"
      },
      "source": [
        "1+2"
      ],
      "execution_count": 50,
      "outputs": [
        {
          "output_type": "execute_result",
          "data": {
            "text/plain": [
              "3"
            ]
          },
          "metadata": {
            "tags": []
          },
          "execution_count": 50
        }
      ]
    },
    {
      "cell_type": "code",
      "metadata": {
        "id": "75wM8dntviqF",
        "colab_type": "code",
        "colab": {
          "base_uri": "https://localhost:8080/",
          "height": 35
        },
        "outputId": "68cb6533-726d-4df9-b80c-d78741226a66"
      },
      "source": [
        "1+2+3"
      ],
      "execution_count": 51,
      "outputs": [
        {
          "output_type": "execute_result",
          "data": {
            "text/plain": [
              "6"
            ]
          },
          "metadata": {
            "tags": []
          },
          "execution_count": 51
        }
      ]
    },
    {
      "cell_type": "code",
      "metadata": {
        "id": "XgbCUUZsvimC",
        "colab_type": "code",
        "colab": {
          "base_uri": "https://localhost:8080/",
          "height": 35
        },
        "outputId": "00da6dc5-e996-4a14-d219-7eccefb0e23f"
      },
      "source": [
        "(1+2)*3"
      ],
      "execution_count": 52,
      "outputs": [
        {
          "output_type": "execute_result",
          "data": {
            "text/plain": [
              "9"
            ]
          },
          "metadata": {
            "tags": []
          },
          "execution_count": 52
        }
      ]
    },
    {
      "cell_type": "code",
      "metadata": {
        "id": "WAttN4FbviT0",
        "colab_type": "code",
        "colab": {
          "base_uri": "https://localhost:8080/",
          "height": 35
        },
        "outputId": "c3d93510-f755-40f2-9475-49d1925abc92"
      },
      "source": [
        "1+(2*3)"
      ],
      "execution_count": 53,
      "outputs": [
        {
          "output_type": "execute_result",
          "data": {
            "text/plain": [
              "7"
            ]
          },
          "metadata": {
            "tags": []
          },
          "execution_count": 53
        }
      ]
    },
    {
      "cell_type": "markdown",
      "metadata": {
        "id": "DXoN9VhlkS8E",
        "colab_type": "text"
      },
      "source": [
        "# 변수"
      ]
    },
    {
      "cell_type": "code",
      "metadata": {
        "id": "lbyHeVEKkWqd",
        "colab_type": "code",
        "colab": {
          "base_uri": "https://localhost:8080/",
          "height": 35
        },
        "outputId": "5d5aca86-5c15-4544-93c5-a6f0b442a381"
      },
      "source": [
        "print(\"tom\")"
      ],
      "execution_count": 6,
      "outputs": [
        {
          "output_type": "stream",
          "text": [
            "tom\n"
          ],
          "name": "stdout"
        }
      ]
    },
    {
      "cell_type": "code",
      "metadata": {
        "id": "0oiNnoCikQ08",
        "colab_type": "code",
        "colab": {
          "base_uri": "https://localhost:8080/",
          "height": 35
        },
        "outputId": "b09940ab-bcf6-43ec-be77-7f832f250cd6"
      },
      "source": [
        "name = \"tom\"\n",
        "print(name)"
      ],
      "execution_count": 5,
      "outputs": [
        {
          "output_type": "stream",
          "text": [
            "tom\n"
          ],
          "name": "stdout"
        }
      ]
    },
    {
      "cell_type": "markdown",
      "metadata": {
        "id": "_4Bso17ukm0q",
        "colab_type": "text"
      },
      "source": [
        "모든 데이터는 변수에 담아서 사용한다\n",
        "\n",
        "변수에 담을 때는 다으모가 같이 '='를 사용한다\n",
        "```\n",
        "변수명 = 값\n",
        "```\n",
        "\n",
        "\n",
        "<br>\n",
        "\n",
        "print() 명령은 전달된 것이 \n",
        "\n",
        "변수이면 변수에 담긴 값을 출력하고\n",
        "\n",
        "값이면 그 값을 출력한다."
      ]
    },
    {
      "cell_type": "code",
      "metadata": {
        "id": "MmTbcxeJkY6d",
        "colab_type": "code",
        "colab": {
          "base_uri": "https://localhost:8080/",
          "height": 35
        },
        "outputId": "88cf7ed7-c878-4594-cd3c-c6105a895765"
      },
      "source": [
        "age = 20\n",
        "print(age)"
      ],
      "execution_count": 7,
      "outputs": [
        {
          "output_type": "stream",
          "text": [
            "20\n"
          ],
          "name": "stdout"
        }
      ]
    },
    {
      "cell_type": "code",
      "metadata": {
        "id": "7WOe_P_AkcSG",
        "colab_type": "code",
        "colab": {
          "base_uri": "https://localhost:8080/",
          "height": 35
        },
        "outputId": "fdb12128-90e2-4dc2-b101-9359a351aa70"
      },
      "source": [
        "print(20)"
      ],
      "execution_count": 8,
      "outputs": [
        {
          "output_type": "stream",
          "text": [
            "20\n"
          ],
          "name": "stdout"
        }
      ]
    },
    {
      "cell_type": "markdown",
      "metadata": {
        "id": "eHYLDsM_lJ0L",
        "colab_type": "text"
      },
      "source": [
        "# 사칙 연산"
      ]
    },
    {
      "cell_type": "code",
      "metadata": {
        "id": "Q7ja_XnMkdRf",
        "colab_type": "code",
        "colab": {
          "base_uri": "https://localhost:8080/",
          "height": 35
        },
        "outputId": "4d9696b2-f4df-4e36-91cf-e95c0c158cd9"
      },
      "source": [
        "print(2+3)"
      ],
      "execution_count": 13,
      "outputs": [
        {
          "output_type": "stream",
          "text": [
            "5\n"
          ],
          "name": "stdout"
        }
      ]
    },
    {
      "cell_type": "code",
      "metadata": {
        "id": "7MaXfRIClOyL",
        "colab_type": "code",
        "colab": {
          "base_uri": "https://localhost:8080/",
          "height": 35
        },
        "outputId": "f6654951-9965-4c80-dd34-ff7c41557bd5"
      },
      "source": [
        "print(2-3)"
      ],
      "execution_count": 14,
      "outputs": [
        {
          "output_type": "stream",
          "text": [
            "-1\n"
          ],
          "name": "stdout"
        }
      ]
    },
    {
      "cell_type": "code",
      "metadata": {
        "id": "CXi4rh3mlPca",
        "colab_type": "code",
        "colab": {
          "base_uri": "https://localhost:8080/",
          "height": 35
        },
        "outputId": "45b6b726-141b-4feb-dc20-b09f7e0a3eaa"
      },
      "source": [
        "print(2*3)"
      ],
      "execution_count": 15,
      "outputs": [
        {
          "output_type": "stream",
          "text": [
            "6\n"
          ],
          "name": "stdout"
        }
      ]
    },
    {
      "cell_type": "code",
      "metadata": {
        "id": "S1WMDczSlRTq",
        "colab_type": "code",
        "colab": {
          "base_uri": "https://localhost:8080/",
          "height": 35
        },
        "outputId": "61202137-be40-4356-c5ca-28f865d7f1e5"
      },
      "source": [
        "print(2/3)"
      ],
      "execution_count": 16,
      "outputs": [
        {
          "output_type": "stream",
          "text": [
            "0.6666666666666666\n"
          ],
          "name": "stdout"
        }
      ]
    },
    {
      "cell_type": "markdown",
      "metadata": {
        "id": "dx-xLgQ2lYTr",
        "colab_type": "text"
      },
      "source": [
        "기본적인 사칙연산을 제공한다"
      ]
    },
    {
      "cell_type": "code",
      "metadata": {
        "id": "uD5baliDlU-p",
        "colab_type": "code",
        "colab": {}
      },
      "source": [
        "a = 2\n",
        "b = 3"
      ],
      "execution_count": 0,
      "outputs": []
    },
    {
      "cell_type": "code",
      "metadata": {
        "id": "rEQU3GAZleVy",
        "colab_type": "code",
        "colab": {
          "base_uri": "https://localhost:8080/",
          "height": 35
        },
        "outputId": "25b51529-f3bb-4612-b2a2-7dac7b03771b"
      },
      "source": [
        "print(a+b)"
      ],
      "execution_count": 27,
      "outputs": [
        {
          "output_type": "stream",
          "text": [
            "5\n"
          ],
          "name": "stdout"
        }
      ]
    },
    {
      "cell_type": "code",
      "metadata": {
        "id": "eb-B9YyNlfqn",
        "colab_type": "code",
        "colab": {
          "base_uri": "https://localhost:8080/",
          "height": 35
        },
        "outputId": "ee9e6fea-661e-4440-818e-ee84111e9648"
      },
      "source": [
        "print(a-b)"
      ],
      "execution_count": 20,
      "outputs": [
        {
          "output_type": "stream",
          "text": [
            "-1\n"
          ],
          "name": "stdout"
        }
      ]
    },
    {
      "cell_type": "code",
      "metadata": {
        "id": "H3BZZ_ZRlgmR",
        "colab_type": "code",
        "colab": {
          "base_uri": "https://localhost:8080/",
          "height": 35
        },
        "outputId": "6d73fb80-7b53-413b-fbb5-de9d823a11c7"
      },
      "source": [
        "print(a*b)"
      ],
      "execution_count": 21,
      "outputs": [
        {
          "output_type": "stream",
          "text": [
            "6\n"
          ],
          "name": "stdout"
        }
      ]
    },
    {
      "cell_type": "code",
      "metadata": {
        "id": "4xxy6y5Rlimz",
        "colab_type": "code",
        "colab": {
          "base_uri": "https://localhost:8080/",
          "height": 35
        },
        "outputId": "7085315f-7161-4405-8ee4-29d293b42495"
      },
      "source": [
        "print(a/b)"
      ],
      "execution_count": 22,
      "outputs": [
        {
          "output_type": "stream",
          "text": [
            "0.6666666666666666\n"
          ],
          "name": "stdout"
        }
      ]
    },
    {
      "cell_type": "markdown",
      "metadata": {
        "id": "0bR2OWbqlllC",
        "colab_type": "text"
      },
      "source": [
        "연산에 사용된 것이 변수이면 변수의 값을,\n",
        "\n",
        "값이면 값 자체를 사용한다."
      ]
    },
    {
      "cell_type": "markdown",
      "metadata": {
        "id": "h6VHS35emNA_",
        "colab_type": "text"
      },
      "source": [
        "# 변수에 값 할당"
      ]
    },
    {
      "cell_type": "code",
      "metadata": {
        "id": "MeobJBhhljby",
        "colab_type": "code",
        "colab": {
          "base_uri": "https://localhost:8080/",
          "height": 35
        },
        "outputId": "d205b5c9-6e3e-4d05-cb48-b27689d5f394"
      },
      "source": [
        "c = a+b\n",
        "print(c)"
      ],
      "execution_count": 23,
      "outputs": [
        {
          "output_type": "stream",
          "text": [
            "5\n"
          ],
          "name": "stdout"
        }
      ]
    },
    {
      "cell_type": "code",
      "metadata": {
        "id": "n91mrtzDlufR",
        "colab_type": "code",
        "colab": {
          "base_uri": "https://localhost:8080/",
          "height": 35
        },
        "outputId": "3a4361ab-f159-4382-cfee-92721253e048"
      },
      "source": [
        "c = a-b\n",
        "print(c)"
      ],
      "execution_count": 24,
      "outputs": [
        {
          "output_type": "stream",
          "text": [
            "-1\n"
          ],
          "name": "stdout"
        }
      ]
    },
    {
      "cell_type": "code",
      "metadata": {
        "id": "lhelb8Mplvdp",
        "colab_type": "code",
        "colab": {
          "base_uri": "https://localhost:8080/",
          "height": 35
        },
        "outputId": "ec618ec4-9785-48c5-fe4e-8e90e7bde70f"
      },
      "source": [
        "c = a*b\n",
        "print(c)"
      ],
      "execution_count": 25,
      "outputs": [
        {
          "output_type": "stream",
          "text": [
            "6\n"
          ],
          "name": "stdout"
        }
      ]
    },
    {
      "cell_type": "code",
      "metadata": {
        "id": "iPKZQ0nglw84",
        "colab_type": "code",
        "colab": {
          "base_uri": "https://localhost:8080/",
          "height": 35
        },
        "outputId": "7616790b-b650-418a-95cd-485b7889fcce"
      },
      "source": [
        "c = a/b\n",
        "print(c)"
      ],
      "execution_count": 26,
      "outputs": [
        {
          "output_type": "stream",
          "text": [
            "0.6666666666666666\n"
          ],
          "name": "stdout"
        }
      ]
    },
    {
      "cell_type": "markdown",
      "metadata": {
        "id": "xSC-zsNclzLl",
        "colab_type": "text"
      },
      "source": [
        "연산된 결과를 다른 변수에 담을 수 있다.\n",
        "\n",
        "담는 방법은 역시 위에서 언급한 '='를 사용한다.\n",
        "\n",
        "\n",
        "<br>\n",
        "\n",
        "'='는 같다라는 의미가 아니라 우측의 결과값을 좌측의 변수에 담으라는 일종의 명령어, 정확히는 연산자이다."
      ]
    },
    {
      "cell_type": "markdown",
      "metadata": {
        "id": "LEpZdgkIv1J3",
        "colab_type": "text"
      },
      "source": [
        "대신 같음을 비교하는 비교 연산자는 '==' 입니다."
      ]
    },
    {
      "cell_type": "code",
      "metadata": {
        "id": "UBrE4gyZv-SV",
        "colab_type": "code",
        "colab": {
          "base_uri": "https://localhost:8080/",
          "height": 35
        },
        "outputId": "49bf36df-f13a-4ea3-d0cb-8db58327b64f"
      },
      "source": [
        "1==1"
      ],
      "execution_count": 55,
      "outputs": [
        {
          "output_type": "execute_result",
          "data": {
            "text/plain": [
              "True"
            ]
          },
          "metadata": {
            "tags": []
          },
          "execution_count": 55
        }
      ]
    },
    {
      "cell_type": "code",
      "metadata": {
        "id": "nM5mZAJivyOh",
        "colab_type": "code",
        "colab": {
          "base_uri": "https://localhost:8080/",
          "height": 35
        },
        "outputId": "31324479-4eb3-405b-a330-014cad2bdcd4"
      },
      "source": [
        "1==2"
      ],
      "execution_count": 54,
      "outputs": [
        {
          "output_type": "execute_result",
          "data": {
            "text/plain": [
              "False"
            ]
          },
          "metadata": {
            "tags": []
          },
          "execution_count": 54
        }
      ]
    },
    {
      "cell_type": "code",
      "metadata": {
        "id": "NGox4BXwv_zm",
        "colab_type": "code",
        "colab": {
          "base_uri": "https://localhost:8080/",
          "height": 35
        },
        "outputId": "a5c846ff-0f67-4fa6-99da-5c9f4357052a"
      },
      "source": [
        "a = 3\n",
        "a==3"
      ],
      "execution_count": 56,
      "outputs": [
        {
          "output_type": "execute_result",
          "data": {
            "text/plain": [
              "True"
            ]
          },
          "metadata": {
            "tags": []
          },
          "execution_count": 56
        }
      ]
    },
    {
      "cell_type": "code",
      "metadata": {
        "id": "1FBYfZp3v_w1",
        "colab_type": "code",
        "colab": {
          "base_uri": "https://localhost:8080/",
          "height": 35
        },
        "outputId": "b367d437-724a-4085-9733-dffb1f93ea03"
      },
      "source": [
        "a = 4\n",
        "a==4"
      ],
      "execution_count": 57,
      "outputs": [
        {
          "output_type": "execute_result",
          "data": {
            "text/plain": [
              "True"
            ]
          },
          "metadata": {
            "tags": []
          },
          "execution_count": 57
        }
      ]
    },
    {
      "cell_type": "code",
      "metadata": {
        "id": "YrXPcTThv_uG",
        "colab_type": "code",
        "colab": {
          "base_uri": "https://localhost:8080/",
          "height": 35
        },
        "outputId": "0a4cfc7d-86e9-4d85-dfb8-435db8dcc3f1"
      },
      "source": [
        "a = 3\n",
        "b = 3\n",
        "a==b"
      ],
      "execution_count": 58,
      "outputs": [
        {
          "output_type": "execute_result",
          "data": {
            "text/plain": [
              "True"
            ]
          },
          "metadata": {
            "tags": []
          },
          "execution_count": 58
        }
      ]
    },
    {
      "cell_type": "code",
      "metadata": {
        "id": "IZF66Pj9wIhw",
        "colab_type": "code",
        "colab": {
          "base_uri": "https://localhost:8080/",
          "height": 35
        },
        "outputId": "3cc9dc1c-0c45-43cd-d41c-8db6d3fce83d"
      },
      "source": [
        "a = 2\n",
        "a = 3\n",
        "a==b"
      ],
      "execution_count": 59,
      "outputs": [
        {
          "output_type": "execute_result",
          "data": {
            "text/plain": [
              "True"
            ]
          },
          "metadata": {
            "tags": []
          },
          "execution_count": 59
        }
      ]
    },
    {
      "cell_type": "code",
      "metadata": {
        "id": "5-9Mux_7wIey",
        "colab_type": "code",
        "colab": {
          "base_uri": "https://localhost:8080/",
          "height": 35
        },
        "outputId": "5af138e7-e393-4bba-878a-84367bd99f6c"
      },
      "source": [
        "name = \"tom\"\n",
        "name==\"tom\""
      ],
      "execution_count": 60,
      "outputs": [
        {
          "output_type": "execute_result",
          "data": {
            "text/plain": [
              "True"
            ]
          },
          "metadata": {
            "tags": []
          },
          "execution_count": 60
        }
      ]
    },
    {
      "cell_type": "code",
      "metadata": {
        "id": "NFx2UthSwIZM",
        "colab_type": "code",
        "colab": {
          "base_uri": "https://localhost:8080/",
          "height": 35
        },
        "outputId": "d27dc089-2c55-4e92-ab61-bb7c2170d353"
      },
      "source": [
        "name = \"jerry\"\n",
        "name==\"tom\""
      ],
      "execution_count": 62,
      "outputs": [
        {
          "output_type": "execute_result",
          "data": {
            "text/plain": [
              "False"
            ]
          },
          "metadata": {
            "tags": []
          },
          "execution_count": 62
        }
      ]
    },
    {
      "cell_type": "markdown",
      "metadata": {
        "id": "gY4lAO6BmXJY",
        "colab_type": "text"
      },
      "source": [
        "# 데이터 타입"
      ]
    },
    {
      "cell_type": "code",
      "metadata": {
        "id": "vUDe4EI8lyHH",
        "colab_type": "code",
        "colab": {
          "base_uri": "https://localhost:8080/",
          "height": 35
        },
        "outputId": "009ca27f-0a4d-4d0f-8a48-68a744779943"
      },
      "source": [
        "print(3)"
      ],
      "execution_count": 28,
      "outputs": [
        {
          "output_type": "stream",
          "text": [
            "3\n"
          ],
          "name": "stdout"
        }
      ]
    },
    {
      "cell_type": "code",
      "metadata": {
        "id": "J2zSdnBYmaxU",
        "colab_type": "code",
        "colab": {
          "base_uri": "https://localhost:8080/",
          "height": 35
        },
        "outputId": "7cf5f864-6bdb-4c6c-9d0c-45727c12f8e7"
      },
      "source": [
        "print(3.0)"
      ],
      "execution_count": 29,
      "outputs": [
        {
          "output_type": "stream",
          "text": [
            "3.0\n"
          ],
          "name": "stdout"
        }
      ]
    },
    {
      "cell_type": "code",
      "metadata": {
        "id": "pnRCCPMCmbwd",
        "colab_type": "code",
        "colab": {
          "base_uri": "https://localhost:8080/",
          "height": 35
        },
        "outputId": "3bdaeda3-019f-4a30-955a-8e8a5c13d5e5"
      },
      "source": [
        "print(3.)"
      ],
      "execution_count": 30,
      "outputs": [
        {
          "output_type": "stream",
          "text": [
            "3.0\n"
          ],
          "name": "stdout"
        }
      ]
    },
    {
      "cell_type": "code",
      "metadata": {
        "id": "9cOvQKwFmcf0",
        "colab_type": "code",
        "colab": {
          "base_uri": "https://localhost:8080/",
          "height": 35
        },
        "outputId": "e703b33e-837e-47d6-9a0f-2325cb7c2934"
      },
      "source": [
        "print(\"hello\")"
      ],
      "execution_count": 31,
      "outputs": [
        {
          "output_type": "stream",
          "text": [
            "hello\n"
          ],
          "name": "stdout"
        }
      ]
    },
    {
      "cell_type": "markdown",
      "metadata": {
        "id": "RBnKwfRVmn9n",
        "colab_type": "text"
      },
      "source": [
        "정수와 실수 그리고 문자열로 구분된다.(이외에도 몇가지 더 있다.)\n",
        "\n",
        "정수와 실수의 구분은 메모리 사용과 관련되어 있다.\n",
        "\n",
        "각각 int, float라 부른다. integer의 약자. 소수점이 떠 다닌다 해서 floating.\n",
        "\n",
        "\n",
        "<br>\n",
        "\n",
        "그리고 문자열은 단순 값 1개가 아니라 여러개의 값들로 처리하는 내부적인 처리방식 때문에 별개로 처리한다.\n",
        "\n",
        "문자열은 string이라 불린다. 각 문자들의 연결이라는 의미이다."
      ]
    },
    {
      "cell_type": "code",
      "metadata": {
        "id": "zkznK-Mgmmcz",
        "colab_type": "code",
        "colab": {
          "base_uri": "https://localhost:8080/",
          "height": 35
        },
        "outputId": "95aa1f86-fafa-4711-ba62-ceeb8143f595"
      },
      "source": [
        "print(3)"
      ],
      "execution_count": 33,
      "outputs": [
        {
          "output_type": "stream",
          "text": [
            "3\n"
          ],
          "name": "stdout"
        }
      ]
    },
    {
      "cell_type": "code",
      "metadata": {
        "id": "bv5ghczNm_6T",
        "colab_type": "code",
        "colab": {
          "base_uri": "https://localhost:8080/",
          "height": 35
        },
        "outputId": "ec9bbfe5-23f6-4537-e0da-324b38b494d3"
      },
      "source": [
        "print(float(3))"
      ],
      "execution_count": 34,
      "outputs": [
        {
          "output_type": "stream",
          "text": [
            "3.0\n"
          ],
          "name": "stdout"
        }
      ]
    },
    {
      "cell_type": "code",
      "metadata": {
        "id": "s0TxSDw-nA7X",
        "colab_type": "code",
        "colab": {
          "base_uri": "https://localhost:8080/",
          "height": 35
        },
        "outputId": "3f51bf3b-1413-48aa-9bef-a48c690c3bcc"
      },
      "source": [
        "print(3.1)"
      ],
      "execution_count": 35,
      "outputs": [
        {
          "output_type": "stream",
          "text": [
            "3.1\n"
          ],
          "name": "stdout"
        }
      ]
    },
    {
      "cell_type": "code",
      "metadata": {
        "id": "JjF3tdhKnWN3",
        "colab_type": "code",
        "colab": {
          "base_uri": "https://localhost:8080/",
          "height": 35
        },
        "outputId": "c4883bbb-81b3-47db-bfb1-bfb1384a9f16"
      },
      "source": [
        "print(int(3.1))"
      ],
      "execution_count": 36,
      "outputs": [
        {
          "output_type": "stream",
          "text": [
            "3\n"
          ],
          "name": "stdout"
        }
      ]
    },
    {
      "cell_type": "markdown",
      "metadata": {
        "id": "RNIksKuqnZz0",
        "colab_type": "text"
      },
      "source": [
        "서로 간에 변환할 때는 int(), float()라는 함수를 사용한다.\n",
        "\n",
        "float를 int로 변환할 때는 정보의 손실이 발생한다.\n",
        "\n",
        "<br>\n",
        "\n",
        "+, -, *, /, = 등을 연산자라 하고 \n",
        "\n",
        "print(), int(), float() 처럼 괄호가 있어서 값을 전달하는 것을 함수라 부른다.\n"
      ]
    },
    {
      "cell_type": "markdown",
      "metadata": {
        "id": "OgDmJb2qnyy5",
        "colab_type": "text"
      },
      "source": [
        "# 데이터와 연산\n",
        "\n",
        "모든 프로그램은 값을 처리하는 것들이다.\n",
        "\n",
        "- 값을 담기 위해 변수와 기타 것들이 있고,\n",
        "- 처리를 하기 위해 연산자, 함수가 있다.\n",
        "\n",
        "\n",
        "<br>\n",
        "\n",
        "특히 값을 담은 변수를 특화한\n",
        "\n",
        "- list, dictionary, map, tuple 이 있다.\n",
        "\n",
        "\n",
        "<br>\n",
        "\n",
        "값에 따라 처리할 내용을 달리 하기 위해\n",
        "\n",
        "- if와 같은 제어문이 있고\n",
        "\n",
        "\n",
        "<br>\n",
        "\n",
        "반복적인 것을 처리하기 위한\n",
        "\n",
        "- for나 while같은 loop 가 있다.\n",
        "\n",
        "\n",
        "<br>\n",
        "\n",
        "\n",
        "<br>\n",
        "\n",
        "효율적, 구조적 으로 처리하기 위해\n",
        "\n",
        "- class라는 것이 있고\n",
        "\n",
        "\n",
        "<br>\n",
        "\n",
        "이미 작성된 코드의 재활용을 위해\n",
        "\n",
        "- module이나 library가 있다.\n",
        "\n",
        "\n",
        "<br>\n",
        "\n",
        "처리할 데이터를 가져오고, 처리한 값을 내보내기 위한 다음과 같은 IO(Input/Output)이 있다.\n",
        "\n",
        "- File I/O\n",
        "- DB Connection\n",
        "- Rest API\n",
        "- HTTP\n",
        "- ...\n",
        "\n",
        "\n"
      ]
    },
    {
      "cell_type": "markdown",
      "metadata": {
        "id": "gEZYPJ5ksw9O",
        "colab_type": "text"
      },
      "source": [
        "# 제어문 if"
      ]
    },
    {
      "cell_type": "code",
      "metadata": {
        "id": "wgWyz6AAnXRk",
        "colab_type": "code",
        "colab": {
          "base_uri": "https://localhost:8080/",
          "height": 35
        },
        "outputId": "16051854-4912-47d8-f4d2-85c4c786925c"
      },
      "source": [
        "temp = 35\n",
        "print(temp)"
      ],
      "execution_count": 37,
      "outputs": [
        {
          "output_type": "stream",
          "text": [
            "35\n"
          ],
          "name": "stdout"
        }
      ]
    },
    {
      "cell_type": "code",
      "metadata": {
        "id": "zgDO_46Vs2SH",
        "colab_type": "code",
        "colab": {
          "base_uri": "https://localhost:8080/",
          "height": 35
        },
        "outputId": "54207cfa-5e67-4561-b816-0df587181cef"
      },
      "source": [
        "print(\"더워요. 온도가\",temp,\"도 입니다.\")"
      ],
      "execution_count": 39,
      "outputs": [
        {
          "output_type": "stream",
          "text": [
            "더워요. 온도가 35 도 입니다.\n"
          ],
          "name": "stdout"
        }
      ]
    },
    {
      "cell_type": "code",
      "metadata": {
        "id": "HM3ttxt4s_5K",
        "colab_type": "code",
        "colab": {
          "base_uri": "https://localhost:8080/",
          "height": 35
        },
        "outputId": "2d7cb116-9606-4d71-846f-bee93959a677"
      },
      "source": [
        "temp = 20\n",
        "print(\"시원해요. 온도가\",temp,\"도 입니다.\")"
      ],
      "execution_count": 40,
      "outputs": [
        {
          "output_type": "stream",
          "text": [
            "시원해요. 온도가 20 도 입니다.\n"
          ],
          "name": "stdout"
        }
      ]
    },
    {
      "cell_type": "code",
      "metadata": {
        "id": "SOg76ybatODW",
        "colab_type": "code",
        "colab": {
          "base_uri": "https://localhost:8080/",
          "height": 35
        },
        "outputId": "d5b61713-f5eb-42e5-86ae-9b550e2e4087"
      },
      "source": [
        "temp = 30\n",
        "if temp > 25:\n",
        "  print(\"더워요. 온도가\",temp,\"도 입니다.\")"
      ],
      "execution_count": 42,
      "outputs": [
        {
          "output_type": "stream",
          "text": [
            "더워요. 온도가 30 도 입니다.\n"
          ],
          "name": "stdout"
        }
      ]
    },
    {
      "cell_type": "code",
      "metadata": {
        "id": "W60FUoWGtz-x",
        "colab_type": "code",
        "colab": {}
      },
      "source": [
        "temp = 20\n",
        "if temp > 25:\n",
        "  print(\"더워요. 온도가\",temp,\"도 입니다.\")"
      ],
      "execution_count": 0,
      "outputs": []
    },
    {
      "cell_type": "markdown",
      "metadata": {
        "id": "OqGZnFWMtX4P",
        "colab_type": "text"
      },
      "source": [
        "조건을 만족할 때만 처리하도록 합니다.\n",
        "\n",
        "다음 약속(syntax)를 따라야 합니다.\n",
        "- if 뒤에는 조건이 오고\n",
        "- 조건 뒤에는 ':'이 와야 하고\n",
        "- 실행 내용은 한칸 들여써야 합니다.\n",
        "\n",
        "\n"
      ]
    },
    {
      "cell_type": "markdown",
      "metadata": {
        "id": "UzEGbGHUvAPI",
        "colab_type": "text"
      },
      "source": [
        "## else\n",
        "\n",
        "조건을 만족하지 않는 경우에 처리할 내용은 else로 명시합니다."
      ]
    },
    {
      "cell_type": "code",
      "metadata": {
        "id": "rl4hIEsvtV2d",
        "colab_type": "code",
        "colab": {
          "base_uri": "https://localhost:8080/",
          "height": 35
        },
        "outputId": "0080d42b-3fa9-4a29-8344-390981a548b2"
      },
      "source": [
        "temp = 30\n",
        "if temp > 25:\n",
        "  print(\"더워요. 온도가\",temp,\"도 입니다.\")\n",
        "else:\n",
        "  print(\"시원해요. 온도가\",temp,\"도 입니다.\")    "
      ],
      "execution_count": 44,
      "outputs": [
        {
          "output_type": "stream",
          "text": [
            "더워요. 온도가 30 도 입니다.\n"
          ],
          "name": "stdout"
        }
      ]
    },
    {
      "cell_type": "code",
      "metadata": {
        "id": "lDZWqQP9t69f",
        "colab_type": "code",
        "colab": {
          "base_uri": "https://localhost:8080/",
          "height": 35
        },
        "outputId": "c696d763-8537-4952-856a-cf7b237827d6"
      },
      "source": [
        "temp = 20\n",
        "if temp > 25:\n",
        "  print(\"더워요. 온도가\",temp,\"도 입니다.\")\n",
        "else:\n",
        "  print(\"시원해요. 온도가\",temp,\"도 입니다.\")    "
      ],
      "execution_count": 45,
      "outputs": [
        {
          "output_type": "stream",
          "text": [
            "시원해요. 온도가 20 도 입니다.\n"
          ],
          "name": "stdout"
        }
      ]
    },
    {
      "cell_type": "markdown",
      "metadata": {
        "id": "bMXAHUnKt88z",
        "colab_type": "text"
      },
      "source": [
        "if와 else를 사용하여 조건을 만족할 경우와 만족하지 않을 경우 각각 처리할 내용을 달리 할 수 있습니다.\n",
        "\n",
        "- else와 :이 있고\n",
        "- 역시 한칸 들여 씁니다.\n",
        "\n",
        "\n"
      ]
    },
    {
      "cell_type": "markdown",
      "metadata": {
        "id": "UE_ANgNLvJPS",
        "colab_type": "text"
      },
      "source": [
        "## elif"
      ]
    },
    {
      "cell_type": "code",
      "metadata": {
        "id": "pwDo-Bjmt8Cf",
        "colab_type": "code",
        "colab": {
          "base_uri": "https://localhost:8080/",
          "height": 35
        },
        "outputId": "23fc6d75-7113-4e4a-df2f-923a18d2c772"
      },
      "source": [
        "temp = 20\n",
        "if temp > 25:\n",
        "  print(\"더워요. 온도가\",temp,\"도 입니다.\")\n",
        "elif temp > 15:\n",
        "  print(\"시원해요. 온도가\",temp,\"도 입니다.\")  \n",
        "else:\n",
        "  print(\"추워요. 온도가\",temp,\"도 입니다.\")"
      ],
      "execution_count": 48,
      "outputs": [
        {
          "output_type": "stream",
          "text": [
            "시원해요. 온도가 20 도 입니다.\n"
          ],
          "name": "stdout"
        }
      ]
    },
    {
      "cell_type": "code",
      "metadata": {
        "id": "RcNrI1PguhO3",
        "colab_type": "code",
        "colab": {
          "base_uri": "https://localhost:8080/",
          "height": 35
        },
        "outputId": "59696104-f850-485b-aee3-e5b57ee47379"
      },
      "source": [
        "temp = 10\n",
        "if temp > 25:\n",
        "  print(\"더워요. 온도가\",temp,\"도 입니다.\")\n",
        "elif temp > 15:\n",
        "  print(\"시원해요. 온도가\",temp,\"도 입니다.\")  \n",
        "else:\n",
        "  print(\"추워요. 온도가\",temp,\"도 입니다.\")"
      ],
      "execution_count": 49,
      "outputs": [
        {
          "output_type": "stream",
          "text": [
            "추워요. 온도가 10 도 입니다.\n"
          ],
          "name": "stdout"
        }
      ]
    },
    {
      "cell_type": "markdown",
      "metadata": {
        "id": "-pbo7c0RunWF",
        "colab_type": "text"
      },
      "source": [
        "elif를 사용하여 여러개의 조건을 순차적으로 적용하여 처리가 가능합니다.\n",
        "\n",
        "- elif 뒤에 조건을 명시합니다.\n",
        "- 조건 뒤에 :을 답니다.\n",
        "- 실행할 명령은 역시 한칸 들여 씁니다."
      ]
    },
    {
      "cell_type": "code",
      "metadata": {
        "id": "Q6ftcz_CumFp",
        "colab_type": "code",
        "colab": {}
      },
      "source": [
        ""
      ],
      "execution_count": 0,
      "outputs": []
    }
  ]
}