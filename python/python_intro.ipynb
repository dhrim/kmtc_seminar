{
  "nbformat": 4,
  "nbformat_minor": 0,
  "metadata": {
    "colab": {
      "name": "python_intro.ipynb",
      "version": "0.3.2",
      "provenance": [],
      "collapsed_sections": [],
      "toc_visible": true
    },
    "kernelspec": {
      "name": "python3",
      "display_name": "Python 3"
    }
  },
  "cells": [
    {
      "cell_type": "markdown",
      "metadata": {
        "id": "Ci7Sp3BUkGH7",
        "colab_type": "text"
      },
      "source": [
        "# 첫 파이썬 코드 - hello"
      ]
    },
    {
      "cell_type": "code",
      "metadata": {
        "id": "-Il3jz7qj_QD",
        "colab_type": "code",
        "outputId": "213c59b7-33d3-4f50-c8f0-b0d5d2ebaf0b",
        "colab": {
          "base_uri": "https://localhost:8080/",
          "height": 35
        }
      },
      "source": [
        "print(\"hello\")"
      ],
      "execution_count": 0,
      "outputs": [
        {
          "output_type": "stream",
          "text": [
            "hello\n"
          ],
          "name": "stdout"
        }
      ]
    },
    {
      "cell_type": "code",
      "metadata": {
        "id": "8u7c8aHzkErf",
        "colab_type": "code",
        "outputId": "5c9a1ff3-e3bd-4a6e-8c1f-93c35011c9f6",
        "colab": {
          "base_uri": "https://localhost:8080/",
          "height": 35
        }
      },
      "source": [
        "print(1)"
      ],
      "execution_count": 0,
      "outputs": [
        {
          "output_type": "stream",
          "text": [
            "1\n"
          ],
          "name": "stdout"
        }
      ]
    },
    {
      "cell_type": "markdown",
      "metadata": {
        "id": "RwCU2piKkhQn",
        "colab_type": "text"
      },
      "source": [
        "print()는 대상을 출력하라는 python 명령어"
      ]
    },
    {
      "cell_type": "code",
      "metadata": {
        "id": "FDiCFcR9kN2R",
        "colab_type": "code",
        "outputId": "d22ec76c-67e5-46d2-9cd9-0a000c10b6c8",
        "colab": {
          "base_uri": "https://localhost:8080/",
          "height": 35
        }
      },
      "source": [
        "print(\"1\")"
      ],
      "execution_count": 0,
      "outputs": [
        {
          "output_type": "stream",
          "text": [
            "1\n"
          ],
          "name": "stdout"
        }
      ]
    },
    {
      "cell_type": "code",
      "metadata": {
        "id": "Wme-S2YqkPxE",
        "colab_type": "code",
        "outputId": "da7b3ca2-2c77-48ec-80c5-2cf4eea9650c",
        "colab": {
          "base_uri": "https://localhost:8080/",
          "height": 165
        }
      },
      "source": [
        "print(hello)"
      ],
      "execution_count": 0,
      "outputs": [
        {
          "output_type": "error",
          "ename": "NameError",
          "evalue": "ignored",
          "traceback": [
            "\u001b[0;31m---------------------------------------------------------------------------\u001b[0m",
            "\u001b[0;31mNameError\u001b[0m                                 Traceback (most recent call last)",
            "\u001b[0;32m<ipython-input-4-1cd80308eb4c>\u001b[0m in \u001b[0;36m<module>\u001b[0;34m()\u001b[0m\n\u001b[0;32m----> 1\u001b[0;31m \u001b[0mprint\u001b[0m\u001b[0;34m(\u001b[0m\u001b[0mhello\u001b[0m\u001b[0;34m)\u001b[0m\u001b[0;34m\u001b[0m\u001b[0;34m\u001b[0m\u001b[0m\n\u001b[0m",
            "\u001b[0;31mNameError\u001b[0m: name 'hello' is not defined"
          ]
        }
      ]
    },
    {
      "cell_type": "markdown",
      "metadata": {
        "id": "y_KaN2eld41m",
        "colab_type": "text"
      },
      "source": [
        "# 변수와 연산자"
      ]
    },
    {
      "cell_type": "markdown",
      "metadata": {
        "id": "we_h-M3kvc5u",
        "colab_type": "text"
      },
      "source": [
        "## 연산"
      ]
    },
    {
      "cell_type": "code",
      "metadata": {
        "id": "IKLvzOA6visR",
        "colab_type": "code",
        "outputId": "5cd70568-f7b9-4c1b-d5f1-11d9b33d14ff",
        "colab": {
          "base_uri": "https://localhost:8080/",
          "height": 35
        }
      },
      "source": [
        "1+2"
      ],
      "execution_count": 0,
      "outputs": [
        {
          "output_type": "execute_result",
          "data": {
            "text/plain": [
              "3"
            ]
          },
          "metadata": {
            "tags": []
          },
          "execution_count": 50
        }
      ]
    },
    {
      "cell_type": "code",
      "metadata": {
        "id": "75wM8dntviqF",
        "colab_type": "code",
        "outputId": "68cb6533-726d-4df9-b80c-d78741226a66",
        "colab": {
          "base_uri": "https://localhost:8080/",
          "height": 35
        }
      },
      "source": [
        "1+2+3"
      ],
      "execution_count": 0,
      "outputs": [
        {
          "output_type": "execute_result",
          "data": {
            "text/plain": [
              "6"
            ]
          },
          "metadata": {
            "tags": []
          },
          "execution_count": 51
        }
      ]
    },
    {
      "cell_type": "code",
      "metadata": {
        "id": "XgbCUUZsvimC",
        "colab_type": "code",
        "outputId": "00da6dc5-e996-4a14-d219-7eccefb0e23f",
        "colab": {
          "base_uri": "https://localhost:8080/",
          "height": 35
        }
      },
      "source": [
        "(1+2)*3"
      ],
      "execution_count": 0,
      "outputs": [
        {
          "output_type": "execute_result",
          "data": {
            "text/plain": [
              "9"
            ]
          },
          "metadata": {
            "tags": []
          },
          "execution_count": 52
        }
      ]
    },
    {
      "cell_type": "code",
      "metadata": {
        "id": "WAttN4FbviT0",
        "colab_type": "code",
        "outputId": "c3d93510-f755-40f2-9475-49d1925abc92",
        "colab": {
          "base_uri": "https://localhost:8080/",
          "height": 35
        }
      },
      "source": [
        "1+(2*3)"
      ],
      "execution_count": 0,
      "outputs": [
        {
          "output_type": "execute_result",
          "data": {
            "text/plain": [
              "7"
            ]
          },
          "metadata": {
            "tags": []
          },
          "execution_count": 53
        }
      ]
    },
    {
      "cell_type": "markdown",
      "metadata": {
        "id": "DXoN9VhlkS8E",
        "colab_type": "text"
      },
      "source": [
        "## 변수"
      ]
    },
    {
      "cell_type": "code",
      "metadata": {
        "id": "lbyHeVEKkWqd",
        "colab_type": "code",
        "outputId": "5d5aca86-5c15-4544-93c5-a6f0b442a381",
        "colab": {
          "base_uri": "https://localhost:8080/",
          "height": 35
        }
      },
      "source": [
        "print(\"tom\")"
      ],
      "execution_count": 0,
      "outputs": [
        {
          "output_type": "stream",
          "text": [
            "tom\n"
          ],
          "name": "stdout"
        }
      ]
    },
    {
      "cell_type": "code",
      "metadata": {
        "id": "0oiNnoCikQ08",
        "colab_type": "code",
        "outputId": "b09940ab-bcf6-43ec-be77-7f832f250cd6",
        "colab": {
          "base_uri": "https://localhost:8080/",
          "height": 35
        }
      },
      "source": [
        "name = \"tom\"\n",
        "print(name)"
      ],
      "execution_count": 0,
      "outputs": [
        {
          "output_type": "stream",
          "text": [
            "tom\n"
          ],
          "name": "stdout"
        }
      ]
    },
    {
      "cell_type": "markdown",
      "metadata": {
        "id": "_4Bso17ukm0q",
        "colab_type": "text"
      },
      "source": [
        "모든 데이터는 변수에 담아서 사용한다\n",
        "\n",
        "변수에 담을 때는 다으모가 같이 '='를 사용한다\n",
        "```\n",
        "변수명 = 값\n",
        "```\n",
        "\n",
        "\n",
        "<br>\n",
        "\n",
        "print() 명령은 전달된 것이 \n",
        "\n",
        "변수이면 변수에 담긴 값을 출력하고\n",
        "\n",
        "값이면 그 값을 출력한다."
      ]
    },
    {
      "cell_type": "code",
      "metadata": {
        "id": "MmTbcxeJkY6d",
        "colab_type": "code",
        "outputId": "88cf7ed7-c878-4594-cd3c-c6105a895765",
        "colab": {
          "base_uri": "https://localhost:8080/",
          "height": 35
        }
      },
      "source": [
        "age = 20\n",
        "print(age)"
      ],
      "execution_count": 0,
      "outputs": [
        {
          "output_type": "stream",
          "text": [
            "20\n"
          ],
          "name": "stdout"
        }
      ]
    },
    {
      "cell_type": "code",
      "metadata": {
        "id": "7WOe_P_AkcSG",
        "colab_type": "code",
        "outputId": "fdb12128-90e2-4dc2-b101-9359a351aa70",
        "colab": {
          "base_uri": "https://localhost:8080/",
          "height": 35
        }
      },
      "source": [
        "print(20)"
      ],
      "execution_count": 0,
      "outputs": [
        {
          "output_type": "stream",
          "text": [
            "20\n"
          ],
          "name": "stdout"
        }
      ]
    },
    {
      "cell_type": "markdown",
      "metadata": {
        "id": "eHYLDsM_lJ0L",
        "colab_type": "text"
      },
      "source": [
        "## 사칙 연산"
      ]
    },
    {
      "cell_type": "code",
      "metadata": {
        "id": "Q7ja_XnMkdRf",
        "colab_type": "code",
        "outputId": "4d9696b2-f4df-4e36-91cf-e95c0c158cd9",
        "colab": {
          "base_uri": "https://localhost:8080/",
          "height": 35
        }
      },
      "source": [
        "print(2+3)"
      ],
      "execution_count": 0,
      "outputs": [
        {
          "output_type": "stream",
          "text": [
            "5\n"
          ],
          "name": "stdout"
        }
      ]
    },
    {
      "cell_type": "code",
      "metadata": {
        "id": "7MaXfRIClOyL",
        "colab_type": "code",
        "outputId": "f6654951-9965-4c80-dd34-ff7c41557bd5",
        "colab": {
          "base_uri": "https://localhost:8080/",
          "height": 35
        }
      },
      "source": [
        "print(2-3)"
      ],
      "execution_count": 0,
      "outputs": [
        {
          "output_type": "stream",
          "text": [
            "-1\n"
          ],
          "name": "stdout"
        }
      ]
    },
    {
      "cell_type": "code",
      "metadata": {
        "id": "CXi4rh3mlPca",
        "colab_type": "code",
        "outputId": "45b6b726-141b-4feb-dc20-b09f7e0a3eaa",
        "colab": {
          "base_uri": "https://localhost:8080/",
          "height": 35
        }
      },
      "source": [
        "print(2*3)"
      ],
      "execution_count": 0,
      "outputs": [
        {
          "output_type": "stream",
          "text": [
            "6\n"
          ],
          "name": "stdout"
        }
      ]
    },
    {
      "cell_type": "code",
      "metadata": {
        "id": "S1WMDczSlRTq",
        "colab_type": "code",
        "outputId": "61202137-be40-4356-c5ca-28f865d7f1e5",
        "colab": {
          "base_uri": "https://localhost:8080/",
          "height": 35
        }
      },
      "source": [
        "print(2/3)"
      ],
      "execution_count": 0,
      "outputs": [
        {
          "output_type": "stream",
          "text": [
            "0.6666666666666666\n"
          ],
          "name": "stdout"
        }
      ]
    },
    {
      "cell_type": "markdown",
      "metadata": {
        "id": "dx-xLgQ2lYTr",
        "colab_type": "text"
      },
      "source": [
        "기본적인 사칙연산을 제공한다"
      ]
    },
    {
      "cell_type": "code",
      "metadata": {
        "id": "uD5baliDlU-p",
        "colab_type": "code",
        "colab": {}
      },
      "source": [
        "a = 2\n",
        "b = 3"
      ],
      "execution_count": 0,
      "outputs": []
    },
    {
      "cell_type": "code",
      "metadata": {
        "id": "rEQU3GAZleVy",
        "colab_type": "code",
        "outputId": "25b51529-f3bb-4612-b2a2-7dac7b03771b",
        "colab": {
          "base_uri": "https://localhost:8080/",
          "height": 35
        }
      },
      "source": [
        "print(a+b)"
      ],
      "execution_count": 0,
      "outputs": [
        {
          "output_type": "stream",
          "text": [
            "5\n"
          ],
          "name": "stdout"
        }
      ]
    },
    {
      "cell_type": "code",
      "metadata": {
        "id": "eb-B9YyNlfqn",
        "colab_type": "code",
        "outputId": "ee9e6fea-661e-4440-818e-ee84111e9648",
        "colab": {
          "base_uri": "https://localhost:8080/",
          "height": 35
        }
      },
      "source": [
        "print(a-b)"
      ],
      "execution_count": 0,
      "outputs": [
        {
          "output_type": "stream",
          "text": [
            "-1\n"
          ],
          "name": "stdout"
        }
      ]
    },
    {
      "cell_type": "code",
      "metadata": {
        "id": "H3BZZ_ZRlgmR",
        "colab_type": "code",
        "outputId": "6d73fb80-7b53-413b-fbb5-de9d823a11c7",
        "colab": {
          "base_uri": "https://localhost:8080/",
          "height": 35
        }
      },
      "source": [
        "print(a*b)"
      ],
      "execution_count": 0,
      "outputs": [
        {
          "output_type": "stream",
          "text": [
            "6\n"
          ],
          "name": "stdout"
        }
      ]
    },
    {
      "cell_type": "code",
      "metadata": {
        "id": "4xxy6y5Rlimz",
        "colab_type": "code",
        "outputId": "7085315f-7161-4405-8ee4-29d293b42495",
        "colab": {
          "base_uri": "https://localhost:8080/",
          "height": 35
        }
      },
      "source": [
        "print(a/b)"
      ],
      "execution_count": 0,
      "outputs": [
        {
          "output_type": "stream",
          "text": [
            "0.6666666666666666\n"
          ],
          "name": "stdout"
        }
      ]
    },
    {
      "cell_type": "markdown",
      "metadata": {
        "id": "0bR2OWbqlllC",
        "colab_type": "text"
      },
      "source": [
        "연산에 사용된 것이 변수이면 변수의 값을,\n",
        "\n",
        "값이면 값 자체를 사용한다."
      ]
    },
    {
      "cell_type": "markdown",
      "metadata": {
        "id": "h6VHS35emNA_",
        "colab_type": "text"
      },
      "source": [
        "## 변수에 값 할당"
      ]
    },
    {
      "cell_type": "code",
      "metadata": {
        "id": "MeobJBhhljby",
        "colab_type": "code",
        "outputId": "d205b5c9-6e3e-4d05-cb48-b27689d5f394",
        "colab": {
          "base_uri": "https://localhost:8080/",
          "height": 35
        }
      },
      "source": [
        "c = a+b\n",
        "print(c)"
      ],
      "execution_count": 0,
      "outputs": [
        {
          "output_type": "stream",
          "text": [
            "5\n"
          ],
          "name": "stdout"
        }
      ]
    },
    {
      "cell_type": "code",
      "metadata": {
        "id": "n91mrtzDlufR",
        "colab_type": "code",
        "outputId": "3a4361ab-f159-4382-cfee-92721253e048",
        "colab": {
          "base_uri": "https://localhost:8080/",
          "height": 35
        }
      },
      "source": [
        "c = a-b\n",
        "print(c)"
      ],
      "execution_count": 0,
      "outputs": [
        {
          "output_type": "stream",
          "text": [
            "-1\n"
          ],
          "name": "stdout"
        }
      ]
    },
    {
      "cell_type": "code",
      "metadata": {
        "id": "lhelb8Mplvdp",
        "colab_type": "code",
        "outputId": "ec618ec4-9785-48c5-fe4e-8e90e7bde70f",
        "colab": {
          "base_uri": "https://localhost:8080/",
          "height": 35
        }
      },
      "source": [
        "c = a*b\n",
        "print(c)"
      ],
      "execution_count": 0,
      "outputs": [
        {
          "output_type": "stream",
          "text": [
            "6\n"
          ],
          "name": "stdout"
        }
      ]
    },
    {
      "cell_type": "code",
      "metadata": {
        "id": "iPKZQ0nglw84",
        "colab_type": "code",
        "outputId": "7616790b-b650-418a-95cd-485b7889fcce",
        "colab": {
          "base_uri": "https://localhost:8080/",
          "height": 35
        }
      },
      "source": [
        "c = a/b\n",
        "print(c)"
      ],
      "execution_count": 0,
      "outputs": [
        {
          "output_type": "stream",
          "text": [
            "0.6666666666666666\n"
          ],
          "name": "stdout"
        }
      ]
    },
    {
      "cell_type": "markdown",
      "metadata": {
        "id": "xSC-zsNclzLl",
        "colab_type": "text"
      },
      "source": [
        "연산된 결과를 다른 변수에 담을 수 있다.\n",
        "\n",
        "담는 방법은 역시 위에서 언급한 '='를 사용한다.\n",
        "\n",
        "\n",
        "<br>\n",
        "\n",
        "'='는 같다라는 의미가 아니라 우측의 결과값을 좌측의 변수에 담으라는 일종의 명령어, 정확히는 연산자이다."
      ]
    },
    {
      "cell_type": "markdown",
      "metadata": {
        "id": "LEpZdgkIv1J3",
        "colab_type": "text"
      },
      "source": [
        "대신 같음을 비교하는 비교 연산자는 '==' 입니다."
      ]
    },
    {
      "cell_type": "code",
      "metadata": {
        "id": "UBrE4gyZv-SV",
        "colab_type": "code",
        "outputId": "49bf36df-f13a-4ea3-d0cb-8db58327b64f",
        "colab": {
          "base_uri": "https://localhost:8080/",
          "height": 35
        }
      },
      "source": [
        "1==1"
      ],
      "execution_count": 0,
      "outputs": [
        {
          "output_type": "execute_result",
          "data": {
            "text/plain": [
              "True"
            ]
          },
          "metadata": {
            "tags": []
          },
          "execution_count": 55
        }
      ]
    },
    {
      "cell_type": "code",
      "metadata": {
        "id": "nM5mZAJivyOh",
        "colab_type": "code",
        "outputId": "31324479-4eb3-405b-a330-014cad2bdcd4",
        "colab": {
          "base_uri": "https://localhost:8080/",
          "height": 35
        }
      },
      "source": [
        "1==2"
      ],
      "execution_count": 0,
      "outputs": [
        {
          "output_type": "execute_result",
          "data": {
            "text/plain": [
              "False"
            ]
          },
          "metadata": {
            "tags": []
          },
          "execution_count": 54
        }
      ]
    },
    {
      "cell_type": "code",
      "metadata": {
        "id": "NGox4BXwv_zm",
        "colab_type": "code",
        "outputId": "a5c846ff-0f67-4fa6-99da-5c9f4357052a",
        "colab": {
          "base_uri": "https://localhost:8080/",
          "height": 35
        }
      },
      "source": [
        "a = 3\n",
        "a==3"
      ],
      "execution_count": 0,
      "outputs": [
        {
          "output_type": "execute_result",
          "data": {
            "text/plain": [
              "True"
            ]
          },
          "metadata": {
            "tags": []
          },
          "execution_count": 56
        }
      ]
    },
    {
      "cell_type": "code",
      "metadata": {
        "id": "1FBYfZp3v_w1",
        "colab_type": "code",
        "outputId": "b367d437-724a-4085-9733-dffb1f93ea03",
        "colab": {
          "base_uri": "https://localhost:8080/",
          "height": 35
        }
      },
      "source": [
        "a = 4\n",
        "a==4"
      ],
      "execution_count": 0,
      "outputs": [
        {
          "output_type": "execute_result",
          "data": {
            "text/plain": [
              "True"
            ]
          },
          "metadata": {
            "tags": []
          },
          "execution_count": 57
        }
      ]
    },
    {
      "cell_type": "code",
      "metadata": {
        "id": "YrXPcTThv_uG",
        "colab_type": "code",
        "outputId": "0a4cfc7d-86e9-4d85-dfb8-435db8dcc3f1",
        "colab": {
          "base_uri": "https://localhost:8080/",
          "height": 35
        }
      },
      "source": [
        "a = 3\n",
        "b = 3\n",
        "a==b"
      ],
      "execution_count": 0,
      "outputs": [
        {
          "output_type": "execute_result",
          "data": {
            "text/plain": [
              "True"
            ]
          },
          "metadata": {
            "tags": []
          },
          "execution_count": 58
        }
      ]
    },
    {
      "cell_type": "code",
      "metadata": {
        "id": "IZF66Pj9wIhw",
        "colab_type": "code",
        "outputId": "3cc9dc1c-0c45-43cd-d41c-8db6d3fce83d",
        "colab": {
          "base_uri": "https://localhost:8080/",
          "height": 35
        }
      },
      "source": [
        "a = 2\n",
        "a = 3\n",
        "a==b"
      ],
      "execution_count": 0,
      "outputs": [
        {
          "output_type": "execute_result",
          "data": {
            "text/plain": [
              "True"
            ]
          },
          "metadata": {
            "tags": []
          },
          "execution_count": 59
        }
      ]
    },
    {
      "cell_type": "code",
      "metadata": {
        "id": "5-9Mux_7wIey",
        "colab_type": "code",
        "outputId": "5af138e7-e393-4bba-878a-84367bd99f6c",
        "colab": {
          "base_uri": "https://localhost:8080/",
          "height": 35
        }
      },
      "source": [
        "name = \"tom\"\n",
        "name==\"tom\""
      ],
      "execution_count": 0,
      "outputs": [
        {
          "output_type": "execute_result",
          "data": {
            "text/plain": [
              "True"
            ]
          },
          "metadata": {
            "tags": []
          },
          "execution_count": 60
        }
      ]
    },
    {
      "cell_type": "code",
      "metadata": {
        "id": "NFx2UthSwIZM",
        "colab_type": "code",
        "outputId": "d27dc089-2c55-4e92-ab61-bb7c2170d353",
        "colab": {
          "base_uri": "https://localhost:8080/",
          "height": 35
        }
      },
      "source": [
        "name = \"jerry\"\n",
        "name==\"tom\""
      ],
      "execution_count": 0,
      "outputs": [
        {
          "output_type": "execute_result",
          "data": {
            "text/plain": [
              "False"
            ]
          },
          "metadata": {
            "tags": []
          },
          "execution_count": 62
        }
      ]
    },
    {
      "cell_type": "markdown",
      "metadata": {
        "id": "LJ0mdOQKeCue",
        "colab_type": "text"
      },
      "source": [
        "# 데이터 타입"
      ]
    },
    {
      "cell_type": "markdown",
      "metadata": {
        "id": "PfH460rCO4Im",
        "colab_type": "text"
      },
      "source": [
        "## Boolean 타입\n",
        "True와 False의 값을 갖는 데이터 타입"
      ]
    },
    {
      "cell_type": "code",
      "metadata": {
        "id": "FihV1PwtO81F",
        "colab_type": "code",
        "colab": {
          "base_uri": "https://localhost:8080/",
          "height": 35
        },
        "outputId": "2cc87b4e-72ea-4fe3-cd7d-ac3d5e3d0c97"
      },
      "source": [
        "is_equal = (1==1)\n",
        "print(is_equal)"
      ],
      "execution_count": 3,
      "outputs": [
        {
          "output_type": "stream",
          "text": [
            "True\n"
          ],
          "name": "stdout"
        }
      ]
    },
    {
      "cell_type": "code",
      "metadata": {
        "id": "J4HF88H8PABP",
        "colab_type": "code",
        "colab": {
          "base_uri": "https://localhost:8080/",
          "height": 35
        },
        "outputId": "e0a58c40-4920-4392-bae6-3eb6c9699abe"
      },
      "source": [
        "is_euqal = (1==2)\n",
        "print(is_equal)"
      ],
      "execution_count": 2,
      "outputs": [
        {
          "output_type": "stream",
          "text": [
            "True\n"
          ],
          "name": "stdout"
        }
      ]
    },
    {
      "cell_type": "markdown",
      "metadata": {
        "id": "oxBwljLnOnZ1",
        "colab_type": "text"
      },
      "source": [
        "## 데이터 타입 들\n",
        "- int : 정수. integer의 약자.\n",
        "- float : 실수. floating의 약자\n",
        "- str : 문자열. string의 약자\n",
        "- bool : boolean. True/False"
      ]
    },
    {
      "cell_type": "code",
      "metadata": {
        "id": "vUDe4EI8lyHH",
        "colab_type": "code",
        "outputId": "009ca27f-0a4d-4d0f-8a48-68a744779943",
        "colab": {
          "base_uri": "https://localhost:8080/",
          "height": 35
        }
      },
      "source": [
        "print(3)"
      ],
      "execution_count": 0,
      "outputs": [
        {
          "output_type": "stream",
          "text": [
            "3\n"
          ],
          "name": "stdout"
        }
      ]
    },
    {
      "cell_type": "code",
      "metadata": {
        "id": "J2zSdnBYmaxU",
        "colab_type": "code",
        "outputId": "7cf5f864-6bdb-4c6c-9d0c-45727c12f8e7",
        "colab": {
          "base_uri": "https://localhost:8080/",
          "height": 35
        }
      },
      "source": [
        "print(3.0)"
      ],
      "execution_count": 0,
      "outputs": [
        {
          "output_type": "stream",
          "text": [
            "3.0\n"
          ],
          "name": "stdout"
        }
      ]
    },
    {
      "cell_type": "code",
      "metadata": {
        "id": "pnRCCPMCmbwd",
        "colab_type": "code",
        "outputId": "3bdaeda3-019f-4a30-955a-8e8a5c13d5e5",
        "colab": {
          "base_uri": "https://localhost:8080/",
          "height": 35
        }
      },
      "source": [
        "print(3.)"
      ],
      "execution_count": 0,
      "outputs": [
        {
          "output_type": "stream",
          "text": [
            "3.0\n"
          ],
          "name": "stdout"
        }
      ]
    },
    {
      "cell_type": "code",
      "metadata": {
        "id": "9cOvQKwFmcf0",
        "colab_type": "code",
        "outputId": "e703b33e-837e-47d6-9a0f-2325cb7c2934",
        "colab": {
          "base_uri": "https://localhost:8080/",
          "height": 35
        }
      },
      "source": [
        "print(\"hello\")"
      ],
      "execution_count": 0,
      "outputs": [
        {
          "output_type": "stream",
          "text": [
            "hello\n"
          ],
          "name": "stdout"
        }
      ]
    },
    {
      "cell_type": "markdown",
      "metadata": {
        "id": "RBnKwfRVmn9n",
        "colab_type": "text"
      },
      "source": [
        "정수와 실수 그리고 문자열로 구분된다.(이외에도 몇가지 더 있다.)\n",
        "\n",
        "정수와 실수의 구분은 메모리 사용과 관련되어 있다.\n",
        "\n",
        "각각 int, float라 부른다. integer의 약자. 소수점이 떠 다닌다 해서 floating.\n",
        "\n",
        "\n",
        "<br>\n",
        "\n",
        "그리고 문자열은 단순 값 1개가 아니라 여러개의 값들로 처리하는 내부적인 처리방식 때문에 별개로 처리한다.\n",
        "\n",
        "문자열은 string이라 불린다. 각 문자들의 연결이라는 의미이다."
      ]
    },
    {
      "cell_type": "code",
      "metadata": {
        "id": "zkznK-Mgmmcz",
        "colab_type": "code",
        "outputId": "95aa1f86-fafa-4711-ba62-ceeb8143f595",
        "colab": {
          "base_uri": "https://localhost:8080/",
          "height": 35
        }
      },
      "source": [
        "print(3)"
      ],
      "execution_count": 0,
      "outputs": [
        {
          "output_type": "stream",
          "text": [
            "3\n"
          ],
          "name": "stdout"
        }
      ]
    },
    {
      "cell_type": "code",
      "metadata": {
        "id": "bv5ghczNm_6T",
        "colab_type": "code",
        "outputId": "ec9bbfe5-23f6-4537-e0da-324b38b494d3",
        "colab": {
          "base_uri": "https://localhost:8080/",
          "height": 35
        }
      },
      "source": [
        "print(float(3))"
      ],
      "execution_count": 0,
      "outputs": [
        {
          "output_type": "stream",
          "text": [
            "3.0\n"
          ],
          "name": "stdout"
        }
      ]
    },
    {
      "cell_type": "code",
      "metadata": {
        "id": "s0TxSDw-nA7X",
        "colab_type": "code",
        "outputId": "3f51bf3b-1413-48aa-9bef-a48c690c3bcc",
        "colab": {
          "base_uri": "https://localhost:8080/",
          "height": 35
        }
      },
      "source": [
        "print(3.1)"
      ],
      "execution_count": 0,
      "outputs": [
        {
          "output_type": "stream",
          "text": [
            "3.1\n"
          ],
          "name": "stdout"
        }
      ]
    },
    {
      "cell_type": "code",
      "metadata": {
        "id": "JjF3tdhKnWN3",
        "colab_type": "code",
        "outputId": "c4883bbb-81b3-47db-bfb1-bfb1384a9f16",
        "colab": {
          "base_uri": "https://localhost:8080/",
          "height": 35
        }
      },
      "source": [
        "print(int(3.1))"
      ],
      "execution_count": 0,
      "outputs": [
        {
          "output_type": "stream",
          "text": [
            "3\n"
          ],
          "name": "stdout"
        }
      ]
    },
    {
      "cell_type": "markdown",
      "metadata": {
        "id": "RNIksKuqnZz0",
        "colab_type": "text"
      },
      "source": [
        "서로 간에 변환할 때는 int(), float()라는 함수를 사용한다.\n",
        "\n",
        "float를 int로 변환할 때는 정보의 손실이 발생한다.\n",
        "\n",
        "<br>\n",
        "\n",
        "+, -, *, /, = 등을 연산자라 하고 \n",
        "\n",
        "print(), int(), float() 처럼 괄호가 있어서 값을 전달하는 것을 함수라 부른다.\n"
      ]
    },
    {
      "cell_type": "markdown",
      "metadata": {
        "id": "gNgTtwaoXTar",
        "colab_type": "text"
      },
      "source": [
        "## 타입 보기"
      ]
    },
    {
      "cell_type": "code",
      "metadata": {
        "id": "5Bu0wz4HXVuP",
        "colab_type": "code",
        "colab": {
          "base_uri": "https://localhost:8080/",
          "height": 35
        },
        "outputId": "e8d13085-7ae9-45f7-c865-10e3956215fb"
      },
      "source": [
        "print(type(3))"
      ],
      "execution_count": 57,
      "outputs": [
        {
          "output_type": "stream",
          "text": [
            "<class 'int'>\n"
          ],
          "name": "stdout"
        }
      ]
    },
    {
      "cell_type": "code",
      "metadata": {
        "id": "blPnYG4JXXuV",
        "colab_type": "code",
        "colab": {
          "base_uri": "https://localhost:8080/",
          "height": 35
        },
        "outputId": "7005b9d9-639e-40bc-8b99-ac142c63a225"
      },
      "source": [
        "print(type(3.1))"
      ],
      "execution_count": 58,
      "outputs": [
        {
          "output_type": "stream",
          "text": [
            "<class 'float'>\n"
          ],
          "name": "stdout"
        }
      ]
    },
    {
      "cell_type": "code",
      "metadata": {
        "id": "vC47r-Y5XXqq",
        "colab_type": "code",
        "colab": {
          "base_uri": "https://localhost:8080/",
          "height": 35
        },
        "outputId": "735ee129-476d-411d-9057-aed5806c3a65"
      },
      "source": [
        "print(type(\"tom\"))"
      ],
      "execution_count": 59,
      "outputs": [
        {
          "output_type": "stream",
          "text": [
            "<class 'str'>\n"
          ],
          "name": "stdout"
        }
      ]
    },
    {
      "cell_type": "code",
      "metadata": {
        "id": "4tt0af00XXnB",
        "colab_type": "code",
        "colab": {
          "base_uri": "https://localhost:8080/",
          "height": 35
        },
        "outputId": "5e2db2c5-65f2-4df8-8b16-979c96aa7a63"
      },
      "source": [
        "print(type(True))"
      ],
      "execution_count": 60,
      "outputs": [
        {
          "output_type": "stream",
          "text": [
            "<class 'bool'>\n"
          ],
          "name": "stdout"
        }
      ]
    },
    {
      "cell_type": "code",
      "metadata": {
        "id": "V-KAKS_lXXjQ",
        "colab_type": "code",
        "colab": {}
      },
      "source": [
        ""
      ],
      "execution_count": 0,
      "outputs": []
    },
    {
      "cell_type": "markdown",
      "metadata": {
        "id": "9jLyMp9UPIcG",
        "colab_type": "text"
      },
      "source": [
        "## 데이터 타입 변환\n",
        "\n",
        "- int() : int 타입으로\n",
        "- float() : float 타입으로\n",
        "- str() : string 타입으로\n",
        "- bool() : boolean 타입으로"
      ]
    },
    {
      "cell_type": "code",
      "metadata": {
        "id": "Otg0ArN_PlUN",
        "colab_type": "code",
        "colab": {}
      },
      "source": [
        "i = 3\n",
        "f = 3.1\n",
        "s = \"3.1\"\n",
        "b = True"
      ],
      "execution_count": 0,
      "outputs": []
    },
    {
      "cell_type": "markdown",
      "metadata": {
        "id": "BBZFoL1wQDT-",
        "colab_type": "text"
      },
      "source": [
        "### int()"
      ]
    },
    {
      "cell_type": "code",
      "metadata": {
        "id": "r0Xw2Hy0PaTC",
        "colab_type": "code",
        "colab": {
          "base_uri": "https://localhost:8080/",
          "height": 35
        },
        "outputId": "4a20013e-71f6-4b3f-90dd-3fbbd7015f4c"
      },
      "source": [
        "print((int(3.0)))"
      ],
      "execution_count": 5,
      "outputs": [
        {
          "output_type": "stream",
          "text": [
            "3\n"
          ],
          "name": "stdout"
        }
      ]
    },
    {
      "cell_type": "code",
      "metadata": {
        "id": "sJhHGx2ZPWfr",
        "colab_type": "code",
        "colab": {
          "base_uri": "https://localhost:8080/",
          "height": 35
        },
        "outputId": "54311127-729a-4d77-e3f3-6f5b315486a3"
      },
      "source": [
        "print(int(3.1))"
      ],
      "execution_count": 12,
      "outputs": [
        {
          "output_type": "stream",
          "text": [
            "3\n"
          ],
          "name": "stdout"
        }
      ]
    },
    {
      "cell_type": "markdown",
      "metadata": {
        "id": "tbUtmdABPxZ6",
        "colab_type": "text"
      },
      "source": [
        "소수점 아래는 버려진다"
      ]
    },
    {
      "cell_type": "code",
      "metadata": {
        "id": "P2AlSKspP0aO",
        "colab_type": "code",
        "colab": {
          "base_uri": "https://localhost:8080/",
          "height": 35
        },
        "outputId": "35aa3ea5-4c6b-4904-e19b-6087f0cc5252"
      },
      "source": [
        "print(int(\"3\"))"
      ],
      "execution_count": 14,
      "outputs": [
        {
          "output_type": "stream",
          "text": [
            "3\n"
          ],
          "name": "stdout"
        }
      ]
    },
    {
      "cell_type": "code",
      "metadata": {
        "id": "d5mrRRGqP672",
        "colab_type": "code",
        "colab": {
          "base_uri": "https://localhost:8080/",
          "height": 165
        },
        "outputId": "19b1de96-e45d-4067-e31a-22d254c3b4a1"
      },
      "source": [
        "print(int(\"3.1\"))"
      ],
      "execution_count": 15,
      "outputs": [
        {
          "output_type": "error",
          "ename": "ValueError",
          "evalue": "ignored",
          "traceback": [
            "\u001b[0;31m---------------------------------------------------------------------------\u001b[0m",
            "\u001b[0;31mValueError\u001b[0m                                Traceback (most recent call last)",
            "\u001b[0;32m<ipython-input-15-8a9ca0e55031>\u001b[0m in \u001b[0;36m<module>\u001b[0;34m()\u001b[0m\n\u001b[0;32m----> 1\u001b[0;31m \u001b[0mprint\u001b[0m\u001b[0;34m(\u001b[0m\u001b[0mint\u001b[0m\u001b[0;34m(\u001b[0m\u001b[0;34m\"3.1\"\u001b[0m\u001b[0;34m)\u001b[0m\u001b[0;34m)\u001b[0m\u001b[0;34m\u001b[0m\u001b[0;34m\u001b[0m\u001b[0m\n\u001b[0m",
            "\u001b[0;31mValueError\u001b[0m: invalid literal for int() with base 10: '3.1'"
          ]
        }
      ]
    },
    {
      "cell_type": "code",
      "metadata": {
        "id": "17rKRkgERIl-",
        "colab_type": "code",
        "colab": {
          "base_uri": "https://localhost:8080/",
          "height": 165
        },
        "outputId": "4f07826e-c76c-4ed0-da70-867605eec2a3"
      },
      "source": [
        "print(int(\"tom\"))"
      ],
      "execution_count": 24,
      "outputs": [
        {
          "output_type": "error",
          "ename": "ValueError",
          "evalue": "ignored",
          "traceback": [
            "\u001b[0;31m---------------------------------------------------------------------------\u001b[0m",
            "\u001b[0;31mValueError\u001b[0m                                Traceback (most recent call last)",
            "\u001b[0;32m<ipython-input-24-9999c5e4166f>\u001b[0m in \u001b[0;36m<module>\u001b[0;34m()\u001b[0m\n\u001b[0;32m----> 1\u001b[0;31m \u001b[0mprint\u001b[0m\u001b[0;34m(\u001b[0m\u001b[0mint\u001b[0m\u001b[0;34m(\u001b[0m\u001b[0;34m\"tom\"\u001b[0m\u001b[0;34m)\u001b[0m\u001b[0;34m)\u001b[0m\u001b[0;34m\u001b[0m\u001b[0;34m\u001b[0m\u001b[0m\n\u001b[0m",
            "\u001b[0;31mValueError\u001b[0m: invalid literal for int() with base 10: 'tom'"
          ]
        }
      ]
    },
    {
      "cell_type": "code",
      "metadata": {
        "id": "cg0_R2RsP-61",
        "colab_type": "code",
        "colab": {
          "base_uri": "https://localhost:8080/",
          "height": 35
        },
        "outputId": "c36029ab-3df5-4f02-9c39-315651ba17a5"
      },
      "source": [
        "print(int(float(\"3.1\")))"
      ],
      "execution_count": 16,
      "outputs": [
        {
          "output_type": "stream",
          "text": [
            "3\n"
          ],
          "name": "stdout"
        }
      ]
    },
    {
      "cell_type": "code",
      "metadata": {
        "id": "e-HJ0u7WQFtm",
        "colab_type": "code",
        "colab": {
          "base_uri": "https://localhost:8080/",
          "height": 35
        },
        "outputId": "c8ddb256-e639-4755-f8c2-0b9765f6a6aa"
      },
      "source": [
        "print(int(True))"
      ],
      "execution_count": 17,
      "outputs": [
        {
          "output_type": "stream",
          "text": [
            "1\n"
          ],
          "name": "stdout"
        }
      ]
    },
    {
      "cell_type": "code",
      "metadata": {
        "id": "Yz82rY_zQLqp",
        "colab_type": "code",
        "colab": {
          "base_uri": "https://localhost:8080/",
          "height": 35
        },
        "outputId": "6e9c5c2f-7b19-4b96-d06b-a877fa2e17ab"
      },
      "source": [
        "print(int(False))"
      ],
      "execution_count": 19,
      "outputs": [
        {
          "output_type": "stream",
          "text": [
            "0\n"
          ],
          "name": "stdout"
        }
      ]
    },
    {
      "cell_type": "markdown",
      "metadata": {
        "id": "uFDYrscXQOzQ",
        "colab_type": "text"
      },
      "source": [
        "### float()"
      ]
    },
    {
      "cell_type": "code",
      "metadata": {
        "id": "NkbtrvY0PbAf",
        "colab_type": "code",
        "colab": {
          "base_uri": "https://localhost:8080/",
          "height": 35
        },
        "outputId": "71d16664-29c6-4971-d788-6e98b1a896f2"
      },
      "source": [
        "print(float(3))"
      ],
      "execution_count": 20,
      "outputs": [
        {
          "output_type": "stream",
          "text": [
            "3.0\n"
          ],
          "name": "stdout"
        }
      ]
    },
    {
      "cell_type": "code",
      "metadata": {
        "id": "x0tpDu7EPbQP",
        "colab_type": "code",
        "colab": {
          "base_uri": "https://localhost:8080/",
          "height": 35
        },
        "outputId": "3e6bfa94-b1e0-44f4-c257-8bc5911455e6"
      },
      "source": [
        "print(float(3.1))"
      ],
      "execution_count": 21,
      "outputs": [
        {
          "output_type": "stream",
          "text": [
            "3.1\n"
          ],
          "name": "stdout"
        }
      ]
    },
    {
      "cell_type": "code",
      "metadata": {
        "id": "FEC2VOWwPbM_",
        "colab_type": "code",
        "colab": {
          "base_uri": "https://localhost:8080/",
          "height": 35
        },
        "outputId": "af60f399-5b48-4ec8-bf47-e8d34df97ade"
      },
      "source": [
        "print(float(\"3\"))"
      ],
      "execution_count": 22,
      "outputs": [
        {
          "output_type": "stream",
          "text": [
            "3.0\n"
          ],
          "name": "stdout"
        }
      ]
    },
    {
      "cell_type": "code",
      "metadata": {
        "id": "WIzW6W_UPbKv",
        "colab_type": "code",
        "colab": {
          "base_uri": "https://localhost:8080/",
          "height": 35
        },
        "outputId": "df866437-b712-4878-a36c-7f00d7c6223f"
      },
      "source": [
        "print(float(\"3.1\"))"
      ],
      "execution_count": 23,
      "outputs": [
        {
          "output_type": "stream",
          "text": [
            "3.1\n"
          ],
          "name": "stdout"
        }
      ]
    },
    {
      "cell_type": "code",
      "metadata": {
        "id": "yH3w5I2DQWTZ",
        "colab_type": "code",
        "colab": {
          "base_uri": "https://localhost:8080/",
          "height": 165
        },
        "outputId": "015a2344-091e-4fc0-8581-b2b3bc5362f7"
      },
      "source": [
        "print(float(\"tom\"))"
      ],
      "execution_count": 26,
      "outputs": [
        {
          "output_type": "error",
          "ename": "ValueError",
          "evalue": "ignored",
          "traceback": [
            "\u001b[0;31m---------------------------------------------------------------------------\u001b[0m",
            "\u001b[0;31mValueError\u001b[0m                                Traceback (most recent call last)",
            "\u001b[0;32m<ipython-input-26-60ebaf93df35>\u001b[0m in \u001b[0;36m<module>\u001b[0;34m()\u001b[0m\n\u001b[0;32m----> 1\u001b[0;31m \u001b[0mprint\u001b[0m\u001b[0;34m(\u001b[0m\u001b[0mfloat\u001b[0m\u001b[0;34m(\u001b[0m\u001b[0;34m\"tom\"\u001b[0m\u001b[0;34m)\u001b[0m\u001b[0;34m)\u001b[0m\u001b[0;34m\u001b[0m\u001b[0;34m\u001b[0m\u001b[0m\n\u001b[0m",
            "\u001b[0;31mValueError\u001b[0m: could not convert string to float: 'tom'"
          ]
        }
      ]
    },
    {
      "cell_type": "code",
      "metadata": {
        "id": "j6n2hu-uQWbk",
        "colab_type": "code",
        "colab": {
          "base_uri": "https://localhost:8080/",
          "height": 35
        },
        "outputId": "aefe0d1f-79fc-451a-bd99-beae06bd2ac8"
      },
      "source": [
        "print(float(\"-3.1\"))"
      ],
      "execution_count": 27,
      "outputs": [
        {
          "output_type": "stream",
          "text": [
            "-3.1\n"
          ],
          "name": "stdout"
        }
      ]
    },
    {
      "cell_type": "code",
      "metadata": {
        "id": "pvvu-VgiQWYO",
        "colab_type": "code",
        "colab": {
          "base_uri": "https://localhost:8080/",
          "height": 35
        },
        "outputId": "ee5dfb54-8f1d-4b50-c7b2-2b78131bd179"
      },
      "source": [
        "print(float(True))"
      ],
      "execution_count": 28,
      "outputs": [
        {
          "output_type": "stream",
          "text": [
            "1.0\n"
          ],
          "name": "stdout"
        }
      ]
    },
    {
      "cell_type": "code",
      "metadata": {
        "id": "m9iQPQzRQWQj",
        "colab_type": "code",
        "colab": {
          "base_uri": "https://localhost:8080/",
          "height": 35
        },
        "outputId": "0c5c2b3e-9f0f-4398-e7be-004a3cdd6571"
      },
      "source": [
        "print(float(False))"
      ],
      "execution_count": 29,
      "outputs": [
        {
          "output_type": "stream",
          "text": [
            "0.0\n"
          ],
          "name": "stdout"
        }
      ]
    },
    {
      "cell_type": "markdown",
      "metadata": {
        "id": "2Hc9k8vwRWHh",
        "colab_type": "text"
      },
      "source": [
        "### str()"
      ]
    },
    {
      "cell_type": "code",
      "metadata": {
        "id": "TXSyiaYfQWOC",
        "colab_type": "code",
        "colab": {
          "base_uri": "https://localhost:8080/",
          "height": 35
        },
        "outputId": "905c0eb8-733f-4e78-c7de-ad581a6dbc0a"
      },
      "source": [
        "print(str(3))"
      ],
      "execution_count": 31,
      "outputs": [
        {
          "output_type": "stream",
          "text": [
            "3\n"
          ],
          "name": "stdout"
        }
      ]
    },
    {
      "cell_type": "code",
      "metadata": {
        "id": "__U2FKAaQWKv",
        "colab_type": "code",
        "colab": {
          "base_uri": "https://localhost:8080/",
          "height": 35
        },
        "outputId": "b57e990a-ae6b-4db5-c986-cc6e7df55e8c"
      },
      "source": [
        "print(str(3.1))"
      ],
      "execution_count": 32,
      "outputs": [
        {
          "output_type": "stream",
          "text": [
            "3.1\n"
          ],
          "name": "stdout"
        }
      ]
    },
    {
      "cell_type": "code",
      "metadata": {
        "id": "tZOGbHNcQWIR",
        "colab_type": "code",
        "colab": {
          "base_uri": "https://localhost:8080/",
          "height": 35
        },
        "outputId": "4de7c2b8-962b-4bba-e71b-a769a75aedeb"
      },
      "source": [
        "print(str(True))"
      ],
      "execution_count": 33,
      "outputs": [
        {
          "output_type": "stream",
          "text": [
            "True\n"
          ],
          "name": "stdout"
        }
      ]
    },
    {
      "cell_type": "markdown",
      "metadata": {
        "id": "XO4emjM1R14b",
        "colab_type": "text"
      },
      "source": [
        "### bool()\n",
        "\n",
        "값이 \"False\", 0, None 그리고 비었을 때만 False를 반환\n",
        "\n",
        "이외에는 Truefmf qksghks"
      ]
    },
    {
      "cell_type": "code",
      "metadata": {
        "id": "ylLNLc_hQWFd",
        "colab_type": "code",
        "colab": {
          "base_uri": "https://localhost:8080/",
          "height": 35
        },
        "outputId": "a8d5da24-04e1-4ee1-e160-db8d97770b8d"
      },
      "source": [
        "print(bool(1))"
      ],
      "execution_count": 34,
      "outputs": [
        {
          "output_type": "stream",
          "text": [
            "True\n"
          ],
          "name": "stdout"
        }
      ]
    },
    {
      "cell_type": "code",
      "metadata": {
        "id": "Uzja0XGEQWCh",
        "colab_type": "code",
        "colab": {
          "base_uri": "https://localhost:8080/",
          "height": 35
        },
        "outputId": "223f0b1e-90e7-4a11-d568-e8705f81e576"
      },
      "source": [
        "print(bool(0))"
      ],
      "execution_count": 35,
      "outputs": [
        {
          "output_type": "stream",
          "text": [
            "False\n"
          ],
          "name": "stdout"
        }
      ]
    },
    {
      "cell_type": "code",
      "metadata": {
        "id": "_BPH9YL8PbIU",
        "colab_type": "code",
        "colab": {
          "base_uri": "https://localhost:8080/",
          "height": 35
        },
        "outputId": "ed09acd7-be67-442c-cc4f-0106b965b3aa"
      },
      "source": [
        "print(bool(3))"
      ],
      "execution_count": 36,
      "outputs": [
        {
          "output_type": "stream",
          "text": [
            "True\n"
          ],
          "name": "stdout"
        }
      ]
    },
    {
      "cell_type": "code",
      "metadata": {
        "id": "oE8Q5AajPbFq",
        "colab_type": "code",
        "colab": {
          "base_uri": "https://localhost:8080/",
          "height": 35
        },
        "outputId": "2912c190-3b95-425f-c859-87b8b60929e0"
      },
      "source": [
        "print(bool(-1))"
      ],
      "execution_count": 37,
      "outputs": [
        {
          "output_type": "stream",
          "text": [
            "True\n"
          ],
          "name": "stdout"
        }
      ]
    },
    {
      "cell_type": "code",
      "metadata": {
        "id": "8w23k7p8R-IH",
        "colab_type": "code",
        "colab": {
          "base_uri": "https://localhost:8080/",
          "height": 35
        },
        "outputId": "144aaace-00ea-44a3-9883-7de47fff38d6"
      },
      "source": [
        "print(bool(None))"
      ],
      "execution_count": 38,
      "outputs": [
        {
          "output_type": "stream",
          "text": [
            "False\n"
          ],
          "name": "stdout"
        }
      ]
    },
    {
      "cell_type": "code",
      "metadata": {
        "id": "eTTfsQC0R-Qf",
        "colab_type": "code",
        "colab": {
          "base_uri": "https://localhost:8080/",
          "height": 35
        },
        "outputId": "02e91037-9582-4b81-d366-06fde1ecf9dd"
      },
      "source": [
        "print(bool(\"hi\"))"
      ],
      "execution_count": 39,
      "outputs": [
        {
          "output_type": "stream",
          "text": [
            "True\n"
          ],
          "name": "stdout"
        }
      ]
    },
    {
      "cell_type": "code",
      "metadata": {
        "id": "xgbRwjCjR-ZY",
        "colab_type": "code",
        "colab": {
          "base_uri": "https://localhost:8080/",
          "height": 35
        },
        "outputId": "1267bf1f-8dba-4e9b-a364-c6b07f0ac35d"
      },
      "source": [
        "print(bool(\"\"))"
      ],
      "execution_count": 40,
      "outputs": [
        {
          "output_type": "stream",
          "text": [
            "False\n"
          ],
          "name": "stdout"
        }
      ]
    },
    {
      "cell_type": "markdown",
      "metadata": {
        "id": "eN8YkFYORfi9",
        "colab_type": "text"
      },
      "source": [
        "## Quiz. 문자와 숫자 더하기\n",
        "\n",
        "실패했던 다음을 성공시키려면\n",
        "```\n",
        "print(\"3\"+1) # 3+1의 결과인 4를 출력하고 싶다.\n",
        "```\n",
        "\n",
        "```\n",
        "print(\"3\"+\"1\") # 3+1의 결과인 4를 출력하고 싶다.\n",
        "```"
      ]
    },
    {
      "cell_type": "code",
      "metadata": {
        "id": "yY7Doan4U6UV",
        "colab_type": "code",
        "colab": {
          "base_uri": "https://localhost:8080/",
          "height": 35
        },
        "outputId": "5040a600-7877-4a20-fa76-95d3320135cb"
      },
      "source": [
        "print(int(\"3\")+1)"
      ],
      "execution_count": 44,
      "outputs": [
        {
          "output_type": "stream",
          "text": [
            "4\n"
          ],
          "name": "stdout"
        }
      ]
    },
    {
      "cell_type": "code",
      "metadata": {
        "id": "SKFwGi62VBrd",
        "colab_type": "code",
        "colab": {
          "base_uri": "https://localhost:8080/",
          "height": 35
        },
        "outputId": "a54764ce-37f6-42f6-c8fa-4757c61b5b19"
      },
      "source": [
        "print(int(\"3\")+int(\"1\"))"
      ],
      "execution_count": 46,
      "outputs": [
        {
          "output_type": "stream",
          "text": [
            "4\n"
          ],
          "name": "stdout"
        }
      ]
    },
    {
      "cell_type": "markdown",
      "metadata": {
        "id": "wMzA6-XhVz_M",
        "colab_type": "text"
      },
      "source": [
        "## 반올림과 유사 방법들\n",
        "\n",
        "4가지 방법이 있다.\n",
        "- int() : 소수점 아래를 버린다. truc()와 동일\n",
        "- round() : 가장 가까운 정수로\n",
        "- math.floor() : 원 값보다 작은 정수로\n",
        "- math.ceil() : 원 값보다 큰 정수로\n",
        "- math.truc() : 소수점 아래를 버린다."
      ]
    },
    {
      "cell_type": "code",
      "metadata": {
        "id": "H0E1PX-QWWjD",
        "colab_type": "code",
        "colab": {
          "base_uri": "https://localhost:8080/",
          "height": 86
        },
        "outputId": "08492f92-a5f0-4960-97a2-f2952e4e4ee5"
      },
      "source": [
        "print(round(3.1))\n",
        "print(round(3.9))\n",
        "print(round(-3.1))\n",
        "print(round(-3.9))"
      ],
      "execution_count": 51,
      "outputs": [
        {
          "output_type": "stream",
          "text": [
            "3\n",
            "4\n",
            "-3\n",
            "-4\n"
          ],
          "name": "stdout"
        }
      ]
    },
    {
      "cell_type": "code",
      "metadata": {
        "id": "BJbDBBLZWXMs",
        "colab_type": "code",
        "colab": {
          "base_uri": "https://localhost:8080/",
          "height": 86
        },
        "outputId": "ebdd013d-27bb-487d-8375-ab06c5d61fcc"
      },
      "source": [
        "import math\n",
        "\n",
        "print(math.floor(3.1))\n",
        "print(math.floor(3.9))\n",
        "print(math.floor(-3.1))\n",
        "print(math.floor(-3.9))\n"
      ],
      "execution_count": 52,
      "outputs": [
        {
          "output_type": "stream",
          "text": [
            "3\n",
            "3\n",
            "-4\n",
            "-4\n"
          ],
          "name": "stdout"
        }
      ]
    },
    {
      "cell_type": "code",
      "metadata": {
        "id": "sTemFBwqWXKF",
        "colab_type": "code",
        "colab": {
          "base_uri": "https://localhost:8080/",
          "height": 86
        },
        "outputId": "4ae5ac35-c3f7-4f82-c669-fa6baabda667"
      },
      "source": [
        "import math\n",
        "\n",
        "print(math.ceil(3.1))\n",
        "print(math.ceil(3.9))\n",
        "print(math.ceil(-3.1))\n",
        "print(math.ceil(-3.9))"
      ],
      "execution_count": 53,
      "outputs": [
        {
          "output_type": "stream",
          "text": [
            "4\n",
            "4\n",
            "-3\n",
            "-3\n"
          ],
          "name": "stdout"
        }
      ]
    },
    {
      "cell_type": "code",
      "metadata": {
        "id": "xcOXDlfqWXHf",
        "colab_type": "code",
        "colab": {
          "base_uri": "https://localhost:8080/",
          "height": 86
        },
        "outputId": "ab5fdcfa-7289-48b5-a55d-f388cea3f978"
      },
      "source": [
        "import math\n",
        "\n",
        "print(math.trunc(3.1))\n",
        "print(math.trunc(3.9))\n",
        "print(math.trunc(-3.1))\n",
        "print(math.trunc(-3.9))"
      ],
      "execution_count": 54,
      "outputs": [
        {
          "output_type": "stream",
          "text": [
            "3\n",
            "3\n",
            "-3\n",
            "-3\n"
          ],
          "name": "stdout"
        }
      ]
    },
    {
      "cell_type": "code",
      "metadata": {
        "id": "wQO1L6irWXEV",
        "colab_type": "code",
        "colab": {
          "base_uri": "https://localhost:8080/",
          "height": 86
        },
        "outputId": "a6b40cac-6db4-4cd5-fb11-7db41ab2a45b"
      },
      "source": [
        "print(int(3.1))\n",
        "print(int(3.9))\n",
        "print(int(-3.1))\n",
        "print(int(-3.9))"
      ],
      "execution_count": 55,
      "outputs": [
        {
          "output_type": "stream",
          "text": [
            "3\n",
            "3\n",
            "-3\n",
            "-3\n"
          ],
          "name": "stdout"
        }
      ]
    },
    {
      "cell_type": "markdown",
      "metadata": {
        "id": "FOr38b65Unbx",
        "colab_type": "text"
      },
      "source": [
        "# 사용자 입력 input()\n",
        "\n",
        "사용자의 입력을 받는다.\n",
        "받은 값은 str 타입이다"
      ]
    },
    {
      "cell_type": "code",
      "metadata": {
        "id": "ogDTCzQkXqd3",
        "colab_type": "code",
        "colab": {
          "base_uri": "https://localhost:8080/",
          "height": 52
        },
        "outputId": "78dca9c3-461f-48ea-9d19-92b16501578a"
      },
      "source": [
        "name = input()\n",
        "print(name)"
      ],
      "execution_count": 61,
      "outputs": [
        {
          "output_type": "stream",
          "text": [
            "tom\n",
            "tom\n"
          ],
          "name": "stdout"
        }
      ]
    },
    {
      "cell_type": "code",
      "metadata": {
        "id": "k_pErgPLY5va",
        "colab_type": "code",
        "colab": {
          "base_uri": "https://localhost:8080/",
          "height": 52
        },
        "outputId": "234cc859-5f55-4625-bc14-d3ac62adff17"
      },
      "source": [
        "name = input(\"이름 : \")\n",
        "print(name)"
      ],
      "execution_count": 67,
      "outputs": [
        {
          "output_type": "stream",
          "text": [
            "이름 : tom\n",
            "tom\n"
          ],
          "name": "stdout"
        }
      ]
    },
    {
      "cell_type": "code",
      "metadata": {
        "id": "XZq28N0zXuDg",
        "colab_type": "code",
        "colab": {
          "base_uri": "https://localhost:8080/",
          "height": 52
        },
        "outputId": "425c3c8f-c81e-47f0-83f0-fc7d48eff5aa"
      },
      "source": [
        "name = input(\"이름 : \")\n",
        "print(\"이름은\",name,\"입니다.\")"
      ],
      "execution_count": 68,
      "outputs": [
        {
          "output_type": "stream",
          "text": [
            "이름 : tom\n",
            "이름은 tom 입니다.\n"
          ],
          "name": "stdout"
        }
      ]
    },
    {
      "cell_type": "code",
      "metadata": {
        "id": "m1GKwgy5X23O",
        "colab_type": "code",
        "colab": {
          "base_uri": "https://localhost:8080/",
          "height": 52
        },
        "outputId": "9a8b704f-9dfe-444e-d76a-b3a2d0579a67"
      },
      "source": [
        "age = input(\"나이 : \")\n",
        "print(\"나이는\",age,\"입니다.\")"
      ],
      "execution_count": 69,
      "outputs": [
        {
          "output_type": "stream",
          "text": [
            "나이 : 30\n",
            "나이는 30 입니다.\n"
          ],
          "name": "stdout"
        }
      ]
    },
    {
      "cell_type": "code",
      "metadata": {
        "id": "M6QZy4N8adJj",
        "colab_type": "code",
        "colab": {
          "base_uri": "https://localhost:8080/",
          "height": 52
        },
        "outputId": "e6e4b06e-673f-4162-a68b-fa399b8e4106"
      },
      "source": [
        "age = input(\"나이 : \")\n",
        "print(type(age))"
      ],
      "execution_count": 75,
      "outputs": [
        {
          "output_type": "stream",
          "text": [
            "나이 : 33\n",
            "<class 'str'>\n"
          ],
          "name": "stdout"
        }
      ]
    },
    {
      "cell_type": "markdown",
      "metadata": {
        "id": "Nh_YyeKXUwwZ",
        "colab_type": "text"
      },
      "source": [
        "## Quiz. 사용자가 입력한 값의 2배를 출력"
      ]
    },
    {
      "cell_type": "code",
      "metadata": {
        "id": "TQIdmkB_VJHu",
        "colab_type": "code",
        "colab": {
          "base_uri": "https://localhost:8080/",
          "height": 52
        },
        "outputId": "5549c447-b09f-4db1-df4f-f626bdc55983"
      },
      "source": [
        "i = input()\n",
        "print(int(i)*2)"
      ],
      "execution_count": 76,
      "outputs": [
        {
          "output_type": "stream",
          "text": [
            "3\n",
            "6\n"
          ],
          "name": "stdout"
        }
      ]
    },
    {
      "cell_type": "code",
      "metadata": {
        "id": "znQNzwruaHjP",
        "colab_type": "code",
        "colab": {
          "base_uri": "https://localhost:8080/",
          "height": 52
        },
        "outputId": "507095bd-8656-4bcf-b4f4-9d8a63b42645"
      },
      "source": [
        "i = input()\n",
        "i = int(i)\n",
        "print(i/2)\n"
      ],
      "execution_count": 77,
      "outputs": [
        {
          "output_type": "stream",
          "text": [
            "3\n",
            "1.5\n"
          ],
          "name": "stdout"
        }
      ]
    },
    {
      "cell_type": "markdown",
      "metadata": {
        "id": "3h6D7aTNau8s",
        "colab_type": "text"
      },
      "source": [
        "## 입력한 값을 2로 나눈 몫"
      ]
    },
    {
      "cell_type": "code",
      "metadata": {
        "id": "3gbA5R_Ga-PX",
        "colab_type": "code",
        "colab": {
          "base_uri": "https://localhost:8080/",
          "height": 69
        },
        "outputId": "05502f12-7423-4cd5-8052-6e80290a3389"
      },
      "source": [
        "i = input()\n",
        "i = int(i)\n",
        "div = i/2\n",
        "print(div)\n",
        "div = int(div)\n",
        "print(div)\n"
      ],
      "execution_count": 79,
      "outputs": [
        {
          "output_type": "stream",
          "text": [
            "3\n",
            "1.5\n",
            "1\n"
          ],
          "name": "stdout"
        }
      ]
    },
    {
      "cell_type": "markdown",
      "metadata": {
        "id": "QE5p3aADbS5W",
        "colab_type": "text"
      },
      "source": [
        "## Quiz. 입력한 값을 2로 나눈 나머지"
      ]
    },
    {
      "cell_type": "code",
      "metadata": {
        "id": "fX58Z3OSbZSp",
        "colab_type": "code",
        "colab": {
          "base_uri": "https://localhost:8080/",
          "height": 52
        },
        "outputId": "ec7f9400-7e52-46ae-9e49-c30ee779009e"
      },
      "source": [
        "i = int(input())\n",
        "div = int(i/2)\n",
        "mod = i - (div*2)\n",
        "print(mod)"
      ],
      "execution_count": 81,
      "outputs": [
        {
          "output_type": "stream",
          "text": [
            "3\n",
            "1\n"
          ],
          "name": "stdout"
        }
      ]
    },
    {
      "cell_type": "markdown",
      "metadata": {
        "id": "TfdgXXjnepYI",
        "colab_type": "text"
      },
      "source": [
        "## Quiz. 입력한 값을 2로 나눈 몫과 나머지"
      ]
    },
    {
      "cell_type": "code",
      "metadata": {
        "id": "n3XhjMsfeyTZ",
        "colab_type": "code",
        "colab": {
          "base_uri": "https://localhost:8080/",
          "height": 52
        },
        "outputId": "129e6616-f9d6-4fa4-9f21-3b7ce6688e27"
      },
      "source": [
        "i = int(input())\n",
        "div = int(i/2)\n",
        "mod = i = (div*2)\n",
        "print(div, mod)"
      ],
      "execution_count": 82,
      "outputs": [
        {
          "output_type": "stream",
          "text": [
            "3\n",
            "1 2\n"
          ],
          "name": "stdout"
        }
      ]
    },
    {
      "cell_type": "markdown",
      "metadata": {
        "id": "yVM1JCnVN7CS",
        "colab_type": "text"
      },
      "source": [
        "## Quiz. 2개의 입력을 받아 곱 계산"
      ]
    },
    {
      "cell_type": "code",
      "metadata": {
        "id": "2ibMapSSN0gB",
        "colab_type": "code",
        "colab": {
          "base_uri": "https://localhost:8080/",
          "height": 69
        },
        "outputId": "cc704808-61d9-4703-ce45-f1773bda6d40"
      },
      "source": [
        "a = float(input())\n",
        "b = float(input())\n",
        "print(a*b)"
      ],
      "execution_count": 1,
      "outputs": [
        {
          "output_type": "stream",
          "text": [
            "2.1\n",
            "4\n",
            "8.4\n"
          ],
          "name": "stdout"
        }
      ]
    },
    {
      "cell_type": "code",
      "metadata": {
        "id": "2dywHzmMN6Fz",
        "colab_type": "code",
        "colab": {}
      },
      "source": [
        ""
      ],
      "execution_count": 0,
      "outputs": []
    },
    {
      "cell_type": "markdown",
      "metadata": {
        "id": "XlU0szoUe65i",
        "colab_type": "text"
      },
      "source": [
        "## Quiz. 젯수와 피젯수를 받아 몫과 나머지"
      ]
    },
    {
      "cell_type": "code",
      "metadata": {
        "id": "OSBt_r-CfDZC",
        "colab_type": "code",
        "colab": {
          "base_uri": "https://localhost:8080/",
          "height": 86
        },
        "outputId": "eeadf522-ef21-4dec-9297-6156427a2607"
      },
      "source": [
        "i1 = int(input(\"젯수 :\"))\n",
        "i2 = int(input(\"피젯수 : \"))\n",
        "div = int(i1/i2)\n",
        "mod = i1 - (div*i2)\n",
        "print(div, mod)\n",
        "print(\"몫 :\",div, \",나머지 :\",mod)"
      ],
      "execution_count": 5,
      "outputs": [
        {
          "output_type": "stream",
          "text": [
            "젯수 :5\n",
            "피젯수 : 2\n",
            "2 1\n",
            "몫 : 2 ,나머지 : 1\n"
          ],
          "name": "stdout"
        }
      ]
    },
    {
      "cell_type": "markdown",
      "metadata": {
        "id": "Ald7vf3ESxsI",
        "colab_type": "text"
      },
      "source": [
        "# print() 포멧"
      ]
    },
    {
      "cell_type": "code",
      "metadata": {
        "id": "2sn_DRckS0tE",
        "colab_type": "code",
        "colab": {
          "base_uri": "https://localhost:8080/",
          "height": 35
        },
        "outputId": "16aae9ed-58c7-4b45-e267-04c6b2d28132"
      },
      "source": [
        "name = \"tom\"\n",
        "age = 30\n",
        "print(name, age)"
      ],
      "execution_count": 6,
      "outputs": [
        {
          "output_type": "stream",
          "text": [
            "tom 30\n"
          ],
          "name": "stdout"
        }
      ]
    },
    {
      "cell_type": "code",
      "metadata": {
        "id": "8I53dTTZS6sN",
        "colab_type": "code",
        "colab": {
          "base_uri": "https://localhost:8080/",
          "height": 35
        },
        "outputId": "ff21660f-d7e4-4238-8641-dbadb6c7836b"
      },
      "source": [
        "name = \"tom\"\n",
        "age = 30\n",
        "print(\"name=\",name, \", age=\",age)"
      ],
      "execution_count": 7,
      "outputs": [
        {
          "output_type": "stream",
          "text": [
            "name= tom , age= 30\n"
          ],
          "name": "stdout"
        }
      ]
    },
    {
      "cell_type": "code",
      "metadata": {
        "id": "dCRojv--S7HZ",
        "colab_type": "code",
        "colab": {
          "base_uri": "https://localhost:8080/",
          "height": 35
        },
        "outputId": "e5aff812-7ac3-4263-8cea-929028e32776"
      },
      "source": [
        "name = \"tom\"\n",
        "age = 30\n",
        "print(\"name={}, age={}\".format(name, age))"
      ],
      "execution_count": 9,
      "outputs": [
        {
          "output_type": "stream",
          "text": [
            "name=tom, age=30\n"
          ],
          "name": "stdout"
        }
      ]
    },
    {
      "cell_type": "code",
      "metadata": {
        "id": "pZUwZni7T85G",
        "colab_type": "code",
        "colab": {
          "base_uri": "https://localhost:8080/",
          "height": 35
        },
        "outputId": "15cf4dd6-c579-44d2-931c-f9b3a65dde27"
      },
      "source": [
        "name = \"tom\"\n",
        "age = 30\n",
        "print(\"name={}, age={}, 이름={}\".format(name, age, name))"
      ],
      "execution_count": 12,
      "outputs": [
        {
          "output_type": "stream",
          "text": [
            "name=tom, age=30, 이름=tom\n"
          ],
          "name": "stdout"
        }
      ]
    },
    {
      "cell_type": "code",
      "metadata": {
        "id": "-3JJOJdTS7OI",
        "colab_type": "code",
        "colab": {
          "base_uri": "https://localhost:8080/",
          "height": 35
        },
        "outputId": "9aa90c70-f39e-4a88-e7c5-fb0b62848051"
      },
      "source": [
        "name = \"tom\"\n",
        "age = 30\n",
        "print(\"name={0}, age={1}. 이름={0}\".format(name, age))"
      ],
      "execution_count": 11,
      "outputs": [
        {
          "output_type": "stream",
          "text": [
            "name=tom, age=30. 이름=tom\n"
          ],
          "name": "stdout"
        }
      ]
    },
    {
      "cell_type": "code",
      "metadata": {
        "id": "Ypd4kSn8S7b_",
        "colab_type": "code",
        "colab": {}
      },
      "source": [
        ""
      ],
      "execution_count": 0,
      "outputs": []
    },
    {
      "cell_type": "code",
      "metadata": {
        "id": "sySTeK_IS7vO",
        "colab_type": "code",
        "colab": {}
      },
      "source": [
        ""
      ],
      "execution_count": 0,
      "outputs": []
    },
    {
      "cell_type": "code",
      "metadata": {
        "id": "X_Xks3WsS7YF",
        "colab_type": "code",
        "colab": {}
      },
      "source": [
        ""
      ],
      "execution_count": 0,
      "outputs": []
    },
    {
      "cell_type": "markdown",
      "metadata": {
        "id": "OgDmJb2qnyy5",
        "colab_type": "text"
      },
      "source": [
        "# 프로그래밍 언어\n",
        "\n",
        "모든 프로그램은 값을 처리하는 것들이다.\n",
        "\n",
        "- 값을 담기 위해 변수와 기타 것들이 있고,\n",
        "- 처리를 하기 위해 연산자, 함수가 있다.\n",
        "\n",
        "\n",
        "<br>\n",
        "\n",
        "특히 값을 담은 변수를 특화한\n",
        "\n",
        "- list, dictionary, map, tuple 이 있다.\n",
        "\n",
        "\n",
        "<br>\n",
        "\n",
        "값에 따라 처리할 내용을 달리 하기 위해\n",
        "\n",
        "- if와 같은 제어문이 있고\n",
        "\n",
        "\n",
        "<br>\n",
        "\n",
        "반복적인 것을 처리하기 위한\n",
        "\n",
        "- for나 while같은 loop 가 있다.\n",
        "\n",
        "\n",
        "<br>\n",
        "\n",
        "효율적, 구조적 으로 처리하기 위해\n",
        "\n",
        "- class라는 것이 있고\n",
        "\n",
        "\n",
        "<br>\n",
        "\n",
        "이미 작성된 코드의 재활용을 위해\n",
        "\n",
        "- module이나 library가 있다.\n",
        "\n",
        "\n",
        "<br>\n",
        "\n",
        "처리할 데이터를 가져오고, 처리한 값을 내보내기 위한 다음과 같은 IO(Input/Output)이 있다.\n",
        "\n",
        "- File I/O\n",
        "- DB Connection\n",
        "- Rest API\n",
        "- HTTP\n",
        "- ...\n",
        "\n",
        "\n"
      ]
    },
    {
      "cell_type": "markdown",
      "metadata": {
        "id": "gEZYPJ5ksw9O",
        "colab_type": "text"
      },
      "source": [
        "# 제어문 if"
      ]
    },
    {
      "cell_type": "code",
      "metadata": {
        "id": "wgWyz6AAnXRk",
        "colab_type": "code",
        "outputId": "16051854-4912-47d8-f4d2-85c4c786925c",
        "colab": {
          "base_uri": "https://localhost:8080/",
          "height": 35
        }
      },
      "source": [
        "temp = 35\n",
        "print(temp)"
      ],
      "execution_count": 0,
      "outputs": [
        {
          "output_type": "stream",
          "text": [
            "35\n"
          ],
          "name": "stdout"
        }
      ]
    },
    {
      "cell_type": "code",
      "metadata": {
        "id": "zgDO_46Vs2SH",
        "colab_type": "code",
        "outputId": "54207cfa-5e67-4561-b816-0df587181cef",
        "colab": {
          "base_uri": "https://localhost:8080/",
          "height": 35
        }
      },
      "source": [
        "print(\"더워요. 온도가\",temp,\"도 입니다.\")"
      ],
      "execution_count": 0,
      "outputs": [
        {
          "output_type": "stream",
          "text": [
            "더워요. 온도가 35 도 입니다.\n"
          ],
          "name": "stdout"
        }
      ]
    },
    {
      "cell_type": "code",
      "metadata": {
        "id": "HM3ttxt4s_5K",
        "colab_type": "code",
        "outputId": "2d7cb116-9606-4d71-846f-bee93959a677",
        "colab": {
          "base_uri": "https://localhost:8080/",
          "height": 35
        }
      },
      "source": [
        "temp = 20\n",
        "print(\"시원해요. 온도가\",temp,\"도 입니다.\")"
      ],
      "execution_count": 0,
      "outputs": [
        {
          "output_type": "stream",
          "text": [
            "시원해요. 온도가 20 도 입니다.\n"
          ],
          "name": "stdout"
        }
      ]
    },
    {
      "cell_type": "code",
      "metadata": {
        "id": "SOg76ybatODW",
        "colab_type": "code",
        "outputId": "d5b61713-f5eb-42e5-86ae-9b550e2e4087",
        "colab": {
          "base_uri": "https://localhost:8080/",
          "height": 35
        }
      },
      "source": [
        "temp = 30\n",
        "if temp > 25:\n",
        "  print(\"더워요. 온도가\",temp,\"도 입니다.\")"
      ],
      "execution_count": 0,
      "outputs": [
        {
          "output_type": "stream",
          "text": [
            "더워요. 온도가 30 도 입니다.\n"
          ],
          "name": "stdout"
        }
      ]
    },
    {
      "cell_type": "code",
      "metadata": {
        "id": "W60FUoWGtz-x",
        "colab_type": "code",
        "colab": {}
      },
      "source": [
        "temp = 20\n",
        "if temp > 25:\n",
        "  print(\"더워요. 온도가\",temp,\"도 입니다.\")"
      ],
      "execution_count": 0,
      "outputs": []
    },
    {
      "cell_type": "markdown",
      "metadata": {
        "id": "OqGZnFWMtX4P",
        "colab_type": "text"
      },
      "source": [
        "조건을 만족할 때만 처리하도록 합니다.\n",
        "\n",
        "다음 약속(syntax)를 따라야 합니다.\n",
        "- if 뒤에는 조건이 오고\n",
        "- 조건 뒤에는 ':'이 와야 하고\n",
        "- 실행 내용은 한칸 들여써야 합니다.\n",
        "\n",
        "\n"
      ]
    },
    {
      "cell_type": "markdown",
      "metadata": {
        "id": "UzEGbGHUvAPI",
        "colab_type": "text"
      },
      "source": [
        "## else\n",
        "\n",
        "조건을 만족하지 않는 경우에 처리할 내용은 else로 명시합니다."
      ]
    },
    {
      "cell_type": "code",
      "metadata": {
        "id": "rl4hIEsvtV2d",
        "colab_type": "code",
        "outputId": "0080d42b-3fa9-4a29-8344-390981a548b2",
        "colab": {
          "base_uri": "https://localhost:8080/",
          "height": 35
        }
      },
      "source": [
        "temp = 30\n",
        "if temp > 25:\n",
        "  print(\"더워요. 온도가\",temp,\"도 입니다.\")\n",
        "else:\n",
        "  print(\"시원해요. 온도가\",temp,\"도 입니다.\")    "
      ],
      "execution_count": 0,
      "outputs": [
        {
          "output_type": "stream",
          "text": [
            "더워요. 온도가 30 도 입니다.\n"
          ],
          "name": "stdout"
        }
      ]
    },
    {
      "cell_type": "code",
      "metadata": {
        "id": "lDZWqQP9t69f",
        "colab_type": "code",
        "outputId": "c696d763-8537-4952-856a-cf7b237827d6",
        "colab": {
          "base_uri": "https://localhost:8080/",
          "height": 35
        }
      },
      "source": [
        "temp = 20\n",
        "if temp > 25:\n",
        "  print(\"더워요. 온도가\",temp,\"도 입니다.\")\n",
        "else:\n",
        "  print(\"시원해요. 온도가\",temp,\"도 입니다.\")    "
      ],
      "execution_count": 0,
      "outputs": [
        {
          "output_type": "stream",
          "text": [
            "시원해요. 온도가 20 도 입니다.\n"
          ],
          "name": "stdout"
        }
      ]
    },
    {
      "cell_type": "markdown",
      "metadata": {
        "id": "bMXAHUnKt88z",
        "colab_type": "text"
      },
      "source": [
        "if와 else를 사용하여 조건을 만족할 경우와 만족하지 않을 경우 각각 처리할 내용을 달리 할 수 있습니다.\n",
        "\n",
        "- else와 :이 있고\n",
        "- 역시 한칸 들여 씁니다.\n",
        "\n",
        "\n"
      ]
    },
    {
      "cell_type": "markdown",
      "metadata": {
        "id": "rUr_Df99Zaqp",
        "colab_type": "text"
      },
      "source": [
        "## Quiz. 짝수 홀수 판단\n",
        "사용자가 입력한 값의 짝수 홀수 판단"
      ]
    },
    {
      "cell_type": "code",
      "metadata": {
        "id": "nnSfSSo_ZqB_",
        "colab_type": "code",
        "colab": {
          "base_uri": "https://localhost:8080/",
          "height": 52
        },
        "outputId": "4b7f7fea-bb52-44e0-a112-b1f180710fcc"
      },
      "source": [
        "n = input()\n",
        "i = int(n)\n",
        "if int(i/2)*2==i:\n",
        "  print(\"짝수\")\n",
        "else:\n",
        "  print(\"홀수\")"
      ],
      "execution_count": 74,
      "outputs": [
        {
          "output_type": "stream",
          "text": [
            "4\n",
            "짝수\n"
          ],
          "name": "stdout"
        }
      ]
    },
    {
      "cell_type": "code",
      "metadata": {
        "id": "7MvtVCb5Z8CT",
        "colab_type": "code",
        "colab": {
          "base_uri": "https://localhost:8080/",
          "height": 35
        },
        "outputId": "da854298-8919-4cb4-e33c-9cee198809bf"
      },
      "source": [
        "3/2"
      ],
      "execution_count": 72,
      "outputs": [
        {
          "output_type": "execute_result",
          "data": {
            "text/plain": [
              "1.5"
            ]
          },
          "metadata": {
            "tags": []
          },
          "execution_count": 72
        }
      ]
    },
    {
      "cell_type": "markdown",
      "metadata": {
        "id": "UE_ANgNLvJPS",
        "colab_type": "text"
      },
      "source": [
        "## elif"
      ]
    },
    {
      "cell_type": "code",
      "metadata": {
        "id": "pwDo-Bjmt8Cf",
        "colab_type": "code",
        "outputId": "23fc6d75-7113-4e4a-df2f-923a18d2c772",
        "colab": {
          "base_uri": "https://localhost:8080/",
          "height": 35
        }
      },
      "source": [
        "temp = 20\n",
        "if temp > 25:\n",
        "  print(\"더워요. 온도가\",temp,\"도 입니다.\")\n",
        "elif temp > 15:\n",
        "  print(\"시원해요. 온도가\",temp,\"도 입니다.\")  \n",
        "else:\n",
        "  print(\"추워요. 온도가\",temp,\"도 입니다.\")"
      ],
      "execution_count": 0,
      "outputs": [
        {
          "output_type": "stream",
          "text": [
            "시원해요. 온도가 20 도 입니다.\n"
          ],
          "name": "stdout"
        }
      ]
    },
    {
      "cell_type": "code",
      "metadata": {
        "id": "RcNrI1PguhO3",
        "colab_type": "code",
        "outputId": "59696104-f850-485b-aee3-e5b57ee47379",
        "colab": {
          "base_uri": "https://localhost:8080/",
          "height": 35
        }
      },
      "source": [
        "temp = 10\n",
        "if temp > 25:\n",
        "  print(\"더워요. 온도가\",temp,\"도 입니다.\")\n",
        "elif temp > 15:\n",
        "  print(\"시원해요. 온도가\",temp,\"도 입니다.\")  \n",
        "else:\n",
        "  print(\"추워요. 온도가\",temp,\"도 입니다.\")"
      ],
      "execution_count": 0,
      "outputs": [
        {
          "output_type": "stream",
          "text": [
            "추워요. 온도가 10 도 입니다.\n"
          ],
          "name": "stdout"
        }
      ]
    },
    {
      "cell_type": "markdown",
      "metadata": {
        "id": "-pbo7c0RunWF",
        "colab_type": "text"
      },
      "source": [
        "elif를 사용하여 여러개의 조건을 순차적으로 적용하여 처리가 가능합니다.\n",
        "\n",
        "- elif 뒤에 조건을 명시합니다.\n",
        "- 조건 뒤에 :을 답니다.\n",
        "- 실행할 명령은 역시 한칸 들여 씁니다."
      ]
    },
    {
      "cell_type": "markdown",
      "metadata": {
        "id": "U0zud2P-Uhak",
        "colab_type": "text"
      },
      "source": [
        "# 함수"
      ]
    },
    {
      "cell_type": "code",
      "metadata": {
        "id": "TZ2pVBWnU5Dy",
        "colab_type": "code",
        "colab": {
          "base_uri": "https://localhost:8080/",
          "height": 86
        },
        "outputId": "56b9ff17-3fab-4536-c510-946585deb605"
      },
      "source": [
        "print(\"name : {}, age : {}\".format(\"tom\", 30))\n",
        "print(\"name : {}, age : {}\".format(\"jerry\", 33))\n",
        "print(\"name : {}, age : {}\".format(\"철수\", 20))\n",
        "print(\"name : {}, age : {}\".format(\"영희\", 22))"
      ],
      "execution_count": 17,
      "outputs": [
        {
          "output_type": "stream",
          "text": [
            "name : tom, age : 30\n",
            "name : jerry, age : 33\n",
            "name : 철수, age : 20\n",
            "name : 영희, age : 22\n"
          ],
          "name": "stdout"
        }
      ]
    },
    {
      "cell_type": "code",
      "metadata": {
        "id": "4e1ICor1VEb1",
        "colab_type": "code",
        "colab": {
          "base_uri": "https://localhost:8080/",
          "height": 86
        },
        "outputId": "bf19e995-be58-4175-9f23-ccadf478ef27"
      },
      "source": [
        "print(\"name = {}, age = {}\".format(\"tom\", 30))\n",
        "print(\"name = {}, age = {}\".format(\"jerry\", 33))\n",
        "print(\"name = {}, age = {}\".format(\"철수\", 20))\n",
        "print(\"name = {}, age = {}\".format(\"영희\", 22))"
      ],
      "execution_count": 18,
      "outputs": [
        {
          "output_type": "stream",
          "text": [
            "name = tom, age = 30\n",
            "name = jerry, age = 33\n",
            "name = 철수, age = 20\n",
            "name = 영희, age = 22\n"
          ],
          "name": "stdout"
        }
      ]
    },
    {
      "cell_type": "code",
      "metadata": {
        "id": "Q6ftcz_CumFp",
        "colab_type": "code",
        "colab": {
          "base_uri": "https://localhost:8080/",
          "height": 86
        },
        "outputId": "b13e0882-68ed-4f77-8e56-6741e9407761"
      },
      "source": [
        "def print_name_and_age(name, age):\n",
        "  print(\"name : {}, age : {}\".format(name, age))\n",
        "\n",
        "print_name_and_age(\"tom\", 30)\n",
        "print_name_and_age(\"jerry\", 33)\n",
        "print_name_and_age(\"철수\", 20)\n",
        "print_name_and_age(\"영희\", 22)\n"
      ],
      "execution_count": 19,
      "outputs": [
        {
          "output_type": "stream",
          "text": [
            "name : tom, age : 30\n",
            "name : jerry, age : 33\n",
            "name : 철수, age : 20\n",
            "name : 영희, age : 22\n"
          ],
          "name": "stdout"
        }
      ]
    },
    {
      "cell_type": "code",
      "metadata": {
        "id": "BE8C8giDU03D",
        "colab_type": "code",
        "colab": {
          "base_uri": "https://localhost:8080/",
          "height": 86
        },
        "outputId": "0312e946-6b7c-4aa3-9b2d-5df98f53f458"
      },
      "source": [
        "def print_name_and_age(name, age):\n",
        "  print(\"name = {}, age = {}\".format(name, age))\n",
        "\n",
        "print_name_and_age(\"tom\", 30)\n",
        "print_name_and_age(\"jerry\", 33)\n",
        "print_name_and_age(\"철수\", 20)\n",
        "print_name_and_age(\"영희\", 22)\n"
      ],
      "execution_count": 20,
      "outputs": [
        {
          "output_type": "stream",
          "text": [
            "name = tom, age = 30\n",
            "name = jerry, age = 33\n",
            "name = 철수, age = 20\n",
            "name = 영희, age = 22\n"
          ],
          "name": "stdout"
        }
      ]
    },
    {
      "cell_type": "markdown",
      "metadata": {
        "id": "jpFPr0xkVYvi",
        "colab_type": "text"
      },
      "source": [
        "다음의 구문으로 함수를 정의한다.\n",
        "\n",
        "```\n",
        "def 함수이름(파라매터):\n",
        "  함수 내용...\n",
        "```\n",
        "\n",
        "<br>\n",
        "\n",
        "함수 내용에 해당하는 부분(코드 블럭)을 표시하기 위해 들여쓰기를 한다.\n",
        "\n",
        "\n",
        "\n"
      ]
    },
    {
      "cell_type": "code",
      "metadata": {
        "id": "gKWuqn6nVWkv",
        "colab_type": "code",
        "colab": {
          "base_uri": "https://localhost:8080/",
          "height": 155
        },
        "outputId": "202b98a9-4777-4214-e3bc-d9dc2eda2aa8"
      },
      "source": [
        "def print_name_and_age(name, age):\n",
        "  print(\"name = {}, age = {}\".format(name, age))\n",
        "  print(\"hi\")\n",
        "\n",
        "  \n",
        "print_name_and_age(\"tom\", 30)\n",
        "print_name_and_age(\"jerry\", 33)\n",
        "print_name_and_age(\"철수\", 20)\n",
        "print_name_and_age(\"영희\", 22)"
      ],
      "execution_count": 21,
      "outputs": [
        {
          "output_type": "stream",
          "text": [
            "name = tom, age = 30\n",
            "hi\n",
            "name = jerry, age = 33\n",
            "hi\n",
            "name = 철수, age = 20\n",
            "hi\n",
            "name = 영희, age = 22\n",
            "hi\n"
          ],
          "name": "stdout"
        }
      ]
    },
    {
      "cell_type": "code",
      "metadata": {
        "id": "mZy7vc0ZV8D0",
        "colab_type": "code",
        "colab": {
          "base_uri": "https://localhost:8080/",
          "height": 104
        },
        "outputId": "d0d2c338-463b-4698-f862-139420146d33"
      },
      "source": [
        "def print_name_and_age(name, age):\n",
        "  print(\"name = {}, age = {}\".format(name, age))\n",
        "print(\"hi\")\n",
        "\n",
        "  \n",
        "print_name_and_age(\"tom\", 30)\n",
        "print_name_and_age(\"jerry\", 33)\n",
        "print_name_and_age(\"철수\", 20)\n",
        "print_name_and_age(\"영희\", 22)"
      ],
      "execution_count": 22,
      "outputs": [
        {
          "output_type": "stream",
          "text": [
            "hi\n",
            "name = tom, age = 30\n",
            "name = jerry, age = 33\n",
            "name = 철수, age = 20\n",
            "name = 영희, age = 22\n"
          ],
          "name": "stdout"
        }
      ]
    },
    {
      "cell_type": "markdown",
      "metadata": {
        "id": "Nn27HdpJWRaj",
        "colab_type": "text"
      },
      "source": [
        "## 한수의 반환 값\n",
        "\n",
        "반환하는 값이 있을 경우 return을 사용한다\n",
        "```\n",
        "def 함수이름(파라매터):\n",
        "  ...\n",
        "  return some\n",
        "```"
      ]
    },
    {
      "cell_type": "code",
      "metadata": {
        "id": "tPlX2aVUV-gu",
        "colab_type": "code",
        "colab": {
          "base_uri": "https://localhost:8080/",
          "height": 86
        },
        "outputId": "dd6b3ec0-d7b6-41ad-be87-69c285d43caf"
      },
      "source": [
        "def div(a,b): # a를 b로 나누어 몫을 반환한다.\n",
        "  div = int(a/b)\n",
        "  return div\n",
        "\n",
        "\n",
        "print(div(3,2))\n",
        "print(div(4,2))\n",
        "print(div(5,2))\n",
        "print(div(6,2))"
      ],
      "execution_count": 25,
      "outputs": [
        {
          "output_type": "stream",
          "text": [
            "1\n",
            "2\n",
            "2\n",
            "3\n"
          ],
          "name": "stdout"
        }
      ]
    },
    {
      "cell_type": "code",
      "metadata": {
        "id": "VtUthciPWpGQ",
        "colab_type": "code",
        "colab": {
          "base_uri": "https://localhost:8080/",
          "height": 86
        },
        "outputId": "f65d0cc4-fa54-4c91-e417-06e8aebca7ed"
      },
      "source": [
        "def mod(a,b): # a를 b로 나누어 나머지를 반환한다.\n",
        "  div = int(a/b)\n",
        "  mod = a - div*b\n",
        "  return mod\n",
        "\n",
        "print(mod(3,2))\n",
        "print(mod(4,2))\n",
        "print(mod(5,2))\n",
        "print(mod(6,2))"
      ],
      "execution_count": 27,
      "outputs": [
        {
          "output_type": "stream",
          "text": [
            "1\n",
            "0\n",
            "1\n",
            "0\n"
          ],
          "name": "stdout"
        }
      ]
    },
    {
      "cell_type": "markdown",
      "metadata": {
        "id": "hgImNzqbXLgM",
        "colab_type": "text"
      },
      "source": [
        "## Quiz. 정수를 받아 짝수 여부를 판단하는 함수"
      ]
    },
    {
      "cell_type": "code",
      "metadata": {
        "id": "7UyMK4i4XU5C",
        "colab_type": "code",
        "colab": {
          "base_uri": "https://localhost:8080/",
          "height": 104
        },
        "outputId": "5a50f8a0-e076-43af-a7ab-97ebd97b4d22"
      },
      "source": [
        "def is_even(n):\n",
        "  if mod(n,2)==0:\n",
        "    return True\n",
        "  else:\n",
        "    return False\n",
        "\n",
        "\n",
        "print(is_even(1))\n",
        "print(is_even(2))\n",
        "print(is_even(3))\n",
        "print(is_even(4))\n",
        "print(is_even(5))"
      ],
      "execution_count": 30,
      "outputs": [
        {
          "output_type": "stream",
          "text": [
            "False\n",
            "True\n",
            "False\n",
            "True\n",
            "False\n"
          ],
          "name": "stdout"
        }
      ]
    },
    {
      "cell_type": "code",
      "metadata": {
        "id": "45SaGyEXXFng",
        "colab_type": "code",
        "colab": {
          "base_uri": "https://localhost:8080/",
          "height": 104
        },
        "outputId": "8f8ebd5b-2e39-4ab2-a75f-ccd718b7e543"
      },
      "source": [
        "def is_even(n):\n",
        "  is_even = (mod(n,2)==0)\n",
        "  return is_even\n",
        "\n",
        "print(is_even(1))\n",
        "print(is_even(2))\n",
        "print(is_even(3))\n",
        "print(is_even(4))\n",
        "print(is_even(5))"
      ],
      "execution_count": 31,
      "outputs": [
        {
          "output_type": "stream",
          "text": [
            "False\n",
            "True\n",
            "False\n",
            "True\n",
            "False\n"
          ],
          "name": "stdout"
        }
      ]
    },
    {
      "cell_type": "code",
      "metadata": {
        "id": "jNcmP-oaXxE-",
        "colab_type": "code",
        "colab": {
          "base_uri": "https://localhost:8080/",
          "height": 104
        },
        "outputId": "dfe7e6d9-2573-4e59-9076-a1192df721f3"
      },
      "source": [
        "def is_even(n):\n",
        "  return (mod(n,2)==0)\n",
        "\n",
        "print(is_even(1))\n",
        "print(is_even(2))\n",
        "print(is_even(3))\n",
        "print(is_even(4))\n",
        "print(is_even(5))"
      ],
      "execution_count": 32,
      "outputs": [
        {
          "output_type": "stream",
          "text": [
            "False\n",
            "True\n",
            "False\n",
            "True\n",
            "False\n"
          ],
          "name": "stdout"
        }
      ]
    },
    {
      "cell_type": "code",
      "metadata": {
        "id": "BRQU5ghldPf-",
        "colab_type": "code",
        "colab": {
          "base_uri": "https://localhost:8080/",
          "height": 52
        },
        "outputId": "20de54c6-46ed-4141-9e97-213baf644461"
      },
      "source": [
        "n = input()\n",
        "i = int(n)\n",
        "# if int(i/2)*2==i:\n",
        "if is_even(i):\n",
        "  print(\"짝수\")\n",
        "else:\n",
        "  print(\"홀수\")"
      ],
      "execution_count": 35,
      "outputs": [
        {
          "output_type": "stream",
          "text": [
            "3\n",
            "홀수\n"
          ],
          "name": "stdout"
        }
      ]
    },
    {
      "cell_type": "markdown",
      "metadata": {
        "id": "Z1XF3w5bX6zH",
        "colab_type": "text"
      },
      "source": [
        "## 여러개를 반환\n",
        "\n",
        "여러개를 반환할 수 있다.\n"
      ]
    },
    {
      "cell_type": "code",
      "metadata": {
        "id": "ha7f40xCYEVC",
        "colab_type": "code",
        "colab": {
          "base_uri": "https://localhost:8080/",
          "height": 190
        },
        "outputId": "8277d1e2-d651-47d5-899f-d720692367d2"
      },
      "source": [
        "def div_n_mod(a,b): # a를 b로 나눈 몫과 나머지를 반환\n",
        "  div = int(a/b)\n",
        "  mod = a - div*b\n",
        "  return div, mod\n",
        "\n",
        "print(div_n_mod(0,2))\n",
        "print(div_n_mod(1,2))\n",
        "print(div_n_mod(2,2))\n",
        "print(div_n_mod(3,2))\n",
        "print(div_n_mod(4,2))\n",
        "print(div_n_mod(5,2))\n",
        "print(div_n_mod(6,2))\n",
        "print(div_n_mod(7,2))\n",
        "print(div_n_mod(8,2))\n",
        "print(div_n_mod(9,2))\n"
      ],
      "execution_count": 39,
      "outputs": [
        {
          "output_type": "stream",
          "text": [
            "(0, 0)\n",
            "(0, 1)\n",
            "(1, 0)\n",
            "(1, 1)\n",
            "(2, 0)\n",
            "(2, 1)\n",
            "(3, 0)\n",
            "(3, 1)\n",
            "(4, 0)\n",
            "(4, 1)\n"
          ],
          "name": "stdout"
        }
      ]
    },
    {
      "cell_type": "markdown",
      "metadata": {
        "id": "xtjAXdfYdwb5",
        "colab_type": "text"
      },
      "source": [
        "# 반복문"
      ]
    },
    {
      "cell_type": "code",
      "metadata": {
        "id": "Ks1RIal_fkQ5",
        "colab_type": "code",
        "colab": {
          "base_uri": "https://localhost:8080/",
          "height": 190
        },
        "outputId": "b785093c-5d6e-491d-88c1-d8f5a155b14a"
      },
      "source": [
        "print(0)\n",
        "print(1)\n",
        "print(2)\n",
        "print(3)\n",
        "print(4)\n",
        "print(5)\n",
        "print(6)\n",
        "print(7)\n",
        "print(8)\n",
        "print(9)"
      ],
      "execution_count": 49,
      "outputs": [
        {
          "output_type": "stream",
          "text": [
            "0\n",
            "1\n",
            "2\n",
            "3\n",
            "4\n",
            "5\n",
            "6\n",
            "7\n",
            "8\n",
            "9\n"
          ],
          "name": "stdout"
        }
      ]
    },
    {
      "cell_type": "code",
      "metadata": {
        "id": "snOCyw_kfkLU",
        "colab_type": "code",
        "colab": {
          "base_uri": "https://localhost:8080/",
          "height": 190
        },
        "outputId": "a00231ff-afee-49ae-854c-22838944b28b"
      },
      "source": [
        "for i in [0,1,2,3,4,5,6,7,8,9]:\n",
        "  print(i)"
      ],
      "execution_count": 50,
      "outputs": [
        {
          "output_type": "stream",
          "text": [
            "0\n",
            "1\n",
            "2\n",
            "3\n",
            "4\n",
            "5\n",
            "6\n",
            "7\n",
            "8\n",
            "9\n"
          ],
          "name": "stdout"
        }
      ]
    },
    {
      "cell_type": "code",
      "metadata": {
        "id": "51CbuRUbfkG4",
        "colab_type": "code",
        "colab": {
          "base_uri": "https://localhost:8080/",
          "height": 190
        },
        "outputId": "d1eded32-df00-4d28-bd17-327cb48cb640"
      },
      "source": [
        "for i in range(10):\n",
        "  print(i)"
      ],
      "execution_count": 51,
      "outputs": [
        {
          "output_type": "stream",
          "text": [
            "0\n",
            "1\n",
            "2\n",
            "3\n",
            "4\n",
            "5\n",
            "6\n",
            "7\n",
            "8\n",
            "9\n"
          ],
          "name": "stdout"
        }
      ]
    },
    {
      "cell_type": "code",
      "metadata": {
        "id": "90ixU_AJX2GS",
        "colab_type": "code",
        "colab": {
          "base_uri": "https://localhost:8080/",
          "height": 190
        },
        "outputId": "6dd0727f-0347-4abe-82a0-7ef2062b24b4"
      },
      "source": [
        "print(div_n_mod(0,2))\n",
        "print(div_n_mod(1,2))\n",
        "print(div_n_mod(2,2))\n",
        "print(div_n_mod(3,2))\n",
        "print(div_n_mod(4,2))\n",
        "print(div_n_mod(5,2))\n",
        "print(div_n_mod(6,2))\n",
        "print(div_n_mod(7,2))\n",
        "print(div_n_mod(8,2))\n",
        "print(div_n_mod(9,2))"
      ],
      "execution_count": 40,
      "outputs": [
        {
          "output_type": "stream",
          "text": [
            "(0, 0)\n",
            "(0, 1)\n",
            "(1, 0)\n",
            "(1, 1)\n",
            "(2, 0)\n",
            "(2, 1)\n",
            "(3, 0)\n",
            "(3, 1)\n",
            "(4, 0)\n",
            "(4, 1)\n"
          ],
          "name": "stdout"
        }
      ]
    },
    {
      "cell_type": "code",
      "metadata": {
        "id": "jluU6tXoducU",
        "colab_type": "code",
        "colab": {
          "base_uri": "https://localhost:8080/",
          "height": 190
        },
        "outputId": "4534ee33-311e-4e23-a042-5408b121a114"
      },
      "source": [
        "for i in [0,1,2,3,4,5,6,7,8,9]:\n",
        "  print(div_n_mod(i,2))"
      ],
      "execution_count": 41,
      "outputs": [
        {
          "output_type": "stream",
          "text": [
            "(0, 0)\n",
            "(0, 1)\n",
            "(1, 0)\n",
            "(1, 1)\n",
            "(2, 0)\n",
            "(2, 1)\n",
            "(3, 0)\n",
            "(3, 1)\n",
            "(4, 0)\n",
            "(4, 1)\n"
          ],
          "name": "stdout"
        }
      ]
    },
    {
      "cell_type": "markdown",
      "metadata": {
        "id": "JSzSaC_deih0",
        "colab_type": "text"
      },
      "source": [
        "for 구문을 사용하여 반복적으로 실행할 수 있다.\n",
        "\n",
        "```\n",
        "for i in 리스트:\n",
        "  반복할 내용\n",
        "```\n",
        "\n",
        "<br>\n",
        "\n",
        "연속적인 값들의 리스트는 range()를 사용할 수 있다.\n"
      ]
    },
    {
      "cell_type": "code",
      "metadata": {
        "id": "JcjtqAIVduYf",
        "colab_type": "code",
        "colab": {
          "base_uri": "https://localhost:8080/",
          "height": 190
        },
        "outputId": "987a86db-08fe-49e2-d2d6-0fab4625f67d"
      },
      "source": [
        "for i in range(10):\n",
        "  print(div_n_mod(i,2))"
      ],
      "execution_count": 42,
      "outputs": [
        {
          "output_type": "stream",
          "text": [
            "(0, 0)\n",
            "(0, 1)\n",
            "(1, 0)\n",
            "(1, 1)\n",
            "(2, 0)\n",
            "(2, 1)\n",
            "(3, 0)\n",
            "(3, 1)\n",
            "(4, 0)\n",
            "(4, 1)\n"
          ],
          "name": "stdout"
        }
      ]
    },
    {
      "cell_type": "markdown",
      "metadata": {
        "id": "EI8L5-HweyVg",
        "colab_type": "text"
      },
      "source": [
        "## Quiz. 0+1+2+3을 계산"
      ]
    },
    {
      "cell_type": "code",
      "metadata": {
        "id": "7R2A2USZduU5",
        "colab_type": "code",
        "colab": {
          "base_uri": "https://localhost:8080/",
          "height": 35
        },
        "outputId": "2951dc6f-bf60-422a-f681-b5f664ce852b"
      },
      "source": [
        "sum = 0+1+2+3\n",
        "print(sum)"
      ],
      "execution_count": 45,
      "outputs": [
        {
          "output_type": "stream",
          "text": [
            "6\n"
          ],
          "name": "stdout"
        }
      ]
    },
    {
      "cell_type": "markdown",
      "metadata": {
        "id": "98R02Uo7e6q5",
        "colab_type": "text"
      },
      "source": [
        "## Quiz 0+1+2+3+4+5+6+7+8+9 계산"
      ]
    },
    {
      "cell_type": "code",
      "metadata": {
        "id": "ritxPjJKduQv",
        "colab_type": "code",
        "colab": {
          "base_uri": "https://localhost:8080/",
          "height": 35
        },
        "outputId": "bd85d6b4-ef43-44d4-f94d-33387f381e0f"
      },
      "source": [
        "sum = 0+1+2+3+4+5+6+7+8+9\n",
        "print(sum)"
      ],
      "execution_count": 55,
      "outputs": [
        {
          "output_type": "stream",
          "text": [
            "45\n"
          ],
          "name": "stdout"
        }
      ]
    },
    {
      "cell_type": "code",
      "metadata": {
        "id": "hePyFB9JduNG",
        "colab_type": "code",
        "colab": {
          "base_uri": "https://localhost:8080/",
          "height": 35
        },
        "outputId": "48cb0926-58f2-4ff5-d126-b9f0c2504c8a"
      },
      "source": [
        "sum = 0\n",
        "sum = sum + 1\n",
        "sum = sum + 2\n",
        "sum = sum + 3\n",
        "sum = sum + 4\n",
        "sum = sum + 5\n",
        "sum = sum + 6\n",
        "sum = sum + 7\n",
        "sum = sum + 8\n",
        "sum = sum + 9\n",
        "print(sum)"
      ],
      "execution_count": 56,
      "outputs": [
        {
          "output_type": "stream",
          "text": [
            "45\n"
          ],
          "name": "stdout"
        }
      ]
    },
    {
      "cell_type": "code",
      "metadata": {
        "id": "Y3QufhDShh1x",
        "colab_type": "code",
        "colab": {
          "base_uri": "https://localhost:8080/",
          "height": 35
        },
        "outputId": "8dfc5d32-f6ab-42ec-dd00-b01acbbe9680"
      },
      "source": [
        "sum = 0\n",
        "for i in [0,1,2,3,4,5,6,7,8,9]:\n",
        "  sum = sum + i\n",
        "print(sum)"
      ],
      "execution_count": 59,
      "outputs": [
        {
          "output_type": "stream",
          "text": [
            "45\n"
          ],
          "name": "stdout"
        }
      ]
    },
    {
      "cell_type": "code",
      "metadata": {
        "id": "eQpY1HKthhoi",
        "colab_type": "code",
        "colab": {
          "base_uri": "https://localhost:8080/",
          "height": 35
        },
        "outputId": "4ebe40b0-fab6-4d90-fd3b-e30d2b266fb1"
      },
      "source": [
        "sum = 0\n",
        "for i in range(10):\n",
        "  sum = sum + i\n",
        "print(sum)  "
      ],
      "execution_count": 61,
      "outputs": [
        {
          "output_type": "stream",
          "text": [
            "45\n"
          ],
          "name": "stdout"
        }
      ]
    },
    {
      "cell_type": "markdown",
      "metadata": {
        "id": "I-S8AQy1hCse",
        "colab_type": "text"
      },
      "source": [
        "## Quiz. 0+1+2+ ... + 99 "
      ]
    },
    {
      "cell_type": "code",
      "metadata": {
        "id": "NK1FNyHZduEO",
        "colab_type": "code",
        "colab": {
          "base_uri": "https://localhost:8080/",
          "height": 35
        },
        "outputId": "babd38a0-1919-4b48-c2c3-376e1f9195f6"
      },
      "source": [
        "sum = 0\n",
        "for i in range(100):\n",
        "  sum = sum + i\n",
        "print(sum)  "
      ],
      "execution_count": 62,
      "outputs": [
        {
          "output_type": "stream",
          "text": [
            "4950\n"
          ],
          "name": "stdout"
        }
      ]
    },
    {
      "cell_type": "markdown",
      "metadata": {
        "id": "mjST9AE8f6wv",
        "colab_type": "text"
      },
      "source": [
        "## range 구문\n",
        "start 부터 시작해서 end 바로 전까지\n",
        "```\n",
        "range(start, end, step)\n",
        "```"
      ]
    },
    {
      "cell_type": "code",
      "metadata": {
        "id": "WKTbiMsBg6G9",
        "colab_type": "code",
        "colab": {
          "base_uri": "https://localhost:8080/",
          "height": 190
        },
        "outputId": "271338ff-62ab-4386-a015-3da49a0c35bf"
      },
      "source": [
        "for i in range(10):\n",
        "  print(i)"
      ],
      "execution_count": 58,
      "outputs": [
        {
          "output_type": "stream",
          "text": [
            "0\n",
            "1\n",
            "2\n",
            "3\n",
            "4\n",
            "5\n",
            "6\n",
            "7\n",
            "8\n",
            "9\n"
          ],
          "name": "stdout"
        }
      ]
    },
    {
      "cell_type": "code",
      "metadata": {
        "id": "LkAp-bcdfkCO",
        "colab_type": "code",
        "colab": {
          "base_uri": "https://localhost:8080/",
          "height": 138
        },
        "outputId": "ffb803c3-910d-4bde-d7e7-cce4e6ac3001"
      },
      "source": [
        "for i in range(3,10):\n",
        "  print(i)"
      ],
      "execution_count": 53,
      "outputs": [
        {
          "output_type": "stream",
          "text": [
            "3\n",
            "4\n",
            "5\n",
            "6\n",
            "7\n",
            "8\n",
            "9\n"
          ],
          "name": "stdout"
        }
      ]
    },
    {
      "cell_type": "code",
      "metadata": {
        "id": "cyD2lpvDf0vf",
        "colab_type": "code",
        "colab": {
          "base_uri": "https://localhost:8080/",
          "height": 86
        },
        "outputId": "4d07b42a-377c-4d92-dc9a-df12351f550f"
      },
      "source": [
        "for i in range(3,10,2):\n",
        "  print(i)"
      ],
      "execution_count": 54,
      "outputs": [
        {
          "output_type": "stream",
          "text": [
            "3\n",
            "5\n",
            "7\n",
            "9\n"
          ],
          "name": "stdout"
        }
      ]
    },
    {
      "cell_type": "markdown",
      "metadata": {
        "id": "mhO61l65h7Of",
        "colab_type": "text"
      },
      "source": [
        "## Quiz. 0~99까지 홀수의 총합은?\n"
      ]
    },
    {
      "cell_type": "code",
      "metadata": {
        "id": "7EWx7BB4h_Sq",
        "colab_type": "code",
        "colab": {
          "base_uri": "https://localhost:8080/",
          "height": 35
        },
        "outputId": "5d5b4b29-8aba-4ea3-df15-bc0f22bdf8ac"
      },
      "source": [
        "sum = 0\n",
        "for i in range(100):\n",
        "  if is_even(i):\n",
        "    pass\n",
        "  else:\n",
        "    sum = sum + i\n",
        "print(sum)\n"
      ],
      "execution_count": 63,
      "outputs": [
        {
          "output_type": "stream",
          "text": [
            "2500\n"
          ],
          "name": "stdout"
        }
      ]
    },
    {
      "cell_type": "code",
      "metadata": {
        "id": "bLR5rpZRiXWu",
        "colab_type": "code",
        "colab": {
          "base_uri": "https://localhost:8080/",
          "height": 35
        },
        "outputId": "6a1f5517-08cf-48e9-d8f0-4ced8528359a"
      },
      "source": [
        "sum = 0\n",
        "for i in range(100):\n",
        "  if not is_even(i):\n",
        "    sum = sum + i\n",
        "print(sum)\n"
      ],
      "execution_count": 64,
      "outputs": [
        {
          "output_type": "stream",
          "text": [
            "2500\n"
          ],
          "name": "stdout"
        }
      ]
    },
    {
      "cell_type": "code",
      "metadata": {
        "id": "D-r9_60DifND",
        "colab_type": "code",
        "colab": {
          "base_uri": "https://localhost:8080/",
          "height": 35
        },
        "outputId": "8e89a743-b0be-466f-cb84-dc3cfed885bc"
      },
      "source": [
        "sum = 0\n",
        "for i in range(1,100,2):\n",
        "    sum = sum + i\n",
        "print(sum)"
      ],
      "execution_count": 67,
      "outputs": [
        {
          "output_type": "stream",
          "text": [
            "2500\n"
          ],
          "name": "stdout"
        }
      ]
    },
    {
      "cell_type": "markdown",
      "metadata": {
        "id": "IqIcLrIwizZo",
        "colab_type": "text"
      },
      "source": [
        "## Quiz. 13~123까지 홀수의 갯수는?"
      ]
    },
    {
      "cell_type": "code",
      "metadata": {
        "id": "7cVbMabkipKL",
        "colab_type": "code",
        "colab": {
          "base_uri": "https://localhost:8080/",
          "height": 35
        },
        "outputId": "52771a60-09bd-420c-f243-2c2c819d1b32"
      },
      "source": [
        "count = 0\n",
        "for i in range(13,124):\n",
        "  if not is_even(i):\n",
        "    count = count + 1\n",
        "print(count)    "
      ],
      "execution_count": 68,
      "outputs": [
        {
          "output_type": "stream",
          "text": [
            "56\n"
          ],
          "name": "stdout"
        }
      ]
    },
    {
      "cell_type": "markdown",
      "metadata": {
        "id": "5xaC3GuKzNy_",
        "colab_type": "text"
      },
      "source": [
        "## Quiz. 별 n개 찍기"
      ]
    },
    {
      "cell_type": "code",
      "metadata": {
        "id": "sLMBiHadzR5w",
        "colab_type": "code",
        "colab": {
          "base_uri": "https://localhost:8080/",
          "height": 35
        },
        "outputId": "1cec00f8-8ae5-4c6f-917d-11f40ec62c9d"
      },
      "source": [
        "n = 10\n",
        "for i in range(n):\n",
        "  print(\"*\", end=\"\")"
      ],
      "execution_count": 127,
      "outputs": [
        {
          "output_type": "stream",
          "text": [
            "**********"
          ],
          "name": "stdout"
        }
      ]
    },
    {
      "cell_type": "code",
      "metadata": {
        "id": "RHGKLEakzmDy",
        "colab_type": "code",
        "colab": {
          "base_uri": "https://localhost:8080/",
          "height": 35
        },
        "outputId": "ee18c20e-f552-43db-a237-3bab1b73e017"
      },
      "source": [
        "def get_star_of_length(n):\n",
        "  s = \"\"\n",
        "  for i in range(n):\n",
        "    s = s + \"*\"\n",
        "  return s\n",
        "\n",
        "s = get_star_of_length(10)\n",
        "print(s)"
      ],
      "execution_count": 129,
      "outputs": [
        {
          "output_type": "stream",
          "text": [
            "**********\n"
          ],
          "name": "stdout"
        }
      ]
    },
    {
      "cell_type": "code",
      "metadata": {
        "id": "8m6Yr_jvz2nt",
        "colab_type": "code",
        "colab": {
          "base_uri": "https://localhost:8080/",
          "height": 35
        },
        "outputId": "8384de00-c46a-4234-ac80-161fa03f6f0a"
      },
      "source": [
        "def get_star_of_length(n):\n",
        "  return \"*\"*n\n",
        "\n",
        "s = get_star_of_length(10)\n",
        "print(s)"
      ],
      "execution_count": 130,
      "outputs": [
        {
          "output_type": "stream",
          "text": [
            "**********\n"
          ],
          "name": "stdout"
        }
      ]
    },
    {
      "cell_type": "markdown",
      "metadata": {
        "id": "FruVqMli0Z1P",
        "colab_type": "text"
      },
      "source": [
        "## Quiz. 다음을 출력\n",
        "\n",
        "```\n",
        "1\n",
        "2\n",
        "3\n",
        "4\n",
        "5\n",
        "```"
      ]
    },
    {
      "cell_type": "code",
      "metadata": {
        "id": "8qcXd3zJ0kLc",
        "colab_type": "code",
        "colab": {
          "base_uri": "https://localhost:8080/",
          "height": 104
        },
        "outputId": "6554afd3-3063-41cc-ed8a-84be7ce2d8c8"
      },
      "source": [
        "for i in range(1,6):\n",
        "  print(i)"
      ],
      "execution_count": 133,
      "outputs": [
        {
          "output_type": "stream",
          "text": [
            "1\n",
            "2\n",
            "3\n",
            "4\n",
            "5\n"
          ],
          "name": "stdout"
        }
      ]
    },
    {
      "cell_type": "markdown",
      "metadata": {
        "id": "kOjCWvZpz-UO",
        "colab_type": "text"
      },
      "source": [
        "## Quiz. 다음을 출력\n",
        "\n",
        "```\n",
        "1 *\n",
        "2 **\n",
        "3 ***\n",
        "4 ****\n",
        "5 *****\n",
        "```"
      ]
    },
    {
      "cell_type": "code",
      "metadata": {
        "id": "1CPwzjzIz81c",
        "colab_type": "code",
        "colab": {
          "base_uri": "https://localhost:8080/",
          "height": 104
        },
        "outputId": "a3ebf723-b890-42b6-c1b4-85a4f361da75"
      },
      "source": [
        "for i in range(1,6):\n",
        "  print(i)"
      ],
      "execution_count": 131,
      "outputs": [
        {
          "output_type": "stream",
          "text": [
            "1\n",
            "2\n",
            "3\n",
            "4\n",
            "5\n"
          ],
          "name": "stdout"
        }
      ]
    },
    {
      "cell_type": "code",
      "metadata": {
        "id": "TftoRhw_0NIx",
        "colab_type": "code",
        "colab": {
          "base_uri": "https://localhost:8080/",
          "height": 104
        },
        "outputId": "f7f3dfc9-1396-40cc-b3a7-54193d13f82e"
      },
      "source": [
        "for i in range(1,6):\n",
        "  print(i, get_star_of_length(i))"
      ],
      "execution_count": 132,
      "outputs": [
        {
          "output_type": "stream",
          "text": [
            "1 *\n",
            "2 **\n",
            "3 ***\n",
            "4 ****\n",
            "5 *****\n"
          ],
          "name": "stdout"
        }
      ]
    },
    {
      "cell_type": "markdown",
      "metadata": {
        "id": "Aa3zuSVJ0dc6",
        "colab_type": "text"
      },
      "source": [
        "## Quiz. 다음을 출력\n",
        "\n",
        "```\n",
        "*\n",
        "**\n",
        "***\n",
        "****\n",
        "*****\n",
        "```"
      ]
    },
    {
      "cell_type": "code",
      "metadata": {
        "id": "0ye9uZF60uuE",
        "colab_type": "code",
        "colab": {
          "base_uri": "https://localhost:8080/",
          "height": 104
        },
        "outputId": "c9bf4046-4486-4b51-da75-068d94365be9"
      },
      "source": [
        "for i in range(1,6):\n",
        "  print(get_star_of_length(i))"
      ],
      "execution_count": 134,
      "outputs": [
        {
          "output_type": "stream",
          "text": [
            "*\n",
            "**\n",
            "***\n",
            "****\n",
            "*****\n"
          ],
          "name": "stdout"
        }
      ]
    },
    {
      "cell_type": "markdown",
      "metadata": {
        "id": "a6p3V5ee0x_8",
        "colab_type": "text"
      },
      "source": [
        "## Quiz. 구구단 중 3단을 출력"
      ]
    },
    {
      "cell_type": "code",
      "metadata": {
        "id": "dq3nw0Kv03YU",
        "colab_type": "code",
        "colab": {
          "base_uri": "https://localhost:8080/",
          "height": 173
        },
        "outputId": "47537284-9212-442d-9c42-61fba2dcae7a"
      },
      "source": [
        "for i in range(1,10):\n",
        "  print(\"{} x {} = {}\".format(3, i, (3*i)))"
      ],
      "execution_count": 135,
      "outputs": [
        {
          "output_type": "stream",
          "text": [
            "3 x 1 = 3\n",
            "3 x 2 = 6\n",
            "3 x 3 = 9\n",
            "3 x 4 = 12\n",
            "3 x 5 = 15\n",
            "3 x 6 = 18\n",
            "3 x 7 = 21\n",
            "3 x 8 = 24\n",
            "3 x 9 = 27\n"
          ],
          "name": "stdout"
        }
      ]
    },
    {
      "cell_type": "markdown",
      "metadata": {
        "id": "F9zNoApi1BLT",
        "colab_type": "text"
      },
      "source": [
        "## Quiz. 구구단 전체 출력"
      ]
    },
    {
      "cell_type": "code",
      "metadata": {
        "id": "AGLR0kXn1G3R",
        "colab_type": "code",
        "colab": {
          "base_uri": "https://localhost:8080/",
          "height": 1000
        },
        "outputId": "2d174b7b-9215-4cd0-97c4-53ec7543b26b"
      },
      "source": [
        "for i in range(2, 10):\n",
        "  for j in range(1, 10):\n",
        "    print(\"{} x {} = {}\".format(i, j, (i*j)))\n",
        "  print()"
      ],
      "execution_count": 137,
      "outputs": [
        {
          "output_type": "stream",
          "text": [
            "2 x 1 = 2\n",
            "2 x 2 = 4\n",
            "2 x 3 = 6\n",
            "2 x 4 = 8\n",
            "2 x 5 = 10\n",
            "2 x 6 = 12\n",
            "2 x 7 = 14\n",
            "2 x 8 = 16\n",
            "2 x 9 = 18\n",
            "\n",
            "3 x 1 = 3\n",
            "3 x 2 = 6\n",
            "3 x 3 = 9\n",
            "3 x 4 = 12\n",
            "3 x 5 = 15\n",
            "3 x 6 = 18\n",
            "3 x 7 = 21\n",
            "3 x 8 = 24\n",
            "3 x 9 = 27\n",
            "\n",
            "4 x 1 = 4\n",
            "4 x 2 = 8\n",
            "4 x 3 = 12\n",
            "4 x 4 = 16\n",
            "4 x 5 = 20\n",
            "4 x 6 = 24\n",
            "4 x 7 = 28\n",
            "4 x 8 = 32\n",
            "4 x 9 = 36\n",
            "\n",
            "5 x 1 = 5\n",
            "5 x 2 = 10\n",
            "5 x 3 = 15\n",
            "5 x 4 = 20\n",
            "5 x 5 = 25\n",
            "5 x 6 = 30\n",
            "5 x 7 = 35\n",
            "5 x 8 = 40\n",
            "5 x 9 = 45\n",
            "\n",
            "6 x 1 = 6\n",
            "6 x 2 = 12\n",
            "6 x 3 = 18\n",
            "6 x 4 = 24\n",
            "6 x 5 = 30\n",
            "6 x 6 = 36\n",
            "6 x 7 = 42\n",
            "6 x 8 = 48\n",
            "6 x 9 = 54\n",
            "\n",
            "7 x 1 = 7\n",
            "7 x 2 = 14\n",
            "7 x 3 = 21\n",
            "7 x 4 = 28\n",
            "7 x 5 = 35\n",
            "7 x 6 = 42\n",
            "7 x 7 = 49\n",
            "7 x 8 = 56\n",
            "7 x 9 = 63\n",
            "\n",
            "8 x 1 = 8\n",
            "8 x 2 = 16\n",
            "8 x 3 = 24\n",
            "8 x 4 = 32\n",
            "8 x 5 = 40\n",
            "8 x 6 = 48\n",
            "8 x 7 = 56\n",
            "8 x 8 = 64\n",
            "8 x 9 = 72\n",
            "\n",
            "9 x 1 = 9\n",
            "9 x 2 = 18\n",
            "9 x 3 = 27\n",
            "9 x 4 = 36\n",
            "9 x 5 = 45\n",
            "9 x 6 = 54\n",
            "9 x 7 = 63\n",
            "9 x 8 = 72\n",
            "9 x 9 = 81\n",
            "\n"
          ],
          "name": "stdout"
        }
      ]
    },
    {
      "cell_type": "markdown",
      "metadata": {
        "id": "_3Uxw844jnFF",
        "colab_type": "text"
      },
      "source": [
        "# 자료형\n",
        "\n",
        "다음의 자료형이 있다.\n",
        "- list : []로 생성\n",
        "- dict : dictionay. {}로 생성\n",
        "- set : set()로 생성\n",
        "- tuple : ()로 생성"
      ]
    },
    {
      "cell_type": "markdown",
      "metadata": {
        "id": "-iLayTMqj1Ev",
        "colab_type": "text"
      },
      "source": [
        "## 리스트"
      ]
    },
    {
      "cell_type": "code",
      "metadata": {
        "id": "0IMyw-7ijBCM",
        "colab_type": "code",
        "colab": {
          "base_uri": "https://localhost:8080/",
          "height": 35
        },
        "outputId": "5c93b9bd-abed-412a-ce0b-132ee0195054"
      },
      "source": [
        "numbers = [0,1,2,3,4,5,6,7,8,9]\n",
        "print(numbers)"
      ],
      "execution_count": 69,
      "outputs": [
        {
          "output_type": "stream",
          "text": [
            "[0, 1, 2, 3, 4, 5, 6, 7, 8, 9]\n"
          ],
          "name": "stdout"
        }
      ]
    },
    {
      "cell_type": "code",
      "metadata": {
        "id": "P8bSQk1qkON7",
        "colab_type": "code",
        "colab": {
          "base_uri": "https://localhost:8080/",
          "height": 35
        },
        "outputId": "97af126c-a4f2-4de7-b5f7-00657e29dcea"
      },
      "source": [
        "print(len(numbers))"
      ],
      "execution_count": 70,
      "outputs": [
        {
          "output_type": "stream",
          "text": [
            "10\n"
          ],
          "name": "stdout"
        }
      ]
    },
    {
      "cell_type": "code",
      "metadata": {
        "id": "UclCO_y4kQxM",
        "colab_type": "code",
        "colab": {
          "base_uri": "https://localhost:8080/",
          "height": 35
        },
        "outputId": "f2cefc89-9faa-4a1e-f700-a21f86f49c1c"
      },
      "source": [
        "print(numbers[3])"
      ],
      "execution_count": 71,
      "outputs": [
        {
          "output_type": "stream",
          "text": [
            "3\n"
          ],
          "name": "stdout"
        }
      ]
    },
    {
      "cell_type": "code",
      "metadata": {
        "id": "MUur7ASBkTAW",
        "colab_type": "code",
        "colab": {
          "base_uri": "https://localhost:8080/",
          "height": 35
        },
        "outputId": "4fb2967d-a5fe-4b83-ec88-5e3b28894617"
      },
      "source": [
        "print(numbers[9])"
      ],
      "execution_count": 72,
      "outputs": [
        {
          "output_type": "stream",
          "text": [
            "9\n"
          ],
          "name": "stdout"
        }
      ]
    },
    {
      "cell_type": "code",
      "metadata": {
        "id": "YQj5qoCNkVCG",
        "colab_type": "code",
        "colab": {
          "base_uri": "https://localhost:8080/",
          "height": 165
        },
        "outputId": "83a9bb56-2b0e-4e6f-a13c-73dfcf198d39"
      },
      "source": [
        "print(numbers[10])"
      ],
      "execution_count": 73,
      "outputs": [
        {
          "output_type": "error",
          "ename": "IndexError",
          "evalue": "ignored",
          "traceback": [
            "\u001b[0;31m---------------------------------------------------------------------------\u001b[0m",
            "\u001b[0;31mIndexError\u001b[0m                                Traceback (most recent call last)",
            "\u001b[0;32m<ipython-input-73-ace1d46a592c>\u001b[0m in \u001b[0;36m<module>\u001b[0;34m()\u001b[0m\n\u001b[0;32m----> 1\u001b[0;31m \u001b[0mprint\u001b[0m\u001b[0;34m(\u001b[0m\u001b[0mnumbers\u001b[0m\u001b[0;34m[\u001b[0m\u001b[0;36m10\u001b[0m\u001b[0;34m]\u001b[0m\u001b[0;34m)\u001b[0m\u001b[0;34m\u001b[0m\u001b[0;34m\u001b[0m\u001b[0m\n\u001b[0m",
            "\u001b[0;31mIndexError\u001b[0m: list index out of range"
          ]
        }
      ]
    },
    {
      "cell_type": "code",
      "metadata": {
        "id": "-9dq7ODnkWvE",
        "colab_type": "code",
        "colab": {
          "base_uri": "https://localhost:8080/",
          "height": 86
        },
        "outputId": "6dbd1f23-88a9-4107-c5cc-008477817850"
      },
      "source": [
        "names = [\"tom\", \"jerry\", \"철수\", \"영희\"]\n",
        "print(names[0])\n",
        "print(names[1])\n",
        "print(names[2])\n",
        "print(names[3])"
      ],
      "execution_count": 74,
      "outputs": [
        {
          "output_type": "stream",
          "text": [
            "tom\n",
            "jerry\n",
            "철수\n",
            "영희\n"
          ],
          "name": "stdout"
        }
      ]
    },
    {
      "cell_type": "code",
      "metadata": {
        "id": "VpJ2osAqknUz",
        "colab_type": "code",
        "colab": {
          "base_uri": "https://localhost:8080/",
          "height": 86
        },
        "outputId": "3ad41688-a49f-44eb-e644-d636bc9bb254"
      },
      "source": [
        "names = [\"tom\", \"jerry\", \"철수\", \"영희\"]\n",
        "for name in names:\n",
        "  print(name)"
      ],
      "execution_count": 75,
      "outputs": [
        {
          "output_type": "stream",
          "text": [
            "tom\n",
            "jerry\n",
            "철수\n",
            "영희\n"
          ],
          "name": "stdout"
        }
      ]
    },
    {
      "cell_type": "code",
      "metadata": {
        "id": "GUTck07Fkvc4",
        "colab_type": "code",
        "colab": {
          "base_uri": "https://localhost:8080/",
          "height": 86
        },
        "outputId": "a93e6671-623c-4de4-eac0-36bcea85e3fa"
      },
      "source": [
        "ages = [30, 33, 20, 22]\n",
        "for age in ages:\n",
        "  print(age)"
      ],
      "execution_count": 76,
      "outputs": [
        {
          "output_type": "stream",
          "text": [
            "30\n",
            "33\n",
            "20\n",
            "22\n"
          ],
          "name": "stdout"
        }
      ]
    },
    {
      "cell_type": "code",
      "metadata": {
        "id": "i5DakBaGlGHt",
        "colab_type": "code",
        "colab": {
          "base_uri": "https://localhost:8080/",
          "height": 86
        },
        "outputId": "87de59a8-ae2d-42a7-8c09-fdb39082abf8"
      },
      "source": [
        "for i in range(4):\n",
        "  print(names[i])"
      ],
      "execution_count": 80,
      "outputs": [
        {
          "output_type": "stream",
          "text": [
            "tom\n",
            "jerry\n",
            "철수\n",
            "영희\n"
          ],
          "name": "stdout"
        }
      ]
    },
    {
      "cell_type": "code",
      "metadata": {
        "id": "dyDcPm2alQT1",
        "colab_type": "code",
        "colab": {
          "base_uri": "https://localhost:8080/",
          "height": 86
        },
        "outputId": "a9bfc685-6be3-49f4-ec71-b8ba36866526"
      },
      "source": [
        "size = len(names)\n",
        "for i in range(size):\n",
        "  print(names[i])"
      ],
      "execution_count": 81,
      "outputs": [
        {
          "output_type": "stream",
          "text": [
            "tom\n",
            "jerry\n",
            "철수\n",
            "영희\n"
          ],
          "name": "stdout"
        }
      ]
    },
    {
      "cell_type": "code",
      "metadata": {
        "id": "evwOV6GWlWLU",
        "colab_type": "code",
        "colab": {
          "base_uri": "https://localhost:8080/",
          "height": 86
        },
        "outputId": "bd6069ab-105c-4240-f3d2-4ab8ddb9ada9"
      },
      "source": [
        "for i in range(len(names)):\n",
        "  print(names[i])"
      ],
      "execution_count": 82,
      "outputs": [
        {
          "output_type": "stream",
          "text": [
            "tom\n",
            "jerry\n",
            "철수\n",
            "영희\n"
          ],
          "name": "stdout"
        }
      ]
    },
    {
      "cell_type": "code",
      "metadata": {
        "id": "3Yk4vY-Ck132",
        "colab_type": "code",
        "colab": {
          "base_uri": "https://localhost:8080/",
          "height": 86
        },
        "outputId": "d1432705-d159-43ff-9c03-ca8f7dbc9a73"
      },
      "source": [
        "def print_name_and_age(name, age):\n",
        "  print(\"name = {}, age = {}\".format(name, age))\n",
        "\n",
        "for i in range(len(names)):\n",
        "  print_name_and_age(names[i], ages[i])"
      ],
      "execution_count": 77,
      "outputs": [
        {
          "output_type": "stream",
          "text": [
            "name = tom, age = 30\n",
            "name = jerry, age = 33\n",
            "name = 철수, age = 20\n",
            "name = 영희, age = 22\n"
          ],
          "name": "stdout"
        }
      ]
    },
    {
      "cell_type": "markdown",
      "metadata": {
        "id": "8e3WLzBQmnVG",
        "colab_type": "text"
      },
      "source": [
        "### append()"
      ]
    },
    {
      "cell_type": "code",
      "metadata": {
        "id": "ASNCgRXQmkxA",
        "colab_type": "code",
        "colab": {
          "base_uri": "https://localhost:8080/",
          "height": 52
        },
        "outputId": "d963875a-e4b1-4225-a99d-6d1656d8a852"
      },
      "source": [
        "l = [0,1,2,3]\n",
        "print(l)\n",
        "l.append(4)\n",
        "print(l)"
      ],
      "execution_count": 95,
      "outputs": [
        {
          "output_type": "stream",
          "text": [
            "[0, 1, 2, 3]\n",
            "[0, 1, 2, 3, 4]\n"
          ],
          "name": "stdout"
        }
      ]
    },
    {
      "cell_type": "markdown",
      "metadata": {
        "id": "pzCBtLQdmwE_",
        "colab_type": "text"
      },
      "source": [
        "### Quiz. 0~20까지 홀수만 리스트에 담기"
      ]
    },
    {
      "cell_type": "code",
      "metadata": {
        "id": "Lol3rT0tm03M",
        "colab_type": "code",
        "colab": {
          "base_uri": "https://localhost:8080/",
          "height": 35
        },
        "outputId": "e86c2feb-9ce4-4d12-9701-43e425b2ba32"
      },
      "source": [
        "l = []\n",
        "for i in range(21):\n",
        "  if not is_even(i):\n",
        "    l.append(i)\n",
        "print(l)    "
      ],
      "execution_count": 96,
      "outputs": [
        {
          "output_type": "stream",
          "text": [
            "[1, 3, 5, 7, 9, 11, 13, 15, 17, 19]\n"
          ],
          "name": "stdout"
        }
      ]
    },
    {
      "cell_type": "markdown",
      "metadata": {
        "id": "X7sWInhNpN-y",
        "colab_type": "text"
      },
      "source": [
        "### insert()"
      ]
    },
    {
      "cell_type": "code",
      "metadata": {
        "id": "ZJgXxwqdmvhu",
        "colab_type": "code",
        "colab": {
          "base_uri": "https://localhost:8080/",
          "height": 35
        },
        "outputId": "185dd727-5d8e-4e69-cc0a-1d9e4dd58978"
      },
      "source": [
        "l = [0,1,2,3,4]\n",
        "l.insert(1,9)\n",
        "print(l)"
      ],
      "execution_count": 97,
      "outputs": [
        {
          "output_type": "stream",
          "text": [
            "[0, 9, 1, 2, 3, 4]\n"
          ],
          "name": "stdout"
        }
      ]
    },
    {
      "cell_type": "markdown",
      "metadata": {
        "id": "YfyYp1-4qDlB",
        "colab_type": "text"
      },
      "source": [
        "### remove()"
      ]
    },
    {
      "cell_type": "code",
      "metadata": {
        "id": "EbM3WrY8qJbB",
        "colab_type": "code",
        "colab": {
          "base_uri": "https://localhost:8080/",
          "height": 35
        },
        "outputId": "c3dab4ed-925b-40c5-f358-2569cf01ac47"
      },
      "source": [
        "l = [0,1,2,3,4]\n",
        "l.remove(1)\n",
        "print(l)"
      ],
      "execution_count": 100,
      "outputs": [
        {
          "output_type": "stream",
          "text": [
            "[0, 2, 3, 4]\n"
          ],
          "name": "stdout"
        }
      ]
    },
    {
      "cell_type": "markdown",
      "metadata": {
        "id": "diHfiaPiqYb7",
        "colab_type": "text"
      },
      "source": [
        "### pop()\n"
      ]
    },
    {
      "cell_type": "code",
      "metadata": {
        "id": "Rx9u1V-wqiz-",
        "colab_type": "code",
        "colab": {
          "base_uri": "https://localhost:8080/",
          "height": 52
        },
        "outputId": "526d6517-32b5-43af-9070-37cf7f7540a3"
      },
      "source": [
        "l = [0,1,2,3,4]\n",
        "n = l.pop(1)\n",
        "print(n)\n",
        "print(l)"
      ],
      "execution_count": 101,
      "outputs": [
        {
          "output_type": "stream",
          "text": [
            "1\n",
            "[0, 2, 3, 4]\n"
          ],
          "name": "stdout"
        }
      ]
    },
    {
      "cell_type": "markdown",
      "metadata": {
        "id": "DjhxZ1CDpe1i",
        "colab_type": "text"
      },
      "source": [
        "### reverse()"
      ]
    },
    {
      "cell_type": "code",
      "metadata": {
        "id": "-JeE3LhUphFw",
        "colab_type": "code",
        "colab": {
          "base_uri": "https://localhost:8080/",
          "height": 35
        },
        "outputId": "8390e650-74c0-4ce4-c1ad-ce3f05965d63"
      },
      "source": [
        "l = [0,1,2,3,4]\n",
        "l.reverse()\n",
        "print(l)"
      ],
      "execution_count": 98,
      "outputs": [
        {
          "output_type": "stream",
          "text": [
            "[4, 3, 2, 1, 0]\n"
          ],
          "name": "stdout"
        }
      ]
    },
    {
      "cell_type": "markdown",
      "metadata": {
        "id": "ANpwY_aJpmG1",
        "colab_type": "text"
      },
      "source": [
        "### sort()"
      ]
    },
    {
      "cell_type": "code",
      "metadata": {
        "id": "h2cI4_drpoha",
        "colab_type": "code",
        "colab": {
          "base_uri": "https://localhost:8080/",
          "height": 35
        },
        "outputId": "6d92038a-4e8d-44ae-9c3b-0ebf6edf05b2"
      },
      "source": [
        "l = [3,1,4,2,0]\n",
        "l.sort()\n",
        "print(l)"
      ],
      "execution_count": 99,
      "outputs": [
        {
          "output_type": "stream",
          "text": [
            "[0, 1, 2, 3, 4]\n"
          ],
          "name": "stdout"
        }
      ]
    },
    {
      "cell_type": "markdown",
      "metadata": {
        "id": "CMeBQZGXlry6",
        "colab_type": "text"
      },
      "source": [
        "## string, 알고보니 리스트"
      ]
    },
    {
      "cell_type": "code",
      "metadata": {
        "id": "wvAAzr-_lDxG",
        "colab_type": "code",
        "colab": {
          "base_uri": "https://localhost:8080/",
          "height": 35
        },
        "outputId": "3856cca6-3057-46b8-9354-328c55a6f50a"
      },
      "source": [
        "s = \"abcdefghij\"\n",
        "print(s)"
      ],
      "execution_count": 87,
      "outputs": [
        {
          "output_type": "stream",
          "text": [
            "abcdefghij\n"
          ],
          "name": "stdout"
        }
      ]
    },
    {
      "cell_type": "code",
      "metadata": {
        "id": "ScomGKMmlpib",
        "colab_type": "code",
        "colab": {
          "base_uri": "https://localhost:8080/",
          "height": 35
        },
        "outputId": "a136b910-df14-480e-d41d-a562ab3e9337"
      },
      "source": [
        "print(len(s))"
      ],
      "execution_count": 88,
      "outputs": [
        {
          "output_type": "stream",
          "text": [
            "10\n"
          ],
          "name": "stdout"
        }
      ]
    },
    {
      "cell_type": "code",
      "metadata": {
        "id": "M9815OKZl0ti",
        "colab_type": "code",
        "colab": {
          "base_uri": "https://localhost:8080/",
          "height": 35
        },
        "outputId": "6886c821-52cd-4aa4-f74a-88965f16b4f0"
      },
      "source": [
        "print(s[0])"
      ],
      "execution_count": 89,
      "outputs": [
        {
          "output_type": "stream",
          "text": [
            "a\n"
          ],
          "name": "stdout"
        }
      ]
    },
    {
      "cell_type": "code",
      "metadata": {
        "id": "OXqJsutWl2Ac",
        "colab_type": "code",
        "colab": {
          "base_uri": "https://localhost:8080/",
          "height": 35
        },
        "outputId": "3d48086f-7945-4312-c048-6af228dac51d"
      },
      "source": [
        "print(s[1])"
      ],
      "execution_count": 90,
      "outputs": [
        {
          "output_type": "stream",
          "text": [
            "b\n"
          ],
          "name": "stdout"
        }
      ]
    },
    {
      "cell_type": "code",
      "metadata": {
        "id": "1LY7KRGSl3ZE",
        "colab_type": "code",
        "colab": {
          "base_uri": "https://localhost:8080/",
          "height": 35
        },
        "outputId": "c6eb1a4a-127a-4714-8343-e00e547ca051"
      },
      "source": [
        "print(s[9])"
      ],
      "execution_count": 91,
      "outputs": [
        {
          "output_type": "stream",
          "text": [
            "j\n"
          ],
          "name": "stdout"
        }
      ]
    },
    {
      "cell_type": "code",
      "metadata": {
        "id": "ABcxwAmbl7IJ",
        "colab_type": "code",
        "colab": {
          "base_uri": "https://localhost:8080/",
          "height": 165
        },
        "outputId": "da0787c4-f16b-43e8-9610-d6fe352dc37c"
      },
      "source": [
        "print(s[10])"
      ],
      "execution_count": 92,
      "outputs": [
        {
          "output_type": "error",
          "ename": "IndexError",
          "evalue": "ignored",
          "traceback": [
            "\u001b[0;31m---------------------------------------------------------------------------\u001b[0m",
            "\u001b[0;31mIndexError\u001b[0m                                Traceback (most recent call last)",
            "\u001b[0;32m<ipython-input-92-0cdd5c036754>\u001b[0m in \u001b[0;36m<module>\u001b[0;34m()\u001b[0m\n\u001b[0;32m----> 1\u001b[0;31m \u001b[0mprint\u001b[0m\u001b[0;34m(\u001b[0m\u001b[0ms\u001b[0m\u001b[0;34m[\u001b[0m\u001b[0;36m10\u001b[0m\u001b[0;34m]\u001b[0m\u001b[0;34m)\u001b[0m\u001b[0;34m\u001b[0m\u001b[0;34m\u001b[0m\u001b[0m\n\u001b[0m",
            "\u001b[0;31mIndexError\u001b[0m: string index out of range"
          ]
        }
      ]
    },
    {
      "cell_type": "markdown",
      "metadata": {
        "id": "Uo0hPjRTt5YV",
        "colab_type": "text"
      },
      "source": [
        "### upper()"
      ]
    },
    {
      "cell_type": "code",
      "metadata": {
        "id": "jeRoWIgCmCjY",
        "colab_type": "code",
        "colab": {
          "base_uri": "https://localhost:8080/",
          "height": 52
        },
        "outputId": "2e4d7f6d-41c1-4109-ff7c-390a86cabc4f"
      },
      "source": [
        "l = \"hello tom\"\n",
        "print(l.upper())\n",
        "print(l)"
      ],
      "execution_count": 104,
      "outputs": [
        {
          "output_type": "stream",
          "text": [
            "HELLO TOM\n",
            "hello tom\n"
          ],
          "name": "stdout"
        }
      ]
    },
    {
      "cell_type": "markdown",
      "metadata": {
        "id": "dKfXuVmxuLRn",
        "colab_type": "text"
      },
      "source": [
        "### lower()"
      ]
    },
    {
      "cell_type": "markdown",
      "metadata": {
        "id": "sCd4wxe1uMZI",
        "colab_type": "text"
      },
      "source": [
        "### swapcase()"
      ]
    },
    {
      "cell_type": "code",
      "metadata": {
        "id": "HlFGlZUFuNCF",
        "colab_type": "code",
        "colab": {}
      },
      "source": [
        ""
      ],
      "execution_count": 0,
      "outputs": []
    },
    {
      "cell_type": "markdown",
      "metadata": {
        "id": "03VTGMEVuNo_",
        "colab_type": "text"
      },
      "source": [
        "### capitalize()"
      ]
    },
    {
      "cell_type": "code",
      "metadata": {
        "id": "PlADxcJduNex",
        "colab_type": "code",
        "colab": {}
      },
      "source": [
        ""
      ],
      "execution_count": 0,
      "outputs": []
    },
    {
      "cell_type": "markdown",
      "metadata": {
        "id": "kitAtCTnuNTe",
        "colab_type": "text"
      },
      "source": [
        "### title()"
      ]
    },
    {
      "cell_type": "code",
      "metadata": {
        "id": "rP5t3jSJt-dv",
        "colab_type": "code",
        "colab": {}
      },
      "source": [
        ""
      ],
      "execution_count": 0,
      "outputs": []
    },
    {
      "cell_type": "markdown",
      "metadata": {
        "id": "Rg5KIC6uucX_",
        "colab_type": "text"
      },
      "source": [
        "### strip()"
      ]
    },
    {
      "cell_type": "markdown",
      "metadata": {
        "id": "dn--kUyvueJR",
        "colab_type": "text"
      },
      "source": [
        "### lstrip()"
      ]
    },
    {
      "cell_type": "markdown",
      "metadata": {
        "id": "nSoKKvu0ud9y",
        "colab_type": "text"
      },
      "source": [
        "### rstrip()"
      ]
    },
    {
      "cell_type": "markdown",
      "metadata": {
        "id": "syTCdEHBudyv",
        "colab_type": "text"
      },
      "source": [
        "### replace()"
      ]
    },
    {
      "cell_type": "markdown",
      "metadata": {
        "id": "fCzfTD-UudpF",
        "colab_type": "text"
      },
      "source": [
        ""
      ]
    },
    {
      "cell_type": "markdown",
      "metadata": {
        "id": "00ZGwrNmudfX",
        "colab_type": "text"
      },
      "source": [
        "### format()"
      ]
    },
    {
      "cell_type": "markdown",
      "metadata": {
        "id": "uu44pAEUudWm",
        "colab_type": "text"
      },
      "source": [
        "### join()"
      ]
    },
    {
      "cell_type": "markdown",
      "metadata": {
        "id": "aGOioh16udN2",
        "colab_type": "text"
      },
      "source": [
        "### split()"
      ]
    },
    {
      "cell_type": "markdown",
      "metadata": {
        "id": "M_IBE6bHudFd",
        "colab_type": "text"
      },
      "source": [
        "### 문자열 체크 함수들\n",
        "\n",
        "- isalnum() - 알파벳 또는 숫자인가? \n",
        "- isalpha() - 알파벳인가?\n",
        "- isdecimal() - 숫자(decimal, 10진수)인가?\n",
        "- isdigit() - 숫자(digit, 10진수)인가?\n",
        "- isidentifier() - 식별자로 사용 가능한가?\n",
        "- islower() - 소문자인가? \n",
        "- isnumeric() - 숫자인가? \n",
        "- isspace() - 공백인가? \n",
        "- istitle() - title 형식인가? (단어마다 첫 글자가 대문자인가?)\n",
        "- isupper() - 대문자인가?"
      ]
    },
    {
      "cell_type": "markdown",
      "metadata": {
        "id": "RRpF2aM4uc81",
        "colab_type": "text"
      },
      "source": [
        "### Quiz. 입력을 받아 2배 출력. 숫자가 아니면 오류 메시지 출력"
      ]
    },
    {
      "cell_type": "markdown",
      "metadata": {
        "id": "aCxFF0f_uc06",
        "colab_type": "text"
      },
      "source": [
        "## dict\n",
        "\n",
        "키와 값들이 담겨있다."
      ]
    },
    {
      "cell_type": "code",
      "metadata": {
        "id": "46JLPRjawO29",
        "colab_type": "code",
        "colab": {
          "base_uri": "https://localhost:8080/",
          "height": 35
        },
        "outputId": "cf084278-14b9-47aa-e96b-7e7161fc0f23"
      },
      "source": [
        "d = { \"tom\":30, \"jerry\":32, \"철수\":20, \"영희\":22 }\n",
        "print(d)"
      ],
      "execution_count": 105,
      "outputs": [
        {
          "output_type": "stream",
          "text": [
            "{'tom': 30, 'jerry': 32, '철수': 20, '영희': 22}\n"
          ],
          "name": "stdout"
        }
      ]
    },
    {
      "cell_type": "code",
      "metadata": {
        "id": "BrkD41T5wOxh",
        "colab_type": "code",
        "colab": {
          "base_uri": "https://localhost:8080/",
          "height": 35
        },
        "outputId": "140795e8-e62a-4009-f2ac-eea6bab96f2c"
      },
      "source": [
        "print(d[\"tom\"])"
      ],
      "execution_count": 106,
      "outputs": [
        {
          "output_type": "stream",
          "text": [
            "30\n"
          ],
          "name": "stdout"
        }
      ]
    },
    {
      "cell_type": "code",
      "metadata": {
        "id": "EKNpdguSwOrj",
        "colab_type": "code",
        "colab": {
          "base_uri": "https://localhost:8080/",
          "height": 35
        },
        "outputId": "27285ccf-f55d-47e7-9c54-600c91dcdbab"
      },
      "source": [
        "print(d[\"철수\"])"
      ],
      "execution_count": 107,
      "outputs": [
        {
          "output_type": "stream",
          "text": [
            "20\n"
          ],
          "name": "stdout"
        }
      ]
    },
    {
      "cell_type": "code",
      "metadata": {
        "id": "uDPG-J-cxtXB",
        "colab_type": "code",
        "colab": {
          "base_uri": "https://localhost:8080/",
          "height": 35
        },
        "outputId": "e3cbc952-e37a-44c9-9c9a-69a174009242"
      },
      "source": [
        "print(len(d))"
      ],
      "execution_count": 119,
      "outputs": [
        {
          "output_type": "stream",
          "text": [
            "4\n"
          ],
          "name": "stdout"
        }
      ]
    },
    {
      "cell_type": "code",
      "metadata": {
        "id": "UxSGfhDSx7qU",
        "colab_type": "code",
        "colab": {
          "base_uri": "https://localhost:8080/",
          "height": 35
        },
        "outputId": "c6ac3c08-6433-4aa2-a906-d7b90d0ad78e"
      },
      "source": [
        "d['tom'] = 99\n",
        "print(d)"
      ],
      "execution_count": 121,
      "outputs": [
        {
          "output_type": "stream",
          "text": [
            "{'tom': 99, 'jerry': 32, '철수': 20, '영희': 22}\n"
          ],
          "name": "stdout"
        }
      ]
    },
    {
      "cell_type": "markdown",
      "metadata": {
        "id": "w4JTeKOwyNH2",
        "colab_type": "text"
      },
      "source": [
        "### Quiz. 4명의 이름과 나이를 입력받아 출력한다."
      ]
    },
    {
      "cell_type": "code",
      "metadata": {
        "id": "9UB87gVdyRlY",
        "colab_type": "code",
        "colab": {
          "base_uri": "https://localhost:8080/",
          "height": 173
        },
        "outputId": "f680a86c-c4be-4c49-d070-e11ee7027431"
      },
      "source": [
        "d = {}\n",
        "for i in range(4):\n",
        "  name = input(\"name:\")\n",
        "  age = int(input(\"age:\"))\n",
        "  d[name] = age\n",
        "print(d)  "
      ],
      "execution_count": 123,
      "outputs": [
        {
          "output_type": "stream",
          "text": [
            "name:tom\n",
            "age:30\n",
            "name:jerry\n",
            "age:32\n",
            "name:철수\n",
            "age:20\n",
            "name:영희\n",
            "age:22\n",
            "{'tom': 30, 'jerry': 32, '철수': 20, '영희': 22}\n"
          ],
          "name": "stdout"
        }
      ]
    },
    {
      "cell_type": "markdown",
      "metadata": {
        "id": "56gXTBWDxveo",
        "colab_type": "text"
      },
      "source": [
        "### keys()"
      ]
    },
    {
      "cell_type": "code",
      "metadata": {
        "id": "1VZ93WnXwizR",
        "colab_type": "code",
        "colab": {
          "base_uri": "https://localhost:8080/",
          "height": 35
        },
        "outputId": "e95651b1-fc49-4ca2-ffec-63ca12edc12a"
      },
      "source": [
        "print(d.keys())"
      ],
      "execution_count": 109,
      "outputs": [
        {
          "output_type": "stream",
          "text": [
            "dict_keys(['tom', 'jerry', '철수', '영희'])\n"
          ],
          "name": "stdout"
        }
      ]
    },
    {
      "cell_type": "code",
      "metadata": {
        "id": "-Xi_eG5lw5T-",
        "colab_type": "code",
        "colab": {
          "base_uri": "https://localhost:8080/",
          "height": 86
        },
        "outputId": "b9c47987-a653-4b0c-864d-9687cc6d1384"
      },
      "source": [
        "for k in d.keys():\n",
        "  print(k, d[k])"
      ],
      "execution_count": 118,
      "outputs": [
        {
          "output_type": "stream",
          "text": [
            "tom 30\n",
            "jerry 32\n",
            "철수 20\n",
            "영희 22\n"
          ],
          "name": "stdout"
        }
      ]
    },
    {
      "cell_type": "markdown",
      "metadata": {
        "id": "-wN4Hxpgxx__",
        "colab_type": "text"
      },
      "source": [
        "### values()"
      ]
    },
    {
      "cell_type": "code",
      "metadata": {
        "id": "kFegiAK6wisG",
        "colab_type": "code",
        "colab": {
          "base_uri": "https://localhost:8080/",
          "height": 35
        },
        "outputId": "098c48ea-767f-4b72-fe46-5a70d33dec29"
      },
      "source": [
        "print(d.values())"
      ],
      "execution_count": 110,
      "outputs": [
        {
          "output_type": "stream",
          "text": [
            "dict_values([30, 32, 20, 22])\n"
          ],
          "name": "stdout"
        }
      ]
    },
    {
      "cell_type": "code",
      "metadata": {
        "id": "ZFkkwBd8w9fj",
        "colab_type": "code",
        "colab": {
          "base_uri": "https://localhost:8080/",
          "height": 86
        },
        "outputId": "7e7494bc-0ec8-46ba-cece-450662213de8"
      },
      "source": [
        "for v in d.values():\n",
        "  print(v)"
      ],
      "execution_count": 113,
      "outputs": [
        {
          "output_type": "stream",
          "text": [
            "30\n",
            "32\n",
            "20\n",
            "22\n"
          ],
          "name": "stdout"
        }
      ]
    },
    {
      "cell_type": "markdown",
      "metadata": {
        "id": "XIEapwXux0AZ",
        "colab_type": "text"
      },
      "source": [
        "### items()"
      ]
    },
    {
      "cell_type": "code",
      "metadata": {
        "id": "w1ODh-4dxHPc",
        "colab_type": "code",
        "colab": {
          "base_uri": "https://localhost:8080/",
          "height": 35
        },
        "outputId": "c212bf0d-f272-49a5-b6fe-121fb0568cd4"
      },
      "source": [
        "print(d.items())"
      ],
      "execution_count": 114,
      "outputs": [
        {
          "output_type": "stream",
          "text": [
            "dict_items([('tom', 30), ('jerry', 32), ('철수', 20), ('영희', 22)])\n"
          ],
          "name": "stdout"
        }
      ]
    },
    {
      "cell_type": "code",
      "metadata": {
        "id": "i3ZjoULwxJyL",
        "colab_type": "code",
        "colab": {
          "base_uri": "https://localhost:8080/",
          "height": 86
        },
        "outputId": "444b78b3-79e2-4e7a-9147-d3b863418e72"
      },
      "source": [
        "for i in d.items():\n",
        "  print(i)"
      ],
      "execution_count": 115,
      "outputs": [
        {
          "output_type": "stream",
          "text": [
            "('tom', 30)\n",
            "('jerry', 32)\n",
            "('철수', 20)\n",
            "('영희', 22)\n"
          ],
          "name": "stdout"
        }
      ]
    },
    {
      "cell_type": "code",
      "metadata": {
        "id": "0sJCie13xMBc",
        "colab_type": "code",
        "colab": {
          "base_uri": "https://localhost:8080/",
          "height": 86
        },
        "outputId": "65528c96-ae2f-4113-88c5-ffa602ca7a58"
      },
      "source": [
        "for k,v in d.items():\n",
        "  print(k,v)"
      ],
      "execution_count": 116,
      "outputs": [
        {
          "output_type": "stream",
          "text": [
            "tom 30\n",
            "jerry 32\n",
            "철수 20\n",
            "영희 22\n"
          ],
          "name": "stdout"
        }
      ]
    },
    {
      "cell_type": "markdown",
      "metadata": {
        "id": "ucP9heZnyuFX",
        "colab_type": "text"
      },
      "source": [
        "###. Quiz 나이가 30 미만인 사람들의 이름만 출력\n",
        "\n",
        "```\n",
        "d = { \"tom\":30, \"jerry\":32, \"철수\":20, \"영희\":22 }\n",
        "```\n"
      ]
    },
    {
      "cell_type": "code",
      "metadata": {
        "id": "K-vcBNV3xWje",
        "colab_type": "code",
        "colab": {
          "base_uri": "https://localhost:8080/",
          "height": 35
        },
        "outputId": "a0d1d2ff-45b9-41e5-c512-7ec715ed5f53"
      },
      "source": [
        "d = { \"tom\":30, \"jerry\":32, \"철수\":20, \"영희\":22 }\n",
        "l = []\n",
        "for k, v in d.items():\n",
        "  if v<30:\n",
        "    l.append(k)\n",
        "\n",
        "print(l)"
      ],
      "execution_count": 125,
      "outputs": [
        {
          "output_type": "stream",
          "text": [
            "['철수', '영희']\n"
          ],
          "name": "stdout"
        }
      ]
    },
    {
      "cell_type": "markdown",
      "metadata": {
        "id": "Uo1k-VLg1n9a",
        "colab_type": "text"
      },
      "source": [
        "# File IO"
      ]
    },
    {
      "cell_type": "code",
      "metadata": {
        "id": "z35Fm959zA3e",
        "colab_type": "code",
        "colab": {}
      },
      "source": [
        ""
      ],
      "execution_count": 0,
      "outputs": []
    }
  ]
}